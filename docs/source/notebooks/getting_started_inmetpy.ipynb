{
 "cells": [
  {
   "cell_type": "markdown",
   "metadata": {},
   "source": [
    "# Getting Started with Inmetpy"
   ]
  },
  {
   "cell_type": "code",
   "execution_count": 5,
   "metadata": {
    "nbsphinx": "hidden"
   },
   "outputs": [],
   "source": [
    "import plotly.io as pio\n",
    "pio.renderers.default = \"plotly_mimetype+notebook\""
   ]
  },
  {
   "cell_type": "code",
   "execution_count": 6,
   "metadata": {},
   "outputs": [],
   "source": [
    "import pandas as pd \n",
    "import plotly.express as px \n",
    "\n",
    "\n",
    "from inmetpy.inmet_stations import InmetStation"
   ]
  },
  {
   "cell_type": "code",
   "execution_count": 7,
   "metadata": {},
   "outputs": [],
   "source": [
    "inmet = InmetStation()\n",
    "\n",
    "stations = inmet.stations"
   ]
  },
  {
   "cell_type": "code",
   "execution_count": 8,
   "metadata": {},
   "outputs": [],
   "source": [
    "stations.LATITUDE = stations.LATITUDE.astype(float)\n",
    "stations.LONGITUDE = stations.LONGITUDE.astype(float)"
   ]
  },
  {
   "cell_type": "code",
   "execution_count": 21,
   "metadata": {},
   "outputs": [
    {
     "data": {
      "application/vnd.plotly.v1+json": {
       "config": {
        "plotlyServerURL": "https://plot.ly"
       },
       "data": [
        {
         "customdata": [
          [
           "Automatic",
           "Down"
          ],
          [
           "Automatic",
           "Down"
          ],
          [
           "Automatic",
           "Down"
          ],
          [
           "Automatic",
           "Down"
          ],
          [
           "Automatic",
           "Down"
          ],
          [
           "Automatic",
           "Down"
          ],
          [
           "Automatic",
           "Down"
          ],
          [
           "Automatic",
           "Down"
          ],
          [
           "Automatic",
           "Down"
          ],
          [
           "Automatic",
           "Down"
          ],
          [
           "Automatic",
           "Down"
          ],
          [
           "Automatic",
           "Down"
          ],
          [
           "Automatic",
           "Down"
          ],
          [
           "Automatic",
           "Down"
          ],
          [
           "Automatic",
           "Down"
          ],
          [
           "Automatic",
           "Down"
          ],
          [
           "Automatic",
           "Down"
          ],
          [
           "Automatic",
           "Down"
          ],
          [
           "Automatic",
           "Down"
          ],
          [
           "Automatic",
           "Down"
          ],
          [
           "Automatic",
           "Down"
          ],
          [
           "Automatic",
           "Down"
          ],
          [
           "Automatic",
           "Down"
          ],
          [
           "Automatic",
           "Down"
          ],
          [
           "Automatic",
           "Down"
          ],
          [
           "Automatic",
           "Down"
          ],
          [
           "Automatic",
           "Down"
          ],
          [
           "Automatic",
           "Down"
          ],
          [
           "Automatic",
           "Down"
          ],
          [
           "Automatic",
           "Down"
          ],
          [
           "Automatic",
           "Down"
          ],
          [
           "Automatic",
           "Down"
          ],
          [
           "Automatic",
           "Down"
          ],
          [
           "Automatic",
           "Down"
          ],
          [
           "Automatic",
           "Down"
          ],
          [
           "Automatic",
           "Down"
          ],
          [
           "Automatic",
           "Down"
          ],
          [
           "Automatic",
           "Down"
          ],
          [
           "Automatic",
           "Down"
          ],
          [
           "Automatic",
           "Down"
          ],
          [
           "Automatic",
           "Down"
          ],
          [
           "Automatic",
           "Down"
          ],
          [
           "Automatic",
           "Down"
          ],
          [
           "Automatic",
           "Down"
          ],
          [
           "Automatic",
           "Down"
          ],
          [
           "Automatic",
           "Down"
          ],
          [
           "Automatic",
           "Down"
          ],
          [
           "Automatic",
           "Down"
          ],
          [
           "Automatic",
           "Down"
          ],
          [
           "Automatic",
           "Down"
          ],
          [
           "Automatic",
           "Down"
          ],
          [
           "Automatic",
           "Down"
          ],
          [
           "Automatic",
           "Down"
          ],
          [
           "Automatic",
           "Down"
          ],
          [
           "Automatic",
           "Down"
          ],
          [
           "Automatic",
           "Down"
          ],
          [
           "Automatic",
           "Down"
          ],
          [
           "Automatic",
           "Down"
          ],
          [
           "Automatic",
           "Down"
          ],
          [
           "Automatic",
           "Down"
          ],
          [
           "Automatic",
           "Down"
          ],
          [
           "Automatic",
           "Down"
          ],
          [
           "Automatic",
           "Down"
          ],
          [
           "Automatic",
           "Down"
          ],
          [
           "Automatic",
           "Down"
          ],
          [
           "Automatic",
           "Down"
          ],
          [
           "Automatic",
           "Down"
          ],
          [
           "Automatic",
           "Down"
          ],
          [
           "Automatic",
           "Down"
          ],
          [
           "Automatic",
           "Down"
          ],
          [
           "Automatic",
           "Down"
          ],
          [
           "Automatic",
           "Down"
          ],
          [
           "Automatic",
           "Down"
          ],
          [
           "Automatic",
           "Down"
          ],
          [
           "Automatic",
           "Down"
          ],
          [
           "Automatic",
           "Down"
          ],
          [
           "Automatic",
           "Down"
          ],
          [
           "Automatic",
           "Down"
          ],
          [
           "Automatic",
           "Down"
          ],
          [
           "Automatic",
           "Down"
          ],
          [
           "Automatic",
           "Down"
          ],
          [
           "Automatic",
           "Down"
          ],
          [
           "Automatic",
           "Down"
          ],
          [
           "Automatic",
           "Down"
          ],
          [
           "Automatic",
           "Down"
          ],
          [
           "Automatic",
           "Down"
          ],
          [
           "Automatic",
           "Down"
          ],
          [
           "Automatic",
           "Down"
          ],
          [
           "Automatic",
           "Down"
          ],
          [
           "Automatic",
           "Down"
          ],
          [
           "Automatic",
           "Down"
          ],
          [
           "Automatic",
           "Down"
          ],
          [
           "Automatic",
           "Down"
          ],
          [
           "Automatic",
           "Down"
          ],
          [
           "Automatic",
           "Down"
          ],
          [
           "Automatic",
           "Down"
          ],
          [
           "Automatic",
           "Down"
          ],
          [
           "Automatic",
           "Down"
          ],
          [
           "Automatic",
           "Down"
          ],
          [
           "Automatic",
           "Down"
          ],
          [
           "Automatic",
           "Down"
          ],
          [
           "Automatic",
           "Down"
          ],
          [
           "Automatic",
           "Down"
          ],
          [
           "Automatic",
           "Down"
          ],
          [
           "Automatic",
           "Down"
          ],
          [
           "Automatic",
           "Down"
          ],
          [
           "Automatic",
           "Down"
          ],
          [
           "Automatic",
           "Down"
          ],
          [
           "Automatic",
           "Down"
          ],
          [
           "Automatic",
           "Down"
          ],
          [
           "Automatic",
           "Down"
          ],
          [
           "Automatic",
           "Down"
          ],
          [
           "Automatic",
           "Down"
          ]
         ],
         "hovertemplate": "<b>%{hovertext}</b><br><br>CD_SITUATION=%{customdata[1]}<br>LATITUDE=%{lat}<br>LONGITUDE=%{lon}<br>TP_STATION=%{customdata[0]}<extra></extra>",
         "hovertext": [
          "ABROLHOS",
          "ALMAS",
          "ALTA FLORESTA",
          "ALTO PARAISO DE GOIAS",
          "AMAMBAI",
          "AMARGOSA",
          "APIACAS",
          "AQUIDAUANA",
          "ARACAJU",
          "ARAGUATINS",
          "ARIQUEMES",
          "BARBALHA",
          "BEBEDOURO",
          "BELA VISTA",
          "BELMONTE",
          "BOCA DO ACRE",
          "BRASNORTE (NOVO MUNDO)",
          "BREVES",
          "CABROBO",
          "CACOAL",
          "CALCANHAR",
          "CAMETA",
          "CAMPOS LINDOS",
          "CAMPOS SALES",
          "CAPITAO POCO",
          "CARAVELAS",
          "CARIRA",
          "CARLINDA",
          "CASTRO",
          "CHAPADAO DO SUL",
          "CIDADE GAUCHA",
          "CONDE",
          "CORUMBA",
          "COTRIGUACU",
          "CRUZEIRO DO SUL",
          "CURITIBANOS",
          "DELFINO",
          "DIAMANTE DO NORTE",
          "DOIS VIZINHOS",
          "DOURADOS",
          "DRACENA",
          "EIRUNEPE",
          "EPITACIOLANDIA",
          "FAROL de SANTANA",
          "FEIJO",
          "FLORESTA",
          "GUARAMIRANGA",
          "GUARANTA DO NORTE",
          "ICARAIMA",
          "ILHEUS",
          "INDAIAL",
          "IPIAU",
          "ITABAIANA",
          "ITAMARAJU",
          "ITAPETINGA",
          "ITAPORANGA",
          "ITAUBAL",
          "JACOBINA",
          "JEREMOABO",
          "JOSE BONIFACIO",
          "JUARA",
          "JUINA",
          "JUTI",
          "LARANJEIRAS DO SUL",
          "MACAJUBA",
          "MACAU",
          "MARABA",
          "MARACAJU",
          "MARECHAL THAUMATURGO",
          "MINA DO PALITO",
          "MIRANDA",
          "MONTE ALEGRE",
          "MOSTARDAS",
          "NHUMIRIM",
          "NOSSA SENHORA DA GLORIA",
          "NOVA TEBAS",
          "NOVA UBIRATA",
          "NOVO HORIZONTE",
          "OIAPOQUE",
          "OURICURI",
          "OURINHOS",
          "PALMEIRA DAS MISSOES",
          "PAO DE ACUCAR",
          "PARAGOMINAS",
          "PARINTINS",
          "PEDRO AFONSO",
          "PILAO ARCADO",
          "PLANALTO",
          "POCO VERDE",
          "PORTO MURTINHO",
          "PORTO WALTER",
          "RECIFE",
          "RIO BRANCO",
          "RIO DO CAMPO",
          "SANTA CRUZ",
          "SANTANA DO ARAGUAIA",
          "SAO GABRIEL DO OESTE",
          "SAO JOSE DO XINGU",
          "SAO MATEUS DO SUL",
          "SAO SEBASTIAO",
          "SENHOR DO BONFIM",
          "SERRA TALHADA",
          "SERRINHA",
          "SETE QUEDAS",
          "SINOP",
          "SORRISO",
          "SOURE",
          "TAUBATE",
          "TOME ACU",
          "UAUA",
          "UNA",
          "VALENCA",
          "VALPARAISO"
         ],
         "lat": [
          -17.96305555,
          -11.28416666,
          -10.07722221,
          -14.13305554,
          -23.0025,
          -13.00944444,
          -9.56333333,
          -20.47555554,
          -10.9525,
          -5.6436111,
          -9.94888888,
          -7.30083333,
          -20.94916666,
          -22.10166666,
          -16.08805555,
          -8.77666666,
          -12.52194443,
          -1.68027777,
          -8.50388888,
          -11.44583333,
          -5.16,
          -2.23972221,
          -8.15472222,
          -7.07777777,
          -1.73472221,
          -17.73944444,
          -10.39972221,
          -9.97055554,
          -24.78694444,
          -18.80222222,
          -23.35916666,
          -12.03583333,
          -18.99666666,
          -9.90638888,
          -7.61083333,
          -27.2886111,
          -10.455,
          -22.63944444,
          -25.69916666,
          -22.19388888,
          -21.45777777,
          -6.65027777,
          -11.02388888,
          -2.27083332,
          -8.14277777,
          -8.59888888,
          -4.26138888,
          -9.9525,
          -23.39027777,
          -14.65888888,
          -26.91361111,
          -14.17138888,
          -10.67166666,
          -17.00694444,
          -15.24472221,
          -7.31833332,
          0.56777777,
          -11.205,
          -10.08083332,
          -21.08555555,
          -11.28027777,
          -11.37499999,
          -22.85722222,
          -25.36888888,
          -12.13166666,
          -5.15111111,
          -5.36638888,
          -21.60916666,
          -8.95,
          -6.31999999,
          -20.39555555,
          -2,
          -31.24833333,
          -18.9886111,
          -10.20777777,
          -24.43722221,
          -13.41111111,
          -26.40638888,
          3.81361111,
          -7.88583333,
          -22.94888888,
          -27.92027777,
          -9.74916666,
          -2.9911111,
          -2.63916666,
          -8.9686111,
          -10.01833332,
          -25.72194443,
          -10.73805555,
          -21.70583333,
          -8.26722221,
          -8.05916666,
          -9.67972221,
          -26.93749999,
          -6.22805554,
          -9.3386111,
          -19.42027777,
          -10.48416666,
          -25.83555555,
          -23.81083333,
          -10.44305555,
          -7.95416666,
          -11.66472222,
          -23.96694443,
          -11.98222221,
          -12.555,
          -0.72777777,
          -23.04166666,
          -2.59249999,
          -9.8336111,
          -15.28027777,
          -13.3436111,
          -21.31916666
         ],
         "legendgroup": "Down",
         "lon": [
          -38.70333333,
          -47.21222222,
          -56.17916666,
          -47.52333332,
          -55.32944443,
          -39.61694443,
          -57.3936111,
          -55.78388888,
          -37.05444444,
          -48.11194444,
          -62.96194444,
          -39.2711111,
          -48.48999999,
          -56.54083333,
          -39.21527777,
          -67.33249999,
          -58.23138888,
          -50.47805554,
          -39.31527777,
          -61.43416666,
          -35.48749999,
          -49.49972221,
          -46.63944444,
          -40.36277777,
          -47.0575,
          -39.25861111,
          -37.74749999,
          -55.82749999,
          -49.99916666,
          -52.6025,
          -52.93194443,
          -37.68388888,
          -57.63749999,
          -58.57222221,
          -72.68138888,
          -50.60416666,
          -41.20694444,
          -52.89027777,
          -53.09527777,
          -54.91138888,
          -51.55222222,
          -69.8686111,
          -68.73527777,
          -43.62416666,
          -70.3436111,
          -38.58416666,
          -38.9311111,
          -54.89777777,
          -53.63583333,
          -39.18138888,
          -49.26805554,
          -39.69249999,
          -37.47138888,
          -39.55805555,
          -40.22944443,
          -38.14083333,
          -50.8236111,
          -40.465,
          -38.34583333,
          -49.92027777,
          -57.52666666,
          -58.77472221,
          -54.60555555,
          -52.39194444,
          -40.35416666,
          -36.57305554,
          -49.05111111,
          -55.17749999,
          -72.78666666,
          -55.78777777,
          -56.43166666,
          -54.07638888,
          -50.90638888,
          -56.62277777,
          -37.43194443,
          -51.96305555,
          -54.75222222,
          -52.85027777,
          -51.8625,
          -40.10277777,
          -49.89444444,
          -53.31805554,
          -37.43083332,
          -47.35638888,
          -56.75611111,
          -48.17722221,
          -42.50027777,
          -53.74805555,
          -38.10833333,
          -57.88666666,
          -72.74777777,
          -34.95916666,
          -68.16527777,
          -50.14555555,
          -36.02666666,
          -50.35027777,
          -54.55305555,
          -52.37249999,
          -50.36888888,
          -45.4025,
          -40.14833333,
          -38.29499999,
          -39.02305554,
          -55.02416666,
          -55.56611111,
          -55.72277777,
          -48.51583333,
          -45.52083332,
          -48.36055555,
          -39.49555555,
          -39.09138888,
          -39.12666666,
          -50.93027777
         ],
         "marker": {
          "color": "red"
         },
         "mode": "markers",
         "name": "Down",
         "showlegend": true,
         "subplot": "mapbox",
         "type": "scattermapbox"
        },
        {
         "customdata": [
          [
           "Automatic",
           "Operative"
          ],
          [
           "Automatic",
           "Operative"
          ],
          [
           "Automatic",
           "Operative"
          ],
          [
           "Automatic",
           "Operative"
          ],
          [
           "Automatic",
           "Operative"
          ],
          [
           "Automatic",
           "Operative"
          ],
          [
           "Automatic",
           "Operative"
          ],
          [
           "Automatic",
           "Operative"
          ],
          [
           "Automatic",
           "Operative"
          ],
          [
           "Automatic",
           "Operative"
          ],
          [
           "Automatic",
           "Operative"
          ],
          [
           "Automatic",
           "Operative"
          ],
          [
           "Automatic",
           "Operative"
          ],
          [
           "Automatic",
           "Operative"
          ],
          [
           "Automatic",
           "Operative"
          ],
          [
           "Automatic",
           "Operative"
          ],
          [
           "Automatic",
           "Operative"
          ],
          [
           "Automatic",
           "Operative"
          ],
          [
           "Automatic",
           "Operative"
          ],
          [
           "Automatic",
           "Operative"
          ],
          [
           "Automatic",
           "Operative"
          ],
          [
           "Automatic",
           "Operative"
          ],
          [
           "Automatic",
           "Operative"
          ],
          [
           "Automatic",
           "Operative"
          ],
          [
           "Automatic",
           "Operative"
          ],
          [
           "Automatic",
           "Operative"
          ],
          [
           "Automatic",
           "Operative"
          ],
          [
           "Automatic",
           "Operative"
          ],
          [
           "Automatic",
           "Operative"
          ],
          [
           "Automatic",
           "Operative"
          ],
          [
           "Automatic",
           "Operative"
          ],
          [
           "Automatic",
           "Operative"
          ],
          [
           "Automatic",
           "Operative"
          ],
          [
           "Automatic",
           "Operative"
          ],
          [
           "Automatic",
           "Operative"
          ],
          [
           "Automatic",
           "Operative"
          ],
          [
           "Automatic",
           "Operative"
          ],
          [
           "Automatic",
           "Operative"
          ],
          [
           "Automatic",
           "Operative"
          ],
          [
           "Automatic",
           "Operative"
          ],
          [
           "Automatic",
           "Operative"
          ],
          [
           "Automatic",
           "Operative"
          ],
          [
           "Automatic",
           "Operative"
          ],
          [
           "Automatic",
           "Operative"
          ],
          [
           "Automatic",
           "Operative"
          ],
          [
           "Automatic",
           "Operative"
          ],
          [
           "Automatic",
           "Operative"
          ],
          [
           "Automatic",
           "Operative"
          ],
          [
           "Automatic",
           "Operative"
          ],
          [
           "Automatic",
           "Operative"
          ],
          [
           "Automatic",
           "Operative"
          ],
          [
           "Automatic",
           "Operative"
          ],
          [
           "Automatic",
           "Operative"
          ],
          [
           "Automatic",
           "Operative"
          ],
          [
           "Automatic",
           "Operative"
          ],
          [
           "Automatic",
           "Operative"
          ],
          [
           "Automatic",
           "Operative"
          ],
          [
           "Automatic",
           "Operative"
          ],
          [
           "Automatic",
           "Operative"
          ],
          [
           "Automatic",
           "Operative"
          ],
          [
           "Automatic",
           "Operative"
          ],
          [
           "Automatic",
           "Operative"
          ],
          [
           "Automatic",
           "Operative"
          ],
          [
           "Automatic",
           "Operative"
          ],
          [
           "Automatic",
           "Operative"
          ],
          [
           "Automatic",
           "Operative"
          ],
          [
           "Automatic",
           "Operative"
          ],
          [
           "Automatic",
           "Operative"
          ],
          [
           "Automatic",
           "Operative"
          ],
          [
           "Automatic",
           "Operative"
          ],
          [
           "Automatic",
           "Operative"
          ],
          [
           "Automatic",
           "Operative"
          ],
          [
           "Automatic",
           "Operative"
          ],
          [
           "Automatic",
           "Operative"
          ],
          [
           "Automatic",
           "Operative"
          ],
          [
           "Automatic",
           "Operative"
          ],
          [
           "Automatic",
           "Operative"
          ],
          [
           "Automatic",
           "Operative"
          ],
          [
           "Automatic",
           "Operative"
          ],
          [
           "Automatic",
           "Operative"
          ],
          [
           "Automatic",
           "Operative"
          ],
          [
           "Automatic",
           "Operative"
          ],
          [
           "Automatic",
           "Operative"
          ],
          [
           "Automatic",
           "Operative"
          ],
          [
           "Automatic",
           "Operative"
          ],
          [
           "Automatic",
           "Operative"
          ],
          [
           "Automatic",
           "Operative"
          ],
          [
           "Automatic",
           "Operative"
          ],
          [
           "Automatic",
           "Operative"
          ],
          [
           "Automatic",
           "Operative"
          ],
          [
           "Automatic",
           "Operative"
          ],
          [
           "Automatic",
           "Operative"
          ],
          [
           "Automatic",
           "Operative"
          ],
          [
           "Automatic",
           "Operative"
          ],
          [
           "Automatic",
           "Operative"
          ],
          [
           "Automatic",
           "Operative"
          ],
          [
           "Automatic",
           "Operative"
          ],
          [
           "Automatic",
           "Operative"
          ],
          [
           "Automatic",
           "Operative"
          ],
          [
           "Automatic",
           "Operative"
          ],
          [
           "Automatic",
           "Operative"
          ],
          [
           "Automatic",
           "Operative"
          ],
          [
           "Automatic",
           "Operative"
          ],
          [
           "Automatic",
           "Operative"
          ],
          [
           "Automatic",
           "Operative"
          ],
          [
           "Automatic",
           "Operative"
          ],
          [
           "Automatic",
           "Operative"
          ],
          [
           "Automatic",
           "Operative"
          ],
          [
           "Automatic",
           "Operative"
          ],
          [
           "Automatic",
           "Operative"
          ],
          [
           "Automatic",
           "Operative"
          ],
          [
           "Automatic",
           "Operative"
          ],
          [
           "Automatic",
           "Operative"
          ],
          [
           "Automatic",
           "Operative"
          ],
          [
           "Automatic",
           "Operative"
          ],
          [
           "Automatic",
           "Operative"
          ],
          [
           "Automatic",
           "Operative"
          ],
          [
           "Automatic",
           "Operative"
          ],
          [
           "Automatic",
           "Operative"
          ],
          [
           "Automatic",
           "Operative"
          ],
          [
           "Automatic",
           "Operative"
          ],
          [
           "Automatic",
           "Operative"
          ],
          [
           "Automatic",
           "Operative"
          ],
          [
           "Automatic",
           "Operative"
          ],
          [
           "Automatic",
           "Operative"
          ],
          [
           "Automatic",
           "Operative"
          ],
          [
           "Automatic",
           "Operative"
          ],
          [
           "Automatic",
           "Operative"
          ],
          [
           "Automatic",
           "Operative"
          ],
          [
           "Automatic",
           "Operative"
          ],
          [
           "Automatic",
           "Operative"
          ],
          [
           "Automatic",
           "Operative"
          ],
          [
           "Automatic",
           "Operative"
          ],
          [
           "Automatic",
           "Operative"
          ],
          [
           "Automatic",
           "Operative"
          ],
          [
           "Automatic",
           "Operative"
          ],
          [
           "Automatic",
           "Operative"
          ],
          [
           "Automatic",
           "Operative"
          ],
          [
           "Automatic",
           "Operative"
          ],
          [
           "Automatic",
           "Operative"
          ],
          [
           "Automatic",
           "Operative"
          ],
          [
           "Automatic",
           "Operative"
          ],
          [
           "Automatic",
           "Operative"
          ],
          [
           "Automatic",
           "Operative"
          ],
          [
           "Automatic",
           "Operative"
          ],
          [
           "Automatic",
           "Operative"
          ],
          [
           "Automatic",
           "Operative"
          ],
          [
           "Automatic",
           "Operative"
          ],
          [
           "Automatic",
           "Operative"
          ],
          [
           "Automatic",
           "Operative"
          ],
          [
           "Automatic",
           "Operative"
          ],
          [
           "Automatic",
           "Operative"
          ],
          [
           "Automatic",
           "Operative"
          ],
          [
           "Automatic",
           "Operative"
          ],
          [
           "Automatic",
           "Operative"
          ],
          [
           "Automatic",
           "Operative"
          ],
          [
           "Automatic",
           "Operative"
          ],
          [
           "Automatic",
           "Operative"
          ],
          [
           "Automatic",
           "Operative"
          ],
          [
           "Automatic",
           "Operative"
          ],
          [
           "Automatic",
           "Operative"
          ],
          [
           "Automatic",
           "Operative"
          ],
          [
           "Automatic",
           "Operative"
          ],
          [
           "Automatic",
           "Operative"
          ],
          [
           "Automatic",
           "Operative"
          ],
          [
           "Automatic",
           "Operative"
          ],
          [
           "Automatic",
           "Operative"
          ],
          [
           "Automatic",
           "Operative"
          ],
          [
           "Automatic",
           "Operative"
          ],
          [
           "Automatic",
           "Operative"
          ],
          [
           "Automatic",
           "Operative"
          ],
          [
           "Automatic",
           "Operative"
          ],
          [
           "Automatic",
           "Operative"
          ],
          [
           "Automatic",
           "Operative"
          ],
          [
           "Automatic",
           "Operative"
          ],
          [
           "Automatic",
           "Operative"
          ],
          [
           "Automatic",
           "Operative"
          ],
          [
           "Automatic",
           "Operative"
          ],
          [
           "Automatic",
           "Operative"
          ],
          [
           "Automatic",
           "Operative"
          ],
          [
           "Automatic",
           "Operative"
          ],
          [
           "Automatic",
           "Operative"
          ],
          [
           "Automatic",
           "Operative"
          ],
          [
           "Automatic",
           "Operative"
          ],
          [
           "Automatic",
           "Operative"
          ],
          [
           "Automatic",
           "Operative"
          ],
          [
           "Automatic",
           "Operative"
          ],
          [
           "Automatic",
           "Operative"
          ],
          [
           "Automatic",
           "Operative"
          ],
          [
           "Automatic",
           "Operative"
          ],
          [
           "Automatic",
           "Operative"
          ],
          [
           "Automatic",
           "Operative"
          ],
          [
           "Automatic",
           "Operative"
          ],
          [
           "Automatic",
           "Operative"
          ],
          [
           "Automatic",
           "Operative"
          ],
          [
           "Automatic",
           "Operative"
          ],
          [
           "Automatic",
           "Operative"
          ],
          [
           "Automatic",
           "Operative"
          ],
          [
           "Automatic",
           "Operative"
          ],
          [
           "Automatic",
           "Operative"
          ],
          [
           "Automatic",
           "Operative"
          ],
          [
           "Automatic",
           "Operative"
          ],
          [
           "Automatic",
           "Operative"
          ],
          [
           "Automatic",
           "Operative"
          ],
          [
           "Automatic",
           "Operative"
          ],
          [
           "Automatic",
           "Operative"
          ],
          [
           "Automatic",
           "Operative"
          ],
          [
           "Automatic",
           "Operative"
          ],
          [
           "Automatic",
           "Operative"
          ],
          [
           "Automatic",
           "Operative"
          ],
          [
           "Automatic",
           "Operative"
          ],
          [
           "Automatic",
           "Operative"
          ],
          [
           "Automatic",
           "Operative"
          ],
          [
           "Automatic",
           "Operative"
          ],
          [
           "Automatic",
           "Operative"
          ],
          [
           "Automatic",
           "Operative"
          ],
          [
           "Automatic",
           "Operative"
          ],
          [
           "Automatic",
           "Operative"
          ],
          [
           "Automatic",
           "Operative"
          ],
          [
           "Automatic",
           "Operative"
          ],
          [
           "Automatic",
           "Operative"
          ],
          [
           "Automatic",
           "Operative"
          ],
          [
           "Automatic",
           "Operative"
          ],
          [
           "Automatic",
           "Operative"
          ],
          [
           "Automatic",
           "Operative"
          ],
          [
           "Automatic",
           "Operative"
          ],
          [
           "Automatic",
           "Operative"
          ],
          [
           "Automatic",
           "Operative"
          ],
          [
           "Automatic",
           "Operative"
          ],
          [
           "Automatic",
           "Operative"
          ],
          [
           "Automatic",
           "Operative"
          ],
          [
           "Automatic",
           "Operative"
          ],
          [
           "Automatic",
           "Operative"
          ],
          [
           "Automatic",
           "Operative"
          ],
          [
           "Automatic",
           "Operative"
          ],
          [
           "Automatic",
           "Operative"
          ],
          [
           "Automatic",
           "Operative"
          ],
          [
           "Automatic",
           "Operative"
          ],
          [
           "Automatic",
           "Operative"
          ],
          [
           "Automatic",
           "Operative"
          ],
          [
           "Automatic",
           "Operative"
          ],
          [
           "Automatic",
           "Operative"
          ],
          [
           "Automatic",
           "Operative"
          ],
          [
           "Automatic",
           "Operative"
          ],
          [
           "Automatic",
           "Operative"
          ],
          [
           "Automatic",
           "Operative"
          ],
          [
           "Automatic",
           "Operative"
          ],
          [
           "Automatic",
           "Operative"
          ],
          [
           "Automatic",
           "Operative"
          ],
          [
           "Automatic",
           "Operative"
          ],
          [
           "Automatic",
           "Operative"
          ],
          [
           "Automatic",
           "Operative"
          ],
          [
           "Automatic",
           "Operative"
          ],
          [
           "Automatic",
           "Operative"
          ],
          [
           "Automatic",
           "Operative"
          ],
          [
           "Automatic",
           "Operative"
          ],
          [
           "Automatic",
           "Operative"
          ],
          [
           "Automatic",
           "Operative"
          ],
          [
           "Automatic",
           "Operative"
          ],
          [
           "Automatic",
           "Operative"
          ],
          [
           "Automatic",
           "Operative"
          ],
          [
           "Automatic",
           "Operative"
          ],
          [
           "Automatic",
           "Operative"
          ],
          [
           "Automatic",
           "Operative"
          ],
          [
           "Automatic",
           "Operative"
          ],
          [
           "Automatic",
           "Operative"
          ],
          [
           "Automatic",
           "Operative"
          ],
          [
           "Automatic",
           "Operative"
          ],
          [
           "Automatic",
           "Operative"
          ],
          [
           "Automatic",
           "Operative"
          ],
          [
           "Automatic",
           "Operative"
          ],
          [
           "Automatic",
           "Operative"
          ],
          [
           "Automatic",
           "Operative"
          ],
          [
           "Automatic",
           "Operative"
          ],
          [
           "Automatic",
           "Operative"
          ],
          [
           "Automatic",
           "Operative"
          ],
          [
           "Automatic",
           "Operative"
          ],
          [
           "Automatic",
           "Operative"
          ],
          [
           "Automatic",
           "Operative"
          ],
          [
           "Automatic",
           "Operative"
          ],
          [
           "Automatic",
           "Operative"
          ],
          [
           "Automatic",
           "Operative"
          ],
          [
           "Automatic",
           "Operative"
          ],
          [
           "Automatic",
           "Operative"
          ],
          [
           "Automatic",
           "Operative"
          ],
          [
           "Automatic",
           "Operative"
          ],
          [
           "Automatic",
           "Operative"
          ],
          [
           "Automatic",
           "Operative"
          ],
          [
           "Automatic",
           "Operative"
          ],
          [
           "Automatic",
           "Operative"
          ],
          [
           "Automatic",
           "Operative"
          ],
          [
           "Automatic",
           "Operative"
          ],
          [
           "Automatic",
           "Operative"
          ],
          [
           "Automatic",
           "Operative"
          ],
          [
           "Automatic",
           "Operative"
          ],
          [
           "Automatic",
           "Operative"
          ],
          [
           "Automatic",
           "Operative"
          ],
          [
           "Automatic",
           "Operative"
          ],
          [
           "Automatic",
           "Operative"
          ],
          [
           "Automatic",
           "Operative"
          ],
          [
           "Automatic",
           "Operative"
          ],
          [
           "Automatic",
           "Operative"
          ],
          [
           "Automatic",
           "Operative"
          ],
          [
           "Automatic",
           "Operative"
          ],
          [
           "Automatic",
           "Operative"
          ],
          [
           "Automatic",
           "Operative"
          ],
          [
           "Automatic",
           "Operative"
          ],
          [
           "Automatic",
           "Operative"
          ],
          [
           "Automatic",
           "Operative"
          ],
          [
           "Automatic",
           "Operative"
          ],
          [
           "Automatic",
           "Operative"
          ],
          [
           "Automatic",
           "Operative"
          ],
          [
           "Automatic",
           "Operative"
          ],
          [
           "Automatic",
           "Operative"
          ],
          [
           "Automatic",
           "Operative"
          ],
          [
           "Automatic",
           "Operative"
          ],
          [
           "Automatic",
           "Operative"
          ],
          [
           "Automatic",
           "Operative"
          ],
          [
           "Automatic",
           "Operative"
          ],
          [
           "Automatic",
           "Operative"
          ],
          [
           "Automatic",
           "Operative"
          ],
          [
           "Automatic",
           "Operative"
          ],
          [
           "Automatic",
           "Operative"
          ],
          [
           "Automatic",
           "Operative"
          ],
          [
           "Automatic",
           "Operative"
          ],
          [
           "Automatic",
           "Operative"
          ],
          [
           "Automatic",
           "Operative"
          ],
          [
           "Automatic",
           "Operative"
          ],
          [
           "Automatic",
           "Operative"
          ],
          [
           "Automatic",
           "Operative"
          ],
          [
           "Automatic",
           "Operative"
          ],
          [
           "Automatic",
           "Operative"
          ],
          [
           "Automatic",
           "Operative"
          ],
          [
           "Automatic",
           "Operative"
          ],
          [
           "Automatic",
           "Operative"
          ],
          [
           "Automatic",
           "Operative"
          ],
          [
           "Automatic",
           "Operative"
          ],
          [
           "Automatic",
           "Operative"
          ],
          [
           "Automatic",
           "Operative"
          ],
          [
           "Automatic",
           "Operative"
          ],
          [
           "Automatic",
           "Operative"
          ],
          [
           "Automatic",
           "Operative"
          ],
          [
           "Automatic",
           "Operative"
          ],
          [
           "Automatic",
           "Operative"
          ],
          [
           "Automatic",
           "Operative"
          ],
          [
           "Automatic",
           "Operative"
          ],
          [
           "Automatic",
           "Operative"
          ],
          [
           "Automatic",
           "Operative"
          ],
          [
           "Automatic",
           "Operative"
          ],
          [
           "Automatic",
           "Operative"
          ],
          [
           "Automatic",
           "Operative"
          ],
          [
           "Automatic",
           "Operative"
          ],
          [
           "Automatic",
           "Operative"
          ],
          [
           "Automatic",
           "Operative"
          ],
          [
           "Automatic",
           "Operative"
          ],
          [
           "Automatic",
           "Operative"
          ],
          [
           "Automatic",
           "Operative"
          ],
          [
           "Automatic",
           "Operative"
          ],
          [
           "Automatic",
           "Operative"
          ],
          [
           "Automatic",
           "Operative"
          ],
          [
           "Automatic",
           "Operative"
          ],
          [
           "Automatic",
           "Operative"
          ],
          [
           "Automatic",
           "Operative"
          ],
          [
           "Automatic",
           "Operative"
          ],
          [
           "Automatic",
           "Operative"
          ],
          [
           "Automatic",
           "Operative"
          ],
          [
           "Automatic",
           "Operative"
          ],
          [
           "Automatic",
           "Operative"
          ],
          [
           "Automatic",
           "Operative"
          ],
          [
           "Automatic",
           "Operative"
          ],
          [
           "Automatic",
           "Operative"
          ],
          [
           "Automatic",
           "Operative"
          ],
          [
           "Automatic",
           "Operative"
          ],
          [
           "Automatic",
           "Operative"
          ],
          [
           "Automatic",
           "Operative"
          ],
          [
           "Automatic",
           "Operative"
          ],
          [
           "Automatic",
           "Operative"
          ],
          [
           "Automatic",
           "Operative"
          ],
          [
           "Automatic",
           "Operative"
          ],
          [
           "Automatic",
           "Operative"
          ],
          [
           "Automatic",
           "Operative"
          ],
          [
           "Automatic",
           "Operative"
          ],
          [
           "Automatic",
           "Operative"
          ],
          [
           "Automatic",
           "Operative"
          ],
          [
           "Automatic",
           "Operative"
          ],
          [
           "Automatic",
           "Operative"
          ],
          [
           "Automatic",
           "Operative"
          ],
          [
           "Automatic",
           "Operative"
          ],
          [
           "Automatic",
           "Operative"
          ],
          [
           "Automatic",
           "Operative"
          ],
          [
           "Automatic",
           "Operative"
          ],
          [
           "Automatic",
           "Operative"
          ],
          [
           "Automatic",
           "Operative"
          ],
          [
           "Automatic",
           "Operative"
          ],
          [
           "Automatic",
           "Operative"
          ],
          [
           "Automatic",
           "Operative"
          ],
          [
           "Automatic",
           "Operative"
          ],
          [
           "Automatic",
           "Operative"
          ],
          [
           "Automatic",
           "Operative"
          ],
          [
           "Automatic",
           "Operative"
          ],
          [
           "Automatic",
           "Operative"
          ],
          [
           "Automatic",
           "Operative"
          ],
          [
           "Automatic",
           "Operative"
          ],
          [
           "Automatic",
           "Operative"
          ],
          [
           "Automatic",
           "Operative"
          ],
          [
           "Automatic",
           "Operative"
          ],
          [
           "Automatic",
           "Operative"
          ],
          [
           "Automatic",
           "Operative"
          ],
          [
           "Automatic",
           "Operative"
          ],
          [
           "Automatic",
           "Operative"
          ],
          [
           "Automatic",
           "Operative"
          ],
          [
           "Automatic",
           "Operative"
          ],
          [
           "Automatic",
           "Operative"
          ],
          [
           "Automatic",
           "Operative"
          ],
          [
           "Automatic",
           "Operative"
          ],
          [
           "Automatic",
           "Operative"
          ],
          [
           "Automatic",
           "Operative"
          ],
          [
           "Automatic",
           "Operative"
          ],
          [
           "Automatic",
           "Operative"
          ],
          [
           "Automatic",
           "Operative"
          ],
          [
           "Automatic",
           "Operative"
          ],
          [
           "Automatic",
           "Operative"
          ],
          [
           "Automatic",
           "Operative"
          ],
          [
           "Automatic",
           "Operative"
          ],
          [
           "Automatic",
           "Operative"
          ],
          [
           "Automatic",
           "Operative"
          ],
          [
           "Automatic",
           "Operative"
          ],
          [
           "Automatic",
           "Operative"
          ],
          [
           "Automatic",
           "Operative"
          ],
          [
           "Automatic",
           "Operative"
          ],
          [
           "Automatic",
           "Operative"
          ],
          [
           "Automatic",
           "Operative"
          ],
          [
           "Automatic",
           "Operative"
          ],
          [
           "Automatic",
           "Operative"
          ],
          [
           "Automatic",
           "Operative"
          ],
          [
           "Automatic",
           "Operative"
          ],
          [
           "Automatic",
           "Operative"
          ],
          [
           "Automatic",
           "Operative"
          ],
          [
           "Automatic",
           "Operative"
          ],
          [
           "Automatic",
           "Operative"
          ],
          [
           "Automatic",
           "Operative"
          ],
          [
           "Automatic",
           "Operative"
          ],
          [
           "Automatic",
           "Operative"
          ],
          [
           "Automatic",
           "Operative"
          ],
          [
           "Automatic",
           "Operative"
          ],
          [
           "Automatic",
           "Operative"
          ],
          [
           "Automatic",
           "Operative"
          ],
          [
           "Automatic",
           "Operative"
          ],
          [
           "Automatic",
           "Operative"
          ],
          [
           "Automatic",
           "Operative"
          ],
          [
           "Automatic",
           "Operative"
          ],
          [
           "Automatic",
           "Operative"
          ],
          [
           "Automatic",
           "Operative"
          ],
          [
           "Automatic",
           "Operative"
          ],
          [
           "Automatic",
           "Operative"
          ],
          [
           "Automatic",
           "Operative"
          ],
          [
           "Automatic",
           "Operative"
          ],
          [
           "Automatic",
           "Operative"
          ],
          [
           "Automatic",
           "Operative"
          ],
          [
           "Automatic",
           "Operative"
          ],
          [
           "Traditional",
           "Operative"
          ],
          [
           "Traditional",
           "Operative"
          ],
          [
           "Traditional",
           "Operative"
          ],
          [
           "Traditional",
           "Operative"
          ],
          [
           "Traditional",
           "Operative"
          ],
          [
           "Traditional",
           "Operative"
          ],
          [
           "Traditional",
           "Operative"
          ],
          [
           "Traditional",
           "Operative"
          ],
          [
           "Traditional",
           "Operative"
          ],
          [
           "Traditional",
           "Operative"
          ],
          [
           "Traditional",
           "Operative"
          ],
          [
           "Traditional",
           "Operative"
          ],
          [
           "Traditional",
           "Operative"
          ],
          [
           "Traditional",
           "Operative"
          ],
          [
           "Traditional",
           "Operative"
          ],
          [
           "Traditional",
           "Operative"
          ],
          [
           "Traditional",
           "Operative"
          ],
          [
           "Traditional",
           "Operative"
          ],
          [
           "Traditional",
           "Operative"
          ],
          [
           "Traditional",
           "Operative"
          ],
          [
           "Traditional",
           "Operative"
          ],
          [
           "Traditional",
           "Operative"
          ],
          [
           "Traditional",
           "Operative"
          ],
          [
           "Traditional",
           "Operative"
          ],
          [
           "Traditional",
           "Operative"
          ],
          [
           "Traditional",
           "Operative"
          ],
          [
           "Traditional",
           "Operative"
          ],
          [
           "Traditional",
           "Operative"
          ],
          [
           "Traditional",
           "Operative"
          ],
          [
           "Traditional",
           "Operative"
          ],
          [
           "Traditional",
           "Operative"
          ],
          [
           "Traditional",
           "Operative"
          ],
          [
           "Traditional",
           "Operative"
          ],
          [
           "Traditional",
           "Operative"
          ],
          [
           "Traditional",
           "Operative"
          ],
          [
           "Traditional",
           "Operative"
          ],
          [
           "Traditional",
           "Operative"
          ],
          [
           "Traditional",
           "Operative"
          ],
          [
           "Traditional",
           "Operative"
          ],
          [
           "Traditional",
           "Operative"
          ],
          [
           "Traditional",
           "Operative"
          ],
          [
           "Traditional",
           "Operative"
          ],
          [
           "Traditional",
           "Operative"
          ],
          [
           "Traditional",
           "Operative"
          ],
          [
           "Traditional",
           "Operative"
          ],
          [
           "Traditional",
           "Operative"
          ],
          [
           "Traditional",
           "Operative"
          ],
          [
           "Traditional",
           "Operative"
          ],
          [
           "Traditional",
           "Operative"
          ],
          [
           "Traditional",
           "Operative"
          ],
          [
           "Traditional",
           "Operative"
          ],
          [
           "Traditional",
           "Operative"
          ],
          [
           "Traditional",
           "Operative"
          ],
          [
           "Traditional",
           "Operative"
          ],
          [
           "Traditional",
           "Operative"
          ],
          [
           "Traditional",
           "Operative"
          ],
          [
           "Traditional",
           "Operative"
          ],
          [
           "Traditional",
           "Operative"
          ],
          [
           "Traditional",
           "Operative"
          ],
          [
           "Traditional",
           "Operative"
          ],
          [
           "Traditional",
           "Operative"
          ],
          [
           "Traditional",
           "Operative"
          ],
          [
           "Traditional",
           "Operative"
          ],
          [
           "Traditional",
           "Operative"
          ],
          [
           "Traditional",
           "Operative"
          ],
          [
           "Traditional",
           "Operative"
          ],
          [
           "Traditional",
           "Operative"
          ],
          [
           "Traditional",
           "Operative"
          ],
          [
           "Traditional",
           "Operative"
          ],
          [
           "Traditional",
           "Operative"
          ],
          [
           "Traditional",
           "Operative"
          ],
          [
           "Traditional",
           "Operative"
          ],
          [
           "Traditional",
           "Operative"
          ],
          [
           "Traditional",
           "Operative"
          ],
          [
           "Traditional",
           "Operative"
          ],
          [
           "Traditional",
           "Operative"
          ],
          [
           "Traditional",
           "Operative"
          ],
          [
           "Traditional",
           "Operative"
          ],
          [
           "Traditional",
           "Operative"
          ],
          [
           "Traditional",
           "Operative"
          ],
          [
           "Traditional",
           "Operative"
          ],
          [
           "Traditional",
           "Operative"
          ],
          [
           "Traditional",
           "Operative"
          ],
          [
           "Traditional",
           "Operative"
          ],
          [
           "Traditional",
           "Operative"
          ],
          [
           "Traditional",
           "Operative"
          ],
          [
           "Traditional",
           "Operative"
          ],
          [
           "Traditional",
           "Operative"
          ],
          [
           "Traditional",
           "Operative"
          ],
          [
           "Traditional",
           "Operative"
          ],
          [
           "Traditional",
           "Operative"
          ],
          [
           "Traditional",
           "Operative"
          ],
          [
           "Traditional",
           "Operative"
          ],
          [
           "Traditional",
           "Operative"
          ],
          [
           "Traditional",
           "Operative"
          ],
          [
           "Traditional",
           "Operative"
          ],
          [
           "Traditional",
           "Operative"
          ],
          [
           "Traditional",
           "Operative"
          ],
          [
           "Traditional",
           "Operative"
          ],
          [
           "Traditional",
           "Operative"
          ],
          [
           "Traditional",
           "Operative"
          ],
          [
           "Traditional",
           "Operative"
          ],
          [
           "Traditional",
           "Operative"
          ],
          [
           "Traditional",
           "Operative"
          ],
          [
           "Traditional",
           "Operative"
          ],
          [
           "Traditional",
           "Operative"
          ],
          [
           "Traditional",
           "Operative"
          ],
          [
           "Traditional",
           "Operative"
          ],
          [
           "Traditional",
           "Operative"
          ],
          [
           "Traditional",
           "Operative"
          ],
          [
           "Traditional",
           "Operative"
          ],
          [
           "Traditional",
           "Operative"
          ],
          [
           "Traditional",
           "Operative"
          ],
          [
           "Traditional",
           "Operative"
          ],
          [
           "Traditional",
           "Operative"
          ],
          [
           "Traditional",
           "Operative"
          ],
          [
           "Traditional",
           "Operative"
          ],
          [
           "Traditional",
           "Operative"
          ],
          [
           "Traditional",
           "Operative"
          ],
          [
           "Traditional",
           "Operative"
          ],
          [
           "Traditional",
           "Operative"
          ],
          [
           "Traditional",
           "Operative"
          ],
          [
           "Traditional",
           "Operative"
          ],
          [
           "Traditional",
           "Operative"
          ],
          [
           "Traditional",
           "Operative"
          ],
          [
           "Traditional",
           "Operative"
          ],
          [
           "Traditional",
           "Operative"
          ],
          [
           "Traditional",
           "Operative"
          ],
          [
           "Traditional",
           "Operative"
          ],
          [
           "Traditional",
           "Operative"
          ],
          [
           "Traditional",
           "Operative"
          ],
          [
           "Traditional",
           "Operative"
          ],
          [
           "Traditional",
           "Operative"
          ],
          [
           "Traditional",
           "Operative"
          ],
          [
           "Traditional",
           "Operative"
          ],
          [
           "Traditional",
           "Operative"
          ],
          [
           "Traditional",
           "Operative"
          ],
          [
           "Traditional",
           "Operative"
          ],
          [
           "Traditional",
           "Operative"
          ],
          [
           "Traditional",
           "Operative"
          ],
          [
           "Traditional",
           "Operative"
          ],
          [
           "Traditional",
           "Operative"
          ],
          [
           "Traditional",
           "Operative"
          ],
          [
           "Traditional",
           "Operative"
          ],
          [
           "Traditional",
           "Operative"
          ],
          [
           "Traditional",
           "Operative"
          ],
          [
           "Traditional",
           "Operative"
          ],
          [
           "Traditional",
           "Operative"
          ],
          [
           "Traditional",
           "Operative"
          ],
          [
           "Traditional",
           "Operative"
          ],
          [
           "Traditional",
           "Operative"
          ],
          [
           "Traditional",
           "Operative"
          ],
          [
           "Traditional",
           "Operative"
          ],
          [
           "Traditional",
           "Operative"
          ],
          [
           "Traditional",
           "Operative"
          ],
          [
           "Traditional",
           "Operative"
          ],
          [
           "Traditional",
           "Operative"
          ],
          [
           "Traditional",
           "Operative"
          ],
          [
           "Traditional",
           "Operative"
          ],
          [
           "Traditional",
           "Operative"
          ],
          [
           "Traditional",
           "Operative"
          ]
         ],
         "hovertemplate": "<b>%{hovertext}</b><br><br>CD_SITUATION=%{customdata[1]}<br>LATITUDE=%{lat}<br>LONGITUDE=%{lon}<br>TP_STATION=%{customdata[0]}<extra></extra>",
         "hovertext": [
          "ACARAU",
          "AFONSO CLAUDIO",
          "AGUA BOA",
          "AGUA CLARA",
          "AGUAS EMENDADAS",
          "AGUAS VERMELHAS",
          "AIMORES",
          "ALEGRE",
          "ALEGRETE",
          "ALFREDO CHAVES",
          "ALMENARA",
          "ALTAMIRA",
          "ALTO ARAGUAIA",
          "ALTO PARNAIBA",
          "ALTO TAQUARI",
          "ALVORADA DO GURGUEIA",
          "ANGICAL DO PIAUI",
          "ANGRA DOS REIS",
          "APODI",
          "APUI",
          "ARACUAI",
          "ARAGARCAS",
          "ARAGUACU",
          "ARAGUAINA",
          "ARAPIRACA",
          "ARARANGUA",
          "ARAXA",
          "ARCO VERDE",
          "AREIA",
          "ARIRANHA",
          "ARRAIAL DO CABO",
          "AUTAZES",
          "AVARE",
          "BACABAL",
          "BAGE",
          "BAIXA GRANDE DO RIBEIRO",
          "BALSAS",
          "BAMBUI",
          "BARBACENA",
          "BARCELOS",
          "BARRA",
          "BARRA BONITA",
          "BARRA DO CORDA",
          "BARRA DO TURVO",
          "BARREIRAS",
          "BARRETOS",
          "BARUERI",
          "BATAGUASSU",
          "BAURU",
          "BELEM",
          "BELO HORIZONTE (PAMPULHA)",
          "BELO HORIZONTE - CERCADINHO",
          "BENTO GONCALVES",
          "BERTIOGA",
          "BOA VISTA",
          "BOM JARDIM DA SERRA - MORRO DA IGREJA",
          "BOM JESUS DA LAPA",
          "BOM JESUS DO PIAUI",
          "BRAGANCA",
          "BRAGANCA PAULISTA",
          "BRASILIA",
          "BRAZLANDIA",
          "BREJO GRANDE",
          "BRUMADO",
          "BURITICUPU",
          "BURITIRAMA",
          "BURITIS",
          "CABACEIRAS",
          "CACADOR",
          "CACAPAVA DO SUL",
          "CACHOEIRA PAULISTA",
          "CAIAPONIA",
          "CAICO",
          "CALDAS",
          "CAMAQUA",
          "CAMARATUBA",
          "CAMBARA DO SUL",
          "CAMBUCI",
          "CAMPINA DA LAGOA",
          "CAMPINA GRANDE",
          "CAMPINA VERDE",
          "CAMPO BOM",
          "CAMPO GRANDE",
          "CAMPO MAIOR",
          "CAMPO NOVO DOS PARECIS",
          "CAMPO VERDE",
          "CAMPOS DO JORDAO",
          "CAMPOS DOS GOYTACAZES",
          "CAMPOS DOS GOYTACAZES - SAO TOME",
          "CAMPOS NOVOS",
          "CANELA",
          "CANGUCU",
          "CANTO DO BURITI",
          "CAPAO DO LEAO (PELOTAS)",
          "CAPELINHA",
          "CARACOL",
          "CARATINGA",
          "CARMO",
          "CAROLINA",
          "CARUARU",
          "CASA BRANCA",
          "CASSILANDIA",
          "CASTANHAL",
          "CASTELO DO PIAUI",
          "CATALAO",
          "CAXIAS",
          "CHAPADA GAUCHA",
          "CHAPADINHA",
          "CHAPECO",
          "CLEVELANDIA",
          "COARI",
          "COLINAS",
          "COLINAS DO TOCANTINS",
          "COLOMBO",
          "COMODORO",
          "CONCEICAO DAS ALAGOAS",
          "CONCEICAO DO ARAGUAIA",
          "CORONEL PACHECO",
          "CORRENTE",
          "CORRENTINA",
          "CORURIPE",
          "COSTA RICA",
          "COXIM",
          "CRATEUS",
          "CRISTALINA",
          "CRISTALINA (FAZENDA SANTA MONICA)",
          "CRUZ ALTA",
          "CRUZ DAS ALMAS",
          "CUIABA",
          "CURACA",
          "CURITIBA",
          "CURVELO",
          "DIAMANTINA",
          "DIANOPOLIS",
          "DIONISIO CERQUEIRA",
          "DIVINOPOLIS",
          "DOM ELISEU",
          "DOM PEDRITO",
          "DORES DO INDAIA",
          "DUQUE DE CAXIAS - XEREM",
          "ECOPORANGA",
          "EDEIA",
          "ENCRUZILHADA DO SUL",
          "ERECHIM",
          "ESPINOSA",
          "ESTREITO",
          "EUCLIDES DA CUNHA",
          "FEIRA DE SANTANA",
          "FLORESTAL",
          "FLORIANO",
          "FLORIANOPOLIS",
          "FORMIGA",
          "FORMOSA DO RIO PRETO",
          "FORMOSO DO ARAGUAIA",
          "FORTALEZA",
          "FOZ DO IGUACU",
          "FRANCA",
          "FREDERICO WESTPHALEN",
          "GAMA (PONTE ALTA)",
          "GARANHUNS",
          "GAUCHA DO NORTE",
          "GENERAL CARNEIRO",
          "GILBUES",
          "GOIANESIA",
          "GOIANIA",
          "GOIAS",
          "GOIOERE",
          "GOVERNADOR VALADARES",
          "GRAJAU",
          "GUANAMBI",
          "GUANHAES",
          "GUARDA-MOR",
          "GUIRATINGA",
          "GURUPI",
          "HUMAITA",
          "IBIMIRIM",
          "IBIRITE (ROLA MOCA)",
          "IBIRUBA",
          "IBITINGA",
          "IBOTIRAMA",
          "IGUAPE",
          "IGUATU",
          "IMPERATRIZ",
          "INACIO MARTINS",
          "IPANGUACU",
          "IPORA",
          "IRECE",
          "ITABAIANINHA",
          "ITABERABA",
          "ITACOATIARA",
          "ITAITUBA",
          "ITAJAI",
          "ITAOBIM",
          "ITAPACI",
          "ITAPEVA",
          "ITAPIPOCA",
          "ITAPIRA",
          "ITAPOA",
          "ITAQUIRAI",
          "ITATIAIA - AGULHAS NEGRAS",
          "ITIQUIRA",
          "ITIRUCU",
          "ITUIUTABA",
          "ITUMBIARA",
          "ITUPORANGA",
          "ITUVERAVA",
          "IVAI",
          "IVINHEMA",
          "JAGUARAO",
          "JAGUARIBE",
          "JAGUARUANA",
          "JALES",
          "JANUARIA",
          "JAPIRA",
          "JARDIM",
          "JATAI",
          "JOACABA",
          "JOAO PESSOA",
          "JOAO PINHEIRO",
          "JOAQUIM TAVORA",
          "JUIZ DE FORA",
          "LABREA",
          "LAGES",
          "LAGOA DA CONFUSAO",
          "LAGOA VERMELHA",
          "LENCOIS",
          "LINHARES",
          "LINS",
          "LUIZ EDUARDO MAGALHAES",
          "LUZIANIA",
          "Laguna  - Farol de Santa Marta",
          "MACAE",
          "MACAPA",
          "MACEIO",
          "MACHADO",
          "MAJOR VIEIRA",
          "MAL. CANDIDO RONDON",
          "MANACAPURU",
          "MANAUS",
          "MANHUACU",
          "MANICORE",
          "MANTENA",
          "MARAU",
          "MARIA DA FE",
          "MARIANOPOLIS DO TO",
          "MARILANDIA",
          "MARILIA",
          "MARINGA",
          "MATEIROS",
          "MAUES",
          "MEDICILANDIA",
          "MINEIROS",
          "MOCAMBINHO",
          "MONTALVANIA",
          "MONTE ALEGRE DE GOIAS",
          "MONTE VERDE",
          "MONTEIRO",
          "MONTES CLAROS",
          "MORADA NOVA",
          "MORRETES",
          "MORRINHOS",
          "MOSSORO",
          "MURIAE",
          "NATAL",
          "NITEROI",
          "NOVA FATIMA",
          "NOVA FRIBURGO - SALINAS",
          "NOVA MARINGA",
          "NOVA PORTEIRINHA (JANAUBA)",
          "NOVA VENECIA",
          "NOVO ARIPUANA",
          "NOVO REPARTIMENTO",
          "OBIDOS",
          "OEIRAS",
          "OLIVEIRA",
          "OURO BRANCO",
          "PACAJA",
          "PALMARES",
          "PALMAS",
          "PALMEIRA DOS INDIOS",
          "PARACATU",
          "PARANA",
          "PARANAIBA",
          "PARANAPOEMA",
          "PARANATINGA",
          "PARANOA (COOPA-DF)",
          "PARATY",
          "PARAUNA",
          "PARNAIBA",
          "PARQUE ESTADUAL CHANDLESS",
          "PASSA QUATRO",
          "PASSO FUNDO",
          "PASSOS",
          "PATOS",
          "PATOS DE MINAS",
          "PATROCINIO",
          "PAULISTANA",
          "PEIXE",
          "PETROLINA",
          "PIATA",
          "PICO DO COUTO",
          "PICOS",
          "PIRACICABA",
          "PIRANHAS",
          "PIRAPORA",
          "PIRES DO RIO",
          "PIRIPIRI",
          "PIUM",
          "PLACAS",
          "POMPEU",
          "PONTA PORA",
          "PONTES E LACERDA",
          "PORANGATU",
          "PORTO ALEGRE",
          "PORTO DE MOZ",
          "PORTO ESTRELA",
          "PORTO GRANDE",
          "PORTO SEGURO",
          "PORTO VELHO",
          "POSSE",
          "PRADOPOLIS",
          "PREGUICAS",
          "PRESIDENTE FIGUEIREDO",
          "PRESIDENTE KENNEDY",
          "PRESIDENTE PRUDENTE",
          "PRIMAVERA DO LESTE",
          "QUARAI",
          "QUEIMADAS",
          "QUERENCIA",
          "QUIXADA",
          "QUIXERAMOBIM",
          "RANCHARIA",
          "RANCHO QUEIMADO",
          "REDENCAO",
          "REGISTRO",
          "REMANSO",
          "RESENDE",
          "RIBEIRA DO AMPARO",
          "RIO BRILHANTE",
          "RIO CLARO",
          "RIO DE JANEIRO - FORTE DE COPACABANA",
          "RIO DE JANEIRO - JACAREPAGUA",
          "RIO DE JANEIRO - VILA MILITAR",
          "RIO DE JANEIRO-MARAMBAIA",
          "RIO GRANDE",
          "RIO NEGRINHO",
          "RIO PARDO",
          "RIO PARDO DE MINAS",
          "RIO SONO",
          "RIO URUBU",
          "RIO VERDE",
          "RONDON DO PARA",
          "RONDONOPOLIS",
          "ROSARIO OESTE",
          "S. G. DA CACHOEIRA",
          "S.J. DO RIO CLARO",
          "SACRAMENTO",
          "SALGUEIRO",
          "SALINAS",
          "SALINOPOLIS",
          "SALTO DO CEU",
          "SALVADOR",
          "SALVADOR (RADIO FAROL)",
          "SANTA FE DO ARAGUAIA",
          "SANTA MARIA",
          "SANTA MARIA DAS BARREIRAS",
          "SANTA MARIA MADALENA",
          "SANTA RITA DE CASSIA",
          "SANTA ROSA",
          "SANTA ROSA DO TOCANTINS",
          "SANTA TERESA",
          "SANTANA DO LIVRAMENTO",
          "SANTAREM",
          "SANTIAGO",
          "SANTO ANTONIO DO LESTE",
          "SANTO AUGUSTO",
          "SAO BORJA",
          "SAO CARLOS",
          "SAO FELIX  DO ARAGUAIA",
          "SAO FELIX DO XINGU",
          "SAO GABRIEL",
          "SAO GONCALO",
          "SAO JOAO DEL REI",
          "SAO JOAO DO PIAUI",
          "SAO JOAQUIM",
          "SAO JOSE DOS AUSENTES",
          "SAO LUIS",
          "SAO LUIS DO QUITUNDE",
          "SAO LUIZ DO PARAITINGA",
          "SAO LUIZ GONZAGA",
          "SAO MATEUS",
          "SAO MIGUEL ARCANJO",
          "SAO MIGUEL DO ARAGUAIA",
          "SAO MIGUEL DO OESTE",
          "SAO PAULO - INTERLAGOS",
          "SAO PAULO - MIRANTE",
          "SAO RAIMUNDO NONATO",
          "SAO ROMAO",
          "SAO SEBASTIAO DO PARAISO",
          "SAO SIMAO",
          "SAO SIMAO",
          "SAO VICENTE DO SUL",
          "SAPEZAL",
          "SAQUAREMA - SAMPAIO CORREIA",
          "SERAFINA CORREA",
          "SEROPEDICA-ECOLOGIA AGRICOLA",
          "SERRA DOS AIMORES",
          "SERRA DOS CARAJAS",
          "SERRA NOVA DOURADA",
          "SETE LAGOAS",
          "SIDROLANDIA",
          "SILVA JARDIM",
          "SILVANIA",
          "SOBRAL",
          "SOLEDADE",
          "SONORA",
          "SOROCABA",
          "SURUBIM",
          "Santa Vitoria do Palmar - Barra do Chui",
          "TANGARA DA SERRA",
          "TAUA",
          "TEOFILO OTONI",
          "TERESINA",
          "TERESOPOLIS-PARQUE NACIONAL",
          "TEUTONIA",
          "TIANGUA",
          "TIMOTEO",
          "TORRES",
          "TRAMANDAI",
          "TRES LAGOAS",
          "TRES MARIAS",
          "TRES RIOS",
          "TUCUMA",
          "TUCURUI",
          "TUPA",
          "TUPANCIRETA",
          "TURIACU",
          "UBERABA",
          "UBERLANDIA",
          "UNAI",
          "URUCARA",
          "URUCUI",
          "URUGUAIANA",
          "URUSSANGA",
          "VACARIA",
          "VALENCA",
          "VALENCA DO PIAUI",
          "VARGINHA",
          "VENDA NOVA DO IMIGRANTE",
          "VENTANIA",
          "VICOSA",
          "VILA BELA DA SANTISSIMA TRINDADE",
          "VILA VELHA",
          "VILHENA",
          "VITORIA",
          "VITORIA DA CONQUISTA",
          "VOTUPORANGA",
          "XANXERE",
          "XINGUARA",
          "ZE DOCA",
          "AGUA BRANCA",
          "ALAGOINHAS",
          "ALTAMIRA",
          "ALTO DA BOA VISTA",
          "APODI",
          "ARACUAI",
          "ARAGARCAS",
          "ARAGUAINA",
          "ARAXA",
          "ARCOVERDE",
          "AREIA",
          "ARINOS",
          "AVELAR (P.DO ALFERES)",
          "BACABAL",
          "BAGE",
          "BALSAS",
          "BARCELOS",
          "BARRA",
          "BARRA DO CORDA",
          "BARREIRAS",
          "BELEM",
          "BELO HORIZONTE",
          "BELTERRA",
          "BENJAMIN CONSTANT",
          "BOA ESPERANCA",
          "BOA VISTA",
          "BOM JESUS",
          "BOM JESUS DA LAPA",
          "BOM JESUS DO PIAUI",
          "BRASILIA",
          "BREVES",
          "C. DO MATO DENTRO",
          "CABROBO",
          "CAMETA",
          "CAMPINA GRANDE",
          "CAMPOS",
          "CANARANA",
          "CAPARAO",
          "CARACARAI",
          "CARATINGA",
          "CARAVELAS",
          "CARBONITA",
          "CAROLINA",
          "CATALAO",
          "CAXIAS",
          "CAXIAS DO SUL",
          "CEARA MIRIM",
          "CHAPADINHA",
          "CIPO",
          "CODAJAS",
          "COLINAS",
          "CONCEICAO DO ARAGUAIA",
          "CORDEIRO",
          "CORRENTINA",
          "CRUZ ALTA",
          "CRUZ DAS ALMAS",
          "CUIABA",
          "DIAMANTINO",
          "EIRUNEPE",
          "FLORIANO",
          "FONTE BOA",
          "FORMOSA",
          "FORMOSO",
          "FORTALEZA",
          "FRANCA",
          "GARANHUNS",
          "GOIANIA",
          "GUARATINGA",
          "IGUABA GRANDE",
          "IMPERATRIZ",
          "IPAMERI",
          "IRATI",
          "ITABAIANINHA",
          "ITACOATIARA",
          "ITAITUBA",
          "ITAMARANDIBA",
          "ITAPERUNA",
          "JACOBINA",
          "JANUARIA",
          "JATAI",
          "JOAO PESSOA",
          "JUIZ DE FORA",
          "JURAMENTO",
          "LABREA",
          "LAGOA VERMELHA",
          "LAVRAS",
          "LENCOIS",
          "LONDRINA",
          "LUZILANDIA(LAG.DO PIAUI)",
          "MACAPA",
          "MANAUS",
          "MARABA",
          "MARINGA",
          "MONTE ALEGRE",
          "MONTEIRO",
          "MONTES CLAROS",
          "MORADA NOVA",
          "MORRO DO CHAPEU",
          "MUNIZ FREIRE",
          "NATAL",
          "NOVA XAV.(XAVANTINA)",
          "OURICURI",
          "PADRE RICARDO REMETTER",
          "PALMAS",
          "PALMEIRA DOS INDIOS",
          "PAO DE ACUCAR",
          "PARANAIBA",
          "PASSA QUATRO",
          "PASSO FUNDO",
          "PATOS",
          "PAULISTANA",
          "PEDRA AZUL",
          "PEDRO AFONSO",
          "PELOTAS",
          "PETROLINA",
          "PICOS",
          "PIRENOPOLIS",
          "PIRIPIRI",
          "PORTO ALEGRE",
          "PORTO DE MOZ",
          "PORTO DE PEDRAS",
          "PORTO NACIONAL",
          "POSSE",
          "PROPRIA",
          "QUIXERAMOBIM",
          "RESENDE",
          "RIO BRANCO",
          "RIO VERDE",
          "SALINAS",
          "SALVADOR (ONDINA)",
          "SANTA MARIA",
          "SANTA MARIA MADALENA",
          "SANTA VITORIA DO PALMAR",
          "SANTO ANTONIO DE PADUA",
          "SAO CARLOS",
          "SAO GABRIEL DA CACHOEIRA(UAUPES)",
          "SAO GONCALO",
          "SAO JOAO DO PIAUI",
          "SAO LOURENCO",
          "SAO LUIS",
          "SAO LUIZ GONZAGA",
          "SAO PAULO(MIR.de SANTANA)",
          "SAO SIMAO",
          "SAO VICENTE",
          "SERIDO (CAICO)",
          "SERRINHA",
          "SOROCABA",
          "STa. R. DE CASSIA (IBIPETUBA)",
          "SURUBIM",
          "TAGUATINGA",
          "TARAUACA",
          "TEFE",
          "TERESINA",
          "TERESOPOLIS",
          "TRACUATEUA",
          "TUCURUI",
          "TURIACU",
          "UNAI",
          "VITORIA",
          "VITORIA DA CONQUISTA",
          "ZE DOCA"
         ],
         "lat": [
          -3.1211111,
          -20.10416666,
          -14.01638888,
          -20.44444444,
          -15.596491,
          -15.751536,
          -19.53277777,
          -20.75055555,
          -29.70916666,
          -20.63638888,
          -16.16666666,
          -3.27027777,
          -17.33944444,
          -9.10833333,
          -17.8411111,
          -8.44166666,
          -6.08944444,
          -22.97555554,
          -5.62666666,
          -7.20555555,
          -16.84888888,
          -15.90277777,
          -12.59222221,
          -7.10388888,
          -9.80444444,
          -28.931353,
          -19.60583333,
          -8.4336111,
          -6.975451,
          -21.13305554,
          -22.97527777,
          -3.58333333,
          -23.10166666,
          -4.24305555,
          -31.34777777,
          -8.333531,
          -7.45555555,
          -20.0311111,
          -21.22833332,
          -0.98722221,
          -11.08472221,
          -22.4711111,
          -5.50666666,
          -24.96277777,
          -12.12472221,
          -20.55916666,
          -23.52388888,
          -21.75,
          -22.358052,
          -1.411228,
          -19.88388888,
          -19.97999999,
          -29.164581,
          -23.84472221,
          2.81694443,
          -28.12694443,
          -13.25111111,
          -9.08333333,
          -1.04722221,
          -22.95194444,
          -15.78944444,
          -15.59972221,
          -10.47388888,
          -14.18194443,
          -4.32055554,
          -10.72305554,
          -15.52416666,
          -7.48333333,
          -26.819156,
          -30.54527777,
          -22.68888888,
          -16.96694443,
          -6.46749999,
          -21.918066,
          -30.807953,
          -6.56194444,
          -29.04916666,
          -21.58749999,
          -24.57083332,
          -7.225574,
          -19.53921,
          -29.674293,
          -20.447195,
          -4.86416666,
          -13.78583333,
          -15.53138888,
          -22.75027777,
          -21.71472222,
          -22.04166666,
          -27.3886111,
          -29.36888888,
          -31.40333333,
          -8.11805554,
          -31.8025,
          -17.70555555,
          -9.28583333,
          -19.735757,
          -21.938745,
          -7.33722221,
          -8.36527777,
          -21.78055554,
          -19.12249999,
          -1.30083333,
          -5.34916666,
          -18.154779,
          -4.82138888,
          -15.30027777,
          -3.74277777,
          -27.0853111,
          -26.41722221,
          -4.09749999,
          -6.03305554,
          -8.092708,
          -25.322464,
          -13.70805555,
          -19.98586,
          -8.30361111,
          -21.54666666,
          -10.42916666,
          -13.33249999,
          -10.1286111,
          -18.49277777,
          -18.51222222,
          -5.18666666,
          -16.78499999,
          -16.39944444,
          -28.60344,
          -12.67555554,
          -15.559295,
          -9.00138888,
          -25.4486111,
          -18.747711,
          -18.231052,
          -11.59444444,
          -26.286562,
          -20.17333332,
          -4.28055554,
          -31.0025,
          -19.481935,
          -22.58972221,
          -18.29138888,
          -17.33694444,
          -30.54305555,
          -27.65771,
          -14.91222222,
          -6.65333333,
          -10.537233,
          -12.1961111,
          -19.88527777,
          -6.76138888,
          -27.60253,
          -20.455,
          -11.05222222,
          -11.88749999,
          -3.81583333,
          -25.60194444,
          -20.58444444,
          -27.39555555,
          -15.93527777,
          -8.91083333,
          -13.18472221,
          -26.3986111,
          -9.87527777,
          -15.22027777,
          -16.642841,
          -15.93972221,
          -24.18388888,
          -18.830354,
          -5.81611111,
          -14.20805555,
          -18.78694444,
          -17.56138888,
          -16.34166666,
          -11.74583333,
          -7.5525,
          -8.50944444,
          -20.031457,
          -28.65333333,
          -21.85555555,
          -12.19305555,
          -24.67166666,
          -6.39638888,
          -5.55583333,
          -25.567879,
          -5.53499999,
          -16.42305554,
          -11.328998,
          -11.2725,
          -12.52416666,
          -3.13333333,
          -4.27694443,
          -26.95083333,
          -16.575667,
          -14.97972221,
          -23.98194443,
          -3.48416666,
          -22.415,
          -26.08138888,
          -23.449501,
          -22.37388888,
          -17.17499999,
          -13.527828,
          -18.95277777,
          -18.40972222,
          -27.41833332,
          -20.35972222,
          -25.01083333,
          -22.30055555,
          -32.53472221,
          -5.90555555,
          -4.78694444,
          -20.165,
          -15.448089,
          -23.77333332,
          -21.4786111,
          -17.923622,
          -27.16916666,
          -7.16527777,
          -17.78444444,
          -23.505266,
          -21.769965,
          -7.26055555,
          -27.80222222,
          -10.828286,
          -28.222381,
          -12.557854,
          -19.35694444,
          -21.66611111,
          -12.1525,
          -16.26055555,
          -28.60444444,
          -22.3761111,
          0.03499999,
          -9.55111111,
          -21.680722,
          -26.3936111,
          -24.53333333,
          -3.29472221,
          -3.10333333,
          -20.26333333,
          -5.7886111,
          -18.78062,
          -13.90694444,
          -22.314567,
          -9.576389,
          -19.40722222,
          -22.235222,
          -23.40527777,
          -10.43444444,
          -3.39888888,
          -3.51083333,
          -17.45472222,
          -15.085958,
          -14.40833333,
          -13.253521,
          -22.86166666,
          -7.89444444,
          -16.68638888,
          -5.13666666,
          -25.50888888,
          -17.745066,
          -4.90416666,
          -21.105,
          -5.83722221,
          -22.86749999,
          -23.41527777,
          -22.33472221,
          -13.0386111,
          -15.80277777,
          -18.69527777,
          -8.0911111,
          -4.24388888,
          -1.88083332,
          -6.97416666,
          -20.715,
          -20.55666666,
          -3.8436111,
          -8.66666666,
          -10.19083333,
          -9.42027777,
          -17.24444444,
          -12.615,
          -19.69555555,
          -22.65833333,
          -14.42138888,
          -16.012222,
          -23.2236111,
          -16.962536,
          -3.08666666,
          -9.35833333,
          -22.395799,
          -28.226805,
          -20.745237,
          -7.07972221,
          -18.52055554,
          -18.996684,
          -8.132288,
          -12.015377,
          -9.388323,
          -13.155681,
          -22.46472222,
          -7.0711111,
          -22.70305555,
          -9.62222221,
          -17.258064,
          -17.30416666,
          -4.276047,
          -10.47694443,
          -3.86416666,
          -19.23249999,
          -22.5525,
          -15.23444444,
          -13.30944444,
          -30.05361111,
          -1.82194443,
          -15.32472221,
          0.69416666,
          -16.38888888,
          -8.7936111,
          -14.08916666,
          -21.33833333,
          -2.59222221,
          -2.05666666,
          -21.10083333,
          -22.11999999,
          -15.57999999,
          -30.368578,
          -10.98472221,
          -12.60305555,
          -4.97888888,
          -5.17444443,
          -22.37277777,
          -27.6786111,
          -8.04333333,
          -24.53305554,
          -9.62555554,
          -22.45138888,
          -11.05861111,
          -21.77499999,
          -22.653579,
          -22.98833333,
          -22.93999999,
          -22.86138888,
          -23.05027777,
          -32.07888888,
          -26.2486111,
          -29.87222221,
          -15.72305554,
          -9.793363,
          -2.6336111,
          -17.78527777,
          -4.82749999,
          -16.4625,
          -14.82888888,
          -0.125207,
          -13.45388888,
          -19.87527777,
          -8.05805555,
          -16.16027777,
          -0.61888888,
          -15.12472221,
          -13.005515,
          -12.80833333,
          -7.124191,
          -29.72499999,
          -8.72972221,
          -21.95055555,
          -11.00277777,
          -27.89055555,
          -11.42888888,
          -19.988388,
          -30.75055555,
          -2.5025,
          -29.191599,
          -14.92777777,
          -27.854345,
          -28.65,
          -21.980353,
          -11.61888888,
          -6.63972221,
          -30.341438,
          -6.835777,
          -21.106502,
          -8.36444444,
          -28.27564,
          -28.7486111,
          -2.52666666,
          -9.28749999,
          -23.22833332,
          -28.41722221,
          -18.6761111,
          -23.85194444,
          -12.82055554,
          -26.77638888,
          -23.724501,
          -23.49638888,
          -9.03333333,
          -16.36277777,
          -20.91,
          -18.969142,
          -21.46111111,
          -29.70222222,
          -13.30388888,
          -22.8711111,
          -28.70472222,
          -22.75777777,
          -17.79888888,
          -6.07749999,
          -11.98777777,
          -19.45527777,
          -20.98166666,
          -22.64583333,
          -16.67972221,
          -3.74805555,
          -28.859211,
          -17.63527777,
          -23.4261111,
          -7.83972221,
          -33.74222221,
          -14.65,
          -6.01749999,
          -17.89284,
          -5.03472221,
          -22.4486111,
          -29.44916666,
          -3.73222221,
          -19.57388888,
          -29.35027777,
          -30.01027777,
          -20.78333333,
          -18.200855,
          -22.09833333,
          -6.74333333,
          -3.82277777,
          -21.927251,
          -29.0893814,
          -1.66111111,
          -19.71,
          -18.91694443,
          -16.55416666,
          -2.53472221,
          -7.44138888,
          -29.83987,
          -28.53249999,
          -28.513602,
          -22.35805555,
          -6.39916666,
          -21.56638888,
          -20.38555555,
          -24.28027777,
          -20.762607,
          -15.06277777,
          -20.46694443,
          -12.73499999,
          -20.27083332,
          -14.88638888,
          -20.40333333,
          -26.938666,
          -7.110518,
          -3.26916666,
          -9.26472222,
          -12.1486111,
          -3.21416666,
          -22.96583333,
          -5.62666666,
          -16.84888888,
          -15.9025,
          -7.103778,
          -19.60555555,
          -8.433537,
          -6.97555554,
          -15.91527777,
          -22.34749999,
          -4.21805554,
          -31.30555555,
          -7.52944443,
          -0.97416666,
          -11.084858,
          -5.50638888,
          -12.155843,
          -1.43583333,
          -19.93444444,
          -2.64222221,
          -4.3786111,
          -18.53722221,
          2.82944443,
          -28.66944443,
          -13.251097,
          -9.06611111,
          -15.78972221,
          -1.680277,
          -19.020355,
          -8.50388888,
          -2.23972221,
          -7.22555554,
          -21.74249999,
          -13.47083332,
          -20.526119,
          1.83249999,
          -19.73583333,
          -17.73944444,
          -17.533008,
          -7.33722221,
          -18.17027777,
          -4.86722221,
          -29.1961111,
          -5.65333333,
          -3.74277777,
          -11.10138888,
          -3.8411111,
          -6.03305554,
          -8.25916666,
          -22.02222221,
          -13.33249999,
          -28.6261111,
          -12.67527777,
          -15.61999999,
          -14.40611111,
          -6.66166666,
          -6.76166666,
          -2.51583333,
          -15.54916666,
          -14.949727,
          -3.81527777,
          -20.58444444,
          -8.91083333,
          -16.67305554,
          -16.58081,
          -22.84694444,
          -5.53638888,
          -17.72444443,
          -25.502846,
          -11.272334,
          -3.13694444,
          -4.276986,
          -17.85972222,
          -21.20444444,
          -11.17277777,
          -15.448054,
          -17.9236111,
          -7.09527777,
          -21.76999999,
          -16.775057,
          -7.26138888,
          -28.22249999,
          -21.2261111,
          -12.557854,
          -23.32555554,
          -3.46972221,
          -0.04499999,
          -3.10333333,
          -5.36611111,
          -23.4,
          -2,
          -7.89444444,
          -16.68638888,
          -5.13666666,
          -11.547494,
          -20.46583333,
          -5.83722221,
          -14.697917,
          -7.87944443,
          -15.776,
          -10.190897,
          -9.42027777,
          -9.74916666,
          -19.66361111,
          -22.382805,
          -28.2286111,
          -7.05361111,
          -8.13222221,
          -16.00944444,
          -8.9686111,
          -31.78333333,
          -9.3886111,
          -7.08083332,
          -15.85472222,
          -4.2761111,
          -30.05361111,
          -1.751055,
          -9.162012,
          -10.71083333,
          -14.08916666,
          -10.21376,
          -5.17305554,
          -22.45111111,
          -9.95916666,
          -17.78527777,
          -16.154862,
          -13.00583333,
          -29.72472221,
          -21.96805554,
          -33.53166666,
          -21.53694444,
          -21.98027777,
          -0.12527777,
          -6.83583333,
          -8.365,
          -22.126273,
          -2.52666666,
          -28.41722221,
          -23.49638888,
          -21.461019,
          -15.82305554,
          -6.46749999,
          -11.66805554,
          -23.47999999,
          -11.00277777,
          -7.839628,
          -12.40222222,
          -8.16027777,
          -3.38027777,
          -5.03472221,
          -22.41722221,
          -1.06361111,
          -3.76,
          -1.66138888,
          -16.36638888,
          -20.31583333,
          -14.88638888,
          -3.269212
         ],
         "legendgroup": "Operative",
         "lon": [
          -40.08722221,
          -41.10694444,
          -52.21166666,
          -52.87583332,
          -47.625801,
          -41.457787,
          -41.09083333,
          -41.48888888,
          -55.52555554,
          -40.74194444,
          -40.68777777,
          -52.39472221,
          -53.22444443,
          -45.93194443,
          -53.28944444,
          -43.86555555,
          -42.72749999,
          -44.30333333,
          -37.815,
          -59.8886111,
          -42.03527777,
          -52.24527777,
          -49.5286111,
          -48.20111111,
          -36.61916666,
          -49.49792,
          -46.94972221,
          -37.05555555,
          -35.718128,
          -48.84055555,
          -42.02138888,
          -59.12944443,
          -48.9411111,
          -44.79499999,
          -54.01333333,
          -45.094625,
          -46.02749999,
          -46.00888888,
          -43.76777777,
          -62.92416666,
          -43.13888888,
          -48.5575,
          -45.23694444,
          -48.41638888,
          -45.02694443,
          -48.54499999,
          -46.86944443,
          -52.47138888,
          -49.028877,
          -48.439512,
          -43.96944443,
          -43.95861111,
          -51.534202,
          -46.14333333,
          -60.69083333,
          -49.47972221,
          -43.40527777,
          -44.32638888,
          -46.78583333,
          -46.53055554,
          -47.92583332,
          -48.1311111,
          -36.48194443,
          -41.67222221,
          -46.44944444,
          -43.65111111,
          -46.43555555,
          -36.28638888,
          -50.98552,
          -53.46694443,
          -45.00555555,
          -51.81749999,
          -37.08499999,
          -46.382996,
          -51.83424,
          -35.13527777,
          -50.14972221,
          -41.95833333,
          -52.80027777,
          -35.904831,
          -49.518133,
          -51.064042,
          -54.722615,
          -42.14555555,
          -57.8386111,
          -55.13555555,
          -45.60388888,
          -41.34388888,
          -41.05166666,
          -51.21583333,
          -50.82722221,
          -52.70083333,
          -42.97583332,
          -52.40722222,
          -42.38916666,
          -43.32444443,
          -42.137146,
          -42.600936,
          -47.45972222,
          -36.02833332,
          -47.07527777,
          -51.72083332,
          -47.94805555,
          -41.51222222,
          -47.927614,
          -43.3436111,
          -45.61749999,
          -43.35222222,
          -52.6357111,
          -52.3486111,
          -63.14527777,
          -44.23333333,
          -48.478605,
          -49.157733,
          -59.7625,
          -48.151574,
          -49.28277777,
          -43.26111111,
          -45.17305554,
          -44.61749999,
          -36.28638888,
          -53.17138888,
          -54.7361111,
          -40.67222221,
          -47.61305555,
          -47.62583332,
          -53.673597,
          -39.08944444,
          -56.062951,
          -39.9125,
          -49.23055554,
          -44.453785,
          -43.648269,
          -46.84722221,
          -53.633114,
          -44.87499999,
          -47.56388888,
          -54.61805554,
          -45.593932,
          -43.28222221,
          -40.73638888,
          -49.91472222,
          -52.52472221,
          -52.305805,
          -42.80861111,
          -47.41833332,
          -38.996605,
          -38.96749999,
          -44.41694443,
          -43.00333333,
          -48.620096,
          -45.45388888,
          -45.20083333,
          -49.60833333,
          -38.53777777,
          -54.48305554,
          -47.38249999,
          -53.42944443,
          -48.13749999,
          -36.49333333,
          -53.2575,
          -51.35361111,
          -45.34583333,
          -48.98999999,
          -49.220222,
          -50.14138888,
          -53.04888888,
          -41.977007,
          -46.16222222,
          -42.74972221,
          -42.94305555,
          -47.19916666,
          -53.76611111,
          -49.04972221,
          -63.07138888,
          -37.71166666,
          -44.011249,
          -53.11194444,
          -48.79972221,
          -43.21333333,
          -47.54583333,
          -39.26888888,
          -47.45972222,
          -51.077946,
          -36.87222221,
          -51.14888888,
          -41.864504,
          -37.795,
          -40.29972221,
          -58.48277777,
          -55.99305555,
          -48.76194444,
          -41.485588,
          -49.53999999,
          -48.88583333,
          -39.5886111,
          -46.80527777,
          -48.64166666,
          -54.181858,
          -44.70305555,
          -54.50166666,
          -40.119752,
          -49.52499999,
          -49.19194444,
          -49.64694444,
          -47.77527777,
          -50.85388888,
          -53.82277777,
          -53.37583332,
          -38.62777777,
          -37.76666666,
          -50.59499999,
          -44.366313,
          -50.18055554,
          -56.13777777,
          -51.717467,
          -51.55888888,
          -34.81555555,
          -46.11944443,
          -49.946387,
          -43.364329,
          -64.7886111,
          -50.33555555,
          -49.847882,
          -51.512845,
          -41.388808,
          -40.0686111,
          -49.73472221,
          -45.82972221,
          -47.96694443,
          -48.81333333,
          -41.81194444,
          -51.08888888,
          -35.77027777,
          -45.944389,
          -50.36333333,
          -54.01916666,
          -60.62833332,
          -60.01638888,
          -42.18277777,
          -61.28833333,
          -40.986505,
          -38.97222221,
          -45.373049,
          -49.723333,
          -40.53972221,
          -49.965111,
          -51.93277777,
          -45.92194443,
          -57.67388888,
          -52.96333333,
          -52.60111111,
          -44.016036,
          -44.40416666,
          -46.890326,
          -46.04333333,
          -37.12472221,
          -43.84388888,
          -38.35666666,
          -48.80861111,
          -49.101698,
          -37.36694443,
          -42.37583332,
          -35.20805555,
          -43.10194444,
          -50.57777777,
          -42.67694443,
          -57.09222221,
          -43.29694444,
          -40.39055555,
          -60.38055554,
          -49.93944444,
          -55.51972221,
          -42.14694444,
          -44.86444444,
          -43.75611111,
          -50.63805555,
          -35.56805554,
          -48.30194444,
          -36.62027777,
          -46.88166666,
          -47.87194443,
          -51.18166666,
          -52.13444444,
          -54.0361111,
          -47.557417,
          -44.72694443,
          -50.42545,
          -41.78305554,
          -69.92638888,
          -44.961909,
          -52.403582,
          -46.633916,
          -37.27277777,
          -46.44055555,
          -46.985935,
          -41.142945,
          -48.544517,
          -40.523262,
          -41.774125,
          -43.29138888,
          -41.40416666,
          -47.62333332,
          -37.76722221,
          -44.835556,
          -48.28416666,
          -41.794568,
          -49.62944443,
          -54.21638888,
          -44.96416666,
          -55.71638888,
          -59.3461111,
          -49.11749999,
          -51.17472221,
          -52.11166666,
          -57.22583332,
          -51.40388888,
          -39.18249999,
          -63.84583333,
          -46.36638888,
          -48.11388888,
          -42.7075,
          -60.02583332,
          -41.03944444,
          -51.40861111,
          -54.3811111,
          -56.437115,
          -39.61694443,
          -52.1625,
          -39.05722222,
          -39.28944444,
          -50.97472221,
          -49.04194444,
          -50.00694444,
          -47.86416666,
          -42.07722221,
          -44.44499999,
          -38.44416666,
          -54.52805554,
          -44.040916,
          -43.19055555,
          -43.40277777,
          -43.41138888,
          -43.59555555,
          -52.16777777,
          -49.57416666,
          -52.38194443,
          -42.43583333,
          -47.132732,
          -59.60055555,
          -50.965,
          -48.1736111,
          -54.58027777,
          -56.44194444,
          -67.061246,
          -56.67722221,
          -47.43416666,
          -39.0961111,
          -42.31027777,
          -47.35666666,
          -58.12722221,
          -38.50576,
          -38.49583333,
          -48.781267,
          -53.72055554,
          -49.85638888,
          -42.01027777,
          -44.52499999,
          -54.47999999,
          -48.18499999,
          -40.579572,
          -55.40138888,
          -54.72027777,
          -54.885653,
          -53.8836111,
          -53.791179,
          -56.01638888,
          -47.883927,
          -50.72777777,
          -51.95694444,
          -54.310909,
          -38.311583,
          -44.250928,
          -42.2525,
          -49.934617,
          -50.05777777,
          -44.21361111,
          -35.56583333,
          -45.41694443,
          -54.9625,
          -39.86416666,
          -48.16472222,
          -50.33583333,
          -53.50416666,
          -46.677501,
          -46.61999999,
          -42.70111111,
          -45.12388888,
          -47.11416666,
          -50.633449,
          -47.57944443,
          -54.69444444,
          -58.76333333,
          -42.60888888,
          -51.87083332,
          -43.68472221,
          -40.25,
          -50.14222221,
          -51.4261111,
          -44.17333332,
          -54.97194443,
          -42.41555555,
          -48.61805554,
          -40.34583333,
          -52.542387,
          -54.76055555,
          -47.58555555,
          -35.80111111,
          -53.37222221,
          -57.43166666,
          -40.28138888,
          -41.515423,
          -42.80138888,
          -42.98694444,
          -51.82333332,
          -41.01194444,
          -42.62249999,
          -49.73333333,
          -50.13583333,
          -51.71222222,
          -45.459836,
          -43.20833333,
          -51.14194444,
          -49.67499999,
          -50.490251,
          -53.82665025,
          -45.37249999,
          -47.96194444,
          -48.25555555,
          -46.88194443,
          -57.75805555,
          -44.34499999,
          -57.081899,
          -49.31527777,
          -50.882738,
          -43.69555555,
          -41.73999999,
          -45.40416666,
          -41.18999999,
          -50.21027777,
          -42.864013,
          -59.87305554,
          -40.40388888,
          -60.15777777,
          -40.30583333,
          -40.80138888,
          -49.96611111,
          -52.39809,
          -49.926072,
          -45.65111111,
          -37.93805555,
          -38.42527777,
          -52.21305555,
          -43.27916666,
          -37.815,
          -42.06083333,
          -52.24527777,
          -48.20133,
          -46.94972221,
          -37.055365,
          -35.71805554,
          -46.10722222,
          -43.41777777,
          -44.77583332,
          -54.11944443,
          -46.04638888,
          -62.9286111,
          -43.138998,
          -45.23722221,
          -45.008269,
          -48.43722221,
          -43.95222222,
          -54.94388888,
          -70.02999999,
          -40.27222221,
          -60.66194444,
          -50.44194444,
          -43.405365,
          -44.36527777,
          -47.92583332,
          -50.478034,
          -43.433948,
          -39.31527777,
          -49.49972221,
          -35.90472222,
          -41.33277777,
          -52.2711111,
          -41.90913,
          -61.12083332,
          -42.13722221,
          -39.25861111,
          -43.012091,
          -47.45972222,
          -47.95805555,
          -43.35666666,
          -51.18638888,
          -35.42583332,
          -43.35222222,
          -38.52416666,
          -62.05527777,
          -44.23333333,
          -49.26388888,
          -42.36444444,
          -44.61749999,
          -53.61388888,
          -39.08972221,
          -56.10888888,
          -56.44694444,
          -69.86777777,
          -43.00333333,
          -66.10083333,
          -47.33888888,
          -46.235795,
          -38.53777777,
          -47.38249999,
          -36.49333333,
          -49.26388888,
          -39.783182,
          -42.18555555,
          -47.47888888,
          -48.17194443,
          -50.637609,
          -37.794973,
          -58.44277777,
          -55.993087,
          -42.85277777,
          -41.90555555,
          -40.53416666,
          -44.366321,
          -51.71749999,
          -34.8486111,
          -43.36444444,
          -43.667085,
          -64.78999999,
          -51.51277777,
          -44.97972221,
          -41.388808,
          -51.14166666,
          -42.26805554,
          -51.11,
          -60.01638888,
          -49.12527777,
          -51.91666666,
          -54.07638888,
          -37.12472221,
          -43.84388888,
          -38.35666666,
          -41.151165,
          -41.41194444,
          -35.20777777,
          -52.350226,
          -40.09194444,
          -56.072,
          -48.301822,
          -36.62027777,
          -37.43083332,
          -51.19138888,
          -44.966902,
          -52.41194444,
          -37.27388888,
          -41.14305555,
          -41.2811111,
          -48.17722221,
          -52.41666666,
          -40.52333332,
          -41.43499999,
          -48.96611111,
          -41.79444444,
          -51.17472221,
          -52.236186,
          -35.299881,
          -48.40638888,
          -46.36666666,
          -36.842198,
          -39.28722221,
          -44.44472221,
          -67.86888888,
          -50.96472222,
          -42.284921,
          -38.50583333,
          -53.72055554,
          -42.00305555,
          -53.35027777,
          -42.16083333,
          -47.88388888,
          -67.06111111,
          -38.31166666,
          -42.25027777,
          -45.043327,
          -44.21361111,
          -54.9625,
          -46.61999999,
          -47.579512,
          -55.41888888,
          -37.08499999,
          -39.00194444,
          -47.42666666,
          -44.52499999,
          -35.801056,
          -46.43833333,
          -70.7686111,
          -64.72527777,
          -42.80138888,
          -42.97222221,
          -46.86527777,
          -49.66666666,
          -45.37194443,
          -46.88944444,
          -40.31694443,
          -40.80138888,
          -45.651007
         ],
         "marker": {
          "color": "green"
         },
         "mode": "markers",
         "name": "Operative",
         "showlegend": true,
         "subplot": "mapbox",
         "type": "scattermapbox"
        }
       ],
       "layout": {
        "height": 800,
        "legend": {
         "title": {
          "text": "CD_SITUATION"
         },
         "tracegroupgap": 0,
         "x": 0.79,
         "xanchor": "left",
         "y": 0.99,
         "yanchor": "top"
        },
        "mapbox": {
         "center": {
          "lat": -15.166394626457762,
          "lon": -47.57503445435968
         },
         "domain": {
          "x": [
           0,
           1
          ],
          "y": [
           0,
           1
          ]
         },
         "style": "open-street-map",
         "zoom": 3
        },
        "margin": {
         "b": 0,
         "l": 0,
         "r": 0,
         "t": 0
        },
        "template": {
         "data": {
          "bar": [
           {
            "error_x": {
             "color": "#2a3f5f"
            },
            "error_y": {
             "color": "#2a3f5f"
            },
            "marker": {
             "line": {
              "color": "#E5ECF6",
              "width": 0.5
             },
             "pattern": {
              "fillmode": "overlay",
              "size": 10,
              "solidity": 0.2
             }
            },
            "type": "bar"
           }
          ],
          "barpolar": [
           {
            "marker": {
             "line": {
              "color": "#E5ECF6",
              "width": 0.5
             },
             "pattern": {
              "fillmode": "overlay",
              "size": 10,
              "solidity": 0.2
             }
            },
            "type": "barpolar"
           }
          ],
          "carpet": [
           {
            "aaxis": {
             "endlinecolor": "#2a3f5f",
             "gridcolor": "white",
             "linecolor": "white",
             "minorgridcolor": "white",
             "startlinecolor": "#2a3f5f"
            },
            "baxis": {
             "endlinecolor": "#2a3f5f",
             "gridcolor": "white",
             "linecolor": "white",
             "minorgridcolor": "white",
             "startlinecolor": "#2a3f5f"
            },
            "type": "carpet"
           }
          ],
          "choropleth": [
           {
            "colorbar": {
             "outlinewidth": 0,
             "ticks": ""
            },
            "type": "choropleth"
           }
          ],
          "contour": [
           {
            "colorbar": {
             "outlinewidth": 0,
             "ticks": ""
            },
            "colorscale": [
             [
              0,
              "#0d0887"
             ],
             [
              0.1111111111111111,
              "#46039f"
             ],
             [
              0.2222222222222222,
              "#7201a8"
             ],
             [
              0.3333333333333333,
              "#9c179e"
             ],
             [
              0.4444444444444444,
              "#bd3786"
             ],
             [
              0.5555555555555556,
              "#d8576b"
             ],
             [
              0.6666666666666666,
              "#ed7953"
             ],
             [
              0.7777777777777778,
              "#fb9f3a"
             ],
             [
              0.8888888888888888,
              "#fdca26"
             ],
             [
              1,
              "#f0f921"
             ]
            ],
            "type": "contour"
           }
          ],
          "contourcarpet": [
           {
            "colorbar": {
             "outlinewidth": 0,
             "ticks": ""
            },
            "type": "contourcarpet"
           }
          ],
          "heatmap": [
           {
            "colorbar": {
             "outlinewidth": 0,
             "ticks": ""
            },
            "colorscale": [
             [
              0,
              "#0d0887"
             ],
             [
              0.1111111111111111,
              "#46039f"
             ],
             [
              0.2222222222222222,
              "#7201a8"
             ],
             [
              0.3333333333333333,
              "#9c179e"
             ],
             [
              0.4444444444444444,
              "#bd3786"
             ],
             [
              0.5555555555555556,
              "#d8576b"
             ],
             [
              0.6666666666666666,
              "#ed7953"
             ],
             [
              0.7777777777777778,
              "#fb9f3a"
             ],
             [
              0.8888888888888888,
              "#fdca26"
             ],
             [
              1,
              "#f0f921"
             ]
            ],
            "type": "heatmap"
           }
          ],
          "heatmapgl": [
           {
            "colorbar": {
             "outlinewidth": 0,
             "ticks": ""
            },
            "colorscale": [
             [
              0,
              "#0d0887"
             ],
             [
              0.1111111111111111,
              "#46039f"
             ],
             [
              0.2222222222222222,
              "#7201a8"
             ],
             [
              0.3333333333333333,
              "#9c179e"
             ],
             [
              0.4444444444444444,
              "#bd3786"
             ],
             [
              0.5555555555555556,
              "#d8576b"
             ],
             [
              0.6666666666666666,
              "#ed7953"
             ],
             [
              0.7777777777777778,
              "#fb9f3a"
             ],
             [
              0.8888888888888888,
              "#fdca26"
             ],
             [
              1,
              "#f0f921"
             ]
            ],
            "type": "heatmapgl"
           }
          ],
          "histogram": [
           {
            "marker": {
             "pattern": {
              "fillmode": "overlay",
              "size": 10,
              "solidity": 0.2
             }
            },
            "type": "histogram"
           }
          ],
          "histogram2d": [
           {
            "colorbar": {
             "outlinewidth": 0,
             "ticks": ""
            },
            "colorscale": [
             [
              0,
              "#0d0887"
             ],
             [
              0.1111111111111111,
              "#46039f"
             ],
             [
              0.2222222222222222,
              "#7201a8"
             ],
             [
              0.3333333333333333,
              "#9c179e"
             ],
             [
              0.4444444444444444,
              "#bd3786"
             ],
             [
              0.5555555555555556,
              "#d8576b"
             ],
             [
              0.6666666666666666,
              "#ed7953"
             ],
             [
              0.7777777777777778,
              "#fb9f3a"
             ],
             [
              0.8888888888888888,
              "#fdca26"
             ],
             [
              1,
              "#f0f921"
             ]
            ],
            "type": "histogram2d"
           }
          ],
          "histogram2dcontour": [
           {
            "colorbar": {
             "outlinewidth": 0,
             "ticks": ""
            },
            "colorscale": [
             [
              0,
              "#0d0887"
             ],
             [
              0.1111111111111111,
              "#46039f"
             ],
             [
              0.2222222222222222,
              "#7201a8"
             ],
             [
              0.3333333333333333,
              "#9c179e"
             ],
             [
              0.4444444444444444,
              "#bd3786"
             ],
             [
              0.5555555555555556,
              "#d8576b"
             ],
             [
              0.6666666666666666,
              "#ed7953"
             ],
             [
              0.7777777777777778,
              "#fb9f3a"
             ],
             [
              0.8888888888888888,
              "#fdca26"
             ],
             [
              1,
              "#f0f921"
             ]
            ],
            "type": "histogram2dcontour"
           }
          ],
          "mesh3d": [
           {
            "colorbar": {
             "outlinewidth": 0,
             "ticks": ""
            },
            "type": "mesh3d"
           }
          ],
          "parcoords": [
           {
            "line": {
             "colorbar": {
              "outlinewidth": 0,
              "ticks": ""
             }
            },
            "type": "parcoords"
           }
          ],
          "pie": [
           {
            "automargin": true,
            "type": "pie"
           }
          ],
          "scatter": [
           {
            "fillpattern": {
             "fillmode": "overlay",
             "size": 10,
             "solidity": 0.2
            },
            "type": "scatter"
           }
          ],
          "scatter3d": [
           {
            "line": {
             "colorbar": {
              "outlinewidth": 0,
              "ticks": ""
             }
            },
            "marker": {
             "colorbar": {
              "outlinewidth": 0,
              "ticks": ""
             }
            },
            "type": "scatter3d"
           }
          ],
          "scattercarpet": [
           {
            "marker": {
             "colorbar": {
              "outlinewidth": 0,
              "ticks": ""
             }
            },
            "type": "scattercarpet"
           }
          ],
          "scattergeo": [
           {
            "marker": {
             "colorbar": {
              "outlinewidth": 0,
              "ticks": ""
             }
            },
            "type": "scattergeo"
           }
          ],
          "scattergl": [
           {
            "marker": {
             "colorbar": {
              "outlinewidth": 0,
              "ticks": ""
             }
            },
            "type": "scattergl"
           }
          ],
          "scattermapbox": [
           {
            "marker": {
             "colorbar": {
              "outlinewidth": 0,
              "ticks": ""
             }
            },
            "type": "scattermapbox"
           }
          ],
          "scatterpolar": [
           {
            "marker": {
             "colorbar": {
              "outlinewidth": 0,
              "ticks": ""
             }
            },
            "type": "scatterpolar"
           }
          ],
          "scatterpolargl": [
           {
            "marker": {
             "colorbar": {
              "outlinewidth": 0,
              "ticks": ""
             }
            },
            "type": "scatterpolargl"
           }
          ],
          "scatterternary": [
           {
            "marker": {
             "colorbar": {
              "outlinewidth": 0,
              "ticks": ""
             }
            },
            "type": "scatterternary"
           }
          ],
          "surface": [
           {
            "colorbar": {
             "outlinewidth": 0,
             "ticks": ""
            },
            "colorscale": [
             [
              0,
              "#0d0887"
             ],
             [
              0.1111111111111111,
              "#46039f"
             ],
             [
              0.2222222222222222,
              "#7201a8"
             ],
             [
              0.3333333333333333,
              "#9c179e"
             ],
             [
              0.4444444444444444,
              "#bd3786"
             ],
             [
              0.5555555555555556,
              "#d8576b"
             ],
             [
              0.6666666666666666,
              "#ed7953"
             ],
             [
              0.7777777777777778,
              "#fb9f3a"
             ],
             [
              0.8888888888888888,
              "#fdca26"
             ],
             [
              1,
              "#f0f921"
             ]
            ],
            "type": "surface"
           }
          ],
          "table": [
           {
            "cells": {
             "fill": {
              "color": "#EBF0F8"
             },
             "line": {
              "color": "white"
             }
            },
            "header": {
             "fill": {
              "color": "#C8D4E3"
             },
             "line": {
              "color": "white"
             }
            },
            "type": "table"
           }
          ]
         },
         "layout": {
          "annotationdefaults": {
           "arrowcolor": "#2a3f5f",
           "arrowhead": 0,
           "arrowwidth": 1
          },
          "autotypenumbers": "strict",
          "coloraxis": {
           "colorbar": {
            "outlinewidth": 0,
            "ticks": ""
           }
          },
          "colorscale": {
           "diverging": [
            [
             0,
             "#8e0152"
            ],
            [
             0.1,
             "#c51b7d"
            ],
            [
             0.2,
             "#de77ae"
            ],
            [
             0.3,
             "#f1b6da"
            ],
            [
             0.4,
             "#fde0ef"
            ],
            [
             0.5,
             "#f7f7f7"
            ],
            [
             0.6,
             "#e6f5d0"
            ],
            [
             0.7,
             "#b8e186"
            ],
            [
             0.8,
             "#7fbc41"
            ],
            [
             0.9,
             "#4d9221"
            ],
            [
             1,
             "#276419"
            ]
           ],
           "sequential": [
            [
             0,
             "#0d0887"
            ],
            [
             0.1111111111111111,
             "#46039f"
            ],
            [
             0.2222222222222222,
             "#7201a8"
            ],
            [
             0.3333333333333333,
             "#9c179e"
            ],
            [
             0.4444444444444444,
             "#bd3786"
            ],
            [
             0.5555555555555556,
             "#d8576b"
            ],
            [
             0.6666666666666666,
             "#ed7953"
            ],
            [
             0.7777777777777778,
             "#fb9f3a"
            ],
            [
             0.8888888888888888,
             "#fdca26"
            ],
            [
             1,
             "#f0f921"
            ]
           ],
           "sequentialminus": [
            [
             0,
             "#0d0887"
            ],
            [
             0.1111111111111111,
             "#46039f"
            ],
            [
             0.2222222222222222,
             "#7201a8"
            ],
            [
             0.3333333333333333,
             "#9c179e"
            ],
            [
             0.4444444444444444,
             "#bd3786"
            ],
            [
             0.5555555555555556,
             "#d8576b"
            ],
            [
             0.6666666666666666,
             "#ed7953"
            ],
            [
             0.7777777777777778,
             "#fb9f3a"
            ],
            [
             0.8888888888888888,
             "#fdca26"
            ],
            [
             1,
             "#f0f921"
            ]
           ]
          },
          "colorway": [
           "#636efa",
           "#EF553B",
           "#00cc96",
           "#ab63fa",
           "#FFA15A",
           "#19d3f3",
           "#FF6692",
           "#B6E880",
           "#FF97FF",
           "#FECB52"
          ],
          "font": {
           "color": "#2a3f5f"
          },
          "geo": {
           "bgcolor": "white",
           "lakecolor": "white",
           "landcolor": "#E5ECF6",
           "showlakes": true,
           "showland": true,
           "subunitcolor": "white"
          },
          "hoverlabel": {
           "align": "left"
          },
          "hovermode": "closest",
          "mapbox": {
           "style": "light"
          },
          "paper_bgcolor": "white",
          "plot_bgcolor": "#E5ECF6",
          "polar": {
           "angularaxis": {
            "gridcolor": "white",
            "linecolor": "white",
            "ticks": ""
           },
           "bgcolor": "#E5ECF6",
           "radialaxis": {
            "gridcolor": "white",
            "linecolor": "white",
            "ticks": ""
           }
          },
          "scene": {
           "xaxis": {
            "backgroundcolor": "#E5ECF6",
            "gridcolor": "white",
            "gridwidth": 2,
            "linecolor": "white",
            "showbackground": true,
            "ticks": "",
            "zerolinecolor": "white"
           },
           "yaxis": {
            "backgroundcolor": "#E5ECF6",
            "gridcolor": "white",
            "gridwidth": 2,
            "linecolor": "white",
            "showbackground": true,
            "ticks": "",
            "zerolinecolor": "white"
           },
           "zaxis": {
            "backgroundcolor": "#E5ECF6",
            "gridcolor": "white",
            "gridwidth": 2,
            "linecolor": "white",
            "showbackground": true,
            "ticks": "",
            "zerolinecolor": "white"
           }
          },
          "shapedefaults": {
           "line": {
            "color": "#2a3f5f"
           }
          },
          "ternary": {
           "aaxis": {
            "gridcolor": "white",
            "linecolor": "white",
            "ticks": ""
           },
           "baxis": {
            "gridcolor": "white",
            "linecolor": "white",
            "ticks": ""
           },
           "bgcolor": "#E5ECF6",
           "caxis": {
            "gridcolor": "white",
            "linecolor": "white",
            "ticks": ""
           }
          },
          "title": {
           "x": 0.05
          },
          "xaxis": {
           "automargin": true,
           "gridcolor": "white",
           "linecolor": "white",
           "ticks": "",
           "title": {
            "standoff": 15
           },
           "zerolinecolor": "white",
           "zerolinewidth": 2
          },
          "yaxis": {
           "automargin": true,
           "gridcolor": "white",
           "linecolor": "white",
           "ticks": "",
           "title": {
            "standoff": 15
           },
           "zerolinecolor": "white",
           "zerolinewidth": 2
          }
         }
        },
        "width": 600
       }
      },
      "text/html": [
       "<div>                            <div id=\"89fdbec7-e6ab-4293-b2cf-c1517c5521ec\" class=\"plotly-graph-div\" style=\"height:800px; width:600px;\"></div>            <script type=\"text/javascript\">                require([\"plotly\"], function(Plotly) {                    window.PLOTLYENV=window.PLOTLYENV || {};                                    if (document.getElementById(\"89fdbec7-e6ab-4293-b2cf-c1517c5521ec\")) {                    Plotly.newPlot(                        \"89fdbec7-e6ab-4293-b2cf-c1517c5521ec\",                        [{\"customdata\":[[\"Automatic\",\"Down\"],[\"Automatic\",\"Down\"],[\"Automatic\",\"Down\"],[\"Automatic\",\"Down\"],[\"Automatic\",\"Down\"],[\"Automatic\",\"Down\"],[\"Automatic\",\"Down\"],[\"Automatic\",\"Down\"],[\"Automatic\",\"Down\"],[\"Automatic\",\"Down\"],[\"Automatic\",\"Down\"],[\"Automatic\",\"Down\"],[\"Automatic\",\"Down\"],[\"Automatic\",\"Down\"],[\"Automatic\",\"Down\"],[\"Automatic\",\"Down\"],[\"Automatic\",\"Down\"],[\"Automatic\",\"Down\"],[\"Automatic\",\"Down\"],[\"Automatic\",\"Down\"],[\"Automatic\",\"Down\"],[\"Automatic\",\"Down\"],[\"Automatic\",\"Down\"],[\"Automatic\",\"Down\"],[\"Automatic\",\"Down\"],[\"Automatic\",\"Down\"],[\"Automatic\",\"Down\"],[\"Automatic\",\"Down\"],[\"Automatic\",\"Down\"],[\"Automatic\",\"Down\"],[\"Automatic\",\"Down\"],[\"Automatic\",\"Down\"],[\"Automatic\",\"Down\"],[\"Automatic\",\"Down\"],[\"Automatic\",\"Down\"],[\"Automatic\",\"Down\"],[\"Automatic\",\"Down\"],[\"Automatic\",\"Down\"],[\"Automatic\",\"Down\"],[\"Automatic\",\"Down\"],[\"Automatic\",\"Down\"],[\"Automatic\",\"Down\"],[\"Automatic\",\"Down\"],[\"Automatic\",\"Down\"],[\"Automatic\",\"Down\"],[\"Automatic\",\"Down\"],[\"Automatic\",\"Down\"],[\"Automatic\",\"Down\"],[\"Automatic\",\"Down\"],[\"Automatic\",\"Down\"],[\"Automatic\",\"Down\"],[\"Automatic\",\"Down\"],[\"Automatic\",\"Down\"],[\"Automatic\",\"Down\"],[\"Automatic\",\"Down\"],[\"Automatic\",\"Down\"],[\"Automatic\",\"Down\"],[\"Automatic\",\"Down\"],[\"Automatic\",\"Down\"],[\"Automatic\",\"Down\"],[\"Automatic\",\"Down\"],[\"Automatic\",\"Down\"],[\"Automatic\",\"Down\"],[\"Automatic\",\"Down\"],[\"Automatic\",\"Down\"],[\"Automatic\",\"Down\"],[\"Automatic\",\"Down\"],[\"Automatic\",\"Down\"],[\"Automatic\",\"Down\"],[\"Automatic\",\"Down\"],[\"Automatic\",\"Down\"],[\"Automatic\",\"Down\"],[\"Automatic\",\"Down\"],[\"Automatic\",\"Down\"],[\"Automatic\",\"Down\"],[\"Automatic\",\"Down\"],[\"Automatic\",\"Down\"],[\"Automatic\",\"Down\"],[\"Automatic\",\"Down\"],[\"Automatic\",\"Down\"],[\"Automatic\",\"Down\"],[\"Automatic\",\"Down\"],[\"Automatic\",\"Down\"],[\"Automatic\",\"Down\"],[\"Automatic\",\"Down\"],[\"Automatic\",\"Down\"],[\"Automatic\",\"Down\"],[\"Automatic\",\"Down\"],[\"Automatic\",\"Down\"],[\"Automatic\",\"Down\"],[\"Automatic\",\"Down\"],[\"Automatic\",\"Down\"],[\"Automatic\",\"Down\"],[\"Automatic\",\"Down\"],[\"Automatic\",\"Down\"],[\"Automatic\",\"Down\"],[\"Automatic\",\"Down\"],[\"Automatic\",\"Down\"],[\"Automatic\",\"Down\"],[\"Automatic\",\"Down\"],[\"Automatic\",\"Down\"],[\"Automatic\",\"Down\"],[\"Automatic\",\"Down\"],[\"Automatic\",\"Down\"],[\"Automatic\",\"Down\"],[\"Automatic\",\"Down\"],[\"Automatic\",\"Down\"],[\"Automatic\",\"Down\"],[\"Automatic\",\"Down\"],[\"Automatic\",\"Down\"],[\"Automatic\",\"Down\"],[\"Automatic\",\"Down\"],[\"Automatic\",\"Down\"]],\"hovertemplate\":\"<b>%{hovertext}</b><br><br>CD_SITUATION=%{customdata[1]}<br>LATITUDE=%{lat}<br>LONGITUDE=%{lon}<br>TP_STATION=%{customdata[0]}<extra></extra>\",\"hovertext\":[\"ABROLHOS\",\"ALMAS\",\"ALTA FLORESTA\",\"ALTO PARAISO DE GOIAS\",\"AMAMBAI\",\"AMARGOSA\",\"APIACAS\",\"AQUIDAUANA\",\"ARACAJU\",\"ARAGUATINS\",\"ARIQUEMES\",\"BARBALHA\",\"BEBEDOURO\",\"BELA VISTA\",\"BELMONTE\",\"BOCA DO ACRE\",\"BRASNORTE (NOVO MUNDO)\",\"BREVES\",\"CABROBO\",\"CACOAL\",\"CALCANHAR\",\"CAMETA\",\"CAMPOS LINDOS\",\"CAMPOS SALES\",\"CAPITAO POCO\",\"CARAVELAS\",\"CARIRA\",\"CARLINDA\",\"CASTRO\",\"CHAPADAO DO SUL\",\"CIDADE GAUCHA\",\"CONDE\",\"CORUMBA\",\"COTRIGUACU\",\"CRUZEIRO DO SUL\",\"CURITIBANOS\",\"DELFINO\",\"DIAMANTE DO NORTE\",\"DOIS VIZINHOS\",\"DOURADOS\",\"DRACENA\",\"EIRUNEPE\",\"EPITACIOLANDIA\",\"FAROL de SANTANA\",\"FEIJO\",\"FLORESTA\",\"GUARAMIRANGA\",\"GUARANTA DO NORTE\",\"ICARAIMA\",\"ILHEUS\",\"INDAIAL\",\"IPIAU\",\"ITABAIANA\",\"ITAMARAJU\",\"ITAPETINGA\",\"ITAPORANGA\",\"ITAUBAL\",\"JACOBINA\",\"JEREMOABO\",\"JOSE BONIFACIO\",\"JUARA\",\"JUINA\",\"JUTI\",\"LARANJEIRAS DO SUL\",\"MACAJUBA\",\"MACAU\",\"MARABA\",\"MARACAJU\",\"MARECHAL THAUMATURGO\",\"MINA DO PALITO\",\"MIRANDA\",\"MONTE ALEGRE\",\"MOSTARDAS\",\"NHUMIRIM\",\"NOSSA SENHORA DA GLORIA\",\"NOVA TEBAS\",\"NOVA UBIRATA\",\"NOVO HORIZONTE\",\"OIAPOQUE\",\"OURICURI\",\"OURINHOS\",\"PALMEIRA DAS MISSOES\",\"PAO DE ACUCAR\",\"PARAGOMINAS\",\"PARINTINS\",\"PEDRO AFONSO\",\"PILAO ARCADO\",\"PLANALTO\",\"POCO VERDE\",\"PORTO MURTINHO\",\"PORTO WALTER\",\"RECIFE\",\"RIO BRANCO\",\"RIO DO CAMPO\",\"SANTA CRUZ\",\"SANTANA DO ARAGUAIA\",\"SAO GABRIEL DO OESTE\",\"SAO JOSE DO XINGU\",\"SAO MATEUS DO SUL\",\"SAO SEBASTIAO\",\"SENHOR DO BONFIM\",\"SERRA TALHADA\",\"SERRINHA\",\"SETE QUEDAS\",\"SINOP\",\"SORRISO\",\"SOURE\",\"TAUBATE\",\"TOME ACU\",\"UAUA\",\"UNA\",\"VALENCA\",\"VALPARAISO\"],\"lat\":[-17.96305555,-11.28416666,-10.07722221,-14.13305554,-23.0025,-13.00944444,-9.56333333,-20.47555554,-10.9525,-5.6436111,-9.94888888,-7.30083333,-20.94916666,-22.10166666,-16.08805555,-8.77666666,-12.52194443,-1.68027777,-8.50388888,-11.44583333,-5.16,-2.23972221,-8.15472222,-7.07777777,-1.73472221,-17.73944444,-10.39972221,-9.97055554,-24.78694444,-18.80222222,-23.35916666,-12.03583333,-18.99666666,-9.90638888,-7.61083333,-27.2886111,-10.455,-22.63944444,-25.69916666,-22.19388888,-21.45777777,-6.65027777,-11.02388888,-2.27083332,-8.14277777,-8.59888888,-4.26138888,-9.9525,-23.39027777,-14.65888888,-26.91361111,-14.17138888,-10.67166666,-17.00694444,-15.24472221,-7.31833332,0.56777777,-11.205,-10.08083332,-21.08555555,-11.28027777,-11.37499999,-22.85722222,-25.36888888,-12.13166666,-5.15111111,-5.36638888,-21.60916666,-8.95,-6.31999999,-20.39555555,-2.0,-31.24833333,-18.9886111,-10.20777777,-24.43722221,-13.41111111,-26.40638888,3.81361111,-7.88583333,-22.94888888,-27.92027777,-9.74916666,-2.9911111,-2.63916666,-8.9686111,-10.01833332,-25.72194443,-10.73805555,-21.70583333,-8.26722221,-8.05916666,-9.67972221,-26.93749999,-6.22805554,-9.3386111,-19.42027777,-10.48416666,-25.83555555,-23.81083333,-10.44305555,-7.95416666,-11.66472222,-23.96694443,-11.98222221,-12.555,-0.72777777,-23.04166666,-2.59249999,-9.8336111,-15.28027777,-13.3436111,-21.31916666],\"legendgroup\":\"Down\",\"lon\":[-38.70333333,-47.21222222,-56.17916666,-47.52333332,-55.32944443,-39.61694443,-57.3936111,-55.78388888,-37.05444444,-48.11194444,-62.96194444,-39.2711111,-48.48999999,-56.54083333,-39.21527777,-67.33249999,-58.23138888,-50.47805554,-39.31527777,-61.43416666,-35.48749999,-49.49972221,-46.63944444,-40.36277777,-47.0575,-39.25861111,-37.74749999,-55.82749999,-49.99916666,-52.6025,-52.93194443,-37.68388888,-57.63749999,-58.57222221,-72.68138888,-50.60416666,-41.20694444,-52.89027777,-53.09527777,-54.91138888,-51.55222222,-69.8686111,-68.73527777,-43.62416666,-70.3436111,-38.58416666,-38.9311111,-54.89777777,-53.63583333,-39.18138888,-49.26805554,-39.69249999,-37.47138888,-39.55805555,-40.22944443,-38.14083333,-50.8236111,-40.465,-38.34583333,-49.92027777,-57.52666666,-58.77472221,-54.60555555,-52.39194444,-40.35416666,-36.57305554,-49.05111111,-55.17749999,-72.78666666,-55.78777777,-56.43166666,-54.07638888,-50.90638888,-56.62277777,-37.43194443,-51.96305555,-54.75222222,-52.85027777,-51.8625,-40.10277777,-49.89444444,-53.31805554,-37.43083332,-47.35638888,-56.75611111,-48.17722221,-42.50027777,-53.74805555,-38.10833333,-57.88666666,-72.74777777,-34.95916666,-68.16527777,-50.14555555,-36.02666666,-50.35027777,-54.55305555,-52.37249999,-50.36888888,-45.4025,-40.14833333,-38.29499999,-39.02305554,-55.02416666,-55.56611111,-55.72277777,-48.51583333,-45.52083332,-48.36055555,-39.49555555,-39.09138888,-39.12666666,-50.93027777],\"marker\":{\"color\":\"red\"},\"mode\":\"markers\",\"name\":\"Down\",\"showlegend\":true,\"subplot\":\"mapbox\",\"type\":\"scattermapbox\"},{\"customdata\":[[\"Automatic\",\"Operative\"],[\"Automatic\",\"Operative\"],[\"Automatic\",\"Operative\"],[\"Automatic\",\"Operative\"],[\"Automatic\",\"Operative\"],[\"Automatic\",\"Operative\"],[\"Automatic\",\"Operative\"],[\"Automatic\",\"Operative\"],[\"Automatic\",\"Operative\"],[\"Automatic\",\"Operative\"],[\"Automatic\",\"Operative\"],[\"Automatic\",\"Operative\"],[\"Automatic\",\"Operative\"],[\"Automatic\",\"Operative\"],[\"Automatic\",\"Operative\"],[\"Automatic\",\"Operative\"],[\"Automatic\",\"Operative\"],[\"Automatic\",\"Operative\"],[\"Automatic\",\"Operative\"],[\"Automatic\",\"Operative\"],[\"Automatic\",\"Operative\"],[\"Automatic\",\"Operative\"],[\"Automatic\",\"Operative\"],[\"Automatic\",\"Operative\"],[\"Automatic\",\"Operative\"],[\"Automatic\",\"Operative\"],[\"Automatic\",\"Operative\"],[\"Automatic\",\"Operative\"],[\"Automatic\",\"Operative\"],[\"Automatic\",\"Operative\"],[\"Automatic\",\"Operative\"],[\"Automatic\",\"Operative\"],[\"Automatic\",\"Operative\"],[\"Automatic\",\"Operative\"],[\"Automatic\",\"Operative\"],[\"Automatic\",\"Operative\"],[\"Automatic\",\"Operative\"],[\"Automatic\",\"Operative\"],[\"Automatic\",\"Operative\"],[\"Automatic\",\"Operative\"],[\"Automatic\",\"Operative\"],[\"Automatic\",\"Operative\"],[\"Automatic\",\"Operative\"],[\"Automatic\",\"Operative\"],[\"Automatic\",\"Operative\"],[\"Automatic\",\"Operative\"],[\"Automatic\",\"Operative\"],[\"Automatic\",\"Operative\"],[\"Automatic\",\"Operative\"],[\"Automatic\",\"Operative\"],[\"Automatic\",\"Operative\"],[\"Automatic\",\"Operative\"],[\"Automatic\",\"Operative\"],[\"Automatic\",\"Operative\"],[\"Automatic\",\"Operative\"],[\"Automatic\",\"Operative\"],[\"Automatic\",\"Operative\"],[\"Automatic\",\"Operative\"],[\"Automatic\",\"Operative\"],[\"Automatic\",\"Operative\"],[\"Automatic\",\"Operative\"],[\"Automatic\",\"Operative\"],[\"Automatic\",\"Operative\"],[\"Automatic\",\"Operative\"],[\"Automatic\",\"Operative\"],[\"Automatic\",\"Operative\"],[\"Automatic\",\"Operative\"],[\"Automatic\",\"Operative\"],[\"Automatic\",\"Operative\"],[\"Automatic\",\"Operative\"],[\"Automatic\",\"Operative\"],[\"Automatic\",\"Operative\"],[\"Automatic\",\"Operative\"],[\"Automatic\",\"Operative\"],[\"Automatic\",\"Operative\"],[\"Automatic\",\"Operative\"],[\"Automatic\",\"Operative\"],[\"Automatic\",\"Operative\"],[\"Automatic\",\"Operative\"],[\"Automatic\",\"Operative\"],[\"Automatic\",\"Operative\"],[\"Automatic\",\"Operative\"],[\"Automatic\",\"Operative\"],[\"Automatic\",\"Operative\"],[\"Automatic\",\"Operative\"],[\"Automatic\",\"Operative\"],[\"Automatic\",\"Operative\"],[\"Automatic\",\"Operative\"],[\"Automatic\",\"Operative\"],[\"Automatic\",\"Operative\"],[\"Automatic\",\"Operative\"],[\"Automatic\",\"Operative\"],[\"Automatic\",\"Operative\"],[\"Automatic\",\"Operative\"],[\"Automatic\",\"Operative\"],[\"Automatic\",\"Operative\"],[\"Automatic\",\"Operative\"],[\"Automatic\",\"Operative\"],[\"Automatic\",\"Operative\"],[\"Automatic\",\"Operative\"],[\"Automatic\",\"Operative\"],[\"Automatic\",\"Operative\"],[\"Automatic\",\"Operative\"],[\"Automatic\",\"Operative\"],[\"Automatic\",\"Operative\"],[\"Automatic\",\"Operative\"],[\"Automatic\",\"Operative\"],[\"Automatic\",\"Operative\"],[\"Automatic\",\"Operative\"],[\"Automatic\",\"Operative\"],[\"Automatic\",\"Operative\"],[\"Automatic\",\"Operative\"],[\"Automatic\",\"Operative\"],[\"Automatic\",\"Operative\"],[\"Automatic\",\"Operative\"],[\"Automatic\",\"Operative\"],[\"Automatic\",\"Operative\"],[\"Automatic\",\"Operative\"],[\"Automatic\",\"Operative\"],[\"Automatic\",\"Operative\"],[\"Automatic\",\"Operative\"],[\"Automatic\",\"Operative\"],[\"Automatic\",\"Operative\"],[\"Automatic\",\"Operative\"],[\"Automatic\",\"Operative\"],[\"Automatic\",\"Operative\"],[\"Automatic\",\"Operative\"],[\"Automatic\",\"Operative\"],[\"Automatic\",\"Operative\"],[\"Automatic\",\"Operative\"],[\"Automatic\",\"Operative\"],[\"Automatic\",\"Operative\"],[\"Automatic\",\"Operative\"],[\"Automatic\",\"Operative\"],[\"Automatic\",\"Operative\"],[\"Automatic\",\"Operative\"],[\"Automatic\",\"Operative\"],[\"Automatic\",\"Operative\"],[\"Automatic\",\"Operative\"],[\"Automatic\",\"Operative\"],[\"Automatic\",\"Operative\"],[\"Automatic\",\"Operative\"],[\"Automatic\",\"Operative\"],[\"Automatic\",\"Operative\"],[\"Automatic\",\"Operative\"],[\"Automatic\",\"Operative\"],[\"Automatic\",\"Operative\"],[\"Automatic\",\"Operative\"],[\"Automatic\",\"Operative\"],[\"Automatic\",\"Operative\"],[\"Automatic\",\"Operative\"],[\"Automatic\",\"Operative\"],[\"Automatic\",\"Operative\"],[\"Automatic\",\"Operative\"],[\"Automatic\",\"Operative\"],[\"Automatic\",\"Operative\"],[\"Automatic\",\"Operative\"],[\"Automatic\",\"Operative\"],[\"Automatic\",\"Operative\"],[\"Automatic\",\"Operative\"],[\"Automatic\",\"Operative\"],[\"Automatic\",\"Operative\"],[\"Automatic\",\"Operative\"],[\"Automatic\",\"Operative\"],[\"Automatic\",\"Operative\"],[\"Automatic\",\"Operative\"],[\"Automatic\",\"Operative\"],[\"Automatic\",\"Operative\"],[\"Automatic\",\"Operative\"],[\"Automatic\",\"Operative\"],[\"Automatic\",\"Operative\"],[\"Automatic\",\"Operative\"],[\"Automatic\",\"Operative\"],[\"Automatic\",\"Operative\"],[\"Automatic\",\"Operative\"],[\"Automatic\",\"Operative\"],[\"Automatic\",\"Operative\"],[\"Automatic\",\"Operative\"],[\"Automatic\",\"Operative\"],[\"Automatic\",\"Operative\"],[\"Automatic\",\"Operative\"],[\"Automatic\",\"Operative\"],[\"Automatic\",\"Operative\"],[\"Automatic\",\"Operative\"],[\"Automatic\",\"Operative\"],[\"Automatic\",\"Operative\"],[\"Automatic\",\"Operative\"],[\"Automatic\",\"Operative\"],[\"Automatic\",\"Operative\"],[\"Automatic\",\"Operative\"],[\"Automatic\",\"Operative\"],[\"Automatic\",\"Operative\"],[\"Automatic\",\"Operative\"],[\"Automatic\",\"Operative\"],[\"Automatic\",\"Operative\"],[\"Automatic\",\"Operative\"],[\"Automatic\",\"Operative\"],[\"Automatic\",\"Operative\"],[\"Automatic\",\"Operative\"],[\"Automatic\",\"Operative\"],[\"Automatic\",\"Operative\"],[\"Automatic\",\"Operative\"],[\"Automatic\",\"Operative\"],[\"Automatic\",\"Operative\"],[\"Automatic\",\"Operative\"],[\"Automatic\",\"Operative\"],[\"Automatic\",\"Operative\"],[\"Automatic\",\"Operative\"],[\"Automatic\",\"Operative\"],[\"Automatic\",\"Operative\"],[\"Automatic\",\"Operative\"],[\"Automatic\",\"Operative\"],[\"Automatic\",\"Operative\"],[\"Automatic\",\"Operative\"],[\"Automatic\",\"Operative\"],[\"Automatic\",\"Operative\"],[\"Automatic\",\"Operative\"],[\"Automatic\",\"Operative\"],[\"Automatic\",\"Operative\"],[\"Automatic\",\"Operative\"],[\"Automatic\",\"Operative\"],[\"Automatic\",\"Operative\"],[\"Automatic\",\"Operative\"],[\"Automatic\",\"Operative\"],[\"Automatic\",\"Operative\"],[\"Automatic\",\"Operative\"],[\"Automatic\",\"Operative\"],[\"Automatic\",\"Operative\"],[\"Automatic\",\"Operative\"],[\"Automatic\",\"Operative\"],[\"Automatic\",\"Operative\"],[\"Automatic\",\"Operative\"],[\"Automatic\",\"Operative\"],[\"Automatic\",\"Operative\"],[\"Automatic\",\"Operative\"],[\"Automatic\",\"Operative\"],[\"Automatic\",\"Operative\"],[\"Automatic\",\"Operative\"],[\"Automatic\",\"Operative\"],[\"Automatic\",\"Operative\"],[\"Automatic\",\"Operative\"],[\"Automatic\",\"Operative\"],[\"Automatic\",\"Operative\"],[\"Automatic\",\"Operative\"],[\"Automatic\",\"Operative\"],[\"Automatic\",\"Operative\"],[\"Automatic\",\"Operative\"],[\"Automatic\",\"Operative\"],[\"Automatic\",\"Operative\"],[\"Automatic\",\"Operative\"],[\"Automatic\",\"Operative\"],[\"Automatic\",\"Operative\"],[\"Automatic\",\"Operative\"],[\"Automatic\",\"Operative\"],[\"Automatic\",\"Operative\"],[\"Automatic\",\"Operative\"],[\"Automatic\",\"Operative\"],[\"Automatic\",\"Operative\"],[\"Automatic\",\"Operative\"],[\"Automatic\",\"Operative\"],[\"Automatic\",\"Operative\"],[\"Automatic\",\"Operative\"],[\"Automatic\",\"Operative\"],[\"Automatic\",\"Operative\"],[\"Automatic\",\"Operative\"],[\"Automatic\",\"Operative\"],[\"Automatic\",\"Operative\"],[\"Automatic\",\"Operative\"],[\"Automatic\",\"Operative\"],[\"Automatic\",\"Operative\"],[\"Automatic\",\"Operative\"],[\"Automatic\",\"Operative\"],[\"Automatic\",\"Operative\"],[\"Automatic\",\"Operative\"],[\"Automatic\",\"Operative\"],[\"Automatic\",\"Operative\"],[\"Automatic\",\"Operative\"],[\"Automatic\",\"Operative\"],[\"Automatic\",\"Operative\"],[\"Automatic\",\"Operative\"],[\"Automatic\",\"Operative\"],[\"Automatic\",\"Operative\"],[\"Automatic\",\"Operative\"],[\"Automatic\",\"Operative\"],[\"Automatic\",\"Operative\"],[\"Automatic\",\"Operative\"],[\"Automatic\",\"Operative\"],[\"Automatic\",\"Operative\"],[\"Automatic\",\"Operative\"],[\"Automatic\",\"Operative\"],[\"Automatic\",\"Operative\"],[\"Automatic\",\"Operative\"],[\"Automatic\",\"Operative\"],[\"Automatic\",\"Operative\"],[\"Automatic\",\"Operative\"],[\"Automatic\",\"Operative\"],[\"Automatic\",\"Operative\"],[\"Automatic\",\"Operative\"],[\"Automatic\",\"Operative\"],[\"Automatic\",\"Operative\"],[\"Automatic\",\"Operative\"],[\"Automatic\",\"Operative\"],[\"Automatic\",\"Operative\"],[\"Automatic\",\"Operative\"],[\"Automatic\",\"Operative\"],[\"Automatic\",\"Operative\"],[\"Automatic\",\"Operative\"],[\"Automatic\",\"Operative\"],[\"Automatic\",\"Operative\"],[\"Automatic\",\"Operative\"],[\"Automatic\",\"Operative\"],[\"Automatic\",\"Operative\"],[\"Automatic\",\"Operative\"],[\"Automatic\",\"Operative\"],[\"Automatic\",\"Operative\"],[\"Automatic\",\"Operative\"],[\"Automatic\",\"Operative\"],[\"Automatic\",\"Operative\"],[\"Automatic\",\"Operative\"],[\"Automatic\",\"Operative\"],[\"Automatic\",\"Operative\"],[\"Automatic\",\"Operative\"],[\"Automatic\",\"Operative\"],[\"Automatic\",\"Operative\"],[\"Automatic\",\"Operative\"],[\"Automatic\",\"Operative\"],[\"Automatic\",\"Operative\"],[\"Automatic\",\"Operative\"],[\"Automatic\",\"Operative\"],[\"Automatic\",\"Operative\"],[\"Automatic\",\"Operative\"],[\"Automatic\",\"Operative\"],[\"Automatic\",\"Operative\"],[\"Automatic\",\"Operative\"],[\"Automatic\",\"Operative\"],[\"Automatic\",\"Operative\"],[\"Automatic\",\"Operative\"],[\"Automatic\",\"Operative\"],[\"Automatic\",\"Operative\"],[\"Automatic\",\"Operative\"],[\"Automatic\",\"Operative\"],[\"Automatic\",\"Operative\"],[\"Automatic\",\"Operative\"],[\"Automatic\",\"Operative\"],[\"Automatic\",\"Operative\"],[\"Automatic\",\"Operative\"],[\"Automatic\",\"Operative\"],[\"Automatic\",\"Operative\"],[\"Automatic\",\"Operative\"],[\"Automatic\",\"Operative\"],[\"Automatic\",\"Operative\"],[\"Automatic\",\"Operative\"],[\"Automatic\",\"Operative\"],[\"Automatic\",\"Operative\"],[\"Automatic\",\"Operative\"],[\"Automatic\",\"Operative\"],[\"Automatic\",\"Operative\"],[\"Automatic\",\"Operative\"],[\"Automatic\",\"Operative\"],[\"Automatic\",\"Operative\"],[\"Automatic\",\"Operative\"],[\"Automatic\",\"Operative\"],[\"Automatic\",\"Operative\"],[\"Automatic\",\"Operative\"],[\"Automatic\",\"Operative\"],[\"Automatic\",\"Operative\"],[\"Automatic\",\"Operative\"],[\"Automatic\",\"Operative\"],[\"Automatic\",\"Operative\"],[\"Automatic\",\"Operative\"],[\"Automatic\",\"Operative\"],[\"Automatic\",\"Operative\"],[\"Automatic\",\"Operative\"],[\"Automatic\",\"Operative\"],[\"Automatic\",\"Operative\"],[\"Automatic\",\"Operative\"],[\"Automatic\",\"Operative\"],[\"Automatic\",\"Operative\"],[\"Automatic\",\"Operative\"],[\"Automatic\",\"Operative\"],[\"Automatic\",\"Operative\"],[\"Automatic\",\"Operative\"],[\"Automatic\",\"Operative\"],[\"Automatic\",\"Operative\"],[\"Automatic\",\"Operative\"],[\"Automatic\",\"Operative\"],[\"Automatic\",\"Operative\"],[\"Automatic\",\"Operative\"],[\"Automatic\",\"Operative\"],[\"Automatic\",\"Operative\"],[\"Automatic\",\"Operative\"],[\"Automatic\",\"Operative\"],[\"Automatic\",\"Operative\"],[\"Automatic\",\"Operative\"],[\"Automatic\",\"Operative\"],[\"Automatic\",\"Operative\"],[\"Automatic\",\"Operative\"],[\"Automatic\",\"Operative\"],[\"Automatic\",\"Operative\"],[\"Automatic\",\"Operative\"],[\"Automatic\",\"Operative\"],[\"Automatic\",\"Operative\"],[\"Automatic\",\"Operative\"],[\"Automatic\",\"Operative\"],[\"Automatic\",\"Operative\"],[\"Automatic\",\"Operative\"],[\"Automatic\",\"Operative\"],[\"Automatic\",\"Operative\"],[\"Automatic\",\"Operative\"],[\"Automatic\",\"Operative\"],[\"Automatic\",\"Operative\"],[\"Automatic\",\"Operative\"],[\"Automatic\",\"Operative\"],[\"Automatic\",\"Operative\"],[\"Automatic\",\"Operative\"],[\"Automatic\",\"Operative\"],[\"Automatic\",\"Operative\"],[\"Automatic\",\"Operative\"],[\"Automatic\",\"Operative\"],[\"Automatic\",\"Operative\"],[\"Automatic\",\"Operative\"],[\"Automatic\",\"Operative\"],[\"Automatic\",\"Operative\"],[\"Automatic\",\"Operative\"],[\"Automatic\",\"Operative\"],[\"Automatic\",\"Operative\"],[\"Automatic\",\"Operative\"],[\"Automatic\",\"Operative\"],[\"Automatic\",\"Operative\"],[\"Automatic\",\"Operative\"],[\"Automatic\",\"Operative\"],[\"Automatic\",\"Operative\"],[\"Automatic\",\"Operative\"],[\"Automatic\",\"Operative\"],[\"Automatic\",\"Operative\"],[\"Automatic\",\"Operative\"],[\"Automatic\",\"Operative\"],[\"Automatic\",\"Operative\"],[\"Automatic\",\"Operative\"],[\"Automatic\",\"Operative\"],[\"Automatic\",\"Operative\"],[\"Automatic\",\"Operative\"],[\"Automatic\",\"Operative\"],[\"Automatic\",\"Operative\"],[\"Automatic\",\"Operative\"],[\"Automatic\",\"Operative\"],[\"Automatic\",\"Operative\"],[\"Automatic\",\"Operative\"],[\"Automatic\",\"Operative\"],[\"Automatic\",\"Operative\"],[\"Automatic\",\"Operative\"],[\"Automatic\",\"Operative\"],[\"Automatic\",\"Operative\"],[\"Automatic\",\"Operative\"],[\"Automatic\",\"Operative\"],[\"Automatic\",\"Operative\"],[\"Automatic\",\"Operative\"],[\"Automatic\",\"Operative\"],[\"Automatic\",\"Operative\"],[\"Automatic\",\"Operative\"],[\"Traditional\",\"Operative\"],[\"Traditional\",\"Operative\"],[\"Traditional\",\"Operative\"],[\"Traditional\",\"Operative\"],[\"Traditional\",\"Operative\"],[\"Traditional\",\"Operative\"],[\"Traditional\",\"Operative\"],[\"Traditional\",\"Operative\"],[\"Traditional\",\"Operative\"],[\"Traditional\",\"Operative\"],[\"Traditional\",\"Operative\"],[\"Traditional\",\"Operative\"],[\"Traditional\",\"Operative\"],[\"Traditional\",\"Operative\"],[\"Traditional\",\"Operative\"],[\"Traditional\",\"Operative\"],[\"Traditional\",\"Operative\"],[\"Traditional\",\"Operative\"],[\"Traditional\",\"Operative\"],[\"Traditional\",\"Operative\"],[\"Traditional\",\"Operative\"],[\"Traditional\",\"Operative\"],[\"Traditional\",\"Operative\"],[\"Traditional\",\"Operative\"],[\"Traditional\",\"Operative\"],[\"Traditional\",\"Operative\"],[\"Traditional\",\"Operative\"],[\"Traditional\",\"Operative\"],[\"Traditional\",\"Operative\"],[\"Traditional\",\"Operative\"],[\"Traditional\",\"Operative\"],[\"Traditional\",\"Operative\"],[\"Traditional\",\"Operative\"],[\"Traditional\",\"Operative\"],[\"Traditional\",\"Operative\"],[\"Traditional\",\"Operative\"],[\"Traditional\",\"Operative\"],[\"Traditional\",\"Operative\"],[\"Traditional\",\"Operative\"],[\"Traditional\",\"Operative\"],[\"Traditional\",\"Operative\"],[\"Traditional\",\"Operative\"],[\"Traditional\",\"Operative\"],[\"Traditional\",\"Operative\"],[\"Traditional\",\"Operative\"],[\"Traditional\",\"Operative\"],[\"Traditional\",\"Operative\"],[\"Traditional\",\"Operative\"],[\"Traditional\",\"Operative\"],[\"Traditional\",\"Operative\"],[\"Traditional\",\"Operative\"],[\"Traditional\",\"Operative\"],[\"Traditional\",\"Operative\"],[\"Traditional\",\"Operative\"],[\"Traditional\",\"Operative\"],[\"Traditional\",\"Operative\"],[\"Traditional\",\"Operative\"],[\"Traditional\",\"Operative\"],[\"Traditional\",\"Operative\"],[\"Traditional\",\"Operative\"],[\"Traditional\",\"Operative\"],[\"Traditional\",\"Operative\"],[\"Traditional\",\"Operative\"],[\"Traditional\",\"Operative\"],[\"Traditional\",\"Operative\"],[\"Traditional\",\"Operative\"],[\"Traditional\",\"Operative\"],[\"Traditional\",\"Operative\"],[\"Traditional\",\"Operative\"],[\"Traditional\",\"Operative\"],[\"Traditional\",\"Operative\"],[\"Traditional\",\"Operative\"],[\"Traditional\",\"Operative\"],[\"Traditional\",\"Operative\"],[\"Traditional\",\"Operative\"],[\"Traditional\",\"Operative\"],[\"Traditional\",\"Operative\"],[\"Traditional\",\"Operative\"],[\"Traditional\",\"Operative\"],[\"Traditional\",\"Operative\"],[\"Traditional\",\"Operative\"],[\"Traditional\",\"Operative\"],[\"Traditional\",\"Operative\"],[\"Traditional\",\"Operative\"],[\"Traditional\",\"Operative\"],[\"Traditional\",\"Operative\"],[\"Traditional\",\"Operative\"],[\"Traditional\",\"Operative\"],[\"Traditional\",\"Operative\"],[\"Traditional\",\"Operative\"],[\"Traditional\",\"Operative\"],[\"Traditional\",\"Operative\"],[\"Traditional\",\"Operative\"],[\"Traditional\",\"Operative\"],[\"Traditional\",\"Operative\"],[\"Traditional\",\"Operative\"],[\"Traditional\",\"Operative\"],[\"Traditional\",\"Operative\"],[\"Traditional\",\"Operative\"],[\"Traditional\",\"Operative\"],[\"Traditional\",\"Operative\"],[\"Traditional\",\"Operative\"],[\"Traditional\",\"Operative\"],[\"Traditional\",\"Operative\"],[\"Traditional\",\"Operative\"],[\"Traditional\",\"Operative\"],[\"Traditional\",\"Operative\"],[\"Traditional\",\"Operative\"],[\"Traditional\",\"Operative\"],[\"Traditional\",\"Operative\"],[\"Traditional\",\"Operative\"],[\"Traditional\",\"Operative\"],[\"Traditional\",\"Operative\"],[\"Traditional\",\"Operative\"],[\"Traditional\",\"Operative\"],[\"Traditional\",\"Operative\"],[\"Traditional\",\"Operative\"],[\"Traditional\",\"Operative\"],[\"Traditional\",\"Operative\"],[\"Traditional\",\"Operative\"],[\"Traditional\",\"Operative\"],[\"Traditional\",\"Operative\"],[\"Traditional\",\"Operative\"],[\"Traditional\",\"Operative\"],[\"Traditional\",\"Operative\"],[\"Traditional\",\"Operative\"],[\"Traditional\",\"Operative\"],[\"Traditional\",\"Operative\"],[\"Traditional\",\"Operative\"],[\"Traditional\",\"Operative\"],[\"Traditional\",\"Operative\"],[\"Traditional\",\"Operative\"],[\"Traditional\",\"Operative\"],[\"Traditional\",\"Operative\"],[\"Traditional\",\"Operative\"],[\"Traditional\",\"Operative\"],[\"Traditional\",\"Operative\"],[\"Traditional\",\"Operative\"],[\"Traditional\",\"Operative\"],[\"Traditional\",\"Operative\"],[\"Traditional\",\"Operative\"],[\"Traditional\",\"Operative\"],[\"Traditional\",\"Operative\"],[\"Traditional\",\"Operative\"],[\"Traditional\",\"Operative\"],[\"Traditional\",\"Operative\"],[\"Traditional\",\"Operative\"],[\"Traditional\",\"Operative\"],[\"Traditional\",\"Operative\"],[\"Traditional\",\"Operative\"],[\"Traditional\",\"Operative\"],[\"Traditional\",\"Operative\"],[\"Traditional\",\"Operative\"],[\"Traditional\",\"Operative\"],[\"Traditional\",\"Operative\"],[\"Traditional\",\"Operative\"],[\"Traditional\",\"Operative\"],[\"Traditional\",\"Operative\"],[\"Traditional\",\"Operative\"],[\"Traditional\",\"Operative\"],[\"Traditional\",\"Operative\"]],\"hovertemplate\":\"<b>%{hovertext}</b><br><br>CD_SITUATION=%{customdata[1]}<br>LATITUDE=%{lat}<br>LONGITUDE=%{lon}<br>TP_STATION=%{customdata[0]}<extra></extra>\",\"hovertext\":[\"ACARAU\",\"AFONSO CLAUDIO\",\"AGUA BOA\",\"AGUA CLARA\",\"AGUAS EMENDADAS\",\"AGUAS VERMELHAS\",\"AIMORES\",\"ALEGRE\",\"ALEGRETE\",\"ALFREDO CHAVES\",\"ALMENARA\",\"ALTAMIRA\",\"ALTO ARAGUAIA\",\"ALTO PARNAIBA\",\"ALTO TAQUARI\",\"ALVORADA DO GURGUEIA\",\"ANGICAL DO PIAUI\",\"ANGRA DOS REIS\",\"APODI\",\"APUI\",\"ARACUAI\",\"ARAGARCAS\",\"ARAGUACU\",\"ARAGUAINA\",\"ARAPIRACA\",\"ARARANGUA\",\"ARAXA\",\"ARCO VERDE\",\"AREIA\",\"ARIRANHA\",\"ARRAIAL DO CABO\",\"AUTAZES\",\"AVARE\",\"BACABAL\",\"BAGE\",\"BAIXA GRANDE DO RIBEIRO\",\"BALSAS\",\"BAMBUI\",\"BARBACENA\",\"BARCELOS\",\"BARRA\",\"BARRA BONITA\",\"BARRA DO CORDA\",\"BARRA DO TURVO\",\"BARREIRAS\",\"BARRETOS\",\"BARUERI\",\"BATAGUASSU\",\"BAURU\",\"BELEM\",\"BELO HORIZONTE (PAMPULHA)\",\"BELO HORIZONTE - CERCADINHO\",\"BENTO GONCALVES\",\"BERTIOGA\",\"BOA VISTA\",\"BOM JARDIM DA SERRA - MORRO DA IGREJA\",\"BOM JESUS DA LAPA\",\"BOM JESUS DO PIAUI\",\"BRAGANCA\",\"BRAGANCA PAULISTA\",\"BRASILIA\",\"BRAZLANDIA\",\"BREJO GRANDE\",\"BRUMADO\",\"BURITICUPU\",\"BURITIRAMA\",\"BURITIS\",\"CABACEIRAS\",\"CACADOR\",\"CACAPAVA DO SUL\",\"CACHOEIRA PAULISTA\",\"CAIAPONIA\",\"CAICO\",\"CALDAS\",\"CAMAQUA\",\"CAMARATUBA\",\"CAMBARA DO SUL\",\"CAMBUCI\",\"CAMPINA DA LAGOA\",\"CAMPINA GRANDE\",\"CAMPINA VERDE\",\"CAMPO BOM\",\"CAMPO GRANDE\",\"CAMPO MAIOR\",\"CAMPO NOVO DOS PARECIS\",\"CAMPO VERDE\",\"CAMPOS DO JORDAO\",\"CAMPOS DOS GOYTACAZES\",\"CAMPOS DOS GOYTACAZES - SAO TOME\",\"CAMPOS NOVOS\",\"CANELA\",\"CANGUCU\",\"CANTO DO BURITI\",\"CAPAO DO LEAO (PELOTAS)\",\"CAPELINHA\",\"CARACOL\",\"CARATINGA\",\"CARMO\",\"CAROLINA\",\"CARUARU\",\"CASA BRANCA\",\"CASSILANDIA\",\"CASTANHAL\",\"CASTELO DO PIAUI\",\"CATALAO\",\"CAXIAS\",\"CHAPADA GAUCHA\",\"CHAPADINHA\",\"CHAPECO\",\"CLEVELANDIA\",\"COARI\",\"COLINAS\",\"COLINAS DO TOCANTINS\",\"COLOMBO\",\"COMODORO\",\"CONCEICAO DAS ALAGOAS\",\"CONCEICAO DO ARAGUAIA\",\"CORONEL PACHECO\",\"CORRENTE\",\"CORRENTINA\",\"CORURIPE\",\"COSTA RICA\",\"COXIM\",\"CRATEUS\",\"CRISTALINA\",\"CRISTALINA (FAZENDA SANTA MONICA)\",\"CRUZ ALTA\",\"CRUZ DAS ALMAS\",\"CUIABA\",\"CURACA\",\"CURITIBA\",\"CURVELO\",\"DIAMANTINA\",\"DIANOPOLIS\",\"DIONISIO CERQUEIRA\",\"DIVINOPOLIS\",\"DOM ELISEU\",\"DOM PEDRITO\",\"DORES DO INDAIA\",\"DUQUE DE CAXIAS - XEREM\",\"ECOPORANGA\",\"EDEIA\",\"ENCRUZILHADA DO SUL\",\"ERECHIM\",\"ESPINOSA\",\"ESTREITO\",\"EUCLIDES DA CUNHA\",\"FEIRA DE SANTANA\",\"FLORESTAL\",\"FLORIANO\",\"FLORIANOPOLIS\",\"FORMIGA\",\"FORMOSA DO RIO PRETO\",\"FORMOSO DO ARAGUAIA\",\"FORTALEZA\",\"FOZ DO IGUACU\",\"FRANCA\",\"FREDERICO WESTPHALEN\",\"GAMA (PONTE ALTA)\",\"GARANHUNS\",\"GAUCHA DO NORTE\",\"GENERAL CARNEIRO\",\"GILBUES\",\"GOIANESIA\",\"GOIANIA\",\"GOIAS\",\"GOIOERE\",\"GOVERNADOR VALADARES\",\"GRAJAU\",\"GUANAMBI\",\"GUANHAES\",\"GUARDA-MOR\",\"GUIRATINGA\",\"GURUPI\",\"HUMAITA\",\"IBIMIRIM\",\"IBIRITE (ROLA MOCA)\",\"IBIRUBA\",\"IBITINGA\",\"IBOTIRAMA\",\"IGUAPE\",\"IGUATU\",\"IMPERATRIZ\",\"INACIO MARTINS\",\"IPANGUACU\",\"IPORA\",\"IRECE\",\"ITABAIANINHA\",\"ITABERABA\",\"ITACOATIARA\",\"ITAITUBA\",\"ITAJAI\",\"ITAOBIM\",\"ITAPACI\",\"ITAPEVA\",\"ITAPIPOCA\",\"ITAPIRA\",\"ITAPOA\",\"ITAQUIRAI\",\"ITATIAIA - AGULHAS NEGRAS\",\"ITIQUIRA\",\"ITIRUCU\",\"ITUIUTABA\",\"ITUMBIARA\",\"ITUPORANGA\",\"ITUVERAVA\",\"IVAI\",\"IVINHEMA\",\"JAGUARAO\",\"JAGUARIBE\",\"JAGUARUANA\",\"JALES\",\"JANUARIA\",\"JAPIRA\",\"JARDIM\",\"JATAI\",\"JOACABA\",\"JOAO PESSOA\",\"JOAO PINHEIRO\",\"JOAQUIM TAVORA\",\"JUIZ DE FORA\",\"LABREA\",\"LAGES\",\"LAGOA DA CONFUSAO\",\"LAGOA VERMELHA\",\"LENCOIS\",\"LINHARES\",\"LINS\",\"LUIZ EDUARDO MAGALHAES\",\"LUZIANIA\",\"Laguna  - Farol de Santa Marta\",\"MACAE\",\"MACAPA\",\"MACEIO\",\"MACHADO\",\"MAJOR VIEIRA\",\"MAL. CANDIDO RONDON\",\"MANACAPURU\",\"MANAUS\",\"MANHUACU\",\"MANICORE\",\"MANTENA\",\"MARAU\",\"MARIA DA FE\",\"MARIANOPOLIS DO TO\",\"MARILANDIA\",\"MARILIA\",\"MARINGA\",\"MATEIROS\",\"MAUES\",\"MEDICILANDIA\",\"MINEIROS\",\"MOCAMBINHO\",\"MONTALVANIA\",\"MONTE ALEGRE DE GOIAS\",\"MONTE VERDE\",\"MONTEIRO\",\"MONTES CLAROS\",\"MORADA NOVA\",\"MORRETES\",\"MORRINHOS\",\"MOSSORO\",\"MURIAE\",\"NATAL\",\"NITEROI\",\"NOVA FATIMA\",\"NOVA FRIBURGO - SALINAS\",\"NOVA MARINGA\",\"NOVA PORTEIRINHA (JANAUBA)\",\"NOVA VENECIA\",\"NOVO ARIPUANA\",\"NOVO REPARTIMENTO\",\"OBIDOS\",\"OEIRAS\",\"OLIVEIRA\",\"OURO BRANCO\",\"PACAJA\",\"PALMARES\",\"PALMAS\",\"PALMEIRA DOS INDIOS\",\"PARACATU\",\"PARANA\",\"PARANAIBA\",\"PARANAPOEMA\",\"PARANATINGA\",\"PARANOA (COOPA-DF)\",\"PARATY\",\"PARAUNA\",\"PARNAIBA\",\"PARQUE ESTADUAL CHANDLESS\",\"PASSA QUATRO\",\"PASSO FUNDO\",\"PASSOS\",\"PATOS\",\"PATOS DE MINAS\",\"PATROCINIO\",\"PAULISTANA\",\"PEIXE\",\"PETROLINA\",\"PIATA\",\"PICO DO COUTO\",\"PICOS\",\"PIRACICABA\",\"PIRANHAS\",\"PIRAPORA\",\"PIRES DO RIO\",\"PIRIPIRI\",\"PIUM\",\"PLACAS\",\"POMPEU\",\"PONTA PORA\",\"PONTES E LACERDA\",\"PORANGATU\",\"PORTO ALEGRE\",\"PORTO DE MOZ\",\"PORTO ESTRELA\",\"PORTO GRANDE\",\"PORTO SEGURO\",\"PORTO VELHO\",\"POSSE\",\"PRADOPOLIS\",\"PREGUICAS\",\"PRESIDENTE FIGUEIREDO\",\"PRESIDENTE KENNEDY\",\"PRESIDENTE PRUDENTE\",\"PRIMAVERA DO LESTE\",\"QUARAI\",\"QUEIMADAS\",\"QUERENCIA\",\"QUIXADA\",\"QUIXERAMOBIM\",\"RANCHARIA\",\"RANCHO QUEIMADO\",\"REDENCAO\",\"REGISTRO\",\"REMANSO\",\"RESENDE\",\"RIBEIRA DO AMPARO\",\"RIO BRILHANTE\",\"RIO CLARO\",\"RIO DE JANEIRO - FORTE DE COPACABANA\",\"RIO DE JANEIRO - JACAREPAGUA\",\"RIO DE JANEIRO - VILA MILITAR\",\"RIO DE JANEIRO-MARAMBAIA\",\"RIO GRANDE\",\"RIO NEGRINHO\",\"RIO PARDO\",\"RIO PARDO DE MINAS\",\"RIO SONO\",\"RIO URUBU\",\"RIO VERDE\",\"RONDON DO PARA\",\"RONDONOPOLIS\",\"ROSARIO OESTE\",\"S. G. DA CACHOEIRA\",\"S.J. DO RIO CLARO\",\"SACRAMENTO\",\"SALGUEIRO\",\"SALINAS\",\"SALINOPOLIS\",\"SALTO DO CEU\",\"SALVADOR\",\"SALVADOR (RADIO FAROL)\",\"SANTA FE DO ARAGUAIA\",\"SANTA MARIA\",\"SANTA MARIA DAS BARREIRAS\",\"SANTA MARIA MADALENA\",\"SANTA RITA DE CASSIA\",\"SANTA ROSA\",\"SANTA ROSA DO TOCANTINS\",\"SANTA TERESA\",\"SANTANA DO LIVRAMENTO\",\"SANTAREM\",\"SANTIAGO\",\"SANTO ANTONIO DO LESTE\",\"SANTO AUGUSTO\",\"SAO BORJA\",\"SAO CARLOS\",\"SAO FELIX  DO ARAGUAIA\",\"SAO FELIX DO XINGU\",\"SAO GABRIEL\",\"SAO GONCALO\",\"SAO JOAO DEL REI\",\"SAO JOAO DO PIAUI\",\"SAO JOAQUIM\",\"SAO JOSE DOS AUSENTES\",\"SAO LUIS\",\"SAO LUIS DO QUITUNDE\",\"SAO LUIZ DO PARAITINGA\",\"SAO LUIZ GONZAGA\",\"SAO MATEUS\",\"SAO MIGUEL ARCANJO\",\"SAO MIGUEL DO ARAGUAIA\",\"SAO MIGUEL DO OESTE\",\"SAO PAULO - INTERLAGOS\",\"SAO PAULO - MIRANTE\",\"SAO RAIMUNDO NONATO\",\"SAO ROMAO\",\"SAO SEBASTIAO DO PARAISO\",\"SAO SIMAO\",\"SAO SIMAO\",\"SAO VICENTE DO SUL\",\"SAPEZAL\",\"SAQUAREMA - SAMPAIO CORREIA\",\"SERAFINA CORREA\",\"SEROPEDICA-ECOLOGIA AGRICOLA\",\"SERRA DOS AIMORES\",\"SERRA DOS CARAJAS\",\"SERRA NOVA DOURADA\",\"SETE LAGOAS\",\"SIDROLANDIA\",\"SILVA JARDIM\",\"SILVANIA\",\"SOBRAL\",\"SOLEDADE\",\"SONORA\",\"SOROCABA\",\"SURUBIM\",\"Santa Vitoria do Palmar - Barra do Chui\",\"TANGARA DA SERRA\",\"TAUA\",\"TEOFILO OTONI\",\"TERESINA\",\"TERESOPOLIS-PARQUE NACIONAL\",\"TEUTONIA\",\"TIANGUA\",\"TIMOTEO\",\"TORRES\",\"TRAMANDAI\",\"TRES LAGOAS\",\"TRES MARIAS\",\"TRES RIOS\",\"TUCUMA\",\"TUCURUI\",\"TUPA\",\"TUPANCIRETA\",\"TURIACU\",\"UBERABA\",\"UBERLANDIA\",\"UNAI\",\"URUCARA\",\"URUCUI\",\"URUGUAIANA\",\"URUSSANGA\",\"VACARIA\",\"VALENCA\",\"VALENCA DO PIAUI\",\"VARGINHA\",\"VENDA NOVA DO IMIGRANTE\",\"VENTANIA\",\"VICOSA\",\"VILA BELA DA SANTISSIMA TRINDADE\",\"VILA VELHA\",\"VILHENA\",\"VITORIA\",\"VITORIA DA CONQUISTA\",\"VOTUPORANGA\",\"XANXERE\",\"XINGUARA\",\"ZE DOCA\",\"AGUA BRANCA\",\"ALAGOINHAS\",\"ALTAMIRA\",\"ALTO DA BOA VISTA\",\"APODI\",\"ARACUAI\",\"ARAGARCAS\",\"ARAGUAINA\",\"ARAXA\",\"ARCOVERDE\",\"AREIA\",\"ARINOS\",\"AVELAR (P.DO ALFERES)\",\"BACABAL\",\"BAGE\",\"BALSAS\",\"BARCELOS\",\"BARRA\",\"BARRA DO CORDA\",\"BARREIRAS\",\"BELEM\",\"BELO HORIZONTE\",\"BELTERRA\",\"BENJAMIN CONSTANT\",\"BOA ESPERANCA\",\"BOA VISTA\",\"BOM JESUS\",\"BOM JESUS DA LAPA\",\"BOM JESUS DO PIAUI\",\"BRASILIA\",\"BREVES\",\"C. DO MATO DENTRO\",\"CABROBO\",\"CAMETA\",\"CAMPINA GRANDE\",\"CAMPOS\",\"CANARANA\",\"CAPARAO\",\"CARACARAI\",\"CARATINGA\",\"CARAVELAS\",\"CARBONITA\",\"CAROLINA\",\"CATALAO\",\"CAXIAS\",\"CAXIAS DO SUL\",\"CEARA MIRIM\",\"CHAPADINHA\",\"CIPO\",\"CODAJAS\",\"COLINAS\",\"CONCEICAO DO ARAGUAIA\",\"CORDEIRO\",\"CORRENTINA\",\"CRUZ ALTA\",\"CRUZ DAS ALMAS\",\"CUIABA\",\"DIAMANTINO\",\"EIRUNEPE\",\"FLORIANO\",\"FONTE BOA\",\"FORMOSA\",\"FORMOSO\",\"FORTALEZA\",\"FRANCA\",\"GARANHUNS\",\"GOIANIA\",\"GUARATINGA\",\"IGUABA GRANDE\",\"IMPERATRIZ\",\"IPAMERI\",\"IRATI\",\"ITABAIANINHA\",\"ITACOATIARA\",\"ITAITUBA\",\"ITAMARANDIBA\",\"ITAPERUNA\",\"JACOBINA\",\"JANUARIA\",\"JATAI\",\"JOAO PESSOA\",\"JUIZ DE FORA\",\"JURAMENTO\",\"LABREA\",\"LAGOA VERMELHA\",\"LAVRAS\",\"LENCOIS\",\"LONDRINA\",\"LUZILANDIA(LAG.DO PIAUI)\",\"MACAPA\",\"MANAUS\",\"MARABA\",\"MARINGA\",\"MONTE ALEGRE\",\"MONTEIRO\",\"MONTES CLAROS\",\"MORADA NOVA\",\"MORRO DO CHAPEU\",\"MUNIZ FREIRE\",\"NATAL\",\"NOVA XAV.(XAVANTINA)\",\"OURICURI\",\"PADRE RICARDO REMETTER\",\"PALMAS\",\"PALMEIRA DOS INDIOS\",\"PAO DE ACUCAR\",\"PARANAIBA\",\"PASSA QUATRO\",\"PASSO FUNDO\",\"PATOS\",\"PAULISTANA\",\"PEDRA AZUL\",\"PEDRO AFONSO\",\"PELOTAS\",\"PETROLINA\",\"PICOS\",\"PIRENOPOLIS\",\"PIRIPIRI\",\"PORTO ALEGRE\",\"PORTO DE MOZ\",\"PORTO DE PEDRAS\",\"PORTO NACIONAL\",\"POSSE\",\"PROPRIA\",\"QUIXERAMOBIM\",\"RESENDE\",\"RIO BRANCO\",\"RIO VERDE\",\"SALINAS\",\"SALVADOR (ONDINA)\",\"SANTA MARIA\",\"SANTA MARIA MADALENA\",\"SANTA VITORIA DO PALMAR\",\"SANTO ANTONIO DE PADUA\",\"SAO CARLOS\",\"SAO GABRIEL DA CACHOEIRA(UAUPES)\",\"SAO GONCALO\",\"SAO JOAO DO PIAUI\",\"SAO LOURENCO\",\"SAO LUIS\",\"SAO LUIZ GONZAGA\",\"SAO PAULO(MIR.de SANTANA)\",\"SAO SIMAO\",\"SAO VICENTE\",\"SERIDO (CAICO)\",\"SERRINHA\",\"SOROCABA\",\"STa. R. DE CASSIA (IBIPETUBA)\",\"SURUBIM\",\"TAGUATINGA\",\"TARAUACA\",\"TEFE\",\"TERESINA\",\"TERESOPOLIS\",\"TRACUATEUA\",\"TUCURUI\",\"TURIACU\",\"UNAI\",\"VITORIA\",\"VITORIA DA CONQUISTA\",\"ZE DOCA\"],\"lat\":[-3.1211111,-20.10416666,-14.01638888,-20.44444444,-15.596491,-15.751536,-19.53277777,-20.75055555,-29.70916666,-20.63638888,-16.16666666,-3.27027777,-17.33944444,-9.10833333,-17.8411111,-8.44166666,-6.08944444,-22.97555554,-5.62666666,-7.20555555,-16.84888888,-15.90277777,-12.59222221,-7.10388888,-9.80444444,-28.931353,-19.60583333,-8.4336111,-6.975451,-21.13305554,-22.97527777,-3.58333333,-23.10166666,-4.24305555,-31.34777777,-8.333531,-7.45555555,-20.0311111,-21.22833332,-0.98722221,-11.08472221,-22.4711111,-5.50666666,-24.96277777,-12.12472221,-20.55916666,-23.52388888,-21.75,-22.358052,-1.411228,-19.88388888,-19.97999999,-29.164581,-23.84472221,2.81694443,-28.12694443,-13.25111111,-9.08333333,-1.04722221,-22.95194444,-15.78944444,-15.59972221,-10.47388888,-14.18194443,-4.32055554,-10.72305554,-15.52416666,-7.48333333,-26.819156,-30.54527777,-22.68888888,-16.96694443,-6.46749999,-21.918066,-30.807953,-6.56194444,-29.04916666,-21.58749999,-24.57083332,-7.225574,-19.53921,-29.674293,-20.447195,-4.86416666,-13.78583333,-15.53138888,-22.75027777,-21.71472222,-22.04166666,-27.3886111,-29.36888888,-31.40333333,-8.11805554,-31.8025,-17.70555555,-9.28583333,-19.735757,-21.938745,-7.33722221,-8.36527777,-21.78055554,-19.12249999,-1.30083333,-5.34916666,-18.154779,-4.82138888,-15.30027777,-3.74277777,-27.0853111,-26.41722221,-4.09749999,-6.03305554,-8.092708,-25.322464,-13.70805555,-19.98586,-8.30361111,-21.54666666,-10.42916666,-13.33249999,-10.1286111,-18.49277777,-18.51222222,-5.18666666,-16.78499999,-16.39944444,-28.60344,-12.67555554,-15.559295,-9.00138888,-25.4486111,-18.747711,-18.231052,-11.59444444,-26.286562,-20.17333332,-4.28055554,-31.0025,-19.481935,-22.58972221,-18.29138888,-17.33694444,-30.54305555,-27.65771,-14.91222222,-6.65333333,-10.537233,-12.1961111,-19.88527777,-6.76138888,-27.60253,-20.455,-11.05222222,-11.88749999,-3.81583333,-25.60194444,-20.58444444,-27.39555555,-15.93527777,-8.91083333,-13.18472221,-26.3986111,-9.87527777,-15.22027777,-16.642841,-15.93972221,-24.18388888,-18.830354,-5.81611111,-14.20805555,-18.78694444,-17.56138888,-16.34166666,-11.74583333,-7.5525,-8.50944444,-20.031457,-28.65333333,-21.85555555,-12.19305555,-24.67166666,-6.39638888,-5.55583333,-25.567879,-5.53499999,-16.42305554,-11.328998,-11.2725,-12.52416666,-3.13333333,-4.27694443,-26.95083333,-16.575667,-14.97972221,-23.98194443,-3.48416666,-22.415,-26.08138888,-23.449501,-22.37388888,-17.17499999,-13.527828,-18.95277777,-18.40972222,-27.41833332,-20.35972222,-25.01083333,-22.30055555,-32.53472221,-5.90555555,-4.78694444,-20.165,-15.448089,-23.77333332,-21.4786111,-17.923622,-27.16916666,-7.16527777,-17.78444444,-23.505266,-21.769965,-7.26055555,-27.80222222,-10.828286,-28.222381,-12.557854,-19.35694444,-21.66611111,-12.1525,-16.26055555,-28.60444444,-22.3761111,0.03499999,-9.55111111,-21.680722,-26.3936111,-24.53333333,-3.29472221,-3.10333333,-20.26333333,-5.7886111,-18.78062,-13.90694444,-22.314567,-9.576389,-19.40722222,-22.235222,-23.40527777,-10.43444444,-3.39888888,-3.51083333,-17.45472222,-15.085958,-14.40833333,-13.253521,-22.86166666,-7.89444444,-16.68638888,-5.13666666,-25.50888888,-17.745066,-4.90416666,-21.105,-5.83722221,-22.86749999,-23.41527777,-22.33472221,-13.0386111,-15.80277777,-18.69527777,-8.0911111,-4.24388888,-1.88083332,-6.97416666,-20.715,-20.55666666,-3.8436111,-8.66666666,-10.19083333,-9.42027777,-17.24444444,-12.615,-19.69555555,-22.65833333,-14.42138888,-16.012222,-23.2236111,-16.962536,-3.08666666,-9.35833333,-22.395799,-28.226805,-20.745237,-7.07972221,-18.52055554,-18.996684,-8.132288,-12.015377,-9.388323,-13.155681,-22.46472222,-7.0711111,-22.70305555,-9.62222221,-17.258064,-17.30416666,-4.276047,-10.47694443,-3.86416666,-19.23249999,-22.5525,-15.23444444,-13.30944444,-30.05361111,-1.82194443,-15.32472221,0.69416666,-16.38888888,-8.7936111,-14.08916666,-21.33833333,-2.59222221,-2.05666666,-21.10083333,-22.11999999,-15.57999999,-30.368578,-10.98472221,-12.60305555,-4.97888888,-5.17444443,-22.37277777,-27.6786111,-8.04333333,-24.53305554,-9.62555554,-22.45138888,-11.05861111,-21.77499999,-22.653579,-22.98833333,-22.93999999,-22.86138888,-23.05027777,-32.07888888,-26.2486111,-29.87222221,-15.72305554,-9.793363,-2.6336111,-17.78527777,-4.82749999,-16.4625,-14.82888888,-0.125207,-13.45388888,-19.87527777,-8.05805555,-16.16027777,-0.61888888,-15.12472221,-13.005515,-12.80833333,-7.124191,-29.72499999,-8.72972221,-21.95055555,-11.00277777,-27.89055555,-11.42888888,-19.988388,-30.75055555,-2.5025,-29.191599,-14.92777777,-27.854345,-28.65,-21.980353,-11.61888888,-6.63972221,-30.341438,-6.835777,-21.106502,-8.36444444,-28.27564,-28.7486111,-2.52666666,-9.28749999,-23.22833332,-28.41722221,-18.6761111,-23.85194444,-12.82055554,-26.77638888,-23.724501,-23.49638888,-9.03333333,-16.36277777,-20.91,-18.969142,-21.46111111,-29.70222222,-13.30388888,-22.8711111,-28.70472222,-22.75777777,-17.79888888,-6.07749999,-11.98777777,-19.45527777,-20.98166666,-22.64583333,-16.67972221,-3.74805555,-28.859211,-17.63527777,-23.4261111,-7.83972221,-33.74222221,-14.65,-6.01749999,-17.89284,-5.03472221,-22.4486111,-29.44916666,-3.73222221,-19.57388888,-29.35027777,-30.01027777,-20.78333333,-18.200855,-22.09833333,-6.74333333,-3.82277777,-21.927251,-29.0893814,-1.66111111,-19.71,-18.91694443,-16.55416666,-2.53472221,-7.44138888,-29.83987,-28.53249999,-28.513602,-22.35805555,-6.39916666,-21.56638888,-20.38555555,-24.28027777,-20.762607,-15.06277777,-20.46694443,-12.73499999,-20.27083332,-14.88638888,-20.40333333,-26.938666,-7.110518,-3.26916666,-9.26472222,-12.1486111,-3.21416666,-22.96583333,-5.62666666,-16.84888888,-15.9025,-7.103778,-19.60555555,-8.433537,-6.97555554,-15.91527777,-22.34749999,-4.21805554,-31.30555555,-7.52944443,-0.97416666,-11.084858,-5.50638888,-12.155843,-1.43583333,-19.93444444,-2.64222221,-4.3786111,-18.53722221,2.82944443,-28.66944443,-13.251097,-9.06611111,-15.78972221,-1.680277,-19.020355,-8.50388888,-2.23972221,-7.22555554,-21.74249999,-13.47083332,-20.526119,1.83249999,-19.73583333,-17.73944444,-17.533008,-7.33722221,-18.17027777,-4.86722221,-29.1961111,-5.65333333,-3.74277777,-11.10138888,-3.8411111,-6.03305554,-8.25916666,-22.02222221,-13.33249999,-28.6261111,-12.67527777,-15.61999999,-14.40611111,-6.66166666,-6.76166666,-2.51583333,-15.54916666,-14.949727,-3.81527777,-20.58444444,-8.91083333,-16.67305554,-16.58081,-22.84694444,-5.53638888,-17.72444443,-25.502846,-11.272334,-3.13694444,-4.276986,-17.85972222,-21.20444444,-11.17277777,-15.448054,-17.9236111,-7.09527777,-21.76999999,-16.775057,-7.26138888,-28.22249999,-21.2261111,-12.557854,-23.32555554,-3.46972221,-0.04499999,-3.10333333,-5.36611111,-23.4,-2.0,-7.89444444,-16.68638888,-5.13666666,-11.547494,-20.46583333,-5.83722221,-14.697917,-7.87944443,-15.776,-10.190897,-9.42027777,-9.74916666,-19.66361111,-22.382805,-28.2286111,-7.05361111,-8.13222221,-16.00944444,-8.9686111,-31.78333333,-9.3886111,-7.08083332,-15.85472222,-4.2761111,-30.05361111,-1.751055,-9.162012,-10.71083333,-14.08916666,-10.21376,-5.17305554,-22.45111111,-9.95916666,-17.78527777,-16.154862,-13.00583333,-29.72472221,-21.96805554,-33.53166666,-21.53694444,-21.98027777,-0.12527777,-6.83583333,-8.365,-22.126273,-2.52666666,-28.41722221,-23.49638888,-21.461019,-15.82305554,-6.46749999,-11.66805554,-23.47999999,-11.00277777,-7.839628,-12.40222222,-8.16027777,-3.38027777,-5.03472221,-22.41722221,-1.06361111,-3.76,-1.66138888,-16.36638888,-20.31583333,-14.88638888,-3.269212],\"legendgroup\":\"Operative\",\"lon\":[-40.08722221,-41.10694444,-52.21166666,-52.87583332,-47.625801,-41.457787,-41.09083333,-41.48888888,-55.52555554,-40.74194444,-40.68777777,-52.39472221,-53.22444443,-45.93194443,-53.28944444,-43.86555555,-42.72749999,-44.30333333,-37.815,-59.8886111,-42.03527777,-52.24527777,-49.5286111,-48.20111111,-36.61916666,-49.49792,-46.94972221,-37.05555555,-35.718128,-48.84055555,-42.02138888,-59.12944443,-48.9411111,-44.79499999,-54.01333333,-45.094625,-46.02749999,-46.00888888,-43.76777777,-62.92416666,-43.13888888,-48.5575,-45.23694444,-48.41638888,-45.02694443,-48.54499999,-46.86944443,-52.47138888,-49.028877,-48.439512,-43.96944443,-43.95861111,-51.534202,-46.14333333,-60.69083333,-49.47972221,-43.40527777,-44.32638888,-46.78583333,-46.53055554,-47.92583332,-48.1311111,-36.48194443,-41.67222221,-46.44944444,-43.65111111,-46.43555555,-36.28638888,-50.98552,-53.46694443,-45.00555555,-51.81749999,-37.08499999,-46.382996,-51.83424,-35.13527777,-50.14972221,-41.95833333,-52.80027777,-35.904831,-49.518133,-51.064042,-54.722615,-42.14555555,-57.8386111,-55.13555555,-45.60388888,-41.34388888,-41.05166666,-51.21583333,-50.82722221,-52.70083333,-42.97583332,-52.40722222,-42.38916666,-43.32444443,-42.137146,-42.600936,-47.45972222,-36.02833332,-47.07527777,-51.72083332,-47.94805555,-41.51222222,-47.927614,-43.3436111,-45.61749999,-43.35222222,-52.6357111,-52.3486111,-63.14527777,-44.23333333,-48.478605,-49.157733,-59.7625,-48.151574,-49.28277777,-43.26111111,-45.17305554,-44.61749999,-36.28638888,-53.17138888,-54.7361111,-40.67222221,-47.61305555,-47.62583332,-53.673597,-39.08944444,-56.062951,-39.9125,-49.23055554,-44.453785,-43.648269,-46.84722221,-53.633114,-44.87499999,-47.56388888,-54.61805554,-45.593932,-43.28222221,-40.73638888,-49.91472222,-52.52472221,-52.305805,-42.80861111,-47.41833332,-38.996605,-38.96749999,-44.41694443,-43.00333333,-48.620096,-45.45388888,-45.20083333,-49.60833333,-38.53777777,-54.48305554,-47.38249999,-53.42944443,-48.13749999,-36.49333333,-53.2575,-51.35361111,-45.34583333,-48.98999999,-49.220222,-50.14138888,-53.04888888,-41.977007,-46.16222222,-42.74972221,-42.94305555,-47.19916666,-53.76611111,-49.04972221,-63.07138888,-37.71166666,-44.011249,-53.11194444,-48.79972221,-43.21333333,-47.54583333,-39.26888888,-47.45972222,-51.077946,-36.87222221,-51.14888888,-41.864504,-37.795,-40.29972221,-58.48277777,-55.99305555,-48.76194444,-41.485588,-49.53999999,-48.88583333,-39.5886111,-46.80527777,-48.64166666,-54.181858,-44.70305555,-54.50166666,-40.119752,-49.52499999,-49.19194444,-49.64694444,-47.77527777,-50.85388888,-53.82277777,-53.37583332,-38.62777777,-37.76666666,-50.59499999,-44.366313,-50.18055554,-56.13777777,-51.717467,-51.55888888,-34.81555555,-46.11944443,-49.946387,-43.364329,-64.7886111,-50.33555555,-49.847882,-51.512845,-41.388808,-40.0686111,-49.73472221,-45.82972221,-47.96694443,-48.81333333,-41.81194444,-51.08888888,-35.77027777,-45.944389,-50.36333333,-54.01916666,-60.62833332,-60.01638888,-42.18277777,-61.28833333,-40.986505,-38.97222221,-45.373049,-49.723333,-40.53972221,-49.965111,-51.93277777,-45.92194443,-57.67388888,-52.96333333,-52.60111111,-44.016036,-44.40416666,-46.890326,-46.04333333,-37.12472221,-43.84388888,-38.35666666,-48.80861111,-49.101698,-37.36694443,-42.37583332,-35.20805555,-43.10194444,-50.57777777,-42.67694443,-57.09222221,-43.29694444,-40.39055555,-60.38055554,-49.93944444,-55.51972221,-42.14694444,-44.86444444,-43.75611111,-50.63805555,-35.56805554,-48.30194444,-36.62027777,-46.88166666,-47.87194443,-51.18166666,-52.13444444,-54.0361111,-47.557417,-44.72694443,-50.42545,-41.78305554,-69.92638888,-44.961909,-52.403582,-46.633916,-37.27277777,-46.44055555,-46.985935,-41.142945,-48.544517,-40.523262,-41.774125,-43.29138888,-41.40416666,-47.62333332,-37.76722221,-44.835556,-48.28416666,-41.794568,-49.62944443,-54.21638888,-44.96416666,-55.71638888,-59.3461111,-49.11749999,-51.17472221,-52.11166666,-57.22583332,-51.40388888,-39.18249999,-63.84583333,-46.36638888,-48.11388888,-42.7075,-60.02583332,-41.03944444,-51.40861111,-54.3811111,-56.437115,-39.61694443,-52.1625,-39.05722222,-39.28944444,-50.97472221,-49.04194444,-50.00694444,-47.86416666,-42.07722221,-44.44499999,-38.44416666,-54.52805554,-44.040916,-43.19055555,-43.40277777,-43.41138888,-43.59555555,-52.16777777,-49.57416666,-52.38194443,-42.43583333,-47.132732,-59.60055555,-50.965,-48.1736111,-54.58027777,-56.44194444,-67.061246,-56.67722221,-47.43416666,-39.0961111,-42.31027777,-47.35666666,-58.12722221,-38.50576,-38.49583333,-48.781267,-53.72055554,-49.85638888,-42.01027777,-44.52499999,-54.47999999,-48.18499999,-40.579572,-55.40138888,-54.72027777,-54.885653,-53.8836111,-53.791179,-56.01638888,-47.883927,-50.72777777,-51.95694444,-54.310909,-38.311583,-44.250928,-42.2525,-49.934617,-50.05777777,-44.21361111,-35.56583333,-45.41694443,-54.9625,-39.86416666,-48.16472222,-50.33583333,-53.50416666,-46.677501,-46.61999999,-42.70111111,-45.12388888,-47.11416666,-50.633449,-47.57944443,-54.69444444,-58.76333333,-42.60888888,-51.87083332,-43.68472221,-40.25,-50.14222221,-51.4261111,-44.17333332,-54.97194443,-42.41555555,-48.61805554,-40.34583333,-52.542387,-54.76055555,-47.58555555,-35.80111111,-53.37222221,-57.43166666,-40.28138888,-41.515423,-42.80138888,-42.98694444,-51.82333332,-41.01194444,-42.62249999,-49.73333333,-50.13583333,-51.71222222,-45.459836,-43.20833333,-51.14194444,-49.67499999,-50.490251,-53.82665025,-45.37249999,-47.96194444,-48.25555555,-46.88194443,-57.75805555,-44.34499999,-57.081899,-49.31527777,-50.882738,-43.69555555,-41.73999999,-45.40416666,-41.18999999,-50.21027777,-42.864013,-59.87305554,-40.40388888,-60.15777777,-40.30583333,-40.80138888,-49.96611111,-52.39809,-49.926072,-45.65111111,-37.93805555,-38.42527777,-52.21305555,-43.27916666,-37.815,-42.06083333,-52.24527777,-48.20133,-46.94972221,-37.055365,-35.71805554,-46.10722222,-43.41777777,-44.77583332,-54.11944443,-46.04638888,-62.9286111,-43.138998,-45.23722221,-45.008269,-48.43722221,-43.95222222,-54.94388888,-70.02999999,-40.27222221,-60.66194444,-50.44194444,-43.405365,-44.36527777,-47.92583332,-50.478034,-43.433948,-39.31527777,-49.49972221,-35.90472222,-41.33277777,-52.2711111,-41.90913,-61.12083332,-42.13722221,-39.25861111,-43.012091,-47.45972222,-47.95805555,-43.35666666,-51.18638888,-35.42583332,-43.35222222,-38.52416666,-62.05527777,-44.23333333,-49.26388888,-42.36444444,-44.61749999,-53.61388888,-39.08972221,-56.10888888,-56.44694444,-69.86777777,-43.00333333,-66.10083333,-47.33888888,-46.235795,-38.53777777,-47.38249999,-36.49333333,-49.26388888,-39.783182,-42.18555555,-47.47888888,-48.17194443,-50.637609,-37.794973,-58.44277777,-55.993087,-42.85277777,-41.90555555,-40.53416666,-44.366321,-51.71749999,-34.8486111,-43.36444444,-43.667085,-64.78999999,-51.51277777,-44.97972221,-41.388808,-51.14166666,-42.26805554,-51.11,-60.01638888,-49.12527777,-51.91666666,-54.07638888,-37.12472221,-43.84388888,-38.35666666,-41.151165,-41.41194444,-35.20777777,-52.350226,-40.09194444,-56.072,-48.301822,-36.62027777,-37.43083332,-51.19138888,-44.966902,-52.41194444,-37.27388888,-41.14305555,-41.2811111,-48.17722221,-52.41666666,-40.52333332,-41.43499999,-48.96611111,-41.79444444,-51.17472221,-52.236186,-35.299881,-48.40638888,-46.36666666,-36.842198,-39.28722221,-44.44472221,-67.86888888,-50.96472222,-42.284921,-38.50583333,-53.72055554,-42.00305555,-53.35027777,-42.16083333,-47.88388888,-67.06111111,-38.31166666,-42.25027777,-45.043327,-44.21361111,-54.9625,-46.61999999,-47.579512,-55.41888888,-37.08499999,-39.00194444,-47.42666666,-44.52499999,-35.801056,-46.43833333,-70.7686111,-64.72527777,-42.80138888,-42.97222221,-46.86527777,-49.66666666,-45.37194443,-46.88944444,-40.31694443,-40.80138888,-45.651007],\"marker\":{\"color\":\"green\"},\"mode\":\"markers\",\"name\":\"Operative\",\"showlegend\":true,\"subplot\":\"mapbox\",\"type\":\"scattermapbox\"}],                        {\"template\":{\"data\":{\"histogram2dcontour\":[{\"type\":\"histogram2dcontour\",\"colorbar\":{\"outlinewidth\":0,\"ticks\":\"\"},\"colorscale\":[[0.0,\"#0d0887\"],[0.1111111111111111,\"#46039f\"],[0.2222222222222222,\"#7201a8\"],[0.3333333333333333,\"#9c179e\"],[0.4444444444444444,\"#bd3786\"],[0.5555555555555556,\"#d8576b\"],[0.6666666666666666,\"#ed7953\"],[0.7777777777777778,\"#fb9f3a\"],[0.8888888888888888,\"#fdca26\"],[1.0,\"#f0f921\"]]}],\"choropleth\":[{\"type\":\"choropleth\",\"colorbar\":{\"outlinewidth\":0,\"ticks\":\"\"}}],\"histogram2d\":[{\"type\":\"histogram2d\",\"colorbar\":{\"outlinewidth\":0,\"ticks\":\"\"},\"colorscale\":[[0.0,\"#0d0887\"],[0.1111111111111111,\"#46039f\"],[0.2222222222222222,\"#7201a8\"],[0.3333333333333333,\"#9c179e\"],[0.4444444444444444,\"#bd3786\"],[0.5555555555555556,\"#d8576b\"],[0.6666666666666666,\"#ed7953\"],[0.7777777777777778,\"#fb9f3a\"],[0.8888888888888888,\"#fdca26\"],[1.0,\"#f0f921\"]]}],\"heatmap\":[{\"type\":\"heatmap\",\"colorbar\":{\"outlinewidth\":0,\"ticks\":\"\"},\"colorscale\":[[0.0,\"#0d0887\"],[0.1111111111111111,\"#46039f\"],[0.2222222222222222,\"#7201a8\"],[0.3333333333333333,\"#9c179e\"],[0.4444444444444444,\"#bd3786\"],[0.5555555555555556,\"#d8576b\"],[0.6666666666666666,\"#ed7953\"],[0.7777777777777778,\"#fb9f3a\"],[0.8888888888888888,\"#fdca26\"],[1.0,\"#f0f921\"]]}],\"heatmapgl\":[{\"type\":\"heatmapgl\",\"colorbar\":{\"outlinewidth\":0,\"ticks\":\"\"},\"colorscale\":[[0.0,\"#0d0887\"],[0.1111111111111111,\"#46039f\"],[0.2222222222222222,\"#7201a8\"],[0.3333333333333333,\"#9c179e\"],[0.4444444444444444,\"#bd3786\"],[0.5555555555555556,\"#d8576b\"],[0.6666666666666666,\"#ed7953\"],[0.7777777777777778,\"#fb9f3a\"],[0.8888888888888888,\"#fdca26\"],[1.0,\"#f0f921\"]]}],\"contourcarpet\":[{\"type\":\"contourcarpet\",\"colorbar\":{\"outlinewidth\":0,\"ticks\":\"\"}}],\"contour\":[{\"type\":\"contour\",\"colorbar\":{\"outlinewidth\":0,\"ticks\":\"\"},\"colorscale\":[[0.0,\"#0d0887\"],[0.1111111111111111,\"#46039f\"],[0.2222222222222222,\"#7201a8\"],[0.3333333333333333,\"#9c179e\"],[0.4444444444444444,\"#bd3786\"],[0.5555555555555556,\"#d8576b\"],[0.6666666666666666,\"#ed7953\"],[0.7777777777777778,\"#fb9f3a\"],[0.8888888888888888,\"#fdca26\"],[1.0,\"#f0f921\"]]}],\"surface\":[{\"type\":\"surface\",\"colorbar\":{\"outlinewidth\":0,\"ticks\":\"\"},\"colorscale\":[[0.0,\"#0d0887\"],[0.1111111111111111,\"#46039f\"],[0.2222222222222222,\"#7201a8\"],[0.3333333333333333,\"#9c179e\"],[0.4444444444444444,\"#bd3786\"],[0.5555555555555556,\"#d8576b\"],[0.6666666666666666,\"#ed7953\"],[0.7777777777777778,\"#fb9f3a\"],[0.8888888888888888,\"#fdca26\"],[1.0,\"#f0f921\"]]}],\"mesh3d\":[{\"type\":\"mesh3d\",\"colorbar\":{\"outlinewidth\":0,\"ticks\":\"\"}}],\"scatter\":[{\"fillpattern\":{\"fillmode\":\"overlay\",\"size\":10,\"solidity\":0.2},\"type\":\"scatter\"}],\"parcoords\":[{\"type\":\"parcoords\",\"line\":{\"colorbar\":{\"outlinewidth\":0,\"ticks\":\"\"}}}],\"scatterpolargl\":[{\"type\":\"scatterpolargl\",\"marker\":{\"colorbar\":{\"outlinewidth\":0,\"ticks\":\"\"}}}],\"bar\":[{\"error_x\":{\"color\":\"#2a3f5f\"},\"error_y\":{\"color\":\"#2a3f5f\"},\"marker\":{\"line\":{\"color\":\"#E5ECF6\",\"width\":0.5},\"pattern\":{\"fillmode\":\"overlay\",\"size\":10,\"solidity\":0.2}},\"type\":\"bar\"}],\"scattergeo\":[{\"type\":\"scattergeo\",\"marker\":{\"colorbar\":{\"outlinewidth\":0,\"ticks\":\"\"}}}],\"scatterpolar\":[{\"type\":\"scatterpolar\",\"marker\":{\"colorbar\":{\"outlinewidth\":0,\"ticks\":\"\"}}}],\"histogram\":[{\"marker\":{\"pattern\":{\"fillmode\":\"overlay\",\"size\":10,\"solidity\":0.2}},\"type\":\"histogram\"}],\"scattergl\":[{\"type\":\"scattergl\",\"marker\":{\"colorbar\":{\"outlinewidth\":0,\"ticks\":\"\"}}}],\"scatter3d\":[{\"type\":\"scatter3d\",\"line\":{\"colorbar\":{\"outlinewidth\":0,\"ticks\":\"\"}},\"marker\":{\"colorbar\":{\"outlinewidth\":0,\"ticks\":\"\"}}}],\"scattermapbox\":[{\"type\":\"scattermapbox\",\"marker\":{\"colorbar\":{\"outlinewidth\":0,\"ticks\":\"\"}}}],\"scatterternary\":[{\"type\":\"scatterternary\",\"marker\":{\"colorbar\":{\"outlinewidth\":0,\"ticks\":\"\"}}}],\"scattercarpet\":[{\"type\":\"scattercarpet\",\"marker\":{\"colorbar\":{\"outlinewidth\":0,\"ticks\":\"\"}}}],\"carpet\":[{\"aaxis\":{\"endlinecolor\":\"#2a3f5f\",\"gridcolor\":\"white\",\"linecolor\":\"white\",\"minorgridcolor\":\"white\",\"startlinecolor\":\"#2a3f5f\"},\"baxis\":{\"endlinecolor\":\"#2a3f5f\",\"gridcolor\":\"white\",\"linecolor\":\"white\",\"minorgridcolor\":\"white\",\"startlinecolor\":\"#2a3f5f\"},\"type\":\"carpet\"}],\"table\":[{\"cells\":{\"fill\":{\"color\":\"#EBF0F8\"},\"line\":{\"color\":\"white\"}},\"header\":{\"fill\":{\"color\":\"#C8D4E3\"},\"line\":{\"color\":\"white\"}},\"type\":\"table\"}],\"barpolar\":[{\"marker\":{\"line\":{\"color\":\"#E5ECF6\",\"width\":0.5},\"pattern\":{\"fillmode\":\"overlay\",\"size\":10,\"solidity\":0.2}},\"type\":\"barpolar\"}],\"pie\":[{\"automargin\":true,\"type\":\"pie\"}]},\"layout\":{\"autotypenumbers\":\"strict\",\"colorway\":[\"#636efa\",\"#EF553B\",\"#00cc96\",\"#ab63fa\",\"#FFA15A\",\"#19d3f3\",\"#FF6692\",\"#B6E880\",\"#FF97FF\",\"#FECB52\"],\"font\":{\"color\":\"#2a3f5f\"},\"hovermode\":\"closest\",\"hoverlabel\":{\"align\":\"left\"},\"paper_bgcolor\":\"white\",\"plot_bgcolor\":\"#E5ECF6\",\"polar\":{\"bgcolor\":\"#E5ECF6\",\"angularaxis\":{\"gridcolor\":\"white\",\"linecolor\":\"white\",\"ticks\":\"\"},\"radialaxis\":{\"gridcolor\":\"white\",\"linecolor\":\"white\",\"ticks\":\"\"}},\"ternary\":{\"bgcolor\":\"#E5ECF6\",\"aaxis\":{\"gridcolor\":\"white\",\"linecolor\":\"white\",\"ticks\":\"\"},\"baxis\":{\"gridcolor\":\"white\",\"linecolor\":\"white\",\"ticks\":\"\"},\"caxis\":{\"gridcolor\":\"white\",\"linecolor\":\"white\",\"ticks\":\"\"}},\"coloraxis\":{\"colorbar\":{\"outlinewidth\":0,\"ticks\":\"\"}},\"colorscale\":{\"sequential\":[[0.0,\"#0d0887\"],[0.1111111111111111,\"#46039f\"],[0.2222222222222222,\"#7201a8\"],[0.3333333333333333,\"#9c179e\"],[0.4444444444444444,\"#bd3786\"],[0.5555555555555556,\"#d8576b\"],[0.6666666666666666,\"#ed7953\"],[0.7777777777777778,\"#fb9f3a\"],[0.8888888888888888,\"#fdca26\"],[1.0,\"#f0f921\"]],\"sequentialminus\":[[0.0,\"#0d0887\"],[0.1111111111111111,\"#46039f\"],[0.2222222222222222,\"#7201a8\"],[0.3333333333333333,\"#9c179e\"],[0.4444444444444444,\"#bd3786\"],[0.5555555555555556,\"#d8576b\"],[0.6666666666666666,\"#ed7953\"],[0.7777777777777778,\"#fb9f3a\"],[0.8888888888888888,\"#fdca26\"],[1.0,\"#f0f921\"]],\"diverging\":[[0,\"#8e0152\"],[0.1,\"#c51b7d\"],[0.2,\"#de77ae\"],[0.3,\"#f1b6da\"],[0.4,\"#fde0ef\"],[0.5,\"#f7f7f7\"],[0.6,\"#e6f5d0\"],[0.7,\"#b8e186\"],[0.8,\"#7fbc41\"],[0.9,\"#4d9221\"],[1,\"#276419\"]]},\"xaxis\":{\"gridcolor\":\"white\",\"linecolor\":\"white\",\"ticks\":\"\",\"title\":{\"standoff\":15},\"zerolinecolor\":\"white\",\"automargin\":true,\"zerolinewidth\":2},\"yaxis\":{\"gridcolor\":\"white\",\"linecolor\":\"white\",\"ticks\":\"\",\"title\":{\"standoff\":15},\"zerolinecolor\":\"white\",\"automargin\":true,\"zerolinewidth\":2},\"scene\":{\"xaxis\":{\"backgroundcolor\":\"#E5ECF6\",\"gridcolor\":\"white\",\"linecolor\":\"white\",\"showbackground\":true,\"ticks\":\"\",\"zerolinecolor\":\"white\",\"gridwidth\":2},\"yaxis\":{\"backgroundcolor\":\"#E5ECF6\",\"gridcolor\":\"white\",\"linecolor\":\"white\",\"showbackground\":true,\"ticks\":\"\",\"zerolinecolor\":\"white\",\"gridwidth\":2},\"zaxis\":{\"backgroundcolor\":\"#E5ECF6\",\"gridcolor\":\"white\",\"linecolor\":\"white\",\"showbackground\":true,\"ticks\":\"\",\"zerolinecolor\":\"white\",\"gridwidth\":2}},\"shapedefaults\":{\"line\":{\"color\":\"#2a3f5f\"}},\"annotationdefaults\":{\"arrowcolor\":\"#2a3f5f\",\"arrowhead\":0,\"arrowwidth\":1},\"geo\":{\"bgcolor\":\"white\",\"landcolor\":\"#E5ECF6\",\"subunitcolor\":\"white\",\"showland\":true,\"showlakes\":true,\"lakecolor\":\"white\"},\"title\":{\"x\":0.05},\"mapbox\":{\"style\":\"light\"}}},\"mapbox\":{\"domain\":{\"x\":[0.0,1.0],\"y\":[0.0,1.0]},\"center\":{\"lat\":-15.166394626457762,\"lon\":-47.57503445435968},\"zoom\":3,\"style\":\"open-street-map\"},\"legend\":{\"title\":{\"text\":\"CD_SITUATION\"},\"tracegroupgap\":0,\"yanchor\":\"top\",\"y\":0.99,\"xanchor\":\"left\",\"x\":0.79},\"margin\":{\"t\":0,\"r\":0,\"l\":0,\"b\":0},\"height\":800,\"width\":600},                        {\"responsive\": true}                    ).then(function(){\n",
       "                            \n",
       "var gd = document.getElementById('89fdbec7-e6ab-4293-b2cf-c1517c5521ec');\n",
       "var x = new MutationObserver(function (mutations, observer) {{\n",
       "        var display = window.getComputedStyle(gd).display;\n",
       "        if (!display || display === 'none') {{\n",
       "            console.log([gd, 'removed!']);\n",
       "            Plotly.purge(gd);\n",
       "            observer.disconnect();\n",
       "        }}\n",
       "}});\n",
       "\n",
       "// Listen for the removal of the full notebook cells\n",
       "var notebookContainer = gd.closest('#notebook-container');\n",
       "if (notebookContainer) {{\n",
       "    x.observe(notebookContainer, {childList: true});\n",
       "}}\n",
       "\n",
       "// Listen for the clearing of the current output cell\n",
       "var outputEl = gd.closest('.output');\n",
       "if (outputEl) {{\n",
       "    x.observe(outputEl, {childList: true});\n",
       "}}\n",
       "\n",
       "                        })                };                });            </script>        </div>"
      ]
     },
     "metadata": {},
     "output_type": "display_data"
    }
   ],
   "source": [
    "fig = px.scatter_mapbox(stations, lat=\"LATITUDE\", lon=\"LONGITUDE\", hover_name=\"STATION_NAME\", hover_data=[\"TP_STATION\", \"CD_SITUATION\"],\n",
    "                        color = \"CD_SITUATION\", \n",
    "                        zoom=3, height=300, \n",
    "                        color_discrete_map= {'Down': 'red',\n",
    "                                             'Operative': 'green'})\n",
    "                                                                  \n",
    "fig.update_layout(mapbox_style=\"open-street-map\")\n",
    "fig.update_layout(margin={\"r\":0,\"t\":0,\"l\":0,\"b\":0})\n",
    "fig.update_layout(height=800, width=600)\n",
    "fig.update_layout(legend=dict(\n",
    "    yanchor=\"top\",\n",
    "    y=0.99,\n",
    "    xanchor=\"left\",\n",
    "    x=0.79\n",
    "))\n",
    "fig.show()"
   ]
  },
  {
   "cell_type": "code",
   "execution_count": null,
   "metadata": {},
   "outputs": [],
   "source": []
  },
  {
   "cell_type": "code",
   "execution_count": null,
   "metadata": {},
   "outputs": [],
   "source": []
  },
  {
   "cell_type": "code",
   "execution_count": null,
   "metadata": {},
   "outputs": [],
   "source": []
  },
  {
   "cell_type": "code",
   "execution_count": null,
   "metadata": {},
   "outputs": [],
   "source": []
  },
  {
   "cell_type": "code",
   "execution_count": null,
   "metadata": {},
   "outputs": [],
   "source": []
  },
  {
   "cell_type": "code",
   "execution_count": null,
   "metadata": {},
   "outputs": [],
   "source": []
  },
  {
   "cell_type": "code",
   "execution_count": null,
   "metadata": {},
   "outputs": [],
   "source": []
  }
 ],
 "metadata": {
  "kernelspec": {
   "display_name": "Python 3 (ipykernel)",
   "language": "python",
   "name": "python3"
  },
  "language_info": {
   "codemirror_mode": {
    "name": "ipython",
    "version": 3
   },
   "file_extension": ".py",
   "mimetype": "text/x-python",
   "name": "python",
   "nbconvert_exporter": "python",
   "pygments_lexer": "ipython3",
   "version": "3.10.4"
  },
  "vscode": {
   "interpreter": {
    "hash": "d2dde73a106304f1f07a134442f9d3903003779c9f59e8b6cbc78a40d8e11666"
   }
  }
 },
 "nbformat": 4,
 "nbformat_minor": 4
}
