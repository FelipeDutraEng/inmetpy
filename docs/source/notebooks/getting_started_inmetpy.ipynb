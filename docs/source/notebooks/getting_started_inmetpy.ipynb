{
 "cells": [
  {
   "cell_type": "markdown",
   "metadata": {},
   "source": [
    "# Getting Started with Inmetpy"
   ]
  },
  {
   "cell_type": "code",
   "execution_count": 5,
   "metadata": {
    "nbsphinx": "hidden"
   },
   "outputs": [],
   "source": [
    "import plotly.io as pio\n",
    "pio.renderers.default = \"plotly_mimetype+notebook\""
   ]
  },
  {
   "cell_type": "code",
   "execution_count": 6,
   "metadata": {},
   "outputs": [],
   "source": [
    "import pandas as pd \n",
    "import plotly.express as px \n",
    "\n",
    "\n",
    "from inmetpy.inmet_stations import InmetStation"
   ]
  },
  {
   "cell_type": "code",
   "execution_count": 7,
   "metadata": {},
   "outputs": [],
   "source": [
    "inmet = InmetStation()\n",
    "\n",
    "stations = inmet.stations"
   ]
  },
  {
   "cell_type": "code",
   "execution_count": 8,
   "metadata": {},
   "outputs": [],
   "source": [
    "stations.LATITUDE = stations.LATITUDE.astype(float)\n",
    "stations.LONGITUDE = stations.LONGITUDE.astype(float)"
   ]
  },
  {
   "cell_type": "code",
   "execution_count": 63,
   "metadata": {},
   "outputs": [
    {
     "data": {
      "application/vnd.plotly.v1+json": {
       "config": {
        "plotlyServerURL": "https://plot.ly"
       },
       "data": [
        {
         "customdata": [
          [
           "Automatic",
           "Down"
          ],
          [
           "Automatic",
           "Down"
          ],
          [
           "Automatic",
           "Down"
          ],
          [
           "Automatic",
           "Down"
          ],
          [
           "Automatic",
           "Down"
          ],
          [
           "Automatic",
           "Down"
          ],
          [
           "Automatic",
           "Down"
          ],
          [
           "Automatic",
           "Down"
          ],
          [
           "Automatic",
           "Down"
          ],
          [
           "Automatic",
           "Down"
          ],
          [
           "Automatic",
           "Down"
          ],
          [
           "Automatic",
           "Down"
          ],
          [
           "Automatic",
           "Down"
          ],
          [
           "Automatic",
           "Down"
          ],
          [
           "Automatic",
           "Down"
          ],
          [
           "Automatic",
           "Down"
          ],
          [
           "Automatic",
           "Down"
          ],
          [
           "Automatic",
           "Down"
          ],
          [
           "Automatic",
           "Down"
          ],
          [
           "Automatic",
           "Down"
          ],
          [
           "Automatic",
           "Down"
          ],
          [
           "Automatic",
           "Down"
          ],
          [
           "Automatic",
           "Down"
          ],
          [
           "Automatic",
           "Down"
          ],
          [
           "Automatic",
           "Down"
          ],
          [
           "Automatic",
           "Down"
          ],
          [
           "Automatic",
           "Down"
          ],
          [
           "Automatic",
           "Down"
          ],
          [
           "Automatic",
           "Down"
          ],
          [
           "Automatic",
           "Down"
          ],
          [
           "Automatic",
           "Down"
          ],
          [
           "Automatic",
           "Down"
          ],
          [
           "Automatic",
           "Down"
          ],
          [
           "Automatic",
           "Down"
          ],
          [
           "Automatic",
           "Down"
          ],
          [
           "Automatic",
           "Down"
          ],
          [
           "Automatic",
           "Down"
          ],
          [
           "Automatic",
           "Down"
          ],
          [
           "Automatic",
           "Down"
          ],
          [
           "Automatic",
           "Down"
          ],
          [
           "Automatic",
           "Down"
          ],
          [
           "Automatic",
           "Down"
          ],
          [
           "Automatic",
           "Down"
          ],
          [
           "Automatic",
           "Down"
          ],
          [
           "Automatic",
           "Down"
          ],
          [
           "Automatic",
           "Down"
          ],
          [
           "Automatic",
           "Down"
          ],
          [
           "Automatic",
           "Down"
          ],
          [
           "Automatic",
           "Down"
          ],
          [
           "Automatic",
           "Down"
          ],
          [
           "Automatic",
           "Down"
          ],
          [
           "Automatic",
           "Down"
          ],
          [
           "Automatic",
           "Down"
          ],
          [
           "Automatic",
           "Down"
          ],
          [
           "Automatic",
           "Down"
          ],
          [
           "Automatic",
           "Down"
          ],
          [
           "Automatic",
           "Down"
          ],
          [
           "Automatic",
           "Down"
          ],
          [
           "Automatic",
           "Down"
          ],
          [
           "Automatic",
           "Down"
          ],
          [
           "Automatic",
           "Down"
          ],
          [
           "Automatic",
           "Down"
          ],
          [
           "Automatic",
           "Down"
          ],
          [
           "Automatic",
           "Down"
          ],
          [
           "Automatic",
           "Down"
          ],
          [
           "Automatic",
           "Down"
          ],
          [
           "Automatic",
           "Down"
          ],
          [
           "Automatic",
           "Down"
          ],
          [
           "Automatic",
           "Down"
          ],
          [
           "Automatic",
           "Down"
          ],
          [
           "Automatic",
           "Down"
          ],
          [
           "Automatic",
           "Down"
          ],
          [
           "Automatic",
           "Down"
          ],
          [
           "Automatic",
           "Down"
          ],
          [
           "Automatic",
           "Down"
          ],
          [
           "Automatic",
           "Down"
          ],
          [
           "Automatic",
           "Down"
          ],
          [
           "Automatic",
           "Down"
          ],
          [
           "Automatic",
           "Down"
          ],
          [
           "Automatic",
           "Down"
          ],
          [
           "Automatic",
           "Down"
          ],
          [
           "Automatic",
           "Down"
          ],
          [
           "Automatic",
           "Down"
          ],
          [
           "Automatic",
           "Down"
          ],
          [
           "Automatic",
           "Down"
          ],
          [
           "Automatic",
           "Down"
          ],
          [
           "Automatic",
           "Down"
          ],
          [
           "Automatic",
           "Down"
          ],
          [
           "Automatic",
           "Down"
          ],
          [
           "Automatic",
           "Down"
          ],
          [
           "Automatic",
           "Down"
          ],
          [
           "Automatic",
           "Down"
          ],
          [
           "Automatic",
           "Down"
          ],
          [
           "Automatic",
           "Down"
          ],
          [
           "Automatic",
           "Down"
          ],
          [
           "Automatic",
           "Down"
          ],
          [
           "Automatic",
           "Down"
          ],
          [
           "Automatic",
           "Down"
          ],
          [
           "Automatic",
           "Down"
          ],
          [
           "Automatic",
           "Down"
          ],
          [
           "Automatic",
           "Down"
          ],
          [
           "Automatic",
           "Down"
          ],
          [
           "Automatic",
           "Down"
          ],
          [
           "Automatic",
           "Down"
          ],
          [
           "Automatic",
           "Down"
          ],
          [
           "Automatic",
           "Down"
          ],
          [
           "Automatic",
           "Down"
          ],
          [
           "Automatic",
           "Down"
          ],
          [
           "Automatic",
           "Down"
          ],
          [
           "Automatic",
           "Down"
          ],
          [
           "Automatic",
           "Down"
          ],
          [
           "Automatic",
           "Down"
          ],
          [
           "Automatic",
           "Down"
          ]
         ],
         "hovertemplate": "<b>%{hovertext}</b><br><br>CD_SITUATION=%{customdata[1]}<br>LATITUDE=%{lat}<br>LONGITUDE=%{lon}<br>TP_STATION=%{customdata[0]}<extra></extra>",
         "hovertext": [
          "ABROLHOS",
          "ALMAS",
          "ALTA FLORESTA",
          "ALTO PARAISO DE GOIAS",
          "AMAMBAI",
          "AMARGOSA",
          "APIACAS",
          "AQUIDAUANA",
          "ARACAJU",
          "ARAGUATINS",
          "ARIQUEMES",
          "BARBALHA",
          "BEBEDOURO",
          "BELA VISTA",
          "BELMONTE",
          "BOCA DO ACRE",
          "BRASNORTE (NOVO MUNDO)",
          "BREVES",
          "CABROBO",
          "CACOAL",
          "CALCANHAR",
          "CAMETA",
          "CAMPOS LINDOS",
          "CAMPOS SALES",
          "CAPITAO POCO",
          "CARAVELAS",
          "CARIRA",
          "CARLINDA",
          "CASTRO",
          "CHAPADAO DO SUL",
          "CIDADE GAUCHA",
          "CONDE",
          "CORUMBA",
          "COTRIGUACU",
          "CRUZEIRO DO SUL",
          "CURITIBANOS",
          "DELFINO",
          "DIAMANTE DO NORTE",
          "DOIS VIZINHOS",
          "DOURADOS",
          "DRACENA",
          "EIRUNEPE",
          "EPITACIOLANDIA",
          "FAROL de SANTANA",
          "FEIJO",
          "FLORESTA",
          "GUARAMIRANGA",
          "GUARANTA DO NORTE",
          "ICARAIMA",
          "ILHEUS",
          "INDAIAL",
          "IPIAU",
          "ITABAIANA",
          "ITAMARAJU",
          "ITAPETINGA",
          "ITAPORANGA",
          "ITAUBAL",
          "JACOBINA",
          "JEREMOABO",
          "JOSE BONIFACIO",
          "JUARA",
          "JUINA",
          "JUTI",
          "LARANJEIRAS DO SUL",
          "MACAJUBA",
          "MACAU",
          "MARABA",
          "MARACAJU",
          "MARECHAL THAUMATURGO",
          "MINA DO PALITO",
          "MIRANDA",
          "MONTE ALEGRE",
          "MOSTARDAS",
          "NHUMIRIM",
          "NOSSA SENHORA DA GLORIA",
          "NOVA TEBAS",
          "NOVA UBIRATA",
          "NOVO HORIZONTE",
          "OIAPOQUE",
          "OURICURI",
          "OURINHOS",
          "PALMEIRA DAS MISSOES",
          "PAO DE ACUCAR",
          "PARAGOMINAS",
          "PARINTINS",
          "PEDRO AFONSO",
          "PILAO ARCADO",
          "PLANALTO",
          "POCO VERDE",
          "PORTO MURTINHO",
          "PORTO WALTER",
          "RECIFE",
          "RIO BRANCO",
          "RIO DO CAMPO",
          "SANTA CRUZ",
          "SANTANA DO ARAGUAIA",
          "SAO GABRIEL DO OESTE",
          "SAO JOSE DO XINGU",
          "SAO MATEUS DO SUL",
          "SAO SEBASTIAO",
          "SENHOR DO BONFIM",
          "SERRA TALHADA",
          "SERRINHA",
          "SETE QUEDAS",
          "SINOP",
          "SORRISO",
          "SOURE",
          "TAUBATE",
          "TOME ACU",
          "UAUA",
          "UNA",
          "VALENCA",
          "VALPARAISO"
         ],
         "lat": [
          -17.96305555,
          -11.28416666,
          -10.07722221,
          -14.13305554,
          -23.0025,
          -13.00944444,
          -9.56333333,
          -20.47555554,
          -10.9525,
          -5.6436111,
          -9.94888888,
          -7.30083333,
          -20.94916666,
          -22.10166666,
          -16.08805555,
          -8.77666666,
          -12.52194443,
          -1.68027777,
          -8.50388888,
          -11.44583333,
          -5.16,
          -2.23972221,
          -8.15472222,
          -7.07777777,
          -1.73472221,
          -17.73944444,
          -10.39972221,
          -9.97055554,
          -24.78694444,
          -18.80222222,
          -23.35916666,
          -12.03583333,
          -18.99666666,
          -9.90638888,
          -7.61083333,
          -27.2886111,
          -10.455,
          -22.63944444,
          -25.69916666,
          -22.19388888,
          -21.45777777,
          -6.65027777,
          -11.02388888,
          -2.27083332,
          -8.14277777,
          -8.59888888,
          -4.26138888,
          -9.9525,
          -23.39027777,
          -14.65888888,
          -26.91361111,
          -14.17138888,
          -10.67166666,
          -17.00694444,
          -15.24472221,
          -7.31833332,
          0.56777777,
          -11.205,
          -10.08083332,
          -21.08555555,
          -11.28027777,
          -11.37499999,
          -22.85722222,
          -25.36888888,
          -12.13166666,
          -5.15111111,
          -5.36638888,
          -21.60916666,
          -8.95,
          -6.31999999,
          -20.39555555,
          -2,
          -31.24833333,
          -18.9886111,
          -10.20777777,
          -24.43722221,
          -13.41111111,
          -26.40638888,
          3.81361111,
          -7.88583333,
          -22.94888888,
          -27.92027777,
          -9.74916666,
          -2.9911111,
          -2.63916666,
          -8.9686111,
          -10.01833332,
          -25.72194443,
          -10.73805555,
          -21.70583333,
          -8.26722221,
          -8.05916666,
          -9.67972221,
          -26.93749999,
          -6.22805554,
          -9.3386111,
          -19.42027777,
          -10.48416666,
          -25.83555555,
          -23.81083333,
          -10.44305555,
          -7.95416666,
          -11.66472222,
          -23.96694443,
          -11.98222221,
          -12.555,
          -0.72777777,
          -23.04166666,
          -2.59249999,
          -9.8336111,
          -15.28027777,
          -13.3436111,
          -21.31916666
         ],
         "legendgroup": "Down",
         "lon": [
          -38.70333333,
          -47.21222222,
          -56.17916666,
          -47.52333332,
          -55.32944443,
          -39.61694443,
          -57.3936111,
          -55.78388888,
          -37.05444444,
          -48.11194444,
          -62.96194444,
          -39.2711111,
          -48.48999999,
          -56.54083333,
          -39.21527777,
          -67.33249999,
          -58.23138888,
          -50.47805554,
          -39.31527777,
          -61.43416666,
          -35.48749999,
          -49.49972221,
          -46.63944444,
          -40.36277777,
          -47.0575,
          -39.25861111,
          -37.74749999,
          -55.82749999,
          -49.99916666,
          -52.6025,
          -52.93194443,
          -37.68388888,
          -57.63749999,
          -58.57222221,
          -72.68138888,
          -50.60416666,
          -41.20694444,
          -52.89027777,
          -53.09527777,
          -54.91138888,
          -51.55222222,
          -69.8686111,
          -68.73527777,
          -43.62416666,
          -70.3436111,
          -38.58416666,
          -38.9311111,
          -54.89777777,
          -53.63583333,
          -39.18138888,
          -49.26805554,
          -39.69249999,
          -37.47138888,
          -39.55805555,
          -40.22944443,
          -38.14083333,
          -50.8236111,
          -40.465,
          -38.34583333,
          -49.92027777,
          -57.52666666,
          -58.77472221,
          -54.60555555,
          -52.39194444,
          -40.35416666,
          -36.57305554,
          -49.05111111,
          -55.17749999,
          -72.78666666,
          -55.78777777,
          -56.43166666,
          -54.07638888,
          -50.90638888,
          -56.62277777,
          -37.43194443,
          -51.96305555,
          -54.75222222,
          -52.85027777,
          -51.8625,
          -40.10277777,
          -49.89444444,
          -53.31805554,
          -37.43083332,
          -47.35638888,
          -56.75611111,
          -48.17722221,
          -42.50027777,
          -53.74805555,
          -38.10833333,
          -57.88666666,
          -72.74777777,
          -34.95916666,
          -68.16527777,
          -50.14555555,
          -36.02666666,
          -50.35027777,
          -54.55305555,
          -52.37249999,
          -50.36888888,
          -45.4025,
          -40.14833333,
          -38.29499999,
          -39.02305554,
          -55.02416666,
          -55.56611111,
          -55.72277777,
          -48.51583333,
          -45.52083332,
          -48.36055555,
          -39.49555555,
          -39.09138888,
          -39.12666666,
          -50.93027777
         ],
         "marker": {
          "color": "red"
         },
         "mode": "markers",
         "name": "Down",
         "showlegend": true,
         "subplot": "mapbox",
         "type": "scattermapbox"
        },
        {
         "customdata": [
          [
           "Automatic",
           "Operative"
          ],
          [
           "Automatic",
           "Operative"
          ],
          [
           "Automatic",
           "Operative"
          ],
          [
           "Automatic",
           "Operative"
          ],
          [
           "Automatic",
           "Operative"
          ],
          [
           "Automatic",
           "Operative"
          ],
          [
           "Automatic",
           "Operative"
          ],
          [
           "Automatic",
           "Operative"
          ],
          [
           "Automatic",
           "Operative"
          ],
          [
           "Automatic",
           "Operative"
          ],
          [
           "Automatic",
           "Operative"
          ],
          [
           "Automatic",
           "Operative"
          ],
          [
           "Automatic",
           "Operative"
          ],
          [
           "Automatic",
           "Operative"
          ],
          [
           "Automatic",
           "Operative"
          ],
          [
           "Automatic",
           "Operative"
          ],
          [
           "Automatic",
           "Operative"
          ],
          [
           "Automatic",
           "Operative"
          ],
          [
           "Automatic",
           "Operative"
          ],
          [
           "Automatic",
           "Operative"
          ],
          [
           "Automatic",
           "Operative"
          ],
          [
           "Automatic",
           "Operative"
          ],
          [
           "Automatic",
           "Operative"
          ],
          [
           "Automatic",
           "Operative"
          ],
          [
           "Automatic",
           "Operative"
          ],
          [
           "Automatic",
           "Operative"
          ],
          [
           "Automatic",
           "Operative"
          ],
          [
           "Automatic",
           "Operative"
          ],
          [
           "Automatic",
           "Operative"
          ],
          [
           "Automatic",
           "Operative"
          ],
          [
           "Automatic",
           "Operative"
          ],
          [
           "Automatic",
           "Operative"
          ],
          [
           "Automatic",
           "Operative"
          ],
          [
           "Automatic",
           "Operative"
          ],
          [
           "Automatic",
           "Operative"
          ],
          [
           "Automatic",
           "Operative"
          ],
          [
           "Automatic",
           "Operative"
          ],
          [
           "Automatic",
           "Operative"
          ],
          [
           "Automatic",
           "Operative"
          ],
          [
           "Automatic",
           "Operative"
          ],
          [
           "Automatic",
           "Operative"
          ],
          [
           "Automatic",
           "Operative"
          ],
          [
           "Automatic",
           "Operative"
          ],
          [
           "Automatic",
           "Operative"
          ],
          [
           "Automatic",
           "Operative"
          ],
          [
           "Automatic",
           "Operative"
          ],
          [
           "Automatic",
           "Operative"
          ],
          [
           "Automatic",
           "Operative"
          ],
          [
           "Automatic",
           "Operative"
          ],
          [
           "Automatic",
           "Operative"
          ],
          [
           "Automatic",
           "Operative"
          ],
          [
           "Automatic",
           "Operative"
          ],
          [
           "Automatic",
           "Operative"
          ],
          [
           "Automatic",
           "Operative"
          ],
          [
           "Automatic",
           "Operative"
          ],
          [
           "Automatic",
           "Operative"
          ],
          [
           "Automatic",
           "Operative"
          ],
          [
           "Automatic",
           "Operative"
          ],
          [
           "Automatic",
           "Operative"
          ],
          [
           "Automatic",
           "Operative"
          ],
          [
           "Automatic",
           "Operative"
          ],
          [
           "Automatic",
           "Operative"
          ],
          [
           "Automatic",
           "Operative"
          ],
          [
           "Automatic",
           "Operative"
          ],
          [
           "Automatic",
           "Operative"
          ],
          [
           "Automatic",
           "Operative"
          ],
          [
           "Automatic",
           "Operative"
          ],
          [
           "Automatic",
           "Operative"
          ],
          [
           "Automatic",
           "Operative"
          ],
          [
           "Automatic",
           "Operative"
          ],
          [
           "Automatic",
           "Operative"
          ],
          [
           "Automatic",
           "Operative"
          ],
          [
           "Automatic",
           "Operative"
          ],
          [
           "Automatic",
           "Operative"
          ],
          [
           "Automatic",
           "Operative"
          ],
          [
           "Automatic",
           "Operative"
          ],
          [
           "Automatic",
           "Operative"
          ],
          [
           "Automatic",
           "Operative"
          ],
          [
           "Automatic",
           "Operative"
          ],
          [
           "Automatic",
           "Operative"
          ],
          [
           "Automatic",
           "Operative"
          ],
          [
           "Automatic",
           "Operative"
          ],
          [
           "Automatic",
           "Operative"
          ],
          [
           "Automatic",
           "Operative"
          ],
          [
           "Automatic",
           "Operative"
          ],
          [
           "Automatic",
           "Operative"
          ],
          [
           "Automatic",
           "Operative"
          ],
          [
           "Automatic",
           "Operative"
          ],
          [
           "Automatic",
           "Operative"
          ],
          [
           "Automatic",
           "Operative"
          ],
          [
           "Automatic",
           "Operative"
          ],
          [
           "Automatic",
           "Operative"
          ],
          [
           "Automatic",
           "Operative"
          ],
          [
           "Automatic",
           "Operative"
          ],
          [
           "Automatic",
           "Operative"
          ],
          [
           "Automatic",
           "Operative"
          ],
          [
           "Automatic",
           "Operative"
          ],
          [
           "Automatic",
           "Operative"
          ],
          [
           "Automatic",
           "Operative"
          ],
          [
           "Automatic",
           "Operative"
          ],
          [
           "Automatic",
           "Operative"
          ],
          [
           "Automatic",
           "Operative"
          ],
          [
           "Automatic",
           "Operative"
          ],
          [
           "Automatic",
           "Operative"
          ],
          [
           "Automatic",
           "Operative"
          ],
          [
           "Automatic",
           "Operative"
          ],
          [
           "Automatic",
           "Operative"
          ],
          [
           "Automatic",
           "Operative"
          ],
          [
           "Automatic",
           "Operative"
          ],
          [
           "Automatic",
           "Operative"
          ],
          [
           "Automatic",
           "Operative"
          ],
          [
           "Automatic",
           "Operative"
          ],
          [
           "Automatic",
           "Operative"
          ],
          [
           "Automatic",
           "Operative"
          ],
          [
           "Automatic",
           "Operative"
          ],
          [
           "Automatic",
           "Operative"
          ],
          [
           "Automatic",
           "Operative"
          ],
          [
           "Automatic",
           "Operative"
          ],
          [
           "Automatic",
           "Operative"
          ],
          [
           "Automatic",
           "Operative"
          ],
          [
           "Automatic",
           "Operative"
          ],
          [
           "Automatic",
           "Operative"
          ],
          [
           "Automatic",
           "Operative"
          ],
          [
           "Automatic",
           "Operative"
          ],
          [
           "Automatic",
           "Operative"
          ],
          [
           "Automatic",
           "Operative"
          ],
          [
           "Automatic",
           "Operative"
          ],
          [
           "Automatic",
           "Operative"
          ],
          [
           "Automatic",
           "Operative"
          ],
          [
           "Automatic",
           "Operative"
          ],
          [
           "Automatic",
           "Operative"
          ],
          [
           "Automatic",
           "Operative"
          ],
          [
           "Automatic",
           "Operative"
          ],
          [
           "Automatic",
           "Operative"
          ],
          [
           "Automatic",
           "Operative"
          ],
          [
           "Automatic",
           "Operative"
          ],
          [
           "Automatic",
           "Operative"
          ],
          [
           "Automatic",
           "Operative"
          ],
          [
           "Automatic",
           "Operative"
          ],
          [
           "Automatic",
           "Operative"
          ],
          [
           "Automatic",
           "Operative"
          ],
          [
           "Automatic",
           "Operative"
          ],
          [
           "Automatic",
           "Operative"
          ],
          [
           "Automatic",
           "Operative"
          ],
          [
           "Automatic",
           "Operative"
          ],
          [
           "Automatic",
           "Operative"
          ],
          [
           "Automatic",
           "Operative"
          ],
          [
           "Automatic",
           "Operative"
          ],
          [
           "Automatic",
           "Operative"
          ],
          [
           "Automatic",
           "Operative"
          ],
          [
           "Automatic",
           "Operative"
          ],
          [
           "Automatic",
           "Operative"
          ],
          [
           "Automatic",
           "Operative"
          ],
          [
           "Automatic",
           "Operative"
          ],
          [
           "Automatic",
           "Operative"
          ],
          [
           "Automatic",
           "Operative"
          ],
          [
           "Automatic",
           "Operative"
          ],
          [
           "Automatic",
           "Operative"
          ],
          [
           "Automatic",
           "Operative"
          ],
          [
           "Automatic",
           "Operative"
          ],
          [
           "Automatic",
           "Operative"
          ],
          [
           "Automatic",
           "Operative"
          ],
          [
           "Automatic",
           "Operative"
          ],
          [
           "Automatic",
           "Operative"
          ],
          [
           "Automatic",
           "Operative"
          ],
          [
           "Automatic",
           "Operative"
          ],
          [
           "Automatic",
           "Operative"
          ],
          [
           "Automatic",
           "Operative"
          ],
          [
           "Automatic",
           "Operative"
          ],
          [
           "Automatic",
           "Operative"
          ],
          [
           "Automatic",
           "Operative"
          ],
          [
           "Automatic",
           "Operative"
          ],
          [
           "Automatic",
           "Operative"
          ],
          [
           "Automatic",
           "Operative"
          ],
          [
           "Automatic",
           "Operative"
          ],
          [
           "Automatic",
           "Operative"
          ],
          [
           "Automatic",
           "Operative"
          ],
          [
           "Automatic",
           "Operative"
          ],
          [
           "Automatic",
           "Operative"
          ],
          [
           "Automatic",
           "Operative"
          ],
          [
           "Automatic",
           "Operative"
          ],
          [
           "Automatic",
           "Operative"
          ],
          [
           "Automatic",
           "Operative"
          ],
          [
           "Automatic",
           "Operative"
          ],
          [
           "Automatic",
           "Operative"
          ],
          [
           "Automatic",
           "Operative"
          ],
          [
           "Automatic",
           "Operative"
          ],
          [
           "Automatic",
           "Operative"
          ],
          [
           "Automatic",
           "Operative"
          ],
          [
           "Automatic",
           "Operative"
          ],
          [
           "Automatic",
           "Operative"
          ],
          [
           "Automatic",
           "Operative"
          ],
          [
           "Automatic",
           "Operative"
          ],
          [
           "Automatic",
           "Operative"
          ],
          [
           "Automatic",
           "Operative"
          ],
          [
           "Automatic",
           "Operative"
          ],
          [
           "Automatic",
           "Operative"
          ],
          [
           "Automatic",
           "Operative"
          ],
          [
           "Automatic",
           "Operative"
          ],
          [
           "Automatic",
           "Operative"
          ],
          [
           "Automatic",
           "Operative"
          ],
          [
           "Automatic",
           "Operative"
          ],
          [
           "Automatic",
           "Operative"
          ],
          [
           "Automatic",
           "Operative"
          ],
          [
           "Automatic",
           "Operative"
          ],
          [
           "Automatic",
           "Operative"
          ],
          [
           "Automatic",
           "Operative"
          ],
          [
           "Automatic",
           "Operative"
          ],
          [
           "Automatic",
           "Operative"
          ],
          [
           "Automatic",
           "Operative"
          ],
          [
           "Automatic",
           "Operative"
          ],
          [
           "Automatic",
           "Operative"
          ],
          [
           "Automatic",
           "Operative"
          ],
          [
           "Automatic",
           "Operative"
          ],
          [
           "Automatic",
           "Operative"
          ],
          [
           "Automatic",
           "Operative"
          ],
          [
           "Automatic",
           "Operative"
          ],
          [
           "Automatic",
           "Operative"
          ],
          [
           "Automatic",
           "Operative"
          ],
          [
           "Automatic",
           "Operative"
          ],
          [
           "Automatic",
           "Operative"
          ],
          [
           "Automatic",
           "Operative"
          ],
          [
           "Automatic",
           "Operative"
          ],
          [
           "Automatic",
           "Operative"
          ],
          [
           "Automatic",
           "Operative"
          ],
          [
           "Automatic",
           "Operative"
          ],
          [
           "Automatic",
           "Operative"
          ],
          [
           "Automatic",
           "Operative"
          ],
          [
           "Automatic",
           "Operative"
          ],
          [
           "Automatic",
           "Operative"
          ],
          [
           "Automatic",
           "Operative"
          ],
          [
           "Automatic",
           "Operative"
          ],
          [
           "Automatic",
           "Operative"
          ],
          [
           "Automatic",
           "Operative"
          ],
          [
           "Automatic",
           "Operative"
          ],
          [
           "Automatic",
           "Operative"
          ],
          [
           "Automatic",
           "Operative"
          ],
          [
           "Automatic",
           "Operative"
          ],
          [
           "Automatic",
           "Operative"
          ],
          [
           "Automatic",
           "Operative"
          ],
          [
           "Automatic",
           "Operative"
          ],
          [
           "Automatic",
           "Operative"
          ],
          [
           "Automatic",
           "Operative"
          ],
          [
           "Automatic",
           "Operative"
          ],
          [
           "Automatic",
           "Operative"
          ],
          [
           "Automatic",
           "Operative"
          ],
          [
           "Automatic",
           "Operative"
          ],
          [
           "Automatic",
           "Operative"
          ],
          [
           "Automatic",
           "Operative"
          ],
          [
           "Automatic",
           "Operative"
          ],
          [
           "Automatic",
           "Operative"
          ],
          [
           "Automatic",
           "Operative"
          ],
          [
           "Automatic",
           "Operative"
          ],
          [
           "Automatic",
           "Operative"
          ],
          [
           "Automatic",
           "Operative"
          ],
          [
           "Automatic",
           "Operative"
          ],
          [
           "Automatic",
           "Operative"
          ],
          [
           "Automatic",
           "Operative"
          ],
          [
           "Automatic",
           "Operative"
          ],
          [
           "Automatic",
           "Operative"
          ],
          [
           "Automatic",
           "Operative"
          ],
          [
           "Automatic",
           "Operative"
          ],
          [
           "Automatic",
           "Operative"
          ],
          [
           "Automatic",
           "Operative"
          ],
          [
           "Automatic",
           "Operative"
          ],
          [
           "Automatic",
           "Operative"
          ],
          [
           "Automatic",
           "Operative"
          ],
          [
           "Automatic",
           "Operative"
          ],
          [
           "Automatic",
           "Operative"
          ],
          [
           "Automatic",
           "Operative"
          ],
          [
           "Automatic",
           "Operative"
          ],
          [
           "Automatic",
           "Operative"
          ],
          [
           "Automatic",
           "Operative"
          ],
          [
           "Automatic",
           "Operative"
          ],
          [
           "Automatic",
           "Operative"
          ],
          [
           "Automatic",
           "Operative"
          ],
          [
           "Automatic",
           "Operative"
          ],
          [
           "Automatic",
           "Operative"
          ],
          [
           "Automatic",
           "Operative"
          ],
          [
           "Automatic",
           "Operative"
          ],
          [
           "Automatic",
           "Operative"
          ],
          [
           "Automatic",
           "Operative"
          ],
          [
           "Automatic",
           "Operative"
          ],
          [
           "Automatic",
           "Operative"
          ],
          [
           "Automatic",
           "Operative"
          ],
          [
           "Automatic",
           "Operative"
          ],
          [
           "Automatic",
           "Operative"
          ],
          [
           "Automatic",
           "Operative"
          ],
          [
           "Automatic",
           "Operative"
          ],
          [
           "Automatic",
           "Operative"
          ],
          [
           "Automatic",
           "Operative"
          ],
          [
           "Automatic",
           "Operative"
          ],
          [
           "Automatic",
           "Operative"
          ],
          [
           "Automatic",
           "Operative"
          ],
          [
           "Automatic",
           "Operative"
          ],
          [
           "Automatic",
           "Operative"
          ],
          [
           "Automatic",
           "Operative"
          ],
          [
           "Automatic",
           "Operative"
          ],
          [
           "Automatic",
           "Operative"
          ],
          [
           "Automatic",
           "Operative"
          ],
          [
           "Automatic",
           "Operative"
          ],
          [
           "Automatic",
           "Operative"
          ],
          [
           "Automatic",
           "Operative"
          ],
          [
           "Automatic",
           "Operative"
          ],
          [
           "Automatic",
           "Operative"
          ],
          [
           "Automatic",
           "Operative"
          ],
          [
           "Automatic",
           "Operative"
          ],
          [
           "Automatic",
           "Operative"
          ],
          [
           "Automatic",
           "Operative"
          ],
          [
           "Automatic",
           "Operative"
          ],
          [
           "Automatic",
           "Operative"
          ],
          [
           "Automatic",
           "Operative"
          ],
          [
           "Automatic",
           "Operative"
          ],
          [
           "Automatic",
           "Operative"
          ],
          [
           "Automatic",
           "Operative"
          ],
          [
           "Automatic",
           "Operative"
          ],
          [
           "Automatic",
           "Operative"
          ],
          [
           "Automatic",
           "Operative"
          ],
          [
           "Automatic",
           "Operative"
          ],
          [
           "Automatic",
           "Operative"
          ],
          [
           "Automatic",
           "Operative"
          ],
          [
           "Automatic",
           "Operative"
          ],
          [
           "Automatic",
           "Operative"
          ],
          [
           "Automatic",
           "Operative"
          ],
          [
           "Automatic",
           "Operative"
          ],
          [
           "Automatic",
           "Operative"
          ],
          [
           "Automatic",
           "Operative"
          ],
          [
           "Automatic",
           "Operative"
          ],
          [
           "Automatic",
           "Operative"
          ],
          [
           "Automatic",
           "Operative"
          ],
          [
           "Automatic",
           "Operative"
          ],
          [
           "Automatic",
           "Operative"
          ],
          [
           "Automatic",
           "Operative"
          ],
          [
           "Automatic",
           "Operative"
          ],
          [
           "Automatic",
           "Operative"
          ],
          [
           "Automatic",
           "Operative"
          ],
          [
           "Automatic",
           "Operative"
          ],
          [
           "Automatic",
           "Operative"
          ],
          [
           "Automatic",
           "Operative"
          ],
          [
           "Automatic",
           "Operative"
          ],
          [
           "Automatic",
           "Operative"
          ],
          [
           "Automatic",
           "Operative"
          ],
          [
           "Automatic",
           "Operative"
          ],
          [
           "Automatic",
           "Operative"
          ],
          [
           "Automatic",
           "Operative"
          ],
          [
           "Automatic",
           "Operative"
          ],
          [
           "Automatic",
           "Operative"
          ],
          [
           "Automatic",
           "Operative"
          ],
          [
           "Automatic",
           "Operative"
          ],
          [
           "Automatic",
           "Operative"
          ],
          [
           "Automatic",
           "Operative"
          ],
          [
           "Automatic",
           "Operative"
          ],
          [
           "Automatic",
           "Operative"
          ],
          [
           "Automatic",
           "Operative"
          ],
          [
           "Automatic",
           "Operative"
          ],
          [
           "Automatic",
           "Operative"
          ],
          [
           "Automatic",
           "Operative"
          ],
          [
           "Automatic",
           "Operative"
          ],
          [
           "Automatic",
           "Operative"
          ],
          [
           "Automatic",
           "Operative"
          ],
          [
           "Automatic",
           "Operative"
          ],
          [
           "Automatic",
           "Operative"
          ],
          [
           "Automatic",
           "Operative"
          ],
          [
           "Automatic",
           "Operative"
          ],
          [
           "Automatic",
           "Operative"
          ],
          [
           "Automatic",
           "Operative"
          ],
          [
           "Automatic",
           "Operative"
          ],
          [
           "Automatic",
           "Operative"
          ],
          [
           "Automatic",
           "Operative"
          ],
          [
           "Automatic",
           "Operative"
          ],
          [
           "Automatic",
           "Operative"
          ],
          [
           "Automatic",
           "Operative"
          ],
          [
           "Automatic",
           "Operative"
          ],
          [
           "Automatic",
           "Operative"
          ],
          [
           "Automatic",
           "Operative"
          ],
          [
           "Automatic",
           "Operative"
          ],
          [
           "Automatic",
           "Operative"
          ],
          [
           "Automatic",
           "Operative"
          ],
          [
           "Automatic",
           "Operative"
          ],
          [
           "Automatic",
           "Operative"
          ],
          [
           "Automatic",
           "Operative"
          ],
          [
           "Automatic",
           "Operative"
          ],
          [
           "Automatic",
           "Operative"
          ],
          [
           "Automatic",
           "Operative"
          ],
          [
           "Automatic",
           "Operative"
          ],
          [
           "Automatic",
           "Operative"
          ],
          [
           "Automatic",
           "Operative"
          ],
          [
           "Automatic",
           "Operative"
          ],
          [
           "Automatic",
           "Operative"
          ],
          [
           "Automatic",
           "Operative"
          ],
          [
           "Automatic",
           "Operative"
          ],
          [
           "Automatic",
           "Operative"
          ],
          [
           "Automatic",
           "Operative"
          ],
          [
           "Automatic",
           "Operative"
          ],
          [
           "Automatic",
           "Operative"
          ],
          [
           "Automatic",
           "Operative"
          ],
          [
           "Automatic",
           "Operative"
          ],
          [
           "Automatic",
           "Operative"
          ],
          [
           "Automatic",
           "Operative"
          ],
          [
           "Automatic",
           "Operative"
          ],
          [
           "Automatic",
           "Operative"
          ],
          [
           "Automatic",
           "Operative"
          ],
          [
           "Automatic",
           "Operative"
          ],
          [
           "Automatic",
           "Operative"
          ],
          [
           "Automatic",
           "Operative"
          ],
          [
           "Automatic",
           "Operative"
          ],
          [
           "Automatic",
           "Operative"
          ],
          [
           "Automatic",
           "Operative"
          ],
          [
           "Automatic",
           "Operative"
          ],
          [
           "Automatic",
           "Operative"
          ],
          [
           "Automatic",
           "Operative"
          ],
          [
           "Automatic",
           "Operative"
          ],
          [
           "Automatic",
           "Operative"
          ],
          [
           "Automatic",
           "Operative"
          ],
          [
           "Automatic",
           "Operative"
          ],
          [
           "Automatic",
           "Operative"
          ],
          [
           "Automatic",
           "Operative"
          ],
          [
           "Automatic",
           "Operative"
          ],
          [
           "Automatic",
           "Operative"
          ],
          [
           "Automatic",
           "Operative"
          ],
          [
           "Automatic",
           "Operative"
          ],
          [
           "Automatic",
           "Operative"
          ],
          [
           "Automatic",
           "Operative"
          ],
          [
           "Automatic",
           "Operative"
          ],
          [
           "Automatic",
           "Operative"
          ],
          [
           "Automatic",
           "Operative"
          ],
          [
           "Automatic",
           "Operative"
          ],
          [
           "Automatic",
           "Operative"
          ],
          [
           "Automatic",
           "Operative"
          ],
          [
           "Automatic",
           "Operative"
          ],
          [
           "Automatic",
           "Operative"
          ],
          [
           "Automatic",
           "Operative"
          ],
          [
           "Automatic",
           "Operative"
          ],
          [
           "Automatic",
           "Operative"
          ],
          [
           "Automatic",
           "Operative"
          ],
          [
           "Automatic",
           "Operative"
          ],
          [
           "Automatic",
           "Operative"
          ],
          [
           "Automatic",
           "Operative"
          ],
          [
           "Automatic",
           "Operative"
          ],
          [
           "Automatic",
           "Operative"
          ],
          [
           "Automatic",
           "Operative"
          ],
          [
           "Automatic",
           "Operative"
          ],
          [
           "Automatic",
           "Operative"
          ],
          [
           "Automatic",
           "Operative"
          ],
          [
           "Automatic",
           "Operative"
          ],
          [
           "Automatic",
           "Operative"
          ],
          [
           "Automatic",
           "Operative"
          ],
          [
           "Automatic",
           "Operative"
          ],
          [
           "Automatic",
           "Operative"
          ],
          [
           "Automatic",
           "Operative"
          ],
          [
           "Automatic",
           "Operative"
          ],
          [
           "Automatic",
           "Operative"
          ],
          [
           "Automatic",
           "Operative"
          ],
          [
           "Automatic",
           "Operative"
          ],
          [
           "Automatic",
           "Operative"
          ],
          [
           "Automatic",
           "Operative"
          ],
          [
           "Automatic",
           "Operative"
          ],
          [
           "Automatic",
           "Operative"
          ],
          [
           "Automatic",
           "Operative"
          ],
          [
           "Automatic",
           "Operative"
          ],
          [
           "Traditional",
           "Operative"
          ],
          [
           "Traditional",
           "Operative"
          ],
          [
           "Traditional",
           "Operative"
          ],
          [
           "Traditional",
           "Operative"
          ],
          [
           "Traditional",
           "Operative"
          ],
          [
           "Traditional",
           "Operative"
          ],
          [
           "Traditional",
           "Operative"
          ],
          [
           "Traditional",
           "Operative"
          ],
          [
           "Traditional",
           "Operative"
          ],
          [
           "Traditional",
           "Operative"
          ],
          [
           "Traditional",
           "Operative"
          ],
          [
           "Traditional",
           "Operative"
          ],
          [
           "Traditional",
           "Operative"
          ],
          [
           "Traditional",
           "Operative"
          ],
          [
           "Traditional",
           "Operative"
          ],
          [
           "Traditional",
           "Operative"
          ],
          [
           "Traditional",
           "Operative"
          ],
          [
           "Traditional",
           "Operative"
          ],
          [
           "Traditional",
           "Operative"
          ],
          [
           "Traditional",
           "Operative"
          ],
          [
           "Traditional",
           "Operative"
          ],
          [
           "Traditional",
           "Operative"
          ],
          [
           "Traditional",
           "Operative"
          ],
          [
           "Traditional",
           "Operative"
          ],
          [
           "Traditional",
           "Operative"
          ],
          [
           "Traditional",
           "Operative"
          ],
          [
           "Traditional",
           "Operative"
          ],
          [
           "Traditional",
           "Operative"
          ],
          [
           "Traditional",
           "Operative"
          ],
          [
           "Traditional",
           "Operative"
          ],
          [
           "Traditional",
           "Operative"
          ],
          [
           "Traditional",
           "Operative"
          ],
          [
           "Traditional",
           "Operative"
          ],
          [
           "Traditional",
           "Operative"
          ],
          [
           "Traditional",
           "Operative"
          ],
          [
           "Traditional",
           "Operative"
          ],
          [
           "Traditional",
           "Operative"
          ],
          [
           "Traditional",
           "Operative"
          ],
          [
           "Traditional",
           "Operative"
          ],
          [
           "Traditional",
           "Operative"
          ],
          [
           "Traditional",
           "Operative"
          ],
          [
           "Traditional",
           "Operative"
          ],
          [
           "Traditional",
           "Operative"
          ],
          [
           "Traditional",
           "Operative"
          ],
          [
           "Traditional",
           "Operative"
          ],
          [
           "Traditional",
           "Operative"
          ],
          [
           "Traditional",
           "Operative"
          ],
          [
           "Traditional",
           "Operative"
          ],
          [
           "Traditional",
           "Operative"
          ],
          [
           "Traditional",
           "Operative"
          ],
          [
           "Traditional",
           "Operative"
          ],
          [
           "Traditional",
           "Operative"
          ],
          [
           "Traditional",
           "Operative"
          ],
          [
           "Traditional",
           "Operative"
          ],
          [
           "Traditional",
           "Operative"
          ],
          [
           "Traditional",
           "Operative"
          ],
          [
           "Traditional",
           "Operative"
          ],
          [
           "Traditional",
           "Operative"
          ],
          [
           "Traditional",
           "Operative"
          ],
          [
           "Traditional",
           "Operative"
          ],
          [
           "Traditional",
           "Operative"
          ],
          [
           "Traditional",
           "Operative"
          ],
          [
           "Traditional",
           "Operative"
          ],
          [
           "Traditional",
           "Operative"
          ],
          [
           "Traditional",
           "Operative"
          ],
          [
           "Traditional",
           "Operative"
          ],
          [
           "Traditional",
           "Operative"
          ],
          [
           "Traditional",
           "Operative"
          ],
          [
           "Traditional",
           "Operative"
          ],
          [
           "Traditional",
           "Operative"
          ],
          [
           "Traditional",
           "Operative"
          ],
          [
           "Traditional",
           "Operative"
          ],
          [
           "Traditional",
           "Operative"
          ],
          [
           "Traditional",
           "Operative"
          ],
          [
           "Traditional",
           "Operative"
          ],
          [
           "Traditional",
           "Operative"
          ],
          [
           "Traditional",
           "Operative"
          ],
          [
           "Traditional",
           "Operative"
          ],
          [
           "Traditional",
           "Operative"
          ],
          [
           "Traditional",
           "Operative"
          ],
          [
           "Traditional",
           "Operative"
          ],
          [
           "Traditional",
           "Operative"
          ],
          [
           "Traditional",
           "Operative"
          ],
          [
           "Traditional",
           "Operative"
          ],
          [
           "Traditional",
           "Operative"
          ],
          [
           "Traditional",
           "Operative"
          ],
          [
           "Traditional",
           "Operative"
          ],
          [
           "Traditional",
           "Operative"
          ],
          [
           "Traditional",
           "Operative"
          ],
          [
           "Traditional",
           "Operative"
          ],
          [
           "Traditional",
           "Operative"
          ],
          [
           "Traditional",
           "Operative"
          ],
          [
           "Traditional",
           "Operative"
          ],
          [
           "Traditional",
           "Operative"
          ],
          [
           "Traditional",
           "Operative"
          ],
          [
           "Traditional",
           "Operative"
          ],
          [
           "Traditional",
           "Operative"
          ],
          [
           "Traditional",
           "Operative"
          ],
          [
           "Traditional",
           "Operative"
          ],
          [
           "Traditional",
           "Operative"
          ],
          [
           "Traditional",
           "Operative"
          ],
          [
           "Traditional",
           "Operative"
          ],
          [
           "Traditional",
           "Operative"
          ],
          [
           "Traditional",
           "Operative"
          ],
          [
           "Traditional",
           "Operative"
          ],
          [
           "Traditional",
           "Operative"
          ],
          [
           "Traditional",
           "Operative"
          ],
          [
           "Traditional",
           "Operative"
          ],
          [
           "Traditional",
           "Operative"
          ],
          [
           "Traditional",
           "Operative"
          ],
          [
           "Traditional",
           "Operative"
          ],
          [
           "Traditional",
           "Operative"
          ],
          [
           "Traditional",
           "Operative"
          ],
          [
           "Traditional",
           "Operative"
          ],
          [
           "Traditional",
           "Operative"
          ],
          [
           "Traditional",
           "Operative"
          ],
          [
           "Traditional",
           "Operative"
          ],
          [
           "Traditional",
           "Operative"
          ],
          [
           "Traditional",
           "Operative"
          ],
          [
           "Traditional",
           "Operative"
          ],
          [
           "Traditional",
           "Operative"
          ],
          [
           "Traditional",
           "Operative"
          ],
          [
           "Traditional",
           "Operative"
          ],
          [
           "Traditional",
           "Operative"
          ],
          [
           "Traditional",
           "Operative"
          ],
          [
           "Traditional",
           "Operative"
          ],
          [
           "Traditional",
           "Operative"
          ],
          [
           "Traditional",
           "Operative"
          ],
          [
           "Traditional",
           "Operative"
          ],
          [
           "Traditional",
           "Operative"
          ],
          [
           "Traditional",
           "Operative"
          ],
          [
           "Traditional",
           "Operative"
          ],
          [
           "Traditional",
           "Operative"
          ],
          [
           "Traditional",
           "Operative"
          ],
          [
           "Traditional",
           "Operative"
          ],
          [
           "Traditional",
           "Operative"
          ],
          [
           "Traditional",
           "Operative"
          ],
          [
           "Traditional",
           "Operative"
          ],
          [
           "Traditional",
           "Operative"
          ],
          [
           "Traditional",
           "Operative"
          ],
          [
           "Traditional",
           "Operative"
          ],
          [
           "Traditional",
           "Operative"
          ],
          [
           "Traditional",
           "Operative"
          ],
          [
           "Traditional",
           "Operative"
          ],
          [
           "Traditional",
           "Operative"
          ],
          [
           "Traditional",
           "Operative"
          ],
          [
           "Traditional",
           "Operative"
          ],
          [
           "Traditional",
           "Operative"
          ],
          [
           "Traditional",
           "Operative"
          ],
          [
           "Traditional",
           "Operative"
          ],
          [
           "Traditional",
           "Operative"
          ],
          [
           "Traditional",
           "Operative"
          ],
          [
           "Traditional",
           "Operative"
          ],
          [
           "Traditional",
           "Operative"
          ],
          [
           "Traditional",
           "Operative"
          ],
          [
           "Traditional",
           "Operative"
          ],
          [
           "Traditional",
           "Operative"
          ],
          [
           "Traditional",
           "Operative"
          ],
          [
           "Traditional",
           "Operative"
          ],
          [
           "Traditional",
           "Operative"
          ],
          [
           "Traditional",
           "Operative"
          ]
         ],
         "hovertemplate": "<b>%{hovertext}</b><br><br>CD_SITUATION=%{customdata[1]}<br>LATITUDE=%{lat}<br>LONGITUDE=%{lon}<br>TP_STATION=%{customdata[0]}<extra></extra>",
         "hovertext": [
          "ACARAU",
          "AFONSO CLAUDIO",
          "AGUA BOA",
          "AGUA CLARA",
          "AGUAS EMENDADAS",
          "AGUAS VERMELHAS",
          "AIMORES",
          "ALEGRE",
          "ALEGRETE",
          "ALFREDO CHAVES",
          "ALMENARA",
          "ALTAMIRA",
          "ALTO ARAGUAIA",
          "ALTO PARNAIBA",
          "ALTO TAQUARI",
          "ALVORADA DO GURGUEIA",
          "ANGICAL DO PIAUI",
          "ANGRA DOS REIS",
          "APODI",
          "APUI",
          "ARACUAI",
          "ARAGARCAS",
          "ARAGUACU",
          "ARAGUAINA",
          "ARAPIRACA",
          "ARARANGUA",
          "ARAXA",
          "ARCO VERDE",
          "AREIA",
          "ARIRANHA",
          "ARRAIAL DO CABO",
          "AUTAZES",
          "AVARE",
          "BACABAL",
          "BAGE",
          "BAIXA GRANDE DO RIBEIRO",
          "BALSAS",
          "BAMBUI",
          "BARBACENA",
          "BARCELOS",
          "BARRA",
          "BARRA BONITA",
          "BARRA DO CORDA",
          "BARRA DO TURVO",
          "BARREIRAS",
          "BARRETOS",
          "BARUERI",
          "BATAGUASSU",
          "BAURU",
          "BELEM",
          "BELO HORIZONTE (PAMPULHA)",
          "BELO HORIZONTE - CERCADINHO",
          "BENTO GONCALVES",
          "BERTIOGA",
          "BOA VISTA",
          "BOM JARDIM DA SERRA - MORRO DA IGREJA",
          "BOM JESUS DA LAPA",
          "BOM JESUS DO PIAUI",
          "BRAGANCA",
          "BRAGANCA PAULISTA",
          "BRASILIA",
          "BRAZLANDIA",
          "BREJO GRANDE",
          "BRUMADO",
          "BURITICUPU",
          "BURITIRAMA",
          "BURITIS",
          "CABACEIRAS",
          "CACADOR",
          "CACAPAVA DO SUL",
          "CACHOEIRA PAULISTA",
          "CAIAPONIA",
          "CAICO",
          "CALDAS",
          "CAMAQUA",
          "CAMARATUBA",
          "CAMBARA DO SUL",
          "CAMBUCI",
          "CAMPINA DA LAGOA",
          "CAMPINA GRANDE",
          "CAMPINA VERDE",
          "CAMPO BOM",
          "CAMPO GRANDE",
          "CAMPO MAIOR",
          "CAMPO NOVO DOS PARECIS",
          "CAMPO VERDE",
          "CAMPOS DO JORDAO",
          "CAMPOS DOS GOYTACAZES",
          "CAMPOS DOS GOYTACAZES - SAO TOME",
          "CAMPOS NOVOS",
          "CANELA",
          "CANGUCU",
          "CANTO DO BURITI",
          "CAPAO DO LEAO (PELOTAS)",
          "CAPELINHA",
          "CARACOL",
          "CARATINGA",
          "CARMO",
          "CAROLINA",
          "CARUARU",
          "CASA BRANCA",
          "CASSILANDIA",
          "CASTANHAL",
          "CASTELO DO PIAUI",
          "CATALAO",
          "CAXIAS",
          "CHAPADA GAUCHA",
          "CHAPADINHA",
          "CHAPECO",
          "CLEVELANDIA",
          "COARI",
          "COLINAS",
          "COLINAS DO TOCANTINS",
          "COLOMBO",
          "COMODORO",
          "CONCEICAO DAS ALAGOAS",
          "CONCEICAO DO ARAGUAIA",
          "CORONEL PACHECO",
          "CORRENTE",
          "CORRENTINA",
          "CORURIPE",
          "COSTA RICA",
          "COXIM",
          "CRATEUS",
          "CRISTALINA",
          "CRISTALINA (FAZENDA SANTA MONICA)",
          "CRUZ ALTA",
          "CRUZ DAS ALMAS",
          "CUIABA",
          "CURACA",
          "CURITIBA",
          "CURVELO",
          "DIAMANTINA",
          "DIANOPOLIS",
          "DIONISIO CERQUEIRA",
          "DIVINOPOLIS",
          "DOM ELISEU",
          "DOM PEDRITO",
          "DORES DO INDAIA",
          "DUQUE DE CAXIAS - XEREM",
          "ECOPORANGA",
          "EDEIA",
          "ENCRUZILHADA DO SUL",
          "ERECHIM",
          "ESPINOSA",
          "ESTREITO",
          "EUCLIDES DA CUNHA",
          "FEIRA DE SANTANA",
          "FLORESTAL",
          "FLORIANO",
          "FLORIANOPOLIS",
          "FORMIGA",
          "FORMOSA DO RIO PRETO",
          "FORMOSO DO ARAGUAIA",
          "FORTALEZA",
          "FOZ DO IGUACU",
          "FRANCA",
          "FREDERICO WESTPHALEN",
          "GAMA (PONTE ALTA)",
          "GARANHUNS",
          "GAUCHA DO NORTE",
          "GENERAL CARNEIRO",
          "GILBUES",
          "GOIANESIA",
          "GOIANIA",
          "GOIAS",
          "GOIOERE",
          "GOVERNADOR VALADARES",
          "GRAJAU",
          "GUANAMBI",
          "GUANHAES",
          "GUARDA-MOR",
          "GUIRATINGA",
          "GURUPI",
          "HUMAITA",
          "IBIMIRIM",
          "IBIRITE (ROLA MOCA)",
          "IBIRUBA",
          "IBITINGA",
          "IBOTIRAMA",
          "IGUAPE",
          "IGUATU",
          "IMPERATRIZ",
          "INACIO MARTINS",
          "IPANGUACU",
          "IPORA",
          "IRECE",
          "ITABAIANINHA",
          "ITABERABA",
          "ITACOATIARA",
          "ITAITUBA",
          "ITAJAI",
          "ITAOBIM",
          "ITAPACI",
          "ITAPEVA",
          "ITAPIPOCA",
          "ITAPIRA",
          "ITAPOA",
          "ITAQUIRAI",
          "ITATIAIA - AGULHAS NEGRAS",
          "ITIQUIRA",
          "ITIRUCU",
          "ITUIUTABA",
          "ITUMBIARA",
          "ITUPORANGA",
          "ITUVERAVA",
          "IVAI",
          "IVINHEMA",
          "JAGUARAO",
          "JAGUARIBE",
          "JAGUARUANA",
          "JALES",
          "JANUARIA",
          "JAPIRA",
          "JARDIM",
          "JATAI",
          "JOACABA",
          "JOAO PESSOA",
          "JOAO PINHEIRO",
          "JOAQUIM TAVORA",
          "JUIZ DE FORA",
          "LABREA",
          "LAGES",
          "LAGOA DA CONFUSAO",
          "LAGOA VERMELHA",
          "LENCOIS",
          "LINHARES",
          "LINS",
          "LUIZ EDUARDO MAGALHAES",
          "LUZIANIA",
          "Laguna  - Farol de Santa Marta",
          "MACAE",
          "MACAPA",
          "MACEIO",
          "MACHADO",
          "MAJOR VIEIRA",
          "MAL. CANDIDO RONDON",
          "MANACAPURU",
          "MANAUS",
          "MANHUACU",
          "MANICORE",
          "MANTENA",
          "MARAU",
          "MARIA DA FE",
          "MARIANOPOLIS DO TO",
          "MARILANDIA",
          "MARILIA",
          "MARINGA",
          "MATEIROS",
          "MAUES",
          "MEDICILANDIA",
          "MINEIROS",
          "MOCAMBINHO",
          "MONTALVANIA",
          "MONTE ALEGRE DE GOIAS",
          "MONTE VERDE",
          "MONTEIRO",
          "MONTES CLAROS",
          "MORADA NOVA",
          "MORRETES",
          "MORRINHOS",
          "MOSSORO",
          "MURIAE",
          "NATAL",
          "NITEROI",
          "NOVA FATIMA",
          "NOVA FRIBURGO - SALINAS",
          "NOVA MARINGA",
          "NOVA PORTEIRINHA (JANAUBA)",
          "NOVA VENECIA",
          "NOVO ARIPUANA",
          "NOVO REPARTIMENTO",
          "OBIDOS",
          "OEIRAS",
          "OLIVEIRA",
          "OURO BRANCO",
          "PACAJA",
          "PALMARES",
          "PALMAS",
          "PALMEIRA DOS INDIOS",
          "PARACATU",
          "PARANA",
          "PARANAIBA",
          "PARANAPOEMA",
          "PARANATINGA",
          "PARANOA (COOPA-DF)",
          "PARATY",
          "PARAUNA",
          "PARNAIBA",
          "PARQUE ESTADUAL CHANDLESS",
          "PASSA QUATRO",
          "PASSO FUNDO",
          "PASSOS",
          "PATOS",
          "PATOS DE MINAS",
          "PATROCINIO",
          "PAULISTANA",
          "PEIXE",
          "PETROLINA",
          "PIATA",
          "PICO DO COUTO",
          "PICOS",
          "PIRACICABA",
          "PIRANHAS",
          "PIRAPORA",
          "PIRES DO RIO",
          "PIRIPIRI",
          "PIUM",
          "PLACAS",
          "POMPEU",
          "PONTA PORA",
          "PONTES E LACERDA",
          "PORANGATU",
          "PORTO ALEGRE",
          "PORTO DE MOZ",
          "PORTO ESTRELA",
          "PORTO GRANDE",
          "PORTO SEGURO",
          "PORTO VELHO",
          "POSSE",
          "PRADOPOLIS",
          "PREGUICAS",
          "PRESIDENTE FIGUEIREDO",
          "PRESIDENTE KENNEDY",
          "PRESIDENTE PRUDENTE",
          "PRIMAVERA DO LESTE",
          "QUARAI",
          "QUEIMADAS",
          "QUERENCIA",
          "QUIXADA",
          "QUIXERAMOBIM",
          "RANCHARIA",
          "RANCHO QUEIMADO",
          "REDENCAO",
          "REGISTRO",
          "REMANSO",
          "RESENDE",
          "RIBEIRA DO AMPARO",
          "RIO BRILHANTE",
          "RIO CLARO",
          "RIO DE JANEIRO - FORTE DE COPACABANA",
          "RIO DE JANEIRO - JACAREPAGUA",
          "RIO DE JANEIRO - VILA MILITAR",
          "RIO DE JANEIRO-MARAMBAIA",
          "RIO GRANDE",
          "RIO NEGRINHO",
          "RIO PARDO",
          "RIO PARDO DE MINAS",
          "RIO SONO",
          "RIO URUBU",
          "RIO VERDE",
          "RONDON DO PARA",
          "RONDONOPOLIS",
          "ROSARIO OESTE",
          "S. G. DA CACHOEIRA",
          "S.J. DO RIO CLARO",
          "SACRAMENTO",
          "SALGUEIRO",
          "SALINAS",
          "SALINOPOLIS",
          "SALTO DO CEU",
          "SALVADOR",
          "SALVADOR (RADIO FAROL)",
          "SANTA FE DO ARAGUAIA",
          "SANTA MARIA",
          "SANTA MARIA DAS BARREIRAS",
          "SANTA MARIA MADALENA",
          "SANTA RITA DE CASSIA",
          "SANTA ROSA",
          "SANTA ROSA DO TOCANTINS",
          "SANTA TERESA",
          "SANTANA DO LIVRAMENTO",
          "SANTAREM",
          "SANTIAGO",
          "SANTO ANTONIO DO LESTE",
          "SANTO AUGUSTO",
          "SAO BORJA",
          "SAO CARLOS",
          "SAO FELIX  DO ARAGUAIA",
          "SAO FELIX DO XINGU",
          "SAO GABRIEL",
          "SAO GONCALO",
          "SAO JOAO DEL REI",
          "SAO JOAO DO PIAUI",
          "SAO JOAQUIM",
          "SAO JOSE DOS AUSENTES",
          "SAO LUIS",
          "SAO LUIS DO QUITUNDE",
          "SAO LUIZ DO PARAITINGA",
          "SAO LUIZ GONZAGA",
          "SAO MATEUS",
          "SAO MIGUEL ARCANJO",
          "SAO MIGUEL DO ARAGUAIA",
          "SAO MIGUEL DO OESTE",
          "SAO PAULO - INTERLAGOS",
          "SAO PAULO - MIRANTE",
          "SAO RAIMUNDO NONATO",
          "SAO ROMAO",
          "SAO SEBASTIAO DO PARAISO",
          "SAO SIMAO",
          "SAO SIMAO",
          "SAO VICENTE DO SUL",
          "SAPEZAL",
          "SAQUAREMA - SAMPAIO CORREIA",
          "SERAFINA CORREA",
          "SEROPEDICA-ECOLOGIA AGRICOLA",
          "SERRA DOS AIMORES",
          "SERRA DOS CARAJAS",
          "SERRA NOVA DOURADA",
          "SETE LAGOAS",
          "SIDROLANDIA",
          "SILVA JARDIM",
          "SILVANIA",
          "SOBRAL",
          "SOLEDADE",
          "SONORA",
          "SOROCABA",
          "SURUBIM",
          "Santa Vitoria do Palmar - Barra do Chui",
          "TANGARA DA SERRA",
          "TAUA",
          "TEOFILO OTONI",
          "TERESINA",
          "TERESOPOLIS-PARQUE NACIONAL",
          "TEUTONIA",
          "TIANGUA",
          "TIMOTEO",
          "TORRES",
          "TRAMANDAI",
          "TRES LAGOAS",
          "TRES MARIAS",
          "TRES RIOS",
          "TUCUMA",
          "TUCURUI",
          "TUPA",
          "TUPANCIRETA",
          "TURIACU",
          "UBERABA",
          "UBERLANDIA",
          "UNAI",
          "URUCARA",
          "URUCUI",
          "URUGUAIANA",
          "URUSSANGA",
          "VACARIA",
          "VALENCA",
          "VALENCA DO PIAUI",
          "VARGINHA",
          "VENDA NOVA DO IMIGRANTE",
          "VENTANIA",
          "VICOSA",
          "VILA BELA DA SANTISSIMA TRINDADE",
          "VILA VELHA",
          "VILHENA",
          "VITORIA",
          "VITORIA DA CONQUISTA",
          "VOTUPORANGA",
          "XANXERE",
          "XINGUARA",
          "ZE DOCA",
          "AGUA BRANCA",
          "ALAGOINHAS",
          "ALTAMIRA",
          "ALTO DA BOA VISTA",
          "APODI",
          "ARACUAI",
          "ARAGARCAS",
          "ARAGUAINA",
          "ARAXA",
          "ARCOVERDE",
          "AREIA",
          "ARINOS",
          "AVELAR (P.DO ALFERES)",
          "BACABAL",
          "BAGE",
          "BALSAS",
          "BARCELOS",
          "BARRA",
          "BARRA DO CORDA",
          "BARREIRAS",
          "BELEM",
          "BELO HORIZONTE",
          "BELTERRA",
          "BENJAMIN CONSTANT",
          "BOA ESPERANCA",
          "BOA VISTA",
          "BOM JESUS",
          "BOM JESUS DA LAPA",
          "BOM JESUS DO PIAUI",
          "BRASILIA",
          "BREVES",
          "C. DO MATO DENTRO",
          "CABROBO",
          "CAMETA",
          "CAMPINA GRANDE",
          "CAMPOS",
          "CANARANA",
          "CAPARAO",
          "CARACARAI",
          "CARATINGA",
          "CARAVELAS",
          "CARBONITA",
          "CAROLINA",
          "CATALAO",
          "CAXIAS",
          "CAXIAS DO SUL",
          "CEARA MIRIM",
          "CHAPADINHA",
          "CIPO",
          "CODAJAS",
          "COLINAS",
          "CONCEICAO DO ARAGUAIA",
          "CORDEIRO",
          "CORRENTINA",
          "CRUZ ALTA",
          "CRUZ DAS ALMAS",
          "CUIABA",
          "DIAMANTINO",
          "EIRUNEPE",
          "FLORIANO",
          "FONTE BOA",
          "FORMOSA",
          "FORMOSO",
          "FORTALEZA",
          "FRANCA",
          "GARANHUNS",
          "GOIANIA",
          "GUARATINGA",
          "IGUABA GRANDE",
          "IMPERATRIZ",
          "IPAMERI",
          "IRATI",
          "ITABAIANINHA",
          "ITACOATIARA",
          "ITAITUBA",
          "ITAMARANDIBA",
          "ITAPERUNA",
          "JACOBINA",
          "JANUARIA",
          "JATAI",
          "JOAO PESSOA",
          "JUIZ DE FORA",
          "JURAMENTO",
          "LABREA",
          "LAGOA VERMELHA",
          "LAVRAS",
          "LENCOIS",
          "LONDRINA",
          "LUZILANDIA(LAG.DO PIAUI)",
          "MACAPA",
          "MANAUS",
          "MARABA",
          "MARINGA",
          "MONTE ALEGRE",
          "MONTEIRO",
          "MONTES CLAROS",
          "MORADA NOVA",
          "MORRO DO CHAPEU",
          "MUNIZ FREIRE",
          "NATAL",
          "NOVA XAV.(XAVANTINA)",
          "OURICURI",
          "PADRE RICARDO REMETTER",
          "PALMAS",
          "PALMEIRA DOS INDIOS",
          "PAO DE ACUCAR",
          "PARANAIBA",
          "PASSA QUATRO",
          "PASSO FUNDO",
          "PATOS",
          "PAULISTANA",
          "PEDRA AZUL",
          "PEDRO AFONSO",
          "PELOTAS",
          "PETROLINA",
          "PICOS",
          "PIRENOPOLIS",
          "PIRIPIRI",
          "PORTO ALEGRE",
          "PORTO DE MOZ",
          "PORTO DE PEDRAS",
          "PORTO NACIONAL",
          "POSSE",
          "PROPRIA",
          "QUIXERAMOBIM",
          "RESENDE",
          "RIO BRANCO",
          "RIO VERDE",
          "SALINAS",
          "SALVADOR (ONDINA)",
          "SANTA MARIA",
          "SANTA MARIA MADALENA",
          "SANTA VITORIA DO PALMAR",
          "SANTO ANTONIO DE PADUA",
          "SAO CARLOS",
          "SAO GABRIEL DA CACHOEIRA(UAUPES)",
          "SAO GONCALO",
          "SAO JOAO DO PIAUI",
          "SAO LOURENCO",
          "SAO LUIS",
          "SAO LUIZ GONZAGA",
          "SAO PAULO(MIR.de SANTANA)",
          "SAO SIMAO",
          "SAO VICENTE",
          "SERIDO (CAICO)",
          "SERRINHA",
          "SOROCABA",
          "STa. R. DE CASSIA (IBIPETUBA)",
          "SURUBIM",
          "TAGUATINGA",
          "TARAUACA",
          "TEFE",
          "TERESINA",
          "TERESOPOLIS",
          "TRACUATEUA",
          "TUCURUI",
          "TURIACU",
          "UNAI",
          "VITORIA",
          "VITORIA DA CONQUISTA",
          "ZE DOCA"
         ],
         "lat": [
          -3.1211111,
          -20.10416666,
          -14.01638888,
          -20.44444444,
          -15.596491,
          -15.751536,
          -19.53277777,
          -20.75055555,
          -29.70916666,
          -20.63638888,
          -16.16666666,
          -3.27027777,
          -17.33944444,
          -9.10833333,
          -17.8411111,
          -8.44166666,
          -6.08944444,
          -22.97555554,
          -5.62666666,
          -7.20555555,
          -16.84888888,
          -15.90277777,
          -12.59222221,
          -7.10388888,
          -9.80444444,
          -28.931353,
          -19.60583333,
          -8.4336111,
          -6.975451,
          -21.13305554,
          -22.97527777,
          -3.58333333,
          -23.10166666,
          -4.24305555,
          -31.34777777,
          -8.333531,
          -7.45555555,
          -20.0311111,
          -21.22833332,
          -0.98722221,
          -11.08472221,
          -22.4711111,
          -5.50666666,
          -24.96277777,
          -12.12472221,
          -20.55916666,
          -23.52388888,
          -21.75,
          -22.358052,
          -1.411228,
          -19.88388888,
          -19.97999999,
          -29.164581,
          -23.84472221,
          2.81694443,
          -28.12694443,
          -13.25111111,
          -9.08333333,
          -1.04722221,
          -22.95194444,
          -15.78944444,
          -15.59972221,
          -10.47388888,
          -14.18194443,
          -4.32055554,
          -10.72305554,
          -15.52416666,
          -7.48333333,
          -26.819156,
          -30.54527777,
          -22.68888888,
          -16.96694443,
          -6.46749999,
          -21.918066,
          -30.807953,
          -6.56194444,
          -29.04916666,
          -21.58749999,
          -24.57083332,
          -7.225574,
          -19.53921,
          -29.674293,
          -20.447195,
          -4.86416666,
          -13.78583333,
          -15.53138888,
          -22.75027777,
          -21.71472222,
          -22.04166666,
          -27.3886111,
          -29.36888888,
          -31.40333333,
          -8.11805554,
          -31.8025,
          -17.70555555,
          -9.28583333,
          -19.735757,
          -21.938745,
          -7.33722221,
          -8.36527777,
          -21.78055554,
          -19.12249999,
          -1.30083333,
          -5.34916666,
          -18.154779,
          -4.82138888,
          -15.30027777,
          -3.74277777,
          -27.0853111,
          -26.41722221,
          -4.09749999,
          -6.03305554,
          -8.092708,
          -25.322464,
          -13.70805555,
          -19.98586,
          -8.30361111,
          -21.54666666,
          -10.42916666,
          -13.33249999,
          -10.1286111,
          -18.49277777,
          -18.51222222,
          -5.18666666,
          -16.78499999,
          -16.39944444,
          -28.60344,
          -12.67555554,
          -15.559295,
          -9.00138888,
          -25.4486111,
          -18.747711,
          -18.231052,
          -11.59444444,
          -26.286562,
          -20.17333332,
          -4.28055554,
          -31.0025,
          -19.481935,
          -22.58972221,
          -18.29138888,
          -17.33694444,
          -30.54305555,
          -27.65771,
          -14.91222222,
          -6.65333333,
          -10.537233,
          -12.1961111,
          -19.88527777,
          -6.76138888,
          -27.60253,
          -20.455,
          -11.05222222,
          -11.88749999,
          -3.81583333,
          -25.60194444,
          -20.58444444,
          -27.39555555,
          -15.93527777,
          -8.91083333,
          -13.18472221,
          -26.3986111,
          -9.87527777,
          -15.22027777,
          -16.642841,
          -15.93972221,
          -24.18388888,
          -18.830354,
          -5.81611111,
          -14.20805555,
          -18.78694444,
          -17.56138888,
          -16.34166666,
          -11.74583333,
          -7.5525,
          -8.50944444,
          -20.031457,
          -28.65333333,
          -21.85555555,
          -12.19305555,
          -24.67166666,
          -6.39638888,
          -5.55583333,
          -25.567879,
          -5.53499999,
          -16.42305554,
          -11.328998,
          -11.2725,
          -12.52416666,
          -3.13333333,
          -4.27694443,
          -26.95083333,
          -16.575667,
          -14.97972221,
          -23.98194443,
          -3.48416666,
          -22.415,
          -26.08138888,
          -23.449501,
          -22.37388888,
          -17.17499999,
          -13.527828,
          -18.95277777,
          -18.40972222,
          -27.41833332,
          -20.35972222,
          -25.01083333,
          -22.30055555,
          -32.53472221,
          -5.90555555,
          -4.78694444,
          -20.165,
          -15.448089,
          -23.77333332,
          -21.4786111,
          -17.923622,
          -27.16916666,
          -7.16527777,
          -17.78444444,
          -23.505266,
          -21.769965,
          -7.26055555,
          -27.80222222,
          -10.828286,
          -28.222381,
          -12.557854,
          -19.35694444,
          -21.66611111,
          -12.1525,
          -16.26055555,
          -28.60444444,
          -22.3761111,
          0.03499999,
          -9.55111111,
          -21.680722,
          -26.3936111,
          -24.53333333,
          -3.29472221,
          -3.10333333,
          -20.26333333,
          -5.7886111,
          -18.78062,
          -13.90694444,
          -22.314567,
          -9.576389,
          -19.40722222,
          -22.235222,
          -23.40527777,
          -10.43444444,
          -3.39888888,
          -3.51083333,
          -17.45472222,
          -15.085958,
          -14.40833333,
          -13.253521,
          -22.86166666,
          -7.89444444,
          -16.68638888,
          -5.13666666,
          -25.50888888,
          -17.745066,
          -4.90416666,
          -21.105,
          -5.83722221,
          -22.86749999,
          -23.41527777,
          -22.33472221,
          -13.0386111,
          -15.80277777,
          -18.69527777,
          -8.0911111,
          -4.24388888,
          -1.88083332,
          -6.97416666,
          -20.715,
          -20.55666666,
          -3.8436111,
          -8.66666666,
          -10.19083333,
          -9.42027777,
          -17.24444444,
          -12.615,
          -19.69555555,
          -22.65833333,
          -14.42138888,
          -16.012222,
          -23.2236111,
          -16.962536,
          -3.08666666,
          -9.35833333,
          -22.395799,
          -28.226805,
          -20.745237,
          -7.07972221,
          -18.52055554,
          -18.996684,
          -8.132288,
          -12.015377,
          -9.388323,
          -13.155681,
          -22.46472222,
          -7.0711111,
          -22.70305555,
          -9.62222221,
          -17.258064,
          -17.30416666,
          -4.276047,
          -10.47694443,
          -3.86416666,
          -19.23249999,
          -22.5525,
          -15.23444444,
          -13.30944444,
          -30.05361111,
          -1.82194443,
          -15.32472221,
          0.69416666,
          -16.38888888,
          -8.7936111,
          -14.08916666,
          -21.33833333,
          -2.59222221,
          -2.05666666,
          -21.10083333,
          -22.11999999,
          -15.57999999,
          -30.368578,
          -10.98472221,
          -12.60305555,
          -4.97888888,
          -5.17444443,
          -22.37277777,
          -27.6786111,
          -8.04333333,
          -24.53305554,
          -9.62555554,
          -22.45138888,
          -11.05861111,
          -21.77499999,
          -22.653579,
          -22.98833333,
          -22.93999999,
          -22.86138888,
          -23.05027777,
          -32.07888888,
          -26.2486111,
          -29.87222221,
          -15.72305554,
          -9.793363,
          -2.6336111,
          -17.78527777,
          -4.82749999,
          -16.4625,
          -14.82888888,
          -0.125207,
          -13.45388888,
          -19.87527777,
          -8.05805555,
          -16.16027777,
          -0.61888888,
          -15.12472221,
          -13.005515,
          -12.80833333,
          -7.124191,
          -29.72499999,
          -8.72972221,
          -21.95055555,
          -11.00277777,
          -27.89055555,
          -11.42888888,
          -19.988388,
          -30.75055555,
          -2.5025,
          -29.191599,
          -14.92777777,
          -27.854345,
          -28.65,
          -21.980353,
          -11.61888888,
          -6.63972221,
          -30.341438,
          -6.835777,
          -21.106502,
          -8.36444444,
          -28.27564,
          -28.7486111,
          -2.52666666,
          -9.28749999,
          -23.22833332,
          -28.41722221,
          -18.6761111,
          -23.85194444,
          -12.82055554,
          -26.77638888,
          -23.724501,
          -23.49638888,
          -9.03333333,
          -16.36277777,
          -20.91,
          -18.969142,
          -21.46111111,
          -29.70222222,
          -13.30388888,
          -22.8711111,
          -28.70472222,
          -22.75777777,
          -17.79888888,
          -6.07749999,
          -11.98777777,
          -19.45527777,
          -20.98166666,
          -22.64583333,
          -16.67972221,
          -3.74805555,
          -28.859211,
          -17.63527777,
          -23.4261111,
          -7.83972221,
          -33.74222221,
          -14.65,
          -6.01749999,
          -17.89284,
          -5.03472221,
          -22.4486111,
          -29.44916666,
          -3.73222221,
          -19.57388888,
          -29.35027777,
          -30.01027777,
          -20.78333333,
          -18.200855,
          -22.09833333,
          -6.74333333,
          -3.82277777,
          -21.927251,
          -29.0893814,
          -1.66111111,
          -19.71,
          -18.91694443,
          -16.55416666,
          -2.53472221,
          -7.44138888,
          -29.83987,
          -28.53249999,
          -28.513602,
          -22.35805555,
          -6.39916666,
          -21.56638888,
          -20.38555555,
          -24.28027777,
          -20.762607,
          -15.06277777,
          -20.46694443,
          -12.73499999,
          -20.27083332,
          -14.88638888,
          -20.40333333,
          -26.938666,
          -7.110518,
          -3.26916666,
          -9.26472222,
          -12.1486111,
          -3.21416666,
          -22.96583333,
          -5.62666666,
          -16.84888888,
          -15.9025,
          -7.103778,
          -19.60555555,
          -8.433537,
          -6.97555554,
          -15.91527777,
          -22.34749999,
          -4.21805554,
          -31.30555555,
          -7.52944443,
          -0.97416666,
          -11.084858,
          -5.50638888,
          -12.155843,
          -1.43583333,
          -19.93444444,
          -2.64222221,
          -4.3786111,
          -18.53722221,
          2.82944443,
          -28.66944443,
          -13.251097,
          -9.06611111,
          -15.78972221,
          -1.680277,
          -19.020355,
          -8.50388888,
          -2.23972221,
          -7.22555554,
          -21.74249999,
          -13.47083332,
          -20.526119,
          1.83249999,
          -19.73583333,
          -17.73944444,
          -17.533008,
          -7.33722221,
          -18.17027777,
          -4.86722221,
          -29.1961111,
          -5.65333333,
          -3.74277777,
          -11.10138888,
          -3.8411111,
          -6.03305554,
          -8.25916666,
          -22.02222221,
          -13.33249999,
          -28.6261111,
          -12.67527777,
          -15.61999999,
          -14.40611111,
          -6.66166666,
          -6.76166666,
          -2.51583333,
          -15.54916666,
          -14.949727,
          -3.81527777,
          -20.58444444,
          -8.91083333,
          -16.67305554,
          -16.58081,
          -22.84694444,
          -5.53638888,
          -17.72444443,
          -25.502846,
          -11.272334,
          -3.13694444,
          -4.276986,
          -17.85972222,
          -21.20444444,
          -11.17277777,
          -15.448054,
          -17.9236111,
          -7.09527777,
          -21.76999999,
          -16.775057,
          -7.26138888,
          -28.22249999,
          -21.2261111,
          -12.557854,
          -23.32555554,
          -3.46972221,
          -0.04499999,
          -3.10333333,
          -5.36611111,
          -23.4,
          -2,
          -7.89444444,
          -16.68638888,
          -5.13666666,
          -11.547494,
          -20.46583333,
          -5.83722221,
          -14.697917,
          -7.87944443,
          -15.776,
          -10.190897,
          -9.42027777,
          -9.74916666,
          -19.66361111,
          -22.382805,
          -28.2286111,
          -7.05361111,
          -8.13222221,
          -16.00944444,
          -8.9686111,
          -31.78333333,
          -9.3886111,
          -7.08083332,
          -15.85472222,
          -4.2761111,
          -30.05361111,
          -1.751055,
          -9.162012,
          -10.71083333,
          -14.08916666,
          -10.21376,
          -5.17305554,
          -22.45111111,
          -9.95916666,
          -17.78527777,
          -16.154862,
          -13.00583333,
          -29.72472221,
          -21.96805554,
          -33.53166666,
          -21.53694444,
          -21.98027777,
          -0.12527777,
          -6.83583333,
          -8.365,
          -22.126273,
          -2.52666666,
          -28.41722221,
          -23.49638888,
          -21.461019,
          -15.82305554,
          -6.46749999,
          -11.66805554,
          -23.47999999,
          -11.00277777,
          -7.839628,
          -12.40222222,
          -8.16027777,
          -3.38027777,
          -5.03472221,
          -22.41722221,
          -1.06361111,
          -3.76,
          -1.66138888,
          -16.36638888,
          -20.31583333,
          -14.88638888,
          -3.269212
         ],
         "legendgroup": "Operative",
         "lon": [
          -40.08722221,
          -41.10694444,
          -52.21166666,
          -52.87583332,
          -47.625801,
          -41.457787,
          -41.09083333,
          -41.48888888,
          -55.52555554,
          -40.74194444,
          -40.68777777,
          -52.39472221,
          -53.22444443,
          -45.93194443,
          -53.28944444,
          -43.86555555,
          -42.72749999,
          -44.30333333,
          -37.815,
          -59.8886111,
          -42.03527777,
          -52.24527777,
          -49.5286111,
          -48.20111111,
          -36.61916666,
          -49.49792,
          -46.94972221,
          -37.05555555,
          -35.718128,
          -48.84055555,
          -42.02138888,
          -59.12944443,
          -48.9411111,
          -44.79499999,
          -54.01333333,
          -45.094625,
          -46.02749999,
          -46.00888888,
          -43.76777777,
          -62.92416666,
          -43.13888888,
          -48.5575,
          -45.23694444,
          -48.41638888,
          -45.02694443,
          -48.54499999,
          -46.86944443,
          -52.47138888,
          -49.028877,
          -48.439512,
          -43.96944443,
          -43.95861111,
          -51.534202,
          -46.14333333,
          -60.69083333,
          -49.47972221,
          -43.40527777,
          -44.32638888,
          -46.78583333,
          -46.53055554,
          -47.92583332,
          -48.1311111,
          -36.48194443,
          -41.67222221,
          -46.44944444,
          -43.65111111,
          -46.43555555,
          -36.28638888,
          -50.98552,
          -53.46694443,
          -45.00555555,
          -51.81749999,
          -37.08499999,
          -46.382996,
          -51.83424,
          -35.13527777,
          -50.14972221,
          -41.95833333,
          -52.80027777,
          -35.904831,
          -49.518133,
          -51.064042,
          -54.722615,
          -42.14555555,
          -57.8386111,
          -55.13555555,
          -45.60388888,
          -41.34388888,
          -41.05166666,
          -51.21583333,
          -50.82722221,
          -52.70083333,
          -42.97583332,
          -52.40722222,
          -42.38916666,
          -43.32444443,
          -42.137146,
          -42.600936,
          -47.45972222,
          -36.02833332,
          -47.07527777,
          -51.72083332,
          -47.94805555,
          -41.51222222,
          -47.927614,
          -43.3436111,
          -45.61749999,
          -43.35222222,
          -52.6357111,
          -52.3486111,
          -63.14527777,
          -44.23333333,
          -48.478605,
          -49.157733,
          -59.7625,
          -48.151574,
          -49.28277777,
          -43.26111111,
          -45.17305554,
          -44.61749999,
          -36.28638888,
          -53.17138888,
          -54.7361111,
          -40.67222221,
          -47.61305555,
          -47.62583332,
          -53.673597,
          -39.08944444,
          -56.062951,
          -39.9125,
          -49.23055554,
          -44.453785,
          -43.648269,
          -46.84722221,
          -53.633114,
          -44.87499999,
          -47.56388888,
          -54.61805554,
          -45.593932,
          -43.28222221,
          -40.73638888,
          -49.91472222,
          -52.52472221,
          -52.305805,
          -42.80861111,
          -47.41833332,
          -38.996605,
          -38.96749999,
          -44.41694443,
          -43.00333333,
          -48.620096,
          -45.45388888,
          -45.20083333,
          -49.60833333,
          -38.53777777,
          -54.48305554,
          -47.38249999,
          -53.42944443,
          -48.13749999,
          -36.49333333,
          -53.2575,
          -51.35361111,
          -45.34583333,
          -48.98999999,
          -49.220222,
          -50.14138888,
          -53.04888888,
          -41.977007,
          -46.16222222,
          -42.74972221,
          -42.94305555,
          -47.19916666,
          -53.76611111,
          -49.04972221,
          -63.07138888,
          -37.71166666,
          -44.011249,
          -53.11194444,
          -48.79972221,
          -43.21333333,
          -47.54583333,
          -39.26888888,
          -47.45972222,
          -51.077946,
          -36.87222221,
          -51.14888888,
          -41.864504,
          -37.795,
          -40.29972221,
          -58.48277777,
          -55.99305555,
          -48.76194444,
          -41.485588,
          -49.53999999,
          -48.88583333,
          -39.5886111,
          -46.80527777,
          -48.64166666,
          -54.181858,
          -44.70305555,
          -54.50166666,
          -40.119752,
          -49.52499999,
          -49.19194444,
          -49.64694444,
          -47.77527777,
          -50.85388888,
          -53.82277777,
          -53.37583332,
          -38.62777777,
          -37.76666666,
          -50.59499999,
          -44.366313,
          -50.18055554,
          -56.13777777,
          -51.717467,
          -51.55888888,
          -34.81555555,
          -46.11944443,
          -49.946387,
          -43.364329,
          -64.7886111,
          -50.33555555,
          -49.847882,
          -51.512845,
          -41.388808,
          -40.0686111,
          -49.73472221,
          -45.82972221,
          -47.96694443,
          -48.81333333,
          -41.81194444,
          -51.08888888,
          -35.77027777,
          -45.944389,
          -50.36333333,
          -54.01916666,
          -60.62833332,
          -60.01638888,
          -42.18277777,
          -61.28833333,
          -40.986505,
          -38.97222221,
          -45.373049,
          -49.723333,
          -40.53972221,
          -49.965111,
          -51.93277777,
          -45.92194443,
          -57.67388888,
          -52.96333333,
          -52.60111111,
          -44.016036,
          -44.40416666,
          -46.890326,
          -46.04333333,
          -37.12472221,
          -43.84388888,
          -38.35666666,
          -48.80861111,
          -49.101698,
          -37.36694443,
          -42.37583332,
          -35.20805555,
          -43.10194444,
          -50.57777777,
          -42.67694443,
          -57.09222221,
          -43.29694444,
          -40.39055555,
          -60.38055554,
          -49.93944444,
          -55.51972221,
          -42.14694444,
          -44.86444444,
          -43.75611111,
          -50.63805555,
          -35.56805554,
          -48.30194444,
          -36.62027777,
          -46.88166666,
          -47.87194443,
          -51.18166666,
          -52.13444444,
          -54.0361111,
          -47.557417,
          -44.72694443,
          -50.42545,
          -41.78305554,
          -69.92638888,
          -44.961909,
          -52.403582,
          -46.633916,
          -37.27277777,
          -46.44055555,
          -46.985935,
          -41.142945,
          -48.544517,
          -40.523262,
          -41.774125,
          -43.29138888,
          -41.40416666,
          -47.62333332,
          -37.76722221,
          -44.835556,
          -48.28416666,
          -41.794568,
          -49.62944443,
          -54.21638888,
          -44.96416666,
          -55.71638888,
          -59.3461111,
          -49.11749999,
          -51.17472221,
          -52.11166666,
          -57.22583332,
          -51.40388888,
          -39.18249999,
          -63.84583333,
          -46.36638888,
          -48.11388888,
          -42.7075,
          -60.02583332,
          -41.03944444,
          -51.40861111,
          -54.3811111,
          -56.437115,
          -39.61694443,
          -52.1625,
          -39.05722222,
          -39.28944444,
          -50.97472221,
          -49.04194444,
          -50.00694444,
          -47.86416666,
          -42.07722221,
          -44.44499999,
          -38.44416666,
          -54.52805554,
          -44.040916,
          -43.19055555,
          -43.40277777,
          -43.41138888,
          -43.59555555,
          -52.16777777,
          -49.57416666,
          -52.38194443,
          -42.43583333,
          -47.132732,
          -59.60055555,
          -50.965,
          -48.1736111,
          -54.58027777,
          -56.44194444,
          -67.061246,
          -56.67722221,
          -47.43416666,
          -39.0961111,
          -42.31027777,
          -47.35666666,
          -58.12722221,
          -38.50576,
          -38.49583333,
          -48.781267,
          -53.72055554,
          -49.85638888,
          -42.01027777,
          -44.52499999,
          -54.47999999,
          -48.18499999,
          -40.579572,
          -55.40138888,
          -54.72027777,
          -54.885653,
          -53.8836111,
          -53.791179,
          -56.01638888,
          -47.883927,
          -50.72777777,
          -51.95694444,
          -54.310909,
          -38.311583,
          -44.250928,
          -42.2525,
          -49.934617,
          -50.05777777,
          -44.21361111,
          -35.56583333,
          -45.41694443,
          -54.9625,
          -39.86416666,
          -48.16472222,
          -50.33583333,
          -53.50416666,
          -46.677501,
          -46.61999999,
          -42.70111111,
          -45.12388888,
          -47.11416666,
          -50.633449,
          -47.57944443,
          -54.69444444,
          -58.76333333,
          -42.60888888,
          -51.87083332,
          -43.68472221,
          -40.25,
          -50.14222221,
          -51.4261111,
          -44.17333332,
          -54.97194443,
          -42.41555555,
          -48.61805554,
          -40.34583333,
          -52.542387,
          -54.76055555,
          -47.58555555,
          -35.80111111,
          -53.37222221,
          -57.43166666,
          -40.28138888,
          -41.515423,
          -42.80138888,
          -42.98694444,
          -51.82333332,
          -41.01194444,
          -42.62249999,
          -49.73333333,
          -50.13583333,
          -51.71222222,
          -45.459836,
          -43.20833333,
          -51.14194444,
          -49.67499999,
          -50.490251,
          -53.82665025,
          -45.37249999,
          -47.96194444,
          -48.25555555,
          -46.88194443,
          -57.75805555,
          -44.34499999,
          -57.081899,
          -49.31527777,
          -50.882738,
          -43.69555555,
          -41.73999999,
          -45.40416666,
          -41.18999999,
          -50.21027777,
          -42.864013,
          -59.87305554,
          -40.40388888,
          -60.15777777,
          -40.30583333,
          -40.80138888,
          -49.96611111,
          -52.39809,
          -49.926072,
          -45.65111111,
          -37.93805555,
          -38.42527777,
          -52.21305555,
          -43.27916666,
          -37.815,
          -42.06083333,
          -52.24527777,
          -48.20133,
          -46.94972221,
          -37.055365,
          -35.71805554,
          -46.10722222,
          -43.41777777,
          -44.77583332,
          -54.11944443,
          -46.04638888,
          -62.9286111,
          -43.138998,
          -45.23722221,
          -45.008269,
          -48.43722221,
          -43.95222222,
          -54.94388888,
          -70.02999999,
          -40.27222221,
          -60.66194444,
          -50.44194444,
          -43.405365,
          -44.36527777,
          -47.92583332,
          -50.478034,
          -43.433948,
          -39.31527777,
          -49.49972221,
          -35.90472222,
          -41.33277777,
          -52.2711111,
          -41.90913,
          -61.12083332,
          -42.13722221,
          -39.25861111,
          -43.012091,
          -47.45972222,
          -47.95805555,
          -43.35666666,
          -51.18638888,
          -35.42583332,
          -43.35222222,
          -38.52416666,
          -62.05527777,
          -44.23333333,
          -49.26388888,
          -42.36444444,
          -44.61749999,
          -53.61388888,
          -39.08972221,
          -56.10888888,
          -56.44694444,
          -69.86777777,
          -43.00333333,
          -66.10083333,
          -47.33888888,
          -46.235795,
          -38.53777777,
          -47.38249999,
          -36.49333333,
          -49.26388888,
          -39.783182,
          -42.18555555,
          -47.47888888,
          -48.17194443,
          -50.637609,
          -37.794973,
          -58.44277777,
          -55.993087,
          -42.85277777,
          -41.90555555,
          -40.53416666,
          -44.366321,
          -51.71749999,
          -34.8486111,
          -43.36444444,
          -43.667085,
          -64.78999999,
          -51.51277777,
          -44.97972221,
          -41.388808,
          -51.14166666,
          -42.26805554,
          -51.11,
          -60.01638888,
          -49.12527777,
          -51.91666666,
          -54.07638888,
          -37.12472221,
          -43.84388888,
          -38.35666666,
          -41.151165,
          -41.41194444,
          -35.20777777,
          -52.350226,
          -40.09194444,
          -56.072,
          -48.301822,
          -36.62027777,
          -37.43083332,
          -51.19138888,
          -44.966902,
          -52.41194444,
          -37.27388888,
          -41.14305555,
          -41.2811111,
          -48.17722221,
          -52.41666666,
          -40.52333332,
          -41.43499999,
          -48.96611111,
          -41.79444444,
          -51.17472221,
          -52.236186,
          -35.299881,
          -48.40638888,
          -46.36666666,
          -36.842198,
          -39.28722221,
          -44.44472221,
          -67.86888888,
          -50.96472222,
          -42.284921,
          -38.50583333,
          -53.72055554,
          -42.00305555,
          -53.35027777,
          -42.16083333,
          -47.88388888,
          -67.06111111,
          -38.31166666,
          -42.25027777,
          -45.043327,
          -44.21361111,
          -54.9625,
          -46.61999999,
          -47.579512,
          -55.41888888,
          -37.08499999,
          -39.00194444,
          -47.42666666,
          -44.52499999,
          -35.801056,
          -46.43833333,
          -70.7686111,
          -64.72527777,
          -42.80138888,
          -42.97222221,
          -46.86527777,
          -49.66666666,
          -45.37194443,
          -46.88944444,
          -40.31694443,
          -40.80138888,
          -45.651007
         ],
         "marker": {
          "color": "green"
         },
         "mode": "markers",
         "name": "Operative",
         "showlegend": true,
         "subplot": "mapbox",
         "type": "scattermapbox"
        }
       ],
       "layout": {
        "height": 800,
        "legend": {
         "title": {
          "text": "CD_SITUATION"
         },
         "tracegroupgap": 0,
         "x": 0.79,
         "xanchor": "left",
         "y": 0.99,
         "yanchor": "top"
        },
        "mapbox": {
         "center": {
          "lat": -15.166394626457762,
          "lon": -47.57503445435968
         },
         "domain": {
          "x": [
           0,
           1
          ],
          "y": [
           0,
           1
          ]
         },
         "style": "open-street-map",
         "zoom": 3
        },
        "margin": {
         "b": 0,
         "l": 0,
         "r": 0,
         "t": 0
        },
        "template": {
         "data": {
          "bar": [
           {
            "error_x": {
             "color": "#2a3f5f"
            },
            "error_y": {
             "color": "#2a3f5f"
            },
            "marker": {
             "line": {
              "color": "#E5ECF6",
              "width": 0.5
             },
             "pattern": {
              "fillmode": "overlay",
              "size": 10,
              "solidity": 0.2
             }
            },
            "type": "bar"
           }
          ],
          "barpolar": [
           {
            "marker": {
             "line": {
              "color": "#E5ECF6",
              "width": 0.5
             },
             "pattern": {
              "fillmode": "overlay",
              "size": 10,
              "solidity": 0.2
             }
            },
            "type": "barpolar"
           }
          ],
          "carpet": [
           {
            "aaxis": {
             "endlinecolor": "#2a3f5f",
             "gridcolor": "white",
             "linecolor": "white",
             "minorgridcolor": "white",
             "startlinecolor": "#2a3f5f"
            },
            "baxis": {
             "endlinecolor": "#2a3f5f",
             "gridcolor": "white",
             "linecolor": "white",
             "minorgridcolor": "white",
             "startlinecolor": "#2a3f5f"
            },
            "type": "carpet"
           }
          ],
          "choropleth": [
           {
            "colorbar": {
             "outlinewidth": 0,
             "ticks": ""
            },
            "type": "choropleth"
           }
          ],
          "contour": [
           {
            "colorbar": {
             "outlinewidth": 0,
             "ticks": ""
            },
            "colorscale": [
             [
              0,
              "#0d0887"
             ],
             [
              0.1111111111111111,
              "#46039f"
             ],
             [
              0.2222222222222222,
              "#7201a8"
             ],
             [
              0.3333333333333333,
              "#9c179e"
             ],
             [
              0.4444444444444444,
              "#bd3786"
             ],
             [
              0.5555555555555556,
              "#d8576b"
             ],
             [
              0.6666666666666666,
              "#ed7953"
             ],
             [
              0.7777777777777778,
              "#fb9f3a"
             ],
             [
              0.8888888888888888,
              "#fdca26"
             ],
             [
              1,
              "#f0f921"
             ]
            ],
            "type": "contour"
           }
          ],
          "contourcarpet": [
           {
            "colorbar": {
             "outlinewidth": 0,
             "ticks": ""
            },
            "type": "contourcarpet"
           }
          ],
          "heatmap": [
           {
            "colorbar": {
             "outlinewidth": 0,
             "ticks": ""
            },
            "colorscale": [
             [
              0,
              "#0d0887"
             ],
             [
              0.1111111111111111,
              "#46039f"
             ],
             [
              0.2222222222222222,
              "#7201a8"
             ],
             [
              0.3333333333333333,
              "#9c179e"
             ],
             [
              0.4444444444444444,
              "#bd3786"
             ],
             [
              0.5555555555555556,
              "#d8576b"
             ],
             [
              0.6666666666666666,
              "#ed7953"
             ],
             [
              0.7777777777777778,
              "#fb9f3a"
             ],
             [
              0.8888888888888888,
              "#fdca26"
             ],
             [
              1,
              "#f0f921"
             ]
            ],
            "type": "heatmap"
           }
          ],
          "heatmapgl": [
           {
            "colorbar": {
             "outlinewidth": 0,
             "ticks": ""
            },
            "colorscale": [
             [
              0,
              "#0d0887"
             ],
             [
              0.1111111111111111,
              "#46039f"
             ],
             [
              0.2222222222222222,
              "#7201a8"
             ],
             [
              0.3333333333333333,
              "#9c179e"
             ],
             [
              0.4444444444444444,
              "#bd3786"
             ],
             [
              0.5555555555555556,
              "#d8576b"
             ],
             [
              0.6666666666666666,
              "#ed7953"
             ],
             [
              0.7777777777777778,
              "#fb9f3a"
             ],
             [
              0.8888888888888888,
              "#fdca26"
             ],
             [
              1,
              "#f0f921"
             ]
            ],
            "type": "heatmapgl"
           }
          ],
          "histogram": [
           {
            "marker": {
             "pattern": {
              "fillmode": "overlay",
              "size": 10,
              "solidity": 0.2
             }
            },
            "type": "histogram"
           }
          ],
          "histogram2d": [
           {
            "colorbar": {
             "outlinewidth": 0,
             "ticks": ""
            },
            "colorscale": [
             [
              0,
              "#0d0887"
             ],
             [
              0.1111111111111111,
              "#46039f"
             ],
             [
              0.2222222222222222,
              "#7201a8"
             ],
             [
              0.3333333333333333,
              "#9c179e"
             ],
             [
              0.4444444444444444,
              "#bd3786"
             ],
             [
              0.5555555555555556,
              "#d8576b"
             ],
             [
              0.6666666666666666,
              "#ed7953"
             ],
             [
              0.7777777777777778,
              "#fb9f3a"
             ],
             [
              0.8888888888888888,
              "#fdca26"
             ],
             [
              1,
              "#f0f921"
             ]
            ],
            "type": "histogram2d"
           }
          ],
          "histogram2dcontour": [
           {
            "colorbar": {
             "outlinewidth": 0,
             "ticks": ""
            },
            "colorscale": [
             [
              0,
              "#0d0887"
             ],
             [
              0.1111111111111111,
              "#46039f"
             ],
             [
              0.2222222222222222,
              "#7201a8"
             ],
             [
              0.3333333333333333,
              "#9c179e"
             ],
             [
              0.4444444444444444,
              "#bd3786"
             ],
             [
              0.5555555555555556,
              "#d8576b"
             ],
             [
              0.6666666666666666,
              "#ed7953"
             ],
             [
              0.7777777777777778,
              "#fb9f3a"
             ],
             [
              0.8888888888888888,
              "#fdca26"
             ],
             [
              1,
              "#f0f921"
             ]
            ],
            "type": "histogram2dcontour"
           }
          ],
          "mesh3d": [
           {
            "colorbar": {
             "outlinewidth": 0,
             "ticks": ""
            },
            "type": "mesh3d"
           }
          ],
          "parcoords": [
           {
            "line": {
             "colorbar": {
              "outlinewidth": 0,
              "ticks": ""
             }
            },
            "type": "parcoords"
           }
          ],
          "pie": [
           {
            "automargin": true,
            "type": "pie"
           }
          ],
          "scatter": [
           {
            "fillpattern": {
             "fillmode": "overlay",
             "size": 10,
             "solidity": 0.2
            },
            "type": "scatter"
           }
          ],
          "scatter3d": [
           {
            "line": {
             "colorbar": {
              "outlinewidth": 0,
              "ticks": ""
             }
            },
            "marker": {
             "colorbar": {
              "outlinewidth": 0,
              "ticks": ""
             }
            },
            "type": "scatter3d"
           }
          ],
          "scattercarpet": [
           {
            "marker": {
             "colorbar": {
              "outlinewidth": 0,
              "ticks": ""
             }
            },
            "type": "scattercarpet"
           }
          ],
          "scattergeo": [
           {
            "marker": {
             "colorbar": {
              "outlinewidth": 0,
              "ticks": ""
             }
            },
            "type": "scattergeo"
           }
          ],
          "scattergl": [
           {
            "marker": {
             "colorbar": {
              "outlinewidth": 0,
              "ticks": ""
             }
            },
            "type": "scattergl"
           }
          ],
          "scattermapbox": [
           {
            "marker": {
             "colorbar": {
              "outlinewidth": 0,
              "ticks": ""
             }
            },
            "type": "scattermapbox"
           }
          ],
          "scatterpolar": [
           {
            "marker": {
             "colorbar": {
              "outlinewidth": 0,
              "ticks": ""
             }
            },
            "type": "scatterpolar"
           }
          ],
          "scatterpolargl": [
           {
            "marker": {
             "colorbar": {
              "outlinewidth": 0,
              "ticks": ""
             }
            },
            "type": "scatterpolargl"
           }
          ],
          "scatterternary": [
           {
            "marker": {
             "colorbar": {
              "outlinewidth": 0,
              "ticks": ""
             }
            },
            "type": "scatterternary"
           }
          ],
          "surface": [
           {
            "colorbar": {
             "outlinewidth": 0,
             "ticks": ""
            },
            "colorscale": [
             [
              0,
              "#0d0887"
             ],
             [
              0.1111111111111111,
              "#46039f"
             ],
             [
              0.2222222222222222,
              "#7201a8"
             ],
             [
              0.3333333333333333,
              "#9c179e"
             ],
             [
              0.4444444444444444,
              "#bd3786"
             ],
             [
              0.5555555555555556,
              "#d8576b"
             ],
             [
              0.6666666666666666,
              "#ed7953"
             ],
             [
              0.7777777777777778,
              "#fb9f3a"
             ],
             [
              0.8888888888888888,
              "#fdca26"
             ],
             [
              1,
              "#f0f921"
             ]
            ],
            "type": "surface"
           }
          ],
          "table": [
           {
            "cells": {
             "fill": {
              "color": "#EBF0F8"
             },
             "line": {
              "color": "white"
             }
            },
            "header": {
             "fill": {
              "color": "#C8D4E3"
             },
             "line": {
              "color": "white"
             }
            },
            "type": "table"
           }
          ]
         },
         "layout": {
          "annotationdefaults": {
           "arrowcolor": "#2a3f5f",
           "arrowhead": 0,
           "arrowwidth": 1
          },
          "autotypenumbers": "strict",
          "coloraxis": {
           "colorbar": {
            "outlinewidth": 0,
            "ticks": ""
           }
          },
          "colorscale": {
           "diverging": [
            [
             0,
             "#8e0152"
            ],
            [
             0.1,
             "#c51b7d"
            ],
            [
             0.2,
             "#de77ae"
            ],
            [
             0.3,
             "#f1b6da"
            ],
            [
             0.4,
             "#fde0ef"
            ],
            [
             0.5,
             "#f7f7f7"
            ],
            [
             0.6,
             "#e6f5d0"
            ],
            [
             0.7,
             "#b8e186"
            ],
            [
             0.8,
             "#7fbc41"
            ],
            [
             0.9,
             "#4d9221"
            ],
            [
             1,
             "#276419"
            ]
           ],
           "sequential": [
            [
             0,
             "#0d0887"
            ],
            [
             0.1111111111111111,
             "#46039f"
            ],
            [
             0.2222222222222222,
             "#7201a8"
            ],
            [
             0.3333333333333333,
             "#9c179e"
            ],
            [
             0.4444444444444444,
             "#bd3786"
            ],
            [
             0.5555555555555556,
             "#d8576b"
            ],
            [
             0.6666666666666666,
             "#ed7953"
            ],
            [
             0.7777777777777778,
             "#fb9f3a"
            ],
            [
             0.8888888888888888,
             "#fdca26"
            ],
            [
             1,
             "#f0f921"
            ]
           ],
           "sequentialminus": [
            [
             0,
             "#0d0887"
            ],
            [
             0.1111111111111111,
             "#46039f"
            ],
            [
             0.2222222222222222,
             "#7201a8"
            ],
            [
             0.3333333333333333,
             "#9c179e"
            ],
            [
             0.4444444444444444,
             "#bd3786"
            ],
            [
             0.5555555555555556,
             "#d8576b"
            ],
            [
             0.6666666666666666,
             "#ed7953"
            ],
            [
             0.7777777777777778,
             "#fb9f3a"
            ],
            [
             0.8888888888888888,
             "#fdca26"
            ],
            [
             1,
             "#f0f921"
            ]
           ]
          },
          "colorway": [
           "#636efa",
           "#EF553B",
           "#00cc96",
           "#ab63fa",
           "#FFA15A",
           "#19d3f3",
           "#FF6692",
           "#B6E880",
           "#FF97FF",
           "#FECB52"
          ],
          "font": {
           "color": "#2a3f5f"
          },
          "geo": {
           "bgcolor": "white",
           "lakecolor": "white",
           "landcolor": "#E5ECF6",
           "showlakes": true,
           "showland": true,
           "subunitcolor": "white"
          },
          "hoverlabel": {
           "align": "left"
          },
          "hovermode": "closest",
          "mapbox": {
           "style": "light"
          },
          "paper_bgcolor": "white",
          "plot_bgcolor": "#E5ECF6",
          "polar": {
           "angularaxis": {
            "gridcolor": "white",
            "linecolor": "white",
            "ticks": ""
           },
           "bgcolor": "#E5ECF6",
           "radialaxis": {
            "gridcolor": "white",
            "linecolor": "white",
            "ticks": ""
           }
          },
          "scene": {
           "xaxis": {
            "backgroundcolor": "#E5ECF6",
            "gridcolor": "white",
            "gridwidth": 2,
            "linecolor": "white",
            "showbackground": true,
            "ticks": "",
            "zerolinecolor": "white"
           },
           "yaxis": {
            "backgroundcolor": "#E5ECF6",
            "gridcolor": "white",
            "gridwidth": 2,
            "linecolor": "white",
            "showbackground": true,
            "ticks": "",
            "zerolinecolor": "white"
           },
           "zaxis": {
            "backgroundcolor": "#E5ECF6",
            "gridcolor": "white",
            "gridwidth": 2,
            "linecolor": "white",
            "showbackground": true,
            "ticks": "",
            "zerolinecolor": "white"
           }
          },
          "shapedefaults": {
           "line": {
            "color": "#2a3f5f"
           }
          },
          "ternary": {
           "aaxis": {
            "gridcolor": "white",
            "linecolor": "white",
            "ticks": ""
           },
           "baxis": {
            "gridcolor": "white",
            "linecolor": "white",
            "ticks": ""
           },
           "bgcolor": "#E5ECF6",
           "caxis": {
            "gridcolor": "white",
            "linecolor": "white",
            "ticks": ""
           }
          },
          "title": {
           "x": 0.05
          },
          "xaxis": {
           "automargin": true,
           "gridcolor": "white",
           "linecolor": "white",
           "ticks": "",
           "title": {
            "standoff": 15
           },
           "zerolinecolor": "white",
           "zerolinewidth": 2
          },
          "yaxis": {
           "automargin": true,
           "gridcolor": "white",
           "linecolor": "white",
           "ticks": "",
           "title": {
            "standoff": 15
           },
           "zerolinecolor": "white",
           "zerolinewidth": 2
          }
         }
        },
        "width": 600
       }
      },
      "text/html": [
       "<div>                            <div id=\"94899fd1-afd0-4b61-81f6-60d953e5c6e2\" class=\"plotly-graph-div\" style=\"height:800px; width:600px;\"></div>            <script type=\"text/javascript\">                require([\"plotly\"], function(Plotly) {                    window.PLOTLYENV=window.PLOTLYENV || {};                                    if (document.getElementById(\"94899fd1-afd0-4b61-81f6-60d953e5c6e2\")) {                    Plotly.newPlot(                        \"94899fd1-afd0-4b61-81f6-60d953e5c6e2\",                        [{\"customdata\":[[\"Automatic\",\"Down\"],[\"Automatic\",\"Down\"],[\"Automatic\",\"Down\"],[\"Automatic\",\"Down\"],[\"Automatic\",\"Down\"],[\"Automatic\",\"Down\"],[\"Automatic\",\"Down\"],[\"Automatic\",\"Down\"],[\"Automatic\",\"Down\"],[\"Automatic\",\"Down\"],[\"Automatic\",\"Down\"],[\"Automatic\",\"Down\"],[\"Automatic\",\"Down\"],[\"Automatic\",\"Down\"],[\"Automatic\",\"Down\"],[\"Automatic\",\"Down\"],[\"Automatic\",\"Down\"],[\"Automatic\",\"Down\"],[\"Automatic\",\"Down\"],[\"Automatic\",\"Down\"],[\"Automatic\",\"Down\"],[\"Automatic\",\"Down\"],[\"Automatic\",\"Down\"],[\"Automatic\",\"Down\"],[\"Automatic\",\"Down\"],[\"Automatic\",\"Down\"],[\"Automatic\",\"Down\"],[\"Automatic\",\"Down\"],[\"Automatic\",\"Down\"],[\"Automatic\",\"Down\"],[\"Automatic\",\"Down\"],[\"Automatic\",\"Down\"],[\"Automatic\",\"Down\"],[\"Automatic\",\"Down\"],[\"Automatic\",\"Down\"],[\"Automatic\",\"Down\"],[\"Automatic\",\"Down\"],[\"Automatic\",\"Down\"],[\"Automatic\",\"Down\"],[\"Automatic\",\"Down\"],[\"Automatic\",\"Down\"],[\"Automatic\",\"Down\"],[\"Automatic\",\"Down\"],[\"Automatic\",\"Down\"],[\"Automatic\",\"Down\"],[\"Automatic\",\"Down\"],[\"Automatic\",\"Down\"],[\"Automatic\",\"Down\"],[\"Automatic\",\"Down\"],[\"Automatic\",\"Down\"],[\"Automatic\",\"Down\"],[\"Automatic\",\"Down\"],[\"Automatic\",\"Down\"],[\"Automatic\",\"Down\"],[\"Automatic\",\"Down\"],[\"Automatic\",\"Down\"],[\"Automatic\",\"Down\"],[\"Automatic\",\"Down\"],[\"Automatic\",\"Down\"],[\"Automatic\",\"Down\"],[\"Automatic\",\"Down\"],[\"Automatic\",\"Down\"],[\"Automatic\",\"Down\"],[\"Automatic\",\"Down\"],[\"Automatic\",\"Down\"],[\"Automatic\",\"Down\"],[\"Automatic\",\"Down\"],[\"Automatic\",\"Down\"],[\"Automatic\",\"Down\"],[\"Automatic\",\"Down\"],[\"Automatic\",\"Down\"],[\"Automatic\",\"Down\"],[\"Automatic\",\"Down\"],[\"Automatic\",\"Down\"],[\"Automatic\",\"Down\"],[\"Automatic\",\"Down\"],[\"Automatic\",\"Down\"],[\"Automatic\",\"Down\"],[\"Automatic\",\"Down\"],[\"Automatic\",\"Down\"],[\"Automatic\",\"Down\"],[\"Automatic\",\"Down\"],[\"Automatic\",\"Down\"],[\"Automatic\",\"Down\"],[\"Automatic\",\"Down\"],[\"Automatic\",\"Down\"],[\"Automatic\",\"Down\"],[\"Automatic\",\"Down\"],[\"Automatic\",\"Down\"],[\"Automatic\",\"Down\"],[\"Automatic\",\"Down\"],[\"Automatic\",\"Down\"],[\"Automatic\",\"Down\"],[\"Automatic\",\"Down\"],[\"Automatic\",\"Down\"],[\"Automatic\",\"Down\"],[\"Automatic\",\"Down\"],[\"Automatic\",\"Down\"],[\"Automatic\",\"Down\"],[\"Automatic\",\"Down\"],[\"Automatic\",\"Down\"],[\"Automatic\",\"Down\"],[\"Automatic\",\"Down\"],[\"Automatic\",\"Down\"],[\"Automatic\",\"Down\"],[\"Automatic\",\"Down\"],[\"Automatic\",\"Down\"],[\"Automatic\",\"Down\"],[\"Automatic\",\"Down\"],[\"Automatic\",\"Down\"],[\"Automatic\",\"Down\"],[\"Automatic\",\"Down\"],[\"Automatic\",\"Down\"]],\"hovertemplate\":\"<b>%{hovertext}</b><br><br>CD_SITUATION=%{customdata[1]}<br>LATITUDE=%{lat}<br>LONGITUDE=%{lon}<br>TP_STATION=%{customdata[0]}<extra></extra>\",\"hovertext\":[\"ABROLHOS\",\"ALMAS\",\"ALTA FLORESTA\",\"ALTO PARAISO DE GOIAS\",\"AMAMBAI\",\"AMARGOSA\",\"APIACAS\",\"AQUIDAUANA\",\"ARACAJU\",\"ARAGUATINS\",\"ARIQUEMES\",\"BARBALHA\",\"BEBEDOURO\",\"BELA VISTA\",\"BELMONTE\",\"BOCA DO ACRE\",\"BRASNORTE (NOVO MUNDO)\",\"BREVES\",\"CABROBO\",\"CACOAL\",\"CALCANHAR\",\"CAMETA\",\"CAMPOS LINDOS\",\"CAMPOS SALES\",\"CAPITAO POCO\",\"CARAVELAS\",\"CARIRA\",\"CARLINDA\",\"CASTRO\",\"CHAPADAO DO SUL\",\"CIDADE GAUCHA\",\"CONDE\",\"CORUMBA\",\"COTRIGUACU\",\"CRUZEIRO DO SUL\",\"CURITIBANOS\",\"DELFINO\",\"DIAMANTE DO NORTE\",\"DOIS VIZINHOS\",\"DOURADOS\",\"DRACENA\",\"EIRUNEPE\",\"EPITACIOLANDIA\",\"FAROL de SANTANA\",\"FEIJO\",\"FLORESTA\",\"GUARAMIRANGA\",\"GUARANTA DO NORTE\",\"ICARAIMA\",\"ILHEUS\",\"INDAIAL\",\"IPIAU\",\"ITABAIANA\",\"ITAMARAJU\",\"ITAPETINGA\",\"ITAPORANGA\",\"ITAUBAL\",\"JACOBINA\",\"JEREMOABO\",\"JOSE BONIFACIO\",\"JUARA\",\"JUINA\",\"JUTI\",\"LARANJEIRAS DO SUL\",\"MACAJUBA\",\"MACAU\",\"MARABA\",\"MARACAJU\",\"MARECHAL THAUMATURGO\",\"MINA DO PALITO\",\"MIRANDA\",\"MONTE ALEGRE\",\"MOSTARDAS\",\"NHUMIRIM\",\"NOSSA SENHORA DA GLORIA\",\"NOVA TEBAS\",\"NOVA UBIRATA\",\"NOVO HORIZONTE\",\"OIAPOQUE\",\"OURICURI\",\"OURINHOS\",\"PALMEIRA DAS MISSOES\",\"PAO DE ACUCAR\",\"PARAGOMINAS\",\"PARINTINS\",\"PEDRO AFONSO\",\"PILAO ARCADO\",\"PLANALTO\",\"POCO VERDE\",\"PORTO MURTINHO\",\"PORTO WALTER\",\"RECIFE\",\"RIO BRANCO\",\"RIO DO CAMPO\",\"SANTA CRUZ\",\"SANTANA DO ARAGUAIA\",\"SAO GABRIEL DO OESTE\",\"SAO JOSE DO XINGU\",\"SAO MATEUS DO SUL\",\"SAO SEBASTIAO\",\"SENHOR DO BONFIM\",\"SERRA TALHADA\",\"SERRINHA\",\"SETE QUEDAS\",\"SINOP\",\"SORRISO\",\"SOURE\",\"TAUBATE\",\"TOME ACU\",\"UAUA\",\"UNA\",\"VALENCA\",\"VALPARAISO\"],\"lat\":[-17.96305555,-11.28416666,-10.07722221,-14.13305554,-23.0025,-13.00944444,-9.56333333,-20.47555554,-10.9525,-5.6436111,-9.94888888,-7.30083333,-20.94916666,-22.10166666,-16.08805555,-8.77666666,-12.52194443,-1.68027777,-8.50388888,-11.44583333,-5.16,-2.23972221,-8.15472222,-7.07777777,-1.73472221,-17.73944444,-10.39972221,-9.97055554,-24.78694444,-18.80222222,-23.35916666,-12.03583333,-18.99666666,-9.90638888,-7.61083333,-27.2886111,-10.455,-22.63944444,-25.69916666,-22.19388888,-21.45777777,-6.65027777,-11.02388888,-2.27083332,-8.14277777,-8.59888888,-4.26138888,-9.9525,-23.39027777,-14.65888888,-26.91361111,-14.17138888,-10.67166666,-17.00694444,-15.24472221,-7.31833332,0.56777777,-11.205,-10.08083332,-21.08555555,-11.28027777,-11.37499999,-22.85722222,-25.36888888,-12.13166666,-5.15111111,-5.36638888,-21.60916666,-8.95,-6.31999999,-20.39555555,-2.0,-31.24833333,-18.9886111,-10.20777777,-24.43722221,-13.41111111,-26.40638888,3.81361111,-7.88583333,-22.94888888,-27.92027777,-9.74916666,-2.9911111,-2.63916666,-8.9686111,-10.01833332,-25.72194443,-10.73805555,-21.70583333,-8.26722221,-8.05916666,-9.67972221,-26.93749999,-6.22805554,-9.3386111,-19.42027777,-10.48416666,-25.83555555,-23.81083333,-10.44305555,-7.95416666,-11.66472222,-23.96694443,-11.98222221,-12.555,-0.72777777,-23.04166666,-2.59249999,-9.8336111,-15.28027777,-13.3436111,-21.31916666],\"legendgroup\":\"Down\",\"lon\":[-38.70333333,-47.21222222,-56.17916666,-47.52333332,-55.32944443,-39.61694443,-57.3936111,-55.78388888,-37.05444444,-48.11194444,-62.96194444,-39.2711111,-48.48999999,-56.54083333,-39.21527777,-67.33249999,-58.23138888,-50.47805554,-39.31527777,-61.43416666,-35.48749999,-49.49972221,-46.63944444,-40.36277777,-47.0575,-39.25861111,-37.74749999,-55.82749999,-49.99916666,-52.6025,-52.93194443,-37.68388888,-57.63749999,-58.57222221,-72.68138888,-50.60416666,-41.20694444,-52.89027777,-53.09527777,-54.91138888,-51.55222222,-69.8686111,-68.73527777,-43.62416666,-70.3436111,-38.58416666,-38.9311111,-54.89777777,-53.63583333,-39.18138888,-49.26805554,-39.69249999,-37.47138888,-39.55805555,-40.22944443,-38.14083333,-50.8236111,-40.465,-38.34583333,-49.92027777,-57.52666666,-58.77472221,-54.60555555,-52.39194444,-40.35416666,-36.57305554,-49.05111111,-55.17749999,-72.78666666,-55.78777777,-56.43166666,-54.07638888,-50.90638888,-56.62277777,-37.43194443,-51.96305555,-54.75222222,-52.85027777,-51.8625,-40.10277777,-49.89444444,-53.31805554,-37.43083332,-47.35638888,-56.75611111,-48.17722221,-42.50027777,-53.74805555,-38.10833333,-57.88666666,-72.74777777,-34.95916666,-68.16527777,-50.14555555,-36.02666666,-50.35027777,-54.55305555,-52.37249999,-50.36888888,-45.4025,-40.14833333,-38.29499999,-39.02305554,-55.02416666,-55.56611111,-55.72277777,-48.51583333,-45.52083332,-48.36055555,-39.49555555,-39.09138888,-39.12666666,-50.93027777],\"marker\":{\"color\":\"red\"},\"mode\":\"markers\",\"name\":\"Down\",\"showlegend\":true,\"subplot\":\"mapbox\",\"type\":\"scattermapbox\"},{\"customdata\":[[\"Automatic\",\"Operative\"],[\"Automatic\",\"Operative\"],[\"Automatic\",\"Operative\"],[\"Automatic\",\"Operative\"],[\"Automatic\",\"Operative\"],[\"Automatic\",\"Operative\"],[\"Automatic\",\"Operative\"],[\"Automatic\",\"Operative\"],[\"Automatic\",\"Operative\"],[\"Automatic\",\"Operative\"],[\"Automatic\",\"Operative\"],[\"Automatic\",\"Operative\"],[\"Automatic\",\"Operative\"],[\"Automatic\",\"Operative\"],[\"Automatic\",\"Operative\"],[\"Automatic\",\"Operative\"],[\"Automatic\",\"Operative\"],[\"Automatic\",\"Operative\"],[\"Automatic\",\"Operative\"],[\"Automatic\",\"Operative\"],[\"Automatic\",\"Operative\"],[\"Automatic\",\"Operative\"],[\"Automatic\",\"Operative\"],[\"Automatic\",\"Operative\"],[\"Automatic\",\"Operative\"],[\"Automatic\",\"Operative\"],[\"Automatic\",\"Operative\"],[\"Automatic\",\"Operative\"],[\"Automatic\",\"Operative\"],[\"Automatic\",\"Operative\"],[\"Automatic\",\"Operative\"],[\"Automatic\",\"Operative\"],[\"Automatic\",\"Operative\"],[\"Automatic\",\"Operative\"],[\"Automatic\",\"Operative\"],[\"Automatic\",\"Operative\"],[\"Automatic\",\"Operative\"],[\"Automatic\",\"Operative\"],[\"Automatic\",\"Operative\"],[\"Automatic\",\"Operative\"],[\"Automatic\",\"Operative\"],[\"Automatic\",\"Operative\"],[\"Automatic\",\"Operative\"],[\"Automatic\",\"Operative\"],[\"Automatic\",\"Operative\"],[\"Automatic\",\"Operative\"],[\"Automatic\",\"Operative\"],[\"Automatic\",\"Operative\"],[\"Automatic\",\"Operative\"],[\"Automatic\",\"Operative\"],[\"Automatic\",\"Operative\"],[\"Automatic\",\"Operative\"],[\"Automatic\",\"Operative\"],[\"Automatic\",\"Operative\"],[\"Automatic\",\"Operative\"],[\"Automatic\",\"Operative\"],[\"Automatic\",\"Operative\"],[\"Automatic\",\"Operative\"],[\"Automatic\",\"Operative\"],[\"Automatic\",\"Operative\"],[\"Automatic\",\"Operative\"],[\"Automatic\",\"Operative\"],[\"Automatic\",\"Operative\"],[\"Automatic\",\"Operative\"],[\"Automatic\",\"Operative\"],[\"Automatic\",\"Operative\"],[\"Automatic\",\"Operative\"],[\"Automatic\",\"Operative\"],[\"Automatic\",\"Operative\"],[\"Automatic\",\"Operative\"],[\"Automatic\",\"Operative\"],[\"Automatic\",\"Operative\"],[\"Automatic\",\"Operative\"],[\"Automatic\",\"Operative\"],[\"Automatic\",\"Operative\"],[\"Automatic\",\"Operative\"],[\"Automatic\",\"Operative\"],[\"Automatic\",\"Operative\"],[\"Automatic\",\"Operative\"],[\"Automatic\",\"Operative\"],[\"Automatic\",\"Operative\"],[\"Automatic\",\"Operative\"],[\"Automatic\",\"Operative\"],[\"Automatic\",\"Operative\"],[\"Automatic\",\"Operative\"],[\"Automatic\",\"Operative\"],[\"Automatic\",\"Operative\"],[\"Automatic\",\"Operative\"],[\"Automatic\",\"Operative\"],[\"Automatic\",\"Operative\"],[\"Automatic\",\"Operative\"],[\"Automatic\",\"Operative\"],[\"Automatic\",\"Operative\"],[\"Automatic\",\"Operative\"],[\"Automatic\",\"Operative\"],[\"Automatic\",\"Operative\"],[\"Automatic\",\"Operative\"],[\"Automatic\",\"Operative\"],[\"Automatic\",\"Operative\"],[\"Automatic\",\"Operative\"],[\"Automatic\",\"Operative\"],[\"Automatic\",\"Operative\"],[\"Automatic\",\"Operative\"],[\"Automatic\",\"Operative\"],[\"Automatic\",\"Operative\"],[\"Automatic\",\"Operative\"],[\"Automatic\",\"Operative\"],[\"Automatic\",\"Operative\"],[\"Automatic\",\"Operative\"],[\"Automatic\",\"Operative\"],[\"Automatic\",\"Operative\"],[\"Automatic\",\"Operative\"],[\"Automatic\",\"Operative\"],[\"Automatic\",\"Operative\"],[\"Automatic\",\"Operative\"],[\"Automatic\",\"Operative\"],[\"Automatic\",\"Operative\"],[\"Automatic\",\"Operative\"],[\"Automatic\",\"Operative\"],[\"Automatic\",\"Operative\"],[\"Automatic\",\"Operative\"],[\"Automatic\",\"Operative\"],[\"Automatic\",\"Operative\"],[\"Automatic\",\"Operative\"],[\"Automatic\",\"Operative\"],[\"Automatic\",\"Operative\"],[\"Automatic\",\"Operative\"],[\"Automatic\",\"Operative\"],[\"Automatic\",\"Operative\"],[\"Automatic\",\"Operative\"],[\"Automatic\",\"Operative\"],[\"Automatic\",\"Operative\"],[\"Automatic\",\"Operative\"],[\"Automatic\",\"Operative\"],[\"Automatic\",\"Operative\"],[\"Automatic\",\"Operative\"],[\"Automatic\",\"Operative\"],[\"Automatic\",\"Operative\"],[\"Automatic\",\"Operative\"],[\"Automatic\",\"Operative\"],[\"Automatic\",\"Operative\"],[\"Automatic\",\"Operative\"],[\"Automatic\",\"Operative\"],[\"Automatic\",\"Operative\"],[\"Automatic\",\"Operative\"],[\"Automatic\",\"Operative\"],[\"Automatic\",\"Operative\"],[\"Automatic\",\"Operative\"],[\"Automatic\",\"Operative\"],[\"Automatic\",\"Operative\"],[\"Automatic\",\"Operative\"],[\"Automatic\",\"Operative\"],[\"Automatic\",\"Operative\"],[\"Automatic\",\"Operative\"],[\"Automatic\",\"Operative\"],[\"Automatic\",\"Operative\"],[\"Automatic\",\"Operative\"],[\"Automatic\",\"Operative\"],[\"Automatic\",\"Operative\"],[\"Automatic\",\"Operative\"],[\"Automatic\",\"Operative\"],[\"Automatic\",\"Operative\"],[\"Automatic\",\"Operative\"],[\"Automatic\",\"Operative\"],[\"Automatic\",\"Operative\"],[\"Automatic\",\"Operative\"],[\"Automatic\",\"Operative\"],[\"Automatic\",\"Operative\"],[\"Automatic\",\"Operative\"],[\"Automatic\",\"Operative\"],[\"Automatic\",\"Operative\"],[\"Automatic\",\"Operative\"],[\"Automatic\",\"Operative\"],[\"Automatic\",\"Operative\"],[\"Automatic\",\"Operative\"],[\"Automatic\",\"Operative\"],[\"Automatic\",\"Operative\"],[\"Automatic\",\"Operative\"],[\"Automatic\",\"Operative\"],[\"Automatic\",\"Operative\"],[\"Automatic\",\"Operative\"],[\"Automatic\",\"Operative\"],[\"Automatic\",\"Operative\"],[\"Automatic\",\"Operative\"],[\"Automatic\",\"Operative\"],[\"Automatic\",\"Operative\"],[\"Automatic\",\"Operative\"],[\"Automatic\",\"Operative\"],[\"Automatic\",\"Operative\"],[\"Automatic\",\"Operative\"],[\"Automatic\",\"Operative\"],[\"Automatic\",\"Operative\"],[\"Automatic\",\"Operative\"],[\"Automatic\",\"Operative\"],[\"Automatic\",\"Operative\"],[\"Automatic\",\"Operative\"],[\"Automatic\",\"Operative\"],[\"Automatic\",\"Operative\"],[\"Automatic\",\"Operative\"],[\"Automatic\",\"Operative\"],[\"Automatic\",\"Operative\"],[\"Automatic\",\"Operative\"],[\"Automatic\",\"Operative\"],[\"Automatic\",\"Operative\"],[\"Automatic\",\"Operative\"],[\"Automatic\",\"Operative\"],[\"Automatic\",\"Operative\"],[\"Automatic\",\"Operative\"],[\"Automatic\",\"Operative\"],[\"Automatic\",\"Operative\"],[\"Automatic\",\"Operative\"],[\"Automatic\",\"Operative\"],[\"Automatic\",\"Operative\"],[\"Automatic\",\"Operative\"],[\"Automatic\",\"Operative\"],[\"Automatic\",\"Operative\"],[\"Automatic\",\"Operative\"],[\"Automatic\",\"Operative\"],[\"Automatic\",\"Operative\"],[\"Automatic\",\"Operative\"],[\"Automatic\",\"Operative\"],[\"Automatic\",\"Operative\"],[\"Automatic\",\"Operative\"],[\"Automatic\",\"Operative\"],[\"Automatic\",\"Operative\"],[\"Automatic\",\"Operative\"],[\"Automatic\",\"Operative\"],[\"Automatic\",\"Operative\"],[\"Automatic\",\"Operative\"],[\"Automatic\",\"Operative\"],[\"Automatic\",\"Operative\"],[\"Automatic\",\"Operative\"],[\"Automatic\",\"Operative\"],[\"Automatic\",\"Operative\"],[\"Automatic\",\"Operative\"],[\"Automatic\",\"Operative\"],[\"Automatic\",\"Operative\"],[\"Automatic\",\"Operative\"],[\"Automatic\",\"Operative\"],[\"Automatic\",\"Operative\"],[\"Automatic\",\"Operative\"],[\"Automatic\",\"Operative\"],[\"Automatic\",\"Operative\"],[\"Automatic\",\"Operative\"],[\"Automatic\",\"Operative\"],[\"Automatic\",\"Operative\"],[\"Automatic\",\"Operative\"],[\"Automatic\",\"Operative\"],[\"Automatic\",\"Operative\"],[\"Automatic\",\"Operative\"],[\"Automatic\",\"Operative\"],[\"Automatic\",\"Operative\"],[\"Automatic\",\"Operative\"],[\"Automatic\",\"Operative\"],[\"Automatic\",\"Operative\"],[\"Automatic\",\"Operative\"],[\"Automatic\",\"Operative\"],[\"Automatic\",\"Operative\"],[\"Automatic\",\"Operative\"],[\"Automatic\",\"Operative\"],[\"Automatic\",\"Operative\"],[\"Automatic\",\"Operative\"],[\"Automatic\",\"Operative\"],[\"Automatic\",\"Operative\"],[\"Automatic\",\"Operative\"],[\"Automatic\",\"Operative\"],[\"Automatic\",\"Operative\"],[\"Automatic\",\"Operative\"],[\"Automatic\",\"Operative\"],[\"Automatic\",\"Operative\"],[\"Automatic\",\"Operative\"],[\"Automatic\",\"Operative\"],[\"Automatic\",\"Operative\"],[\"Automatic\",\"Operative\"],[\"Automatic\",\"Operative\"],[\"Automatic\",\"Operative\"],[\"Automatic\",\"Operative\"],[\"Automatic\",\"Operative\"],[\"Automatic\",\"Operative\"],[\"Automatic\",\"Operative\"],[\"Automatic\",\"Operative\"],[\"Automatic\",\"Operative\"],[\"Automatic\",\"Operative\"],[\"Automatic\",\"Operative\"],[\"Automatic\",\"Operative\"],[\"Automatic\",\"Operative\"],[\"Automatic\",\"Operative\"],[\"Automatic\",\"Operative\"],[\"Automatic\",\"Operative\"],[\"Automatic\",\"Operative\"],[\"Automatic\",\"Operative\"],[\"Automatic\",\"Operative\"],[\"Automatic\",\"Operative\"],[\"Automatic\",\"Operative\"],[\"Automatic\",\"Operative\"],[\"Automatic\",\"Operative\"],[\"Automatic\",\"Operative\"],[\"Automatic\",\"Operative\"],[\"Automatic\",\"Operative\"],[\"Automatic\",\"Operative\"],[\"Automatic\",\"Operative\"],[\"Automatic\",\"Operative\"],[\"Automatic\",\"Operative\"],[\"Automatic\",\"Operative\"],[\"Automatic\",\"Operative\"],[\"Automatic\",\"Operative\"],[\"Automatic\",\"Operative\"],[\"Automatic\",\"Operative\"],[\"Automatic\",\"Operative\"],[\"Automatic\",\"Operative\"],[\"Automatic\",\"Operative\"],[\"Automatic\",\"Operative\"],[\"Automatic\",\"Operative\"],[\"Automatic\",\"Operative\"],[\"Automatic\",\"Operative\"],[\"Automatic\",\"Operative\"],[\"Automatic\",\"Operative\"],[\"Automatic\",\"Operative\"],[\"Automatic\",\"Operative\"],[\"Automatic\",\"Operative\"],[\"Automatic\",\"Operative\"],[\"Automatic\",\"Operative\"],[\"Automatic\",\"Operative\"],[\"Automatic\",\"Operative\"],[\"Automatic\",\"Operative\"],[\"Automatic\",\"Operative\"],[\"Automatic\",\"Operative\"],[\"Automatic\",\"Operative\"],[\"Automatic\",\"Operative\"],[\"Automatic\",\"Operative\"],[\"Automatic\",\"Operative\"],[\"Automatic\",\"Operative\"],[\"Automatic\",\"Operative\"],[\"Automatic\",\"Operative\"],[\"Automatic\",\"Operative\"],[\"Automatic\",\"Operative\"],[\"Automatic\",\"Operative\"],[\"Automatic\",\"Operative\"],[\"Automatic\",\"Operative\"],[\"Automatic\",\"Operative\"],[\"Automatic\",\"Operative\"],[\"Automatic\",\"Operative\"],[\"Automatic\",\"Operative\"],[\"Automatic\",\"Operative\"],[\"Automatic\",\"Operative\"],[\"Automatic\",\"Operative\"],[\"Automatic\",\"Operative\"],[\"Automatic\",\"Operative\"],[\"Automatic\",\"Operative\"],[\"Automatic\",\"Operative\"],[\"Automatic\",\"Operative\"],[\"Automatic\",\"Operative\"],[\"Automatic\",\"Operative\"],[\"Automatic\",\"Operative\"],[\"Automatic\",\"Operative\"],[\"Automatic\",\"Operative\"],[\"Automatic\",\"Operative\"],[\"Automatic\",\"Operative\"],[\"Automatic\",\"Operative\"],[\"Automatic\",\"Operative\"],[\"Automatic\",\"Operative\"],[\"Automatic\",\"Operative\"],[\"Automatic\",\"Operative\"],[\"Automatic\",\"Operative\"],[\"Automatic\",\"Operative\"],[\"Automatic\",\"Operative\"],[\"Automatic\",\"Operative\"],[\"Automatic\",\"Operative\"],[\"Automatic\",\"Operative\"],[\"Automatic\",\"Operative\"],[\"Automatic\",\"Operative\"],[\"Automatic\",\"Operative\"],[\"Automatic\",\"Operative\"],[\"Automatic\",\"Operative\"],[\"Automatic\",\"Operative\"],[\"Automatic\",\"Operative\"],[\"Automatic\",\"Operative\"],[\"Automatic\",\"Operative\"],[\"Automatic\",\"Operative\"],[\"Automatic\",\"Operative\"],[\"Automatic\",\"Operative\"],[\"Automatic\",\"Operative\"],[\"Automatic\",\"Operative\"],[\"Automatic\",\"Operative\"],[\"Automatic\",\"Operative\"],[\"Automatic\",\"Operative\"],[\"Automatic\",\"Operative\"],[\"Automatic\",\"Operative\"],[\"Automatic\",\"Operative\"],[\"Automatic\",\"Operative\"],[\"Automatic\",\"Operative\"],[\"Automatic\",\"Operative\"],[\"Automatic\",\"Operative\"],[\"Automatic\",\"Operative\"],[\"Automatic\",\"Operative\"],[\"Automatic\",\"Operative\"],[\"Automatic\",\"Operative\"],[\"Automatic\",\"Operative\"],[\"Automatic\",\"Operative\"],[\"Automatic\",\"Operative\"],[\"Automatic\",\"Operative\"],[\"Automatic\",\"Operative\"],[\"Automatic\",\"Operative\"],[\"Automatic\",\"Operative\"],[\"Automatic\",\"Operative\"],[\"Automatic\",\"Operative\"],[\"Automatic\",\"Operative\"],[\"Automatic\",\"Operative\"],[\"Automatic\",\"Operative\"],[\"Automatic\",\"Operative\"],[\"Automatic\",\"Operative\"],[\"Automatic\",\"Operative\"],[\"Automatic\",\"Operative\"],[\"Automatic\",\"Operative\"],[\"Automatic\",\"Operative\"],[\"Automatic\",\"Operative\"],[\"Automatic\",\"Operative\"],[\"Automatic\",\"Operative\"],[\"Automatic\",\"Operative\"],[\"Automatic\",\"Operative\"],[\"Automatic\",\"Operative\"],[\"Automatic\",\"Operative\"],[\"Automatic\",\"Operative\"],[\"Automatic\",\"Operative\"],[\"Automatic\",\"Operative\"],[\"Automatic\",\"Operative\"],[\"Automatic\",\"Operative\"],[\"Automatic\",\"Operative\"],[\"Automatic\",\"Operative\"],[\"Automatic\",\"Operative\"],[\"Automatic\",\"Operative\"],[\"Automatic\",\"Operative\"],[\"Automatic\",\"Operative\"],[\"Automatic\",\"Operative\"],[\"Automatic\",\"Operative\"],[\"Automatic\",\"Operative\"],[\"Automatic\",\"Operative\"],[\"Automatic\",\"Operative\"],[\"Automatic\",\"Operative\"],[\"Automatic\",\"Operative\"],[\"Automatic\",\"Operative\"],[\"Automatic\",\"Operative\"],[\"Automatic\",\"Operative\"],[\"Automatic\",\"Operative\"],[\"Automatic\",\"Operative\"],[\"Automatic\",\"Operative\"],[\"Automatic\",\"Operative\"],[\"Automatic\",\"Operative\"],[\"Automatic\",\"Operative\"],[\"Automatic\",\"Operative\"],[\"Automatic\",\"Operative\"],[\"Automatic\",\"Operative\"],[\"Automatic\",\"Operative\"],[\"Automatic\",\"Operative\"],[\"Automatic\",\"Operative\"],[\"Automatic\",\"Operative\"],[\"Automatic\",\"Operative\"],[\"Automatic\",\"Operative\"],[\"Automatic\",\"Operative\"],[\"Automatic\",\"Operative\"],[\"Traditional\",\"Operative\"],[\"Traditional\",\"Operative\"],[\"Traditional\",\"Operative\"],[\"Traditional\",\"Operative\"],[\"Traditional\",\"Operative\"],[\"Traditional\",\"Operative\"],[\"Traditional\",\"Operative\"],[\"Traditional\",\"Operative\"],[\"Traditional\",\"Operative\"],[\"Traditional\",\"Operative\"],[\"Traditional\",\"Operative\"],[\"Traditional\",\"Operative\"],[\"Traditional\",\"Operative\"],[\"Traditional\",\"Operative\"],[\"Traditional\",\"Operative\"],[\"Traditional\",\"Operative\"],[\"Traditional\",\"Operative\"],[\"Traditional\",\"Operative\"],[\"Traditional\",\"Operative\"],[\"Traditional\",\"Operative\"],[\"Traditional\",\"Operative\"],[\"Traditional\",\"Operative\"],[\"Traditional\",\"Operative\"],[\"Traditional\",\"Operative\"],[\"Traditional\",\"Operative\"],[\"Traditional\",\"Operative\"],[\"Traditional\",\"Operative\"],[\"Traditional\",\"Operative\"],[\"Traditional\",\"Operative\"],[\"Traditional\",\"Operative\"],[\"Traditional\",\"Operative\"],[\"Traditional\",\"Operative\"],[\"Traditional\",\"Operative\"],[\"Traditional\",\"Operative\"],[\"Traditional\",\"Operative\"],[\"Traditional\",\"Operative\"],[\"Traditional\",\"Operative\"],[\"Traditional\",\"Operative\"],[\"Traditional\",\"Operative\"],[\"Traditional\",\"Operative\"],[\"Traditional\",\"Operative\"],[\"Traditional\",\"Operative\"],[\"Traditional\",\"Operative\"],[\"Traditional\",\"Operative\"],[\"Traditional\",\"Operative\"],[\"Traditional\",\"Operative\"],[\"Traditional\",\"Operative\"],[\"Traditional\",\"Operative\"],[\"Traditional\",\"Operative\"],[\"Traditional\",\"Operative\"],[\"Traditional\",\"Operative\"],[\"Traditional\",\"Operative\"],[\"Traditional\",\"Operative\"],[\"Traditional\",\"Operative\"],[\"Traditional\",\"Operative\"],[\"Traditional\",\"Operative\"],[\"Traditional\",\"Operative\"],[\"Traditional\",\"Operative\"],[\"Traditional\",\"Operative\"],[\"Traditional\",\"Operative\"],[\"Traditional\",\"Operative\"],[\"Traditional\",\"Operative\"],[\"Traditional\",\"Operative\"],[\"Traditional\",\"Operative\"],[\"Traditional\",\"Operative\"],[\"Traditional\",\"Operative\"],[\"Traditional\",\"Operative\"],[\"Traditional\",\"Operative\"],[\"Traditional\",\"Operative\"],[\"Traditional\",\"Operative\"],[\"Traditional\",\"Operative\"],[\"Traditional\",\"Operative\"],[\"Traditional\",\"Operative\"],[\"Traditional\",\"Operative\"],[\"Traditional\",\"Operative\"],[\"Traditional\",\"Operative\"],[\"Traditional\",\"Operative\"],[\"Traditional\",\"Operative\"],[\"Traditional\",\"Operative\"],[\"Traditional\",\"Operative\"],[\"Traditional\",\"Operative\"],[\"Traditional\",\"Operative\"],[\"Traditional\",\"Operative\"],[\"Traditional\",\"Operative\"],[\"Traditional\",\"Operative\"],[\"Traditional\",\"Operative\"],[\"Traditional\",\"Operative\"],[\"Traditional\",\"Operative\"],[\"Traditional\",\"Operative\"],[\"Traditional\",\"Operative\"],[\"Traditional\",\"Operative\"],[\"Traditional\",\"Operative\"],[\"Traditional\",\"Operative\"],[\"Traditional\",\"Operative\"],[\"Traditional\",\"Operative\"],[\"Traditional\",\"Operative\"],[\"Traditional\",\"Operative\"],[\"Traditional\",\"Operative\"],[\"Traditional\",\"Operative\"],[\"Traditional\",\"Operative\"],[\"Traditional\",\"Operative\"],[\"Traditional\",\"Operative\"],[\"Traditional\",\"Operative\"],[\"Traditional\",\"Operative\"],[\"Traditional\",\"Operative\"],[\"Traditional\",\"Operative\"],[\"Traditional\",\"Operative\"],[\"Traditional\",\"Operative\"],[\"Traditional\",\"Operative\"],[\"Traditional\",\"Operative\"],[\"Traditional\",\"Operative\"],[\"Traditional\",\"Operative\"],[\"Traditional\",\"Operative\"],[\"Traditional\",\"Operative\"],[\"Traditional\",\"Operative\"],[\"Traditional\",\"Operative\"],[\"Traditional\",\"Operative\"],[\"Traditional\",\"Operative\"],[\"Traditional\",\"Operative\"],[\"Traditional\",\"Operative\"],[\"Traditional\",\"Operative\"],[\"Traditional\",\"Operative\"],[\"Traditional\",\"Operative\"],[\"Traditional\",\"Operative\"],[\"Traditional\",\"Operative\"],[\"Traditional\",\"Operative\"],[\"Traditional\",\"Operative\"],[\"Traditional\",\"Operative\"],[\"Traditional\",\"Operative\"],[\"Traditional\",\"Operative\"],[\"Traditional\",\"Operative\"],[\"Traditional\",\"Operative\"],[\"Traditional\",\"Operative\"],[\"Traditional\",\"Operative\"],[\"Traditional\",\"Operative\"],[\"Traditional\",\"Operative\"],[\"Traditional\",\"Operative\"],[\"Traditional\",\"Operative\"],[\"Traditional\",\"Operative\"],[\"Traditional\",\"Operative\"],[\"Traditional\",\"Operative\"],[\"Traditional\",\"Operative\"],[\"Traditional\",\"Operative\"],[\"Traditional\",\"Operative\"],[\"Traditional\",\"Operative\"],[\"Traditional\",\"Operative\"],[\"Traditional\",\"Operative\"],[\"Traditional\",\"Operative\"],[\"Traditional\",\"Operative\"],[\"Traditional\",\"Operative\"],[\"Traditional\",\"Operative\"],[\"Traditional\",\"Operative\"],[\"Traditional\",\"Operative\"],[\"Traditional\",\"Operative\"],[\"Traditional\",\"Operative\"],[\"Traditional\",\"Operative\"],[\"Traditional\",\"Operative\"],[\"Traditional\",\"Operative\"],[\"Traditional\",\"Operative\"],[\"Traditional\",\"Operative\"],[\"Traditional\",\"Operative\"]],\"hovertemplate\":\"<b>%{hovertext}</b><br><br>CD_SITUATION=%{customdata[1]}<br>LATITUDE=%{lat}<br>LONGITUDE=%{lon}<br>TP_STATION=%{customdata[0]}<extra></extra>\",\"hovertext\":[\"ACARAU\",\"AFONSO CLAUDIO\",\"AGUA BOA\",\"AGUA CLARA\",\"AGUAS EMENDADAS\",\"AGUAS VERMELHAS\",\"AIMORES\",\"ALEGRE\",\"ALEGRETE\",\"ALFREDO CHAVES\",\"ALMENARA\",\"ALTAMIRA\",\"ALTO ARAGUAIA\",\"ALTO PARNAIBA\",\"ALTO TAQUARI\",\"ALVORADA DO GURGUEIA\",\"ANGICAL DO PIAUI\",\"ANGRA DOS REIS\",\"APODI\",\"APUI\",\"ARACUAI\",\"ARAGARCAS\",\"ARAGUACU\",\"ARAGUAINA\",\"ARAPIRACA\",\"ARARANGUA\",\"ARAXA\",\"ARCO VERDE\",\"AREIA\",\"ARIRANHA\",\"ARRAIAL DO CABO\",\"AUTAZES\",\"AVARE\",\"BACABAL\",\"BAGE\",\"BAIXA GRANDE DO RIBEIRO\",\"BALSAS\",\"BAMBUI\",\"BARBACENA\",\"BARCELOS\",\"BARRA\",\"BARRA BONITA\",\"BARRA DO CORDA\",\"BARRA DO TURVO\",\"BARREIRAS\",\"BARRETOS\",\"BARUERI\",\"BATAGUASSU\",\"BAURU\",\"BELEM\",\"BELO HORIZONTE (PAMPULHA)\",\"BELO HORIZONTE - CERCADINHO\",\"BENTO GONCALVES\",\"BERTIOGA\",\"BOA VISTA\",\"BOM JARDIM DA SERRA - MORRO DA IGREJA\",\"BOM JESUS DA LAPA\",\"BOM JESUS DO PIAUI\",\"BRAGANCA\",\"BRAGANCA PAULISTA\",\"BRASILIA\",\"BRAZLANDIA\",\"BREJO GRANDE\",\"BRUMADO\",\"BURITICUPU\",\"BURITIRAMA\",\"BURITIS\",\"CABACEIRAS\",\"CACADOR\",\"CACAPAVA DO SUL\",\"CACHOEIRA PAULISTA\",\"CAIAPONIA\",\"CAICO\",\"CALDAS\",\"CAMAQUA\",\"CAMARATUBA\",\"CAMBARA DO SUL\",\"CAMBUCI\",\"CAMPINA DA LAGOA\",\"CAMPINA GRANDE\",\"CAMPINA VERDE\",\"CAMPO BOM\",\"CAMPO GRANDE\",\"CAMPO MAIOR\",\"CAMPO NOVO DOS PARECIS\",\"CAMPO VERDE\",\"CAMPOS DO JORDAO\",\"CAMPOS DOS GOYTACAZES\",\"CAMPOS DOS GOYTACAZES - SAO TOME\",\"CAMPOS NOVOS\",\"CANELA\",\"CANGUCU\",\"CANTO DO BURITI\",\"CAPAO DO LEAO (PELOTAS)\",\"CAPELINHA\",\"CARACOL\",\"CARATINGA\",\"CARMO\",\"CAROLINA\",\"CARUARU\",\"CASA BRANCA\",\"CASSILANDIA\",\"CASTANHAL\",\"CASTELO DO PIAUI\",\"CATALAO\",\"CAXIAS\",\"CHAPADA GAUCHA\",\"CHAPADINHA\",\"CHAPECO\",\"CLEVELANDIA\",\"COARI\",\"COLINAS\",\"COLINAS DO TOCANTINS\",\"COLOMBO\",\"COMODORO\",\"CONCEICAO DAS ALAGOAS\",\"CONCEICAO DO ARAGUAIA\",\"CORONEL PACHECO\",\"CORRENTE\",\"CORRENTINA\",\"CORURIPE\",\"COSTA RICA\",\"COXIM\",\"CRATEUS\",\"CRISTALINA\",\"CRISTALINA (FAZENDA SANTA MONICA)\",\"CRUZ ALTA\",\"CRUZ DAS ALMAS\",\"CUIABA\",\"CURACA\",\"CURITIBA\",\"CURVELO\",\"DIAMANTINA\",\"DIANOPOLIS\",\"DIONISIO CERQUEIRA\",\"DIVINOPOLIS\",\"DOM ELISEU\",\"DOM PEDRITO\",\"DORES DO INDAIA\",\"DUQUE DE CAXIAS - XEREM\",\"ECOPORANGA\",\"EDEIA\",\"ENCRUZILHADA DO SUL\",\"ERECHIM\",\"ESPINOSA\",\"ESTREITO\",\"EUCLIDES DA CUNHA\",\"FEIRA DE SANTANA\",\"FLORESTAL\",\"FLORIANO\",\"FLORIANOPOLIS\",\"FORMIGA\",\"FORMOSA DO RIO PRETO\",\"FORMOSO DO ARAGUAIA\",\"FORTALEZA\",\"FOZ DO IGUACU\",\"FRANCA\",\"FREDERICO WESTPHALEN\",\"GAMA (PONTE ALTA)\",\"GARANHUNS\",\"GAUCHA DO NORTE\",\"GENERAL CARNEIRO\",\"GILBUES\",\"GOIANESIA\",\"GOIANIA\",\"GOIAS\",\"GOIOERE\",\"GOVERNADOR VALADARES\",\"GRAJAU\",\"GUANAMBI\",\"GUANHAES\",\"GUARDA-MOR\",\"GUIRATINGA\",\"GURUPI\",\"HUMAITA\",\"IBIMIRIM\",\"IBIRITE (ROLA MOCA)\",\"IBIRUBA\",\"IBITINGA\",\"IBOTIRAMA\",\"IGUAPE\",\"IGUATU\",\"IMPERATRIZ\",\"INACIO MARTINS\",\"IPANGUACU\",\"IPORA\",\"IRECE\",\"ITABAIANINHA\",\"ITABERABA\",\"ITACOATIARA\",\"ITAITUBA\",\"ITAJAI\",\"ITAOBIM\",\"ITAPACI\",\"ITAPEVA\",\"ITAPIPOCA\",\"ITAPIRA\",\"ITAPOA\",\"ITAQUIRAI\",\"ITATIAIA - AGULHAS NEGRAS\",\"ITIQUIRA\",\"ITIRUCU\",\"ITUIUTABA\",\"ITUMBIARA\",\"ITUPORANGA\",\"ITUVERAVA\",\"IVAI\",\"IVINHEMA\",\"JAGUARAO\",\"JAGUARIBE\",\"JAGUARUANA\",\"JALES\",\"JANUARIA\",\"JAPIRA\",\"JARDIM\",\"JATAI\",\"JOACABA\",\"JOAO PESSOA\",\"JOAO PINHEIRO\",\"JOAQUIM TAVORA\",\"JUIZ DE FORA\",\"LABREA\",\"LAGES\",\"LAGOA DA CONFUSAO\",\"LAGOA VERMELHA\",\"LENCOIS\",\"LINHARES\",\"LINS\",\"LUIZ EDUARDO MAGALHAES\",\"LUZIANIA\",\"Laguna  - Farol de Santa Marta\",\"MACAE\",\"MACAPA\",\"MACEIO\",\"MACHADO\",\"MAJOR VIEIRA\",\"MAL. CANDIDO RONDON\",\"MANACAPURU\",\"MANAUS\",\"MANHUACU\",\"MANICORE\",\"MANTENA\",\"MARAU\",\"MARIA DA FE\",\"MARIANOPOLIS DO TO\",\"MARILANDIA\",\"MARILIA\",\"MARINGA\",\"MATEIROS\",\"MAUES\",\"MEDICILANDIA\",\"MINEIROS\",\"MOCAMBINHO\",\"MONTALVANIA\",\"MONTE ALEGRE DE GOIAS\",\"MONTE VERDE\",\"MONTEIRO\",\"MONTES CLAROS\",\"MORADA NOVA\",\"MORRETES\",\"MORRINHOS\",\"MOSSORO\",\"MURIAE\",\"NATAL\",\"NITEROI\",\"NOVA FATIMA\",\"NOVA FRIBURGO - SALINAS\",\"NOVA MARINGA\",\"NOVA PORTEIRINHA (JANAUBA)\",\"NOVA VENECIA\",\"NOVO ARIPUANA\",\"NOVO REPARTIMENTO\",\"OBIDOS\",\"OEIRAS\",\"OLIVEIRA\",\"OURO BRANCO\",\"PACAJA\",\"PALMARES\",\"PALMAS\",\"PALMEIRA DOS INDIOS\",\"PARACATU\",\"PARANA\",\"PARANAIBA\",\"PARANAPOEMA\",\"PARANATINGA\",\"PARANOA (COOPA-DF)\",\"PARATY\",\"PARAUNA\",\"PARNAIBA\",\"PARQUE ESTADUAL CHANDLESS\",\"PASSA QUATRO\",\"PASSO FUNDO\",\"PASSOS\",\"PATOS\",\"PATOS DE MINAS\",\"PATROCINIO\",\"PAULISTANA\",\"PEIXE\",\"PETROLINA\",\"PIATA\",\"PICO DO COUTO\",\"PICOS\",\"PIRACICABA\",\"PIRANHAS\",\"PIRAPORA\",\"PIRES DO RIO\",\"PIRIPIRI\",\"PIUM\",\"PLACAS\",\"POMPEU\",\"PONTA PORA\",\"PONTES E LACERDA\",\"PORANGATU\",\"PORTO ALEGRE\",\"PORTO DE MOZ\",\"PORTO ESTRELA\",\"PORTO GRANDE\",\"PORTO SEGURO\",\"PORTO VELHO\",\"POSSE\",\"PRADOPOLIS\",\"PREGUICAS\",\"PRESIDENTE FIGUEIREDO\",\"PRESIDENTE KENNEDY\",\"PRESIDENTE PRUDENTE\",\"PRIMAVERA DO LESTE\",\"QUARAI\",\"QUEIMADAS\",\"QUERENCIA\",\"QUIXADA\",\"QUIXERAMOBIM\",\"RANCHARIA\",\"RANCHO QUEIMADO\",\"REDENCAO\",\"REGISTRO\",\"REMANSO\",\"RESENDE\",\"RIBEIRA DO AMPARO\",\"RIO BRILHANTE\",\"RIO CLARO\",\"RIO DE JANEIRO - FORTE DE COPACABANA\",\"RIO DE JANEIRO - JACAREPAGUA\",\"RIO DE JANEIRO - VILA MILITAR\",\"RIO DE JANEIRO-MARAMBAIA\",\"RIO GRANDE\",\"RIO NEGRINHO\",\"RIO PARDO\",\"RIO PARDO DE MINAS\",\"RIO SONO\",\"RIO URUBU\",\"RIO VERDE\",\"RONDON DO PARA\",\"RONDONOPOLIS\",\"ROSARIO OESTE\",\"S. G. DA CACHOEIRA\",\"S.J. DO RIO CLARO\",\"SACRAMENTO\",\"SALGUEIRO\",\"SALINAS\",\"SALINOPOLIS\",\"SALTO DO CEU\",\"SALVADOR\",\"SALVADOR (RADIO FAROL)\",\"SANTA FE DO ARAGUAIA\",\"SANTA MARIA\",\"SANTA MARIA DAS BARREIRAS\",\"SANTA MARIA MADALENA\",\"SANTA RITA DE CASSIA\",\"SANTA ROSA\",\"SANTA ROSA DO TOCANTINS\",\"SANTA TERESA\",\"SANTANA DO LIVRAMENTO\",\"SANTAREM\",\"SANTIAGO\",\"SANTO ANTONIO DO LESTE\",\"SANTO AUGUSTO\",\"SAO BORJA\",\"SAO CARLOS\",\"SAO FELIX  DO ARAGUAIA\",\"SAO FELIX DO XINGU\",\"SAO GABRIEL\",\"SAO GONCALO\",\"SAO JOAO DEL REI\",\"SAO JOAO DO PIAUI\",\"SAO JOAQUIM\",\"SAO JOSE DOS AUSENTES\",\"SAO LUIS\",\"SAO LUIS DO QUITUNDE\",\"SAO LUIZ DO PARAITINGA\",\"SAO LUIZ GONZAGA\",\"SAO MATEUS\",\"SAO MIGUEL ARCANJO\",\"SAO MIGUEL DO ARAGUAIA\",\"SAO MIGUEL DO OESTE\",\"SAO PAULO - INTERLAGOS\",\"SAO PAULO - MIRANTE\",\"SAO RAIMUNDO NONATO\",\"SAO ROMAO\",\"SAO SEBASTIAO DO PARAISO\",\"SAO SIMAO\",\"SAO SIMAO\",\"SAO VICENTE DO SUL\",\"SAPEZAL\",\"SAQUAREMA - SAMPAIO CORREIA\",\"SERAFINA CORREA\",\"SEROPEDICA-ECOLOGIA AGRICOLA\",\"SERRA DOS AIMORES\",\"SERRA DOS CARAJAS\",\"SERRA NOVA DOURADA\",\"SETE LAGOAS\",\"SIDROLANDIA\",\"SILVA JARDIM\",\"SILVANIA\",\"SOBRAL\",\"SOLEDADE\",\"SONORA\",\"SOROCABA\",\"SURUBIM\",\"Santa Vitoria do Palmar - Barra do Chui\",\"TANGARA DA SERRA\",\"TAUA\",\"TEOFILO OTONI\",\"TERESINA\",\"TERESOPOLIS-PARQUE NACIONAL\",\"TEUTONIA\",\"TIANGUA\",\"TIMOTEO\",\"TORRES\",\"TRAMANDAI\",\"TRES LAGOAS\",\"TRES MARIAS\",\"TRES RIOS\",\"TUCUMA\",\"TUCURUI\",\"TUPA\",\"TUPANCIRETA\",\"TURIACU\",\"UBERABA\",\"UBERLANDIA\",\"UNAI\",\"URUCARA\",\"URUCUI\",\"URUGUAIANA\",\"URUSSANGA\",\"VACARIA\",\"VALENCA\",\"VALENCA DO PIAUI\",\"VARGINHA\",\"VENDA NOVA DO IMIGRANTE\",\"VENTANIA\",\"VICOSA\",\"VILA BELA DA SANTISSIMA TRINDADE\",\"VILA VELHA\",\"VILHENA\",\"VITORIA\",\"VITORIA DA CONQUISTA\",\"VOTUPORANGA\",\"XANXERE\",\"XINGUARA\",\"ZE DOCA\",\"AGUA BRANCA\",\"ALAGOINHAS\",\"ALTAMIRA\",\"ALTO DA BOA VISTA\",\"APODI\",\"ARACUAI\",\"ARAGARCAS\",\"ARAGUAINA\",\"ARAXA\",\"ARCOVERDE\",\"AREIA\",\"ARINOS\",\"AVELAR (P.DO ALFERES)\",\"BACABAL\",\"BAGE\",\"BALSAS\",\"BARCELOS\",\"BARRA\",\"BARRA DO CORDA\",\"BARREIRAS\",\"BELEM\",\"BELO HORIZONTE\",\"BELTERRA\",\"BENJAMIN CONSTANT\",\"BOA ESPERANCA\",\"BOA VISTA\",\"BOM JESUS\",\"BOM JESUS DA LAPA\",\"BOM JESUS DO PIAUI\",\"BRASILIA\",\"BREVES\",\"C. DO MATO DENTRO\",\"CABROBO\",\"CAMETA\",\"CAMPINA GRANDE\",\"CAMPOS\",\"CANARANA\",\"CAPARAO\",\"CARACARAI\",\"CARATINGA\",\"CARAVELAS\",\"CARBONITA\",\"CAROLINA\",\"CATALAO\",\"CAXIAS\",\"CAXIAS DO SUL\",\"CEARA MIRIM\",\"CHAPADINHA\",\"CIPO\",\"CODAJAS\",\"COLINAS\",\"CONCEICAO DO ARAGUAIA\",\"CORDEIRO\",\"CORRENTINA\",\"CRUZ ALTA\",\"CRUZ DAS ALMAS\",\"CUIABA\",\"DIAMANTINO\",\"EIRUNEPE\",\"FLORIANO\",\"FONTE BOA\",\"FORMOSA\",\"FORMOSO\",\"FORTALEZA\",\"FRANCA\",\"GARANHUNS\",\"GOIANIA\",\"GUARATINGA\",\"IGUABA GRANDE\",\"IMPERATRIZ\",\"IPAMERI\",\"IRATI\",\"ITABAIANINHA\",\"ITACOATIARA\",\"ITAITUBA\",\"ITAMARANDIBA\",\"ITAPERUNA\",\"JACOBINA\",\"JANUARIA\",\"JATAI\",\"JOAO PESSOA\",\"JUIZ DE FORA\",\"JURAMENTO\",\"LABREA\",\"LAGOA VERMELHA\",\"LAVRAS\",\"LENCOIS\",\"LONDRINA\",\"LUZILANDIA(LAG.DO PIAUI)\",\"MACAPA\",\"MANAUS\",\"MARABA\",\"MARINGA\",\"MONTE ALEGRE\",\"MONTEIRO\",\"MONTES CLAROS\",\"MORADA NOVA\",\"MORRO DO CHAPEU\",\"MUNIZ FREIRE\",\"NATAL\",\"NOVA XAV.(XAVANTINA)\",\"OURICURI\",\"PADRE RICARDO REMETTER\",\"PALMAS\",\"PALMEIRA DOS INDIOS\",\"PAO DE ACUCAR\",\"PARANAIBA\",\"PASSA QUATRO\",\"PASSO FUNDO\",\"PATOS\",\"PAULISTANA\",\"PEDRA AZUL\",\"PEDRO AFONSO\",\"PELOTAS\",\"PETROLINA\",\"PICOS\",\"PIRENOPOLIS\",\"PIRIPIRI\",\"PORTO ALEGRE\",\"PORTO DE MOZ\",\"PORTO DE PEDRAS\",\"PORTO NACIONAL\",\"POSSE\",\"PROPRIA\",\"QUIXERAMOBIM\",\"RESENDE\",\"RIO BRANCO\",\"RIO VERDE\",\"SALINAS\",\"SALVADOR (ONDINA)\",\"SANTA MARIA\",\"SANTA MARIA MADALENA\",\"SANTA VITORIA DO PALMAR\",\"SANTO ANTONIO DE PADUA\",\"SAO CARLOS\",\"SAO GABRIEL DA CACHOEIRA(UAUPES)\",\"SAO GONCALO\",\"SAO JOAO DO PIAUI\",\"SAO LOURENCO\",\"SAO LUIS\",\"SAO LUIZ GONZAGA\",\"SAO PAULO(MIR.de SANTANA)\",\"SAO SIMAO\",\"SAO VICENTE\",\"SERIDO (CAICO)\",\"SERRINHA\",\"SOROCABA\",\"STa. R. DE CASSIA (IBIPETUBA)\",\"SURUBIM\",\"TAGUATINGA\",\"TARAUACA\",\"TEFE\",\"TERESINA\",\"TERESOPOLIS\",\"TRACUATEUA\",\"TUCURUI\",\"TURIACU\",\"UNAI\",\"VITORIA\",\"VITORIA DA CONQUISTA\",\"ZE DOCA\"],\"lat\":[-3.1211111,-20.10416666,-14.01638888,-20.44444444,-15.596491,-15.751536,-19.53277777,-20.75055555,-29.70916666,-20.63638888,-16.16666666,-3.27027777,-17.33944444,-9.10833333,-17.8411111,-8.44166666,-6.08944444,-22.97555554,-5.62666666,-7.20555555,-16.84888888,-15.90277777,-12.59222221,-7.10388888,-9.80444444,-28.931353,-19.60583333,-8.4336111,-6.975451,-21.13305554,-22.97527777,-3.58333333,-23.10166666,-4.24305555,-31.34777777,-8.333531,-7.45555555,-20.0311111,-21.22833332,-0.98722221,-11.08472221,-22.4711111,-5.50666666,-24.96277777,-12.12472221,-20.55916666,-23.52388888,-21.75,-22.358052,-1.411228,-19.88388888,-19.97999999,-29.164581,-23.84472221,2.81694443,-28.12694443,-13.25111111,-9.08333333,-1.04722221,-22.95194444,-15.78944444,-15.59972221,-10.47388888,-14.18194443,-4.32055554,-10.72305554,-15.52416666,-7.48333333,-26.819156,-30.54527777,-22.68888888,-16.96694443,-6.46749999,-21.918066,-30.807953,-6.56194444,-29.04916666,-21.58749999,-24.57083332,-7.225574,-19.53921,-29.674293,-20.447195,-4.86416666,-13.78583333,-15.53138888,-22.75027777,-21.71472222,-22.04166666,-27.3886111,-29.36888888,-31.40333333,-8.11805554,-31.8025,-17.70555555,-9.28583333,-19.735757,-21.938745,-7.33722221,-8.36527777,-21.78055554,-19.12249999,-1.30083333,-5.34916666,-18.154779,-4.82138888,-15.30027777,-3.74277777,-27.0853111,-26.41722221,-4.09749999,-6.03305554,-8.092708,-25.322464,-13.70805555,-19.98586,-8.30361111,-21.54666666,-10.42916666,-13.33249999,-10.1286111,-18.49277777,-18.51222222,-5.18666666,-16.78499999,-16.39944444,-28.60344,-12.67555554,-15.559295,-9.00138888,-25.4486111,-18.747711,-18.231052,-11.59444444,-26.286562,-20.17333332,-4.28055554,-31.0025,-19.481935,-22.58972221,-18.29138888,-17.33694444,-30.54305555,-27.65771,-14.91222222,-6.65333333,-10.537233,-12.1961111,-19.88527777,-6.76138888,-27.60253,-20.455,-11.05222222,-11.88749999,-3.81583333,-25.60194444,-20.58444444,-27.39555555,-15.93527777,-8.91083333,-13.18472221,-26.3986111,-9.87527777,-15.22027777,-16.642841,-15.93972221,-24.18388888,-18.830354,-5.81611111,-14.20805555,-18.78694444,-17.56138888,-16.34166666,-11.74583333,-7.5525,-8.50944444,-20.031457,-28.65333333,-21.85555555,-12.19305555,-24.67166666,-6.39638888,-5.55583333,-25.567879,-5.53499999,-16.42305554,-11.328998,-11.2725,-12.52416666,-3.13333333,-4.27694443,-26.95083333,-16.575667,-14.97972221,-23.98194443,-3.48416666,-22.415,-26.08138888,-23.449501,-22.37388888,-17.17499999,-13.527828,-18.95277777,-18.40972222,-27.41833332,-20.35972222,-25.01083333,-22.30055555,-32.53472221,-5.90555555,-4.78694444,-20.165,-15.448089,-23.77333332,-21.4786111,-17.923622,-27.16916666,-7.16527777,-17.78444444,-23.505266,-21.769965,-7.26055555,-27.80222222,-10.828286,-28.222381,-12.557854,-19.35694444,-21.66611111,-12.1525,-16.26055555,-28.60444444,-22.3761111,0.03499999,-9.55111111,-21.680722,-26.3936111,-24.53333333,-3.29472221,-3.10333333,-20.26333333,-5.7886111,-18.78062,-13.90694444,-22.314567,-9.576389,-19.40722222,-22.235222,-23.40527777,-10.43444444,-3.39888888,-3.51083333,-17.45472222,-15.085958,-14.40833333,-13.253521,-22.86166666,-7.89444444,-16.68638888,-5.13666666,-25.50888888,-17.745066,-4.90416666,-21.105,-5.83722221,-22.86749999,-23.41527777,-22.33472221,-13.0386111,-15.80277777,-18.69527777,-8.0911111,-4.24388888,-1.88083332,-6.97416666,-20.715,-20.55666666,-3.8436111,-8.66666666,-10.19083333,-9.42027777,-17.24444444,-12.615,-19.69555555,-22.65833333,-14.42138888,-16.012222,-23.2236111,-16.962536,-3.08666666,-9.35833333,-22.395799,-28.226805,-20.745237,-7.07972221,-18.52055554,-18.996684,-8.132288,-12.015377,-9.388323,-13.155681,-22.46472222,-7.0711111,-22.70305555,-9.62222221,-17.258064,-17.30416666,-4.276047,-10.47694443,-3.86416666,-19.23249999,-22.5525,-15.23444444,-13.30944444,-30.05361111,-1.82194443,-15.32472221,0.69416666,-16.38888888,-8.7936111,-14.08916666,-21.33833333,-2.59222221,-2.05666666,-21.10083333,-22.11999999,-15.57999999,-30.368578,-10.98472221,-12.60305555,-4.97888888,-5.17444443,-22.37277777,-27.6786111,-8.04333333,-24.53305554,-9.62555554,-22.45138888,-11.05861111,-21.77499999,-22.653579,-22.98833333,-22.93999999,-22.86138888,-23.05027777,-32.07888888,-26.2486111,-29.87222221,-15.72305554,-9.793363,-2.6336111,-17.78527777,-4.82749999,-16.4625,-14.82888888,-0.125207,-13.45388888,-19.87527777,-8.05805555,-16.16027777,-0.61888888,-15.12472221,-13.005515,-12.80833333,-7.124191,-29.72499999,-8.72972221,-21.95055555,-11.00277777,-27.89055555,-11.42888888,-19.988388,-30.75055555,-2.5025,-29.191599,-14.92777777,-27.854345,-28.65,-21.980353,-11.61888888,-6.63972221,-30.341438,-6.835777,-21.106502,-8.36444444,-28.27564,-28.7486111,-2.52666666,-9.28749999,-23.22833332,-28.41722221,-18.6761111,-23.85194444,-12.82055554,-26.77638888,-23.724501,-23.49638888,-9.03333333,-16.36277777,-20.91,-18.969142,-21.46111111,-29.70222222,-13.30388888,-22.8711111,-28.70472222,-22.75777777,-17.79888888,-6.07749999,-11.98777777,-19.45527777,-20.98166666,-22.64583333,-16.67972221,-3.74805555,-28.859211,-17.63527777,-23.4261111,-7.83972221,-33.74222221,-14.65,-6.01749999,-17.89284,-5.03472221,-22.4486111,-29.44916666,-3.73222221,-19.57388888,-29.35027777,-30.01027777,-20.78333333,-18.200855,-22.09833333,-6.74333333,-3.82277777,-21.927251,-29.0893814,-1.66111111,-19.71,-18.91694443,-16.55416666,-2.53472221,-7.44138888,-29.83987,-28.53249999,-28.513602,-22.35805555,-6.39916666,-21.56638888,-20.38555555,-24.28027777,-20.762607,-15.06277777,-20.46694443,-12.73499999,-20.27083332,-14.88638888,-20.40333333,-26.938666,-7.110518,-3.26916666,-9.26472222,-12.1486111,-3.21416666,-22.96583333,-5.62666666,-16.84888888,-15.9025,-7.103778,-19.60555555,-8.433537,-6.97555554,-15.91527777,-22.34749999,-4.21805554,-31.30555555,-7.52944443,-0.97416666,-11.084858,-5.50638888,-12.155843,-1.43583333,-19.93444444,-2.64222221,-4.3786111,-18.53722221,2.82944443,-28.66944443,-13.251097,-9.06611111,-15.78972221,-1.680277,-19.020355,-8.50388888,-2.23972221,-7.22555554,-21.74249999,-13.47083332,-20.526119,1.83249999,-19.73583333,-17.73944444,-17.533008,-7.33722221,-18.17027777,-4.86722221,-29.1961111,-5.65333333,-3.74277777,-11.10138888,-3.8411111,-6.03305554,-8.25916666,-22.02222221,-13.33249999,-28.6261111,-12.67527777,-15.61999999,-14.40611111,-6.66166666,-6.76166666,-2.51583333,-15.54916666,-14.949727,-3.81527777,-20.58444444,-8.91083333,-16.67305554,-16.58081,-22.84694444,-5.53638888,-17.72444443,-25.502846,-11.272334,-3.13694444,-4.276986,-17.85972222,-21.20444444,-11.17277777,-15.448054,-17.9236111,-7.09527777,-21.76999999,-16.775057,-7.26138888,-28.22249999,-21.2261111,-12.557854,-23.32555554,-3.46972221,-0.04499999,-3.10333333,-5.36611111,-23.4,-2.0,-7.89444444,-16.68638888,-5.13666666,-11.547494,-20.46583333,-5.83722221,-14.697917,-7.87944443,-15.776,-10.190897,-9.42027777,-9.74916666,-19.66361111,-22.382805,-28.2286111,-7.05361111,-8.13222221,-16.00944444,-8.9686111,-31.78333333,-9.3886111,-7.08083332,-15.85472222,-4.2761111,-30.05361111,-1.751055,-9.162012,-10.71083333,-14.08916666,-10.21376,-5.17305554,-22.45111111,-9.95916666,-17.78527777,-16.154862,-13.00583333,-29.72472221,-21.96805554,-33.53166666,-21.53694444,-21.98027777,-0.12527777,-6.83583333,-8.365,-22.126273,-2.52666666,-28.41722221,-23.49638888,-21.461019,-15.82305554,-6.46749999,-11.66805554,-23.47999999,-11.00277777,-7.839628,-12.40222222,-8.16027777,-3.38027777,-5.03472221,-22.41722221,-1.06361111,-3.76,-1.66138888,-16.36638888,-20.31583333,-14.88638888,-3.269212],\"legendgroup\":\"Operative\",\"lon\":[-40.08722221,-41.10694444,-52.21166666,-52.87583332,-47.625801,-41.457787,-41.09083333,-41.48888888,-55.52555554,-40.74194444,-40.68777777,-52.39472221,-53.22444443,-45.93194443,-53.28944444,-43.86555555,-42.72749999,-44.30333333,-37.815,-59.8886111,-42.03527777,-52.24527777,-49.5286111,-48.20111111,-36.61916666,-49.49792,-46.94972221,-37.05555555,-35.718128,-48.84055555,-42.02138888,-59.12944443,-48.9411111,-44.79499999,-54.01333333,-45.094625,-46.02749999,-46.00888888,-43.76777777,-62.92416666,-43.13888888,-48.5575,-45.23694444,-48.41638888,-45.02694443,-48.54499999,-46.86944443,-52.47138888,-49.028877,-48.439512,-43.96944443,-43.95861111,-51.534202,-46.14333333,-60.69083333,-49.47972221,-43.40527777,-44.32638888,-46.78583333,-46.53055554,-47.92583332,-48.1311111,-36.48194443,-41.67222221,-46.44944444,-43.65111111,-46.43555555,-36.28638888,-50.98552,-53.46694443,-45.00555555,-51.81749999,-37.08499999,-46.382996,-51.83424,-35.13527777,-50.14972221,-41.95833333,-52.80027777,-35.904831,-49.518133,-51.064042,-54.722615,-42.14555555,-57.8386111,-55.13555555,-45.60388888,-41.34388888,-41.05166666,-51.21583333,-50.82722221,-52.70083333,-42.97583332,-52.40722222,-42.38916666,-43.32444443,-42.137146,-42.600936,-47.45972222,-36.02833332,-47.07527777,-51.72083332,-47.94805555,-41.51222222,-47.927614,-43.3436111,-45.61749999,-43.35222222,-52.6357111,-52.3486111,-63.14527777,-44.23333333,-48.478605,-49.157733,-59.7625,-48.151574,-49.28277777,-43.26111111,-45.17305554,-44.61749999,-36.28638888,-53.17138888,-54.7361111,-40.67222221,-47.61305555,-47.62583332,-53.673597,-39.08944444,-56.062951,-39.9125,-49.23055554,-44.453785,-43.648269,-46.84722221,-53.633114,-44.87499999,-47.56388888,-54.61805554,-45.593932,-43.28222221,-40.73638888,-49.91472222,-52.52472221,-52.305805,-42.80861111,-47.41833332,-38.996605,-38.96749999,-44.41694443,-43.00333333,-48.620096,-45.45388888,-45.20083333,-49.60833333,-38.53777777,-54.48305554,-47.38249999,-53.42944443,-48.13749999,-36.49333333,-53.2575,-51.35361111,-45.34583333,-48.98999999,-49.220222,-50.14138888,-53.04888888,-41.977007,-46.16222222,-42.74972221,-42.94305555,-47.19916666,-53.76611111,-49.04972221,-63.07138888,-37.71166666,-44.011249,-53.11194444,-48.79972221,-43.21333333,-47.54583333,-39.26888888,-47.45972222,-51.077946,-36.87222221,-51.14888888,-41.864504,-37.795,-40.29972221,-58.48277777,-55.99305555,-48.76194444,-41.485588,-49.53999999,-48.88583333,-39.5886111,-46.80527777,-48.64166666,-54.181858,-44.70305555,-54.50166666,-40.119752,-49.52499999,-49.19194444,-49.64694444,-47.77527777,-50.85388888,-53.82277777,-53.37583332,-38.62777777,-37.76666666,-50.59499999,-44.366313,-50.18055554,-56.13777777,-51.717467,-51.55888888,-34.81555555,-46.11944443,-49.946387,-43.364329,-64.7886111,-50.33555555,-49.847882,-51.512845,-41.388808,-40.0686111,-49.73472221,-45.82972221,-47.96694443,-48.81333333,-41.81194444,-51.08888888,-35.77027777,-45.944389,-50.36333333,-54.01916666,-60.62833332,-60.01638888,-42.18277777,-61.28833333,-40.986505,-38.97222221,-45.373049,-49.723333,-40.53972221,-49.965111,-51.93277777,-45.92194443,-57.67388888,-52.96333333,-52.60111111,-44.016036,-44.40416666,-46.890326,-46.04333333,-37.12472221,-43.84388888,-38.35666666,-48.80861111,-49.101698,-37.36694443,-42.37583332,-35.20805555,-43.10194444,-50.57777777,-42.67694443,-57.09222221,-43.29694444,-40.39055555,-60.38055554,-49.93944444,-55.51972221,-42.14694444,-44.86444444,-43.75611111,-50.63805555,-35.56805554,-48.30194444,-36.62027777,-46.88166666,-47.87194443,-51.18166666,-52.13444444,-54.0361111,-47.557417,-44.72694443,-50.42545,-41.78305554,-69.92638888,-44.961909,-52.403582,-46.633916,-37.27277777,-46.44055555,-46.985935,-41.142945,-48.544517,-40.523262,-41.774125,-43.29138888,-41.40416666,-47.62333332,-37.76722221,-44.835556,-48.28416666,-41.794568,-49.62944443,-54.21638888,-44.96416666,-55.71638888,-59.3461111,-49.11749999,-51.17472221,-52.11166666,-57.22583332,-51.40388888,-39.18249999,-63.84583333,-46.36638888,-48.11388888,-42.7075,-60.02583332,-41.03944444,-51.40861111,-54.3811111,-56.437115,-39.61694443,-52.1625,-39.05722222,-39.28944444,-50.97472221,-49.04194444,-50.00694444,-47.86416666,-42.07722221,-44.44499999,-38.44416666,-54.52805554,-44.040916,-43.19055555,-43.40277777,-43.41138888,-43.59555555,-52.16777777,-49.57416666,-52.38194443,-42.43583333,-47.132732,-59.60055555,-50.965,-48.1736111,-54.58027777,-56.44194444,-67.061246,-56.67722221,-47.43416666,-39.0961111,-42.31027777,-47.35666666,-58.12722221,-38.50576,-38.49583333,-48.781267,-53.72055554,-49.85638888,-42.01027777,-44.52499999,-54.47999999,-48.18499999,-40.579572,-55.40138888,-54.72027777,-54.885653,-53.8836111,-53.791179,-56.01638888,-47.883927,-50.72777777,-51.95694444,-54.310909,-38.311583,-44.250928,-42.2525,-49.934617,-50.05777777,-44.21361111,-35.56583333,-45.41694443,-54.9625,-39.86416666,-48.16472222,-50.33583333,-53.50416666,-46.677501,-46.61999999,-42.70111111,-45.12388888,-47.11416666,-50.633449,-47.57944443,-54.69444444,-58.76333333,-42.60888888,-51.87083332,-43.68472221,-40.25,-50.14222221,-51.4261111,-44.17333332,-54.97194443,-42.41555555,-48.61805554,-40.34583333,-52.542387,-54.76055555,-47.58555555,-35.80111111,-53.37222221,-57.43166666,-40.28138888,-41.515423,-42.80138888,-42.98694444,-51.82333332,-41.01194444,-42.62249999,-49.73333333,-50.13583333,-51.71222222,-45.459836,-43.20833333,-51.14194444,-49.67499999,-50.490251,-53.82665025,-45.37249999,-47.96194444,-48.25555555,-46.88194443,-57.75805555,-44.34499999,-57.081899,-49.31527777,-50.882738,-43.69555555,-41.73999999,-45.40416666,-41.18999999,-50.21027777,-42.864013,-59.87305554,-40.40388888,-60.15777777,-40.30583333,-40.80138888,-49.96611111,-52.39809,-49.926072,-45.65111111,-37.93805555,-38.42527777,-52.21305555,-43.27916666,-37.815,-42.06083333,-52.24527777,-48.20133,-46.94972221,-37.055365,-35.71805554,-46.10722222,-43.41777777,-44.77583332,-54.11944443,-46.04638888,-62.9286111,-43.138998,-45.23722221,-45.008269,-48.43722221,-43.95222222,-54.94388888,-70.02999999,-40.27222221,-60.66194444,-50.44194444,-43.405365,-44.36527777,-47.92583332,-50.478034,-43.433948,-39.31527777,-49.49972221,-35.90472222,-41.33277777,-52.2711111,-41.90913,-61.12083332,-42.13722221,-39.25861111,-43.012091,-47.45972222,-47.95805555,-43.35666666,-51.18638888,-35.42583332,-43.35222222,-38.52416666,-62.05527777,-44.23333333,-49.26388888,-42.36444444,-44.61749999,-53.61388888,-39.08972221,-56.10888888,-56.44694444,-69.86777777,-43.00333333,-66.10083333,-47.33888888,-46.235795,-38.53777777,-47.38249999,-36.49333333,-49.26388888,-39.783182,-42.18555555,-47.47888888,-48.17194443,-50.637609,-37.794973,-58.44277777,-55.993087,-42.85277777,-41.90555555,-40.53416666,-44.366321,-51.71749999,-34.8486111,-43.36444444,-43.667085,-64.78999999,-51.51277777,-44.97972221,-41.388808,-51.14166666,-42.26805554,-51.11,-60.01638888,-49.12527777,-51.91666666,-54.07638888,-37.12472221,-43.84388888,-38.35666666,-41.151165,-41.41194444,-35.20777777,-52.350226,-40.09194444,-56.072,-48.301822,-36.62027777,-37.43083332,-51.19138888,-44.966902,-52.41194444,-37.27388888,-41.14305555,-41.2811111,-48.17722221,-52.41666666,-40.52333332,-41.43499999,-48.96611111,-41.79444444,-51.17472221,-52.236186,-35.299881,-48.40638888,-46.36666666,-36.842198,-39.28722221,-44.44472221,-67.86888888,-50.96472222,-42.284921,-38.50583333,-53.72055554,-42.00305555,-53.35027777,-42.16083333,-47.88388888,-67.06111111,-38.31166666,-42.25027777,-45.043327,-44.21361111,-54.9625,-46.61999999,-47.579512,-55.41888888,-37.08499999,-39.00194444,-47.42666666,-44.52499999,-35.801056,-46.43833333,-70.7686111,-64.72527777,-42.80138888,-42.97222221,-46.86527777,-49.66666666,-45.37194443,-46.88944444,-40.31694443,-40.80138888,-45.651007],\"marker\":{\"color\":\"green\"},\"mode\":\"markers\",\"name\":\"Operative\",\"showlegend\":true,\"subplot\":\"mapbox\",\"type\":\"scattermapbox\"}],                        {\"template\":{\"data\":{\"histogram2dcontour\":[{\"type\":\"histogram2dcontour\",\"colorbar\":{\"outlinewidth\":0,\"ticks\":\"\"},\"colorscale\":[[0.0,\"#0d0887\"],[0.1111111111111111,\"#46039f\"],[0.2222222222222222,\"#7201a8\"],[0.3333333333333333,\"#9c179e\"],[0.4444444444444444,\"#bd3786\"],[0.5555555555555556,\"#d8576b\"],[0.6666666666666666,\"#ed7953\"],[0.7777777777777778,\"#fb9f3a\"],[0.8888888888888888,\"#fdca26\"],[1.0,\"#f0f921\"]]}],\"choropleth\":[{\"type\":\"choropleth\",\"colorbar\":{\"outlinewidth\":0,\"ticks\":\"\"}}],\"histogram2d\":[{\"type\":\"histogram2d\",\"colorbar\":{\"outlinewidth\":0,\"ticks\":\"\"},\"colorscale\":[[0.0,\"#0d0887\"],[0.1111111111111111,\"#46039f\"],[0.2222222222222222,\"#7201a8\"],[0.3333333333333333,\"#9c179e\"],[0.4444444444444444,\"#bd3786\"],[0.5555555555555556,\"#d8576b\"],[0.6666666666666666,\"#ed7953\"],[0.7777777777777778,\"#fb9f3a\"],[0.8888888888888888,\"#fdca26\"],[1.0,\"#f0f921\"]]}],\"heatmap\":[{\"type\":\"heatmap\",\"colorbar\":{\"outlinewidth\":0,\"ticks\":\"\"},\"colorscale\":[[0.0,\"#0d0887\"],[0.1111111111111111,\"#46039f\"],[0.2222222222222222,\"#7201a8\"],[0.3333333333333333,\"#9c179e\"],[0.4444444444444444,\"#bd3786\"],[0.5555555555555556,\"#d8576b\"],[0.6666666666666666,\"#ed7953\"],[0.7777777777777778,\"#fb9f3a\"],[0.8888888888888888,\"#fdca26\"],[1.0,\"#f0f921\"]]}],\"heatmapgl\":[{\"type\":\"heatmapgl\",\"colorbar\":{\"outlinewidth\":0,\"ticks\":\"\"},\"colorscale\":[[0.0,\"#0d0887\"],[0.1111111111111111,\"#46039f\"],[0.2222222222222222,\"#7201a8\"],[0.3333333333333333,\"#9c179e\"],[0.4444444444444444,\"#bd3786\"],[0.5555555555555556,\"#d8576b\"],[0.6666666666666666,\"#ed7953\"],[0.7777777777777778,\"#fb9f3a\"],[0.8888888888888888,\"#fdca26\"],[1.0,\"#f0f921\"]]}],\"contourcarpet\":[{\"type\":\"contourcarpet\",\"colorbar\":{\"outlinewidth\":0,\"ticks\":\"\"}}],\"contour\":[{\"type\":\"contour\",\"colorbar\":{\"outlinewidth\":0,\"ticks\":\"\"},\"colorscale\":[[0.0,\"#0d0887\"],[0.1111111111111111,\"#46039f\"],[0.2222222222222222,\"#7201a8\"],[0.3333333333333333,\"#9c179e\"],[0.4444444444444444,\"#bd3786\"],[0.5555555555555556,\"#d8576b\"],[0.6666666666666666,\"#ed7953\"],[0.7777777777777778,\"#fb9f3a\"],[0.8888888888888888,\"#fdca26\"],[1.0,\"#f0f921\"]]}],\"surface\":[{\"type\":\"surface\",\"colorbar\":{\"outlinewidth\":0,\"ticks\":\"\"},\"colorscale\":[[0.0,\"#0d0887\"],[0.1111111111111111,\"#46039f\"],[0.2222222222222222,\"#7201a8\"],[0.3333333333333333,\"#9c179e\"],[0.4444444444444444,\"#bd3786\"],[0.5555555555555556,\"#d8576b\"],[0.6666666666666666,\"#ed7953\"],[0.7777777777777778,\"#fb9f3a\"],[0.8888888888888888,\"#fdca26\"],[1.0,\"#f0f921\"]]}],\"mesh3d\":[{\"type\":\"mesh3d\",\"colorbar\":{\"outlinewidth\":0,\"ticks\":\"\"}}],\"scatter\":[{\"fillpattern\":{\"fillmode\":\"overlay\",\"size\":10,\"solidity\":0.2},\"type\":\"scatter\"}],\"parcoords\":[{\"type\":\"parcoords\",\"line\":{\"colorbar\":{\"outlinewidth\":0,\"ticks\":\"\"}}}],\"scatterpolargl\":[{\"type\":\"scatterpolargl\",\"marker\":{\"colorbar\":{\"outlinewidth\":0,\"ticks\":\"\"}}}],\"bar\":[{\"error_x\":{\"color\":\"#2a3f5f\"},\"error_y\":{\"color\":\"#2a3f5f\"},\"marker\":{\"line\":{\"color\":\"#E5ECF6\",\"width\":0.5},\"pattern\":{\"fillmode\":\"overlay\",\"size\":10,\"solidity\":0.2}},\"type\":\"bar\"}],\"scattergeo\":[{\"type\":\"scattergeo\",\"marker\":{\"colorbar\":{\"outlinewidth\":0,\"ticks\":\"\"}}}],\"scatterpolar\":[{\"type\":\"scatterpolar\",\"marker\":{\"colorbar\":{\"outlinewidth\":0,\"ticks\":\"\"}}}],\"histogram\":[{\"marker\":{\"pattern\":{\"fillmode\":\"overlay\",\"size\":10,\"solidity\":0.2}},\"type\":\"histogram\"}],\"scattergl\":[{\"type\":\"scattergl\",\"marker\":{\"colorbar\":{\"outlinewidth\":0,\"ticks\":\"\"}}}],\"scatter3d\":[{\"type\":\"scatter3d\",\"line\":{\"colorbar\":{\"outlinewidth\":0,\"ticks\":\"\"}},\"marker\":{\"colorbar\":{\"outlinewidth\":0,\"ticks\":\"\"}}}],\"scattermapbox\":[{\"type\":\"scattermapbox\",\"marker\":{\"colorbar\":{\"outlinewidth\":0,\"ticks\":\"\"}}}],\"scatterternary\":[{\"type\":\"scatterternary\",\"marker\":{\"colorbar\":{\"outlinewidth\":0,\"ticks\":\"\"}}}],\"scattercarpet\":[{\"type\":\"scattercarpet\",\"marker\":{\"colorbar\":{\"outlinewidth\":0,\"ticks\":\"\"}}}],\"carpet\":[{\"aaxis\":{\"endlinecolor\":\"#2a3f5f\",\"gridcolor\":\"white\",\"linecolor\":\"white\",\"minorgridcolor\":\"white\",\"startlinecolor\":\"#2a3f5f\"},\"baxis\":{\"endlinecolor\":\"#2a3f5f\",\"gridcolor\":\"white\",\"linecolor\":\"white\",\"minorgridcolor\":\"white\",\"startlinecolor\":\"#2a3f5f\"},\"type\":\"carpet\"}],\"table\":[{\"cells\":{\"fill\":{\"color\":\"#EBF0F8\"},\"line\":{\"color\":\"white\"}},\"header\":{\"fill\":{\"color\":\"#C8D4E3\"},\"line\":{\"color\":\"white\"}},\"type\":\"table\"}],\"barpolar\":[{\"marker\":{\"line\":{\"color\":\"#E5ECF6\",\"width\":0.5},\"pattern\":{\"fillmode\":\"overlay\",\"size\":10,\"solidity\":0.2}},\"type\":\"barpolar\"}],\"pie\":[{\"automargin\":true,\"type\":\"pie\"}]},\"layout\":{\"autotypenumbers\":\"strict\",\"colorway\":[\"#636efa\",\"#EF553B\",\"#00cc96\",\"#ab63fa\",\"#FFA15A\",\"#19d3f3\",\"#FF6692\",\"#B6E880\",\"#FF97FF\",\"#FECB52\"],\"font\":{\"color\":\"#2a3f5f\"},\"hovermode\":\"closest\",\"hoverlabel\":{\"align\":\"left\"},\"paper_bgcolor\":\"white\",\"plot_bgcolor\":\"#E5ECF6\",\"polar\":{\"bgcolor\":\"#E5ECF6\",\"angularaxis\":{\"gridcolor\":\"white\",\"linecolor\":\"white\",\"ticks\":\"\"},\"radialaxis\":{\"gridcolor\":\"white\",\"linecolor\":\"white\",\"ticks\":\"\"}},\"ternary\":{\"bgcolor\":\"#E5ECF6\",\"aaxis\":{\"gridcolor\":\"white\",\"linecolor\":\"white\",\"ticks\":\"\"},\"baxis\":{\"gridcolor\":\"white\",\"linecolor\":\"white\",\"ticks\":\"\"},\"caxis\":{\"gridcolor\":\"white\",\"linecolor\":\"white\",\"ticks\":\"\"}},\"coloraxis\":{\"colorbar\":{\"outlinewidth\":0,\"ticks\":\"\"}},\"colorscale\":{\"sequential\":[[0.0,\"#0d0887\"],[0.1111111111111111,\"#46039f\"],[0.2222222222222222,\"#7201a8\"],[0.3333333333333333,\"#9c179e\"],[0.4444444444444444,\"#bd3786\"],[0.5555555555555556,\"#d8576b\"],[0.6666666666666666,\"#ed7953\"],[0.7777777777777778,\"#fb9f3a\"],[0.8888888888888888,\"#fdca26\"],[1.0,\"#f0f921\"]],\"sequentialminus\":[[0.0,\"#0d0887\"],[0.1111111111111111,\"#46039f\"],[0.2222222222222222,\"#7201a8\"],[0.3333333333333333,\"#9c179e\"],[0.4444444444444444,\"#bd3786\"],[0.5555555555555556,\"#d8576b\"],[0.6666666666666666,\"#ed7953\"],[0.7777777777777778,\"#fb9f3a\"],[0.8888888888888888,\"#fdca26\"],[1.0,\"#f0f921\"]],\"diverging\":[[0,\"#8e0152\"],[0.1,\"#c51b7d\"],[0.2,\"#de77ae\"],[0.3,\"#f1b6da\"],[0.4,\"#fde0ef\"],[0.5,\"#f7f7f7\"],[0.6,\"#e6f5d0\"],[0.7,\"#b8e186\"],[0.8,\"#7fbc41\"],[0.9,\"#4d9221\"],[1,\"#276419\"]]},\"xaxis\":{\"gridcolor\":\"white\",\"linecolor\":\"white\",\"ticks\":\"\",\"title\":{\"standoff\":15},\"zerolinecolor\":\"white\",\"automargin\":true,\"zerolinewidth\":2},\"yaxis\":{\"gridcolor\":\"white\",\"linecolor\":\"white\",\"ticks\":\"\",\"title\":{\"standoff\":15},\"zerolinecolor\":\"white\",\"automargin\":true,\"zerolinewidth\":2},\"scene\":{\"xaxis\":{\"backgroundcolor\":\"#E5ECF6\",\"gridcolor\":\"white\",\"linecolor\":\"white\",\"showbackground\":true,\"ticks\":\"\",\"zerolinecolor\":\"white\",\"gridwidth\":2},\"yaxis\":{\"backgroundcolor\":\"#E5ECF6\",\"gridcolor\":\"white\",\"linecolor\":\"white\",\"showbackground\":true,\"ticks\":\"\",\"zerolinecolor\":\"white\",\"gridwidth\":2},\"zaxis\":{\"backgroundcolor\":\"#E5ECF6\",\"gridcolor\":\"white\",\"linecolor\":\"white\",\"showbackground\":true,\"ticks\":\"\",\"zerolinecolor\":\"white\",\"gridwidth\":2}},\"shapedefaults\":{\"line\":{\"color\":\"#2a3f5f\"}},\"annotationdefaults\":{\"arrowcolor\":\"#2a3f5f\",\"arrowhead\":0,\"arrowwidth\":1},\"geo\":{\"bgcolor\":\"white\",\"landcolor\":\"#E5ECF6\",\"subunitcolor\":\"white\",\"showland\":true,\"showlakes\":true,\"lakecolor\":\"white\"},\"title\":{\"x\":0.05},\"mapbox\":{\"style\":\"light\"}}},\"mapbox\":{\"domain\":{\"x\":[0.0,1.0],\"y\":[0.0,1.0]},\"center\":{\"lat\":-15.166394626457762,\"lon\":-47.57503445435968},\"zoom\":3,\"style\":\"open-street-map\"},\"legend\":{\"title\":{\"text\":\"CD_SITUATION\"},\"tracegroupgap\":0,\"yanchor\":\"top\",\"y\":0.99,\"xanchor\":\"left\",\"x\":0.79},\"margin\":{\"t\":0,\"r\":0,\"l\":0,\"b\":0},\"height\":800,\"width\":600},                        {\"responsive\": true}                    ).then(function(){\n",
       "                            \n",
       "var gd = document.getElementById('94899fd1-afd0-4b61-81f6-60d953e5c6e2');\n",
       "var x = new MutationObserver(function (mutations, observer) {{\n",
       "        var display = window.getComputedStyle(gd).display;\n",
       "        if (!display || display === 'none') {{\n",
       "            console.log([gd, 'removed!']);\n",
       "            Plotly.purge(gd);\n",
       "            observer.disconnect();\n",
       "        }}\n",
       "}});\n",
       "\n",
       "// Listen for the removal of the full notebook cells\n",
       "var notebookContainer = gd.closest('#notebook-container');\n",
       "if (notebookContainer) {{\n",
       "    x.observe(notebookContainer, {childList: true});\n",
       "}}\n",
       "\n",
       "// Listen for the clearing of the current output cell\n",
       "var outputEl = gd.closest('.output');\n",
       "if (outputEl) {{\n",
       "    x.observe(outputEl, {childList: true});\n",
       "}}\n",
       "\n",
       "                        })                };                });            </script>        </div>"
      ]
     },
     "metadata": {},
     "output_type": "display_data"
    }
   ],
   "source": [
    "fig = px.scatter_mapbox(stations, lat=\"LATITUDE\", lon=\"LONGITUDE\", hover_name=\"STATION_NAME\", hover_data=[\"TP_STATION\", \"CD_SITUATION\"],\n",
    "                        color = \"CD_SITUATION\", \n",
    "                        zoom=3, height=300, \n",
    "                        color_discrete_map= {'Down': 'red',\n",
    "                                             'Operative': 'green'})\n",
    "                                                                  \n",
    "fig.update_layout(mapbox_style=\"open-street-map\")\n",
    "fig.update_layout(margin={\"r\":0,\"t\":0,\"l\":0,\"b\":0})\n",
    "fig.update_layout(height=800, width=600)\n",
    "fig.update_layout(legend=dict(\n",
    "    yanchor=\"top\",\n",
    "    y=0.99,\n",
    "    xanchor=\"left\",\n",
    "    x=0.79\n",
    "))\n",
    "fig.show()"
   ]
  },
  {
   "cell_type": "code",
   "execution_count": 51,
   "metadata": {},
   "outputs": [],
   "source": [
    "# Mapa com a coloração da temperatura\n",
    "all_stations_data = inmet.get_all_stations()"
   ]
  },
  {
   "cell_type": "code",
   "execution_count": 54,
   "metadata": {},
   "outputs": [
    {
     "data": {
      "text/plain": [
       "0        -15.78944444\n",
       "1        -15.78944444\n",
       "2        -15.78944444\n",
       "3        -15.78944444\n",
       "4        -15.78944444\n",
       "             ...     \n",
       "14396    -19.97999999\n",
       "14397    -19.97999999\n",
       "14398    -19.97999999\n",
       "14399    -19.97999999\n",
       "14400    -19.97999999\n",
       "Name: LAT, Length: 14401, dtype: object"
      ]
     },
     "execution_count": 54,
     "metadata": {},
     "output_type": "execute_result"
    }
   ],
   "source": [
    "all_stations_data.LAT"
   ]
  },
  {
   "cell_type": "code",
   "execution_count": 55,
   "metadata": {},
   "outputs": [],
   "source": [
    "all_stations_data.LAT = all_stations_data.LAT.astype(float)\n",
    "all_stations_data.LONG = all_stations_data.LONG.astype(float)"
   ]
  },
  {
   "cell_type": "code",
   "execution_count": 56,
   "metadata": {},
   "outputs": [],
   "source": [
    "all_stations_data.TEMP = all_stations_data.TEMP.astype(float)"
   ]
  },
  {
   "cell_type": "code",
   "execution_count": 57,
   "metadata": {},
   "outputs": [],
   "source": [
    "daily_mean = all_stations_data.groupby(['STATION_NAME', 'LAT','LONG'])['TEMP'].mean().to_frame(name = 'TEMP').reset_index()"
   ]
  },
  {
   "cell_type": "code",
   "execution_count": 67,
   "metadata": {},
   "outputs": [],
   "source": [
    "daily_mean.dropna(inplace=True)"
   ]
  },
  {
   "cell_type": "code",
   "execution_count": 81,
   "metadata": {},
   "outputs": [
    {
     "data": {
      "text/plain": [
       "9.854166666666666"
      ]
     },
     "execution_count": 81,
     "metadata": {},
     "output_type": "execute_result"
    }
   ],
   "source": [
    "daily_mean"
   ]
  },
  {
   "cell_type": "code",
   "execution_count": null,
   "metadata": {
    "scrolled": true
   },
   "outputs": [],
   "source": []
  },
  {
   "cell_type": "code",
   "execution_count": 93,
   "metadata": {},
   "outputs": [
    {
     "data": {
      "application/vnd.plotly.v1+json": {
       "config": {
        "plotlyServerURL": "https://plot.ly"
       },
       "data": [
        {
         "hovertemplate": "LAT=%{lat}<br>LONG=%{lon}<br>TEMP=%{marker.color}<extra></extra>",
         "lat": [
          -3.1211111,
          -20.10416666,
          -15.596491,
          -19.53277777,
          -20.75055555,
          -29.70916666,
          -20.63638888,
          -16.16666666,
          -3.27027777,
          -17.33944444,
          -9.10833333,
          -8.44166666,
          -6.08944444,
          -22.97555554,
          -5.62666666,
          -7.20555555,
          -7.10388888,
          -28.931353,
          -19.60583333,
          -16.84888888,
          -8.4336111,
          -6.975451,
          -22.97527777,
          -3.58333333,
          -23.10166666,
          -4.24305555,
          -31.34777777,
          -8.333531,
          -7.45555555,
          -20.0311111,
          -21.22833332,
          -0.98722221,
          -11.08472221,
          -22.4711111,
          -5.50666666,
          -24.96277777,
          -12.12472221,
          -23.52388888,
          -21.75,
          -22.358052,
          -19.88388888,
          -19.97999999,
          -1.411228,
          -29.164581,
          -23.84472221,
          2.81694443,
          -28.12694443,
          -13.25111111,
          -9.08333333,
          -22.95194444,
          -1.04722221,
          -15.78944444,
          -15.59972221,
          -14.18194443,
          -4.32055554,
          -10.72305554,
          -15.52416666,
          -7.48333333,
          -22.68888888,
          -11.44583333,
          -16.96694443,
          -6.46749999,
          -21.918066,
          -30.807953,
          -6.56194444,
          -29.04916666,
          -21.58749999,
          -24.57083332,
          -7.225574,
          -19.53921,
          -29.674293,
          -4.86416666,
          -13.78583333,
          -15.53138888,
          -22.75027777,
          -22.04166666,
          -27.3886111,
          -29.36888888,
          -31.40333333,
          -8.11805554,
          -17.70555555,
          -31.8025,
          -9.28583333,
          -19.735757,
          -21.938745,
          -7.33722221,
          -8.36527777,
          -21.78055554,
          -19.12249999,
          -1.30083333,
          -5.34916666,
          -18.154779,
          -4.82138888,
          -26.819156,
          -30.54527777,
          -15.30027777,
          -3.74277777,
          -18.80222222,
          -27.0853111,
          -26.41722221,
          -6.03305554,
          -25.322464,
          -13.70805555,
          -19.98586,
          -8.30361111,
          -10.42916666,
          -13.33249999,
          -10.1286111,
          -18.49277777,
          -18.51222222,
          -5.18666666,
          -16.78499999,
          -16.39944444,
          -28.60344,
          -12.67555554,
          -15.559295,
          -9.00138888,
          -25.4486111,
          -18.747711,
          -18.231052,
          -11.59444444,
          -26.286562,
          -20.17333332,
          -4.28055554,
          -31.0025,
          -19.481935,
          -22.58972221,
          -18.29138888,
          -17.33694444,
          -30.54305555,
          -14.91222222,
          -6.65333333,
          -12.1961111,
          -19.88527777,
          -27.60253,
          -20.455,
          -11.05222222,
          -11.88749999,
          -3.81583333,
          -25.60194444,
          -20.58444444,
          -27.39555555,
          -15.93527777,
          -8.91083333,
          -13.18472221,
          -9.87527777,
          -15.22027777,
          -16.642841,
          -24.18388888,
          -15.93972221,
          -18.830354,
          -5.81611111,
          -14.20805555,
          -18.78694444,
          -4.26138888,
          -17.56138888,
          -16.34166666,
          -11.74583333,
          -7.5525,
          -20.031457,
          -28.65333333,
          -21.85555555,
          -12.19305555,
          -24.67166666,
          -6.39638888,
          -5.55583333,
          -5.53499999,
          -16.42305554,
          -11.328998,
          -11.2725,
          -12.52416666,
          -3.13333333,
          -4.27694443,
          -26.95083333,
          -16.575667,
          -23.98194443,
          -3.48416666,
          -26.08138888,
          -17.17499999,
          -13.527828,
          -18.95277777,
          -18.40972222,
          -27.41833332,
          -20.35972222,
          -25.01083333,
          -22.30055555,
          -5.90555555,
          -32.53472221,
          -20.165,
          -15.448089,
          -23.77333332,
          -21.4786111,
          -17.923622,
          -23.505266,
          -27.16916666,
          -7.16527777,
          -17.78444444,
          -21.769965,
          -7.26055555,
          -27.80222222,
          -10.828286,
          -28.222381,
          -12.557854,
          -19.35694444,
          -21.66611111,
          -12.1525,
          -16.26055555,
          -28.60444444,
          0.03499999,
          -22.3761111,
          -9.55111111,
          -21.680722,
          -24.53333333,
          -3.29472221,
          -3.10333333,
          -20.26333333,
          -5.7886111,
          -18.78062,
          -13.90694444,
          -22.314567,
          -9.576389,
          -22.235222,
          -19.40722222,
          -23.40527777,
          -10.43444444,
          -3.51083333,
          -17.45472222,
          -15.085958,
          -14.40833333,
          -13.253521,
          -22.86166666,
          -7.89444444,
          -16.68638888,
          -5.13666666,
          -25.50888888,
          -17.745066,
          -4.90416666,
          -21.105,
          -5.83722221,
          -22.86749999,
          -22.33472221,
          -23.41527777,
          -13.0386111,
          -15.80277777,
          -18.69527777,
          -8.0911111,
          -6.97416666,
          -20.715,
          -20.55666666,
          -3.8436111,
          -8.66666666,
          -10.19083333,
          -9.42027777,
          -17.24444444,
          -19.69555555,
          -16.012222,
          -12.615,
          -23.2236111,
          -16.962536,
          -9.35833333,
          -22.395799,
          -28.226805,
          -20.745237,
          -7.07972221,
          -18.52055554,
          -18.996684,
          -8.132288,
          -12.015377,
          -13.155681,
          -22.46472222,
          -7.0711111,
          -22.70305555,
          -9.62222221,
          -17.258064,
          -17.30416666,
          -4.276047,
          -10.47694443,
          -3.86416666,
          -19.23249999,
          -22.5525,
          -15.23444444,
          -13.30944444,
          -30.05361111,
          -1.82194443,
          -15.32472221,
          0.69416666,
          -16.38888888,
          -8.7936111,
          -14.08916666,
          -21.33833333,
          -2.59222221,
          -2.05666666,
          -21.10083333,
          -22.11999999,
          -15.57999999,
          -30.368578,
          -10.98472221,
          -12.60305555,
          -4.97888888,
          -5.17444443,
          -22.37277777,
          -27.6786111,
          -8.04333333,
          -24.53305554,
          -9.62555554,
          -22.45138888,
          -11.05861111,
          -21.77499999,
          -22.653579,
          -22.98833333,
          -22.93999999,
          -22.86138888,
          -23.05027777,
          -32.07888888,
          -29.87222221,
          -15.72305554,
          -9.793363,
          -2.6336111,
          -17.78527777,
          -16.4625,
          -14.82888888,
          -0.125207,
          -13.45388888,
          -19.87527777,
          -8.05805555,
          -16.16027777,
          -0.61888888,
          -15.12472221,
          -13.005515,
          -12.80833333,
          -7.124191,
          -29.72499999,
          -8.72972221,
          -21.95055555,
          -11.00277777,
          -27.89055555,
          -11.42888888,
          -19.988388,
          -30.75055555,
          -2.5025,
          -29.191599,
          -14.92777777,
          -27.854345,
          -23.49638888,
          -9.03333333,
          -20.91,
          -29.70222222,
          -22.8711111,
          -28.70472222,
          -22.75777777,
          -17.79888888,
          -11.98777777,
          -19.45527777,
          -22.64583333,
          -16.67972221,
          -3.74805555,
          -28.859211,
          -17.63527777,
          -23.4261111,
          -7.83972221,
          -33.74222221,
          -28.65,
          -21.980353,
          -11.61888888,
          -30.341438,
          -6.835777,
          -28.27564,
          -28.7486111,
          -21.106502,
          -8.36444444,
          -2.52666666,
          -9.28749999,
          -23.22833332,
          -28.41722221,
          -18.6761111,
          -23.85194444,
          -12.82055554,
          -26.77638888,
          -23.724501,
          -16.36277777,
          -21.46111111,
          -18.969142,
          -14.65,
          -6.01749999,
          -5.03472221,
          -22.4486111,
          -29.44916666,
          -17.89284,
          -3.73222221,
          -19.57388888,
          -29.35027777,
          -20.78333333,
          -18.200855,
          -22.09833333,
          -6.74333333,
          -3.82277777,
          -21.927251,
          -29.0893814,
          -19.71,
          -18.91694443,
          -16.55416666,
          -2.53472221,
          -29.83987,
          -28.53249999,
          -7.44138888,
          -28.513602,
          -22.35805555,
          -6.39916666,
          -21.56638888,
          -20.38555555,
          -24.28027777,
          -15.06277777,
          -20.46694443,
          -12.73499999,
          -14.88638888,
          -20.27083332,
          -20.762607,
          -3.26916666,
          -20.44444444,
          -15.751536,
          -1.88083332
         ],
         "legendgroup": "",
         "lon": [
          -40.08722221,
          -41.10694444,
          -47.625801,
          -41.09083333,
          -41.48888888,
          -55.52555554,
          -40.74194444,
          -40.68777777,
          -52.39472221,
          -53.22444443,
          -45.93194443,
          -43.86555555,
          -42.72749999,
          -44.30333333,
          -37.815,
          -59.8886111,
          -48.20111111,
          -49.49792,
          -46.94972221,
          -42.03527777,
          -37.05555555,
          -35.718128,
          -42.02138888,
          -59.12944443,
          -48.9411111,
          -44.79499999,
          -54.01333333,
          -45.094625,
          -46.02749999,
          -46.00888888,
          -43.76777777,
          -62.92416666,
          -43.13888888,
          -48.5575,
          -45.23694444,
          -48.41638888,
          -45.02694443,
          -46.86944443,
          -52.47138888,
          -49.028877,
          -43.96944443,
          -43.95861111,
          -48.439512,
          -51.534202,
          -46.14333333,
          -60.69083333,
          -49.47972221,
          -43.40527777,
          -44.32638888,
          -46.53055554,
          -46.78583333,
          -47.92583332,
          -48.1311111,
          -41.67222221,
          -46.44944444,
          -43.65111111,
          -46.43555555,
          -36.28638888,
          -45.00555555,
          -61.43416666,
          -51.81749999,
          -37.08499999,
          -46.382996,
          -51.83424,
          -35.13527777,
          -50.14972221,
          -41.95833333,
          -52.80027777,
          -35.904831,
          -49.518133,
          -51.064042,
          -42.14555555,
          -57.8386111,
          -55.13555555,
          -45.60388888,
          -41.05166666,
          -51.21583333,
          -50.82722221,
          -52.70083333,
          -42.97583332,
          -42.38916666,
          -52.40722222,
          -43.32444443,
          -42.137146,
          -42.600936,
          -47.45972222,
          -36.02833332,
          -47.07527777,
          -51.72083332,
          -47.94805555,
          -41.51222222,
          -47.927614,
          -43.3436111,
          -50.98552,
          -53.46694443,
          -45.61749999,
          -43.35222222,
          -52.6025,
          -52.6357111,
          -52.3486111,
          -44.23333333,
          -49.157733,
          -59.7625,
          -48.151574,
          -49.28277777,
          -45.17305554,
          -44.61749999,
          -36.28638888,
          -53.17138888,
          -54.7361111,
          -40.67222221,
          -47.61305555,
          -47.62583332,
          -53.673597,
          -39.08944444,
          -56.062951,
          -39.9125,
          -49.23055554,
          -44.453785,
          -43.648269,
          -46.84722221,
          -53.633114,
          -44.87499999,
          -47.56388888,
          -54.61805554,
          -45.593932,
          -43.28222221,
          -40.73638888,
          -49.91472222,
          -52.52472221,
          -42.80861111,
          -47.41833332,
          -38.96749999,
          -44.41694443,
          -48.620096,
          -45.45388888,
          -45.20083333,
          -49.60833333,
          -38.53777777,
          -54.48305554,
          -47.38249999,
          -53.42944443,
          -48.13749999,
          -36.49333333,
          -53.2575,
          -45.34583333,
          -48.98999999,
          -49.220222,
          -53.04888888,
          -50.14138888,
          -41.977007,
          -46.16222222,
          -42.74972221,
          -42.94305555,
          -38.9311111,
          -47.19916666,
          -53.76611111,
          -49.04972221,
          -63.07138888,
          -44.011249,
          -53.11194444,
          -48.79972221,
          -43.21333333,
          -47.54583333,
          -39.26888888,
          -47.45972222,
          -36.87222221,
          -51.14888888,
          -41.864504,
          -37.795,
          -40.29972221,
          -58.48277777,
          -55.99305555,
          -48.76194444,
          -41.485588,
          -48.88583333,
          -39.5886111,
          -48.64166666,
          -54.50166666,
          -40.119752,
          -49.52499999,
          -49.19194444,
          -49.64694444,
          -47.77527777,
          -50.85388888,
          -53.82277777,
          -38.62777777,
          -53.37583332,
          -50.59499999,
          -44.366313,
          -50.18055554,
          -56.13777777,
          -51.717467,
          -49.946387,
          -51.55888888,
          -34.81555555,
          -46.11944443,
          -43.364329,
          -64.7886111,
          -50.33555555,
          -49.847882,
          -51.512845,
          -41.388808,
          -40.0686111,
          -49.73472221,
          -45.82972221,
          -47.96694443,
          -48.81333333,
          -51.08888888,
          -41.81194444,
          -35.77027777,
          -45.944389,
          -54.01916666,
          -60.62833332,
          -60.01638888,
          -42.18277777,
          -61.28833333,
          -40.986505,
          -38.97222221,
          -45.373049,
          -49.723333,
          -49.965111,
          -40.53972221,
          -51.93277777,
          -45.92194443,
          -52.96333333,
          -52.60111111,
          -44.016036,
          -44.40416666,
          -46.890326,
          -46.04333333,
          -37.12472221,
          -43.84388888,
          -38.35666666,
          -48.80861111,
          -49.101698,
          -37.36694443,
          -42.37583332,
          -35.20805555,
          -43.10194444,
          -42.67694443,
          -50.57777777,
          -57.09222221,
          -43.29694444,
          -40.39055555,
          -60.38055554,
          -42.14694444,
          -44.86444444,
          -43.75611111,
          -50.63805555,
          -35.56805554,
          -48.30194444,
          -36.62027777,
          -46.88166666,
          -51.18166666,
          -47.557417,
          -47.87194443,
          -44.72694443,
          -50.42545,
          -69.92638888,
          -44.961909,
          -52.403582,
          -46.633916,
          -37.27277777,
          -46.44055555,
          -46.985935,
          -41.142945,
          -48.544517,
          -41.774125,
          -43.29138888,
          -41.40416666,
          -47.62333332,
          -37.76722221,
          -44.835556,
          -48.28416666,
          -41.794568,
          -49.62944443,
          -54.21638888,
          -44.96416666,
          -55.71638888,
          -59.3461111,
          -49.11749999,
          -51.17472221,
          -52.11166666,
          -57.22583332,
          -51.40388888,
          -39.18249999,
          -63.84583333,
          -46.36638888,
          -48.11388888,
          -42.7075,
          -60.02583332,
          -41.03944444,
          -51.40861111,
          -54.3811111,
          -56.437115,
          -39.61694443,
          -52.1625,
          -39.05722222,
          -39.28944444,
          -50.97472221,
          -49.04194444,
          -50.00694444,
          -47.86416666,
          -42.07722221,
          -44.44499999,
          -38.44416666,
          -54.52805554,
          -44.040916,
          -43.19055555,
          -43.40277777,
          -43.41138888,
          -43.59555555,
          -52.16777777,
          -52.38194443,
          -42.43583333,
          -47.132732,
          -59.60055555,
          -50.965,
          -54.58027777,
          -56.44194444,
          -67.061246,
          -56.67722221,
          -47.43416666,
          -39.0961111,
          -42.31027777,
          -47.35666666,
          -58.12722221,
          -38.50576,
          -38.49583333,
          -48.781267,
          -53.72055554,
          -49.85638888,
          -42.01027777,
          -44.52499999,
          -54.47999999,
          -48.18499999,
          -40.579572,
          -55.40138888,
          -54.72027777,
          -54.885653,
          -53.8836111,
          -53.791179,
          -46.61999999,
          -42.70111111,
          -47.11416666,
          -54.69444444,
          -42.60888888,
          -51.87083332,
          -43.68472221,
          -40.25,
          -51.4261111,
          -44.17333332,
          -42.41555555,
          -48.61805554,
          -40.34583333,
          -52.542387,
          -54.76055555,
          -47.58555555,
          -35.80111111,
          -53.37222221,
          -56.01638888,
          -47.883927,
          -50.72777777,
          -54.310909,
          -38.311583,
          -49.934617,
          -50.05777777,
          -44.250928,
          -42.2525,
          -44.21361111,
          -35.56583333,
          -45.41694443,
          -54.9625,
          -39.86416666,
          -48.16472222,
          -50.33583333,
          -53.50416666,
          -46.677501,
          -45.12388888,
          -47.57944443,
          -50.633449,
          -57.43166666,
          -40.28138888,
          -42.80138888,
          -42.98694444,
          -51.82333332,
          -41.515423,
          -41.01194444,
          -42.62249999,
          -49.73333333,
          -51.71222222,
          -45.459836,
          -43.20833333,
          -51.14194444,
          -49.67499999,
          -50.490251,
          -53.82665025,
          -47.96194444,
          -48.25555555,
          -46.88194443,
          -57.75805555,
          -57.081899,
          -49.31527777,
          -44.34499999,
          -50.882738,
          -43.69555555,
          -41.73999999,
          -45.40416666,
          -41.18999999,
          -50.21027777,
          -59.87305554,
          -40.40388888,
          -60.15777777,
          -40.80138888,
          -40.30583333,
          -42.864013,
          -45.65111111,
          -52.87583332,
          -41.457787,
          -55.51972221
         ],
         "marker": {
          "color": [
           25.962500000000002,
           20.370833333333334,
           19.425,
           25.057142857142857,
           21.900000000000002,
           13.991666666666667,
           23.854166666666668,
           22.579166666666666,
           26.833333333333332,
           24.52916666666667,
           26.675,
           27.325,
           24.912499999999998,
           24.391666666666666,
           26.349999999999998,
           25.104166666666668,
           25.608333333333334,
           16.8625,
           21.712500000000002,
           22.912499999999998,
           26,
           20.316666666666666,
           22.573913043478264,
           27.941666666666666,
           21.891666666666666,
           26.575,
           12.704166666666666,
           28.07777777777778,
           26.558333333333334,
           17.9375,
           17.895833333333332,
           26.104166666666668,
           26.458333333333332,
           25.104166666666668,
           26.724999999999998,
           15.65,
           25.858333333333334,
           25.336363636363636,
           23.954166666666666,
           23.383333333333336,
           20.483333333333334,
           18.245833333333334,
           28.766666666666666,
           14.0875,
           26.679166666666664,
           28.52916666666667,
           9.854166666666666,
           30.1,
           27.433333333333334,
           21.775000000000002,
           26.945833333333336,
           21.516666666666666,
           22.566666666666666,
           23.379166666666666,
           26.287499999999998,
           26.233333333333334,
           23.329166666666666,
           22.170833333333334,
           20.962500000000002,
           33.2,
           25.579166666666666,
           30.2,
           14.970833333333333,
           14.509090909090908,
           23.308333333333334,
           13.9625,
           20.366666666666667,
           16.128571428571426,
           21.583333333333332,
           26.59583333333333,
           15.637500000000001,
           28.008333333333336,
           25.662499999999998,
           29.9,
           14.441666666666668,
           23.22083333333333,
           15.991666666666667,
           12.045833333333334,
           11.341666666666667,
           26.354166666666668,
           18.10952380952381,
           13.329166666666666,
           28.825,
           21.066666666666666,
           18.629166666666666,
           28.566666666666666,
           19.016666666666666,
           23.683333333333334,
           30.139999999999997,
           29.27777777777778,
           27.412499999999998,
           23.766666666666666,
           24.55,
           15.333333333333334,
           12.866666666666667,
           23.558333333333334,
           27.150000000000002,
           24.683333333333334,
           18.133333333333333,
           15.84375,
           26.275000000000002,
           17.431818181818183,
           24.991666666666664,
           24.575,
           25.40833333333333,
           25.566666666666666,
           22.883333333333336,
           22.570833333333336,
           23.975,
           30.45,
           26.579166666666666,
           22.099999999999998,
           19.941666666666666,
           15.450000000000001,
           20.962500000000002,
           30.733333333333334,
           25.30909090909091,
           17.952173913043477,
           21.033333333333335,
           16.1125,
           25.1875,
           17.620833333333334,
           19.754166666666666,
           26.629166666666666,
           12.579166666666666,
           21.224999999999998,
           27.125,
           21.960869565217394,
           29.004166666666666,
           13.716666666666667,
           24.587500000000002,
           26.34166666666667,
           21.175,
           17.141666666666666,
           19.270833333333332,
           20.341666666666665,
           22.8625,
           29.537499999999998,
           25.766666666666666,
           19.54583333333333,
           22.84166666666667,
           17.462500000000002,
           23.4875,
           19.091666666666665,
           27.666666666666668,
           26.291666666666668,
           25.958333333333332,
           25.112499999999997,
           19.025000000000002,
           28.3875,
           21.65416666666667,
           27.670833333333334,
           24.599999999999998,
           23.066666666666666,
           22.833333333333332,
           21.45,
           26.820833333333336,
           26.9875,
           26.825,
           18.508695652173913,
           16.241666666666667,
           24.795833333333334,
           26.59583333333333,
           20.791666666666668,
           25.77916666666667,
           27.704166666666666,
           29.454545454545453,
           27.295833333333334,
           21.7375,
           21.384615384615383,
           23.625,
           27.995833333333334,
           28.433333333333334,
           17.379166666666666,
           24.474999999999998,
           19.683333333333334,
           27.670833333333334,
           18.0625,
           23.9375,
           19.045833333333334,
           26.770833333333332,
           26.545833333333334,
           16.116666666666667,
           23.108333333333334,
           17.383333333333333,
           24.557142857142857,
           27.741666666666664,
           12.049999999999999,
           30.389999999999997,
           23.241666666666664,
           19.979166666666668,
           25.76923076923077,
           25.224999999999998,
           23.21,
           17.275000000000002,
           26.1875,
           21.479166666666668,
           18.820833333333333,
           26.916666666666668,
           15.100000000000001,
           26.866666666666664,
           15.604166666666666,
           23.9875,
           22.108333333333334,
           25.02916666666667,
           23.395833333333332,
           23.420833333333334,
           18.05,
           28.325,
           23.78333333333333,
           24.576923076923077,
           19.666666666666668,
           18.829166666666666,
           28.379166666666666,
           28.650000000000002,
           17.504166666666666,
           26.78333333333333,
           21.883333333333336,
           22.516666666666666,
           13.987499999999999,
           33.975,
           23.9375,
           22.16521739130435,
           20.0625,
           22.900000000000002,
           27.15416666666667,
           24.15416666666667,
           23.004166666666666,
           23.691666666666666,
           26.9375,
           14.858333333333334,
           22.72083333333333,
           22.395833333333332,
           25.620833333333334,
           19.25,
           24.412499999999998,
           24.741666666666664,
           18.8,
           24.920833333333334,
           24.40833333333333,
           16.6375,
           20.337500000000002,
           26.4875,
           24.554166666666664,
           21.020833333333332,
           27.84166666666667,
           27.849999999999998,
           19.075,
           19.175,
           32.52222222222222,
           22.391666666666666,
           29.45,
           20.666666666666668,
           23.224999999999998,
           26.879166666666666,
           22.087500000000002,
           27.791666666666668,
           21.945833333333336,
           27.666666666666668,
           26.52916666666667,
           17.404166666666665,
           16.075,
           21.541666666666668,
           30.166666666666668,
           21.84583333333333,
           19.695833333333333,
           27.58888888888889,
           27.45,
           17.9875,
           13.450000000000001,
           27.476470588235294,
           24.641666666666666,
           21.400000000000002,
           22.25,
           23.7,
           27.604166666666668,
           27.825,
           27.395833333333332,
           21.991304347826087,
           19.572727272727274,
           24.77916666666667,
           28.7,
           15.208333333333334,
           26.84583333333333,
           26.245833333333334,
           25.8,
           20.591666666666665,
           28.254166666666666,
           26.094736842105263,
           23.329166666666666,
           26.958333333333332,
           27.941666666666666,
           22.891666666666666,
           28.200000000000003,
           25.829166666666666,
           13.054166666666667,
           20.979166666666668,
           27.191666666666666,
           25.270833333333332,
           25.287499999999998,
           20.1375,
           14.966666666666667,
           27.5,
           21.224999999999998,
           27.725,
           20.004166666666666,
           20.7,
           21.40416666666667,
           20.25,
           26.90833333333333,
           22.941666666666666,
           22.820833333333336,
           25.65416666666667,
           13.172727272727274,
           15.354166666666666,
           20.0625,
           30.669999999999998,
           25.866666666666664,
           26.795833333333334,
           25.541666666666668,
           28.587500000000002,
           26.59166666666667,
           26.923809523809524,
           22.420833333333334,
           25.071428571428573,
           22.679166666666664,
           26.579166666666666,
           26.679166666666664,
           24.041666666666668,
           23.4,
           26.391666666666666,
           15.383333333333333,
           28.170833333333334,
           17.766666666666666,
           25.045833333333334,
           17.783333333333335,
           26.891666666666666,
           15.968181818181819,
           11.612499999999999,
           26.986363636363638,
           17.224999999999998,
           26.708333333333332,
           16.962500000000002,
           21.84583333333333,
           29.255555555555556,
           21.858333333333334,
           14.625,
           24.15416666666667,
           16.162499999999998,
           26.099999999999998,
           20.508333333333333,
           28.7625,
           19.412499999999998,
           20.5125,
           22.71666666666667,
           27.099999999999998,
           14.616666666666667,
           24.570833333333336,
           22.579166666666666,
           21.575,
           10.75263157894737,
           16.2375,
           22.72083333333333,
           26.2,
           13.670833333333334,
           26.708333333333332,
           12.741666666666667,
           13.341666666666667,
           18.0125,
           27.516666666666666,
           26.191666666666666,
           23.570833333333336,
           19.620833333333334,
           16.425,
           22.276190476190475,
           21.329166666666666,
           29.224999999999998,
           17.916666666666668,
           21.245833333333334,
           22.766666666666666,
           23.97083333333333,
           27.0125,
           26.008333333333336,
           25.72083333333333,
           26.566666666666666,
           19.308333333333334,
           16.116666666666667,
           21.058333333333334,
           23.195833333333336,
           20.599999999999998,
           15.678260869565218,
           25.73478260869565,
           21.620833333333334,
           19.345833333333335,
           25.741666666666664,
           27.583333333333332,
           23.104166666666668,
           15.095652173913043,
           23.52173913043478,
           24.330434782608698,
           22.8125,
           27.804166666666664,
           13.729166666666666,
           17.391666666666666,
           25.974999999999998,
           14.366666666666667,
           21.929166666666664,
           26.2,
           18.5,
           18.129166666666666,
           16.895833333333332,
           25.804166666666664,
           23.175,
           25.679166666666664,
           18.204166666666666,
           22.670833333333334,
           16.782608695652176,
           27.329166666666666,
           24.375,
           20.375,
           27.087500000000002
          ],
          "coloraxis": "coloraxis"
         },
         "mode": "markers",
         "name": "",
         "showlegend": false,
         "subplot": "mapbox",
         "type": "scattermapbox"
        }
       ],
       "layout": {
        "coloraxis": {
         "colorbar": {
          "title": {
           "text": "TEMP"
          }
         },
         "colorscale": [
          [
           0,
           "#000000"
          ],
          [
           0.0625,
           "#001f4d"
          ],
          [
           0.125,
           "#003786"
          ],
          [
           0.1875,
           "#0e58a8"
          ],
          [
           0.25,
           "#217eb8"
          ],
          [
           0.3125,
           "#30a4ca"
          ],
          [
           0.375,
           "#54c8df"
          ],
          [
           0.4375,
           "#9be4ef"
          ],
          [
           0.5,
           "#e1e9d1"
          ],
          [
           0.5625,
           "#f3d573"
          ],
          [
           0.625,
           "#e7b000"
          ],
          [
           0.6875,
           "#da8200"
          ],
          [
           0.75,
           "#c65400"
          ],
          [
           0.8125,
           "#ac2301"
          ],
          [
           0.875,
           "#820000"
          ],
          [
           0.9375,
           "#4c0000"
          ],
          [
           1,
           "#000000"
          ]
         ]
        },
        "height": 800,
        "legend": {
         "tracegroupgap": 0
        },
        "mapbox": {
         "center": {
          "lat": -16.469193997885984,
          "lon": -47.374657182802856
         },
         "domain": {
          "x": [
           0,
           1
          ],
          "y": [
           0,
           1
          ]
         },
         "style": "open-street-map",
         "zoom": 3.5
        },
        "margin": {
         "b": 0,
         "l": 0,
         "r": 0,
         "t": 0
        },
        "template": {
         "data": {
          "bar": [
           {
            "error_x": {
             "color": "#2a3f5f"
            },
            "error_y": {
             "color": "#2a3f5f"
            },
            "marker": {
             "line": {
              "color": "#E5ECF6",
              "width": 0.5
             },
             "pattern": {
              "fillmode": "overlay",
              "size": 10,
              "solidity": 0.2
             }
            },
            "type": "bar"
           }
          ],
          "barpolar": [
           {
            "marker": {
             "line": {
              "color": "#E5ECF6",
              "width": 0.5
             },
             "pattern": {
              "fillmode": "overlay",
              "size": 10,
              "solidity": 0.2
             }
            },
            "type": "barpolar"
           }
          ],
          "carpet": [
           {
            "aaxis": {
             "endlinecolor": "#2a3f5f",
             "gridcolor": "white",
             "linecolor": "white",
             "minorgridcolor": "white",
             "startlinecolor": "#2a3f5f"
            },
            "baxis": {
             "endlinecolor": "#2a3f5f",
             "gridcolor": "white",
             "linecolor": "white",
             "minorgridcolor": "white",
             "startlinecolor": "#2a3f5f"
            },
            "type": "carpet"
           }
          ],
          "choropleth": [
           {
            "colorbar": {
             "outlinewidth": 0,
             "ticks": ""
            },
            "type": "choropleth"
           }
          ],
          "contour": [
           {
            "colorbar": {
             "outlinewidth": 0,
             "ticks": ""
            },
            "colorscale": [
             [
              0,
              "#0d0887"
             ],
             [
              0.1111111111111111,
              "#46039f"
             ],
             [
              0.2222222222222222,
              "#7201a8"
             ],
             [
              0.3333333333333333,
              "#9c179e"
             ],
             [
              0.4444444444444444,
              "#bd3786"
             ],
             [
              0.5555555555555556,
              "#d8576b"
             ],
             [
              0.6666666666666666,
              "#ed7953"
             ],
             [
              0.7777777777777778,
              "#fb9f3a"
             ],
             [
              0.8888888888888888,
              "#fdca26"
             ],
             [
              1,
              "#f0f921"
             ]
            ],
            "type": "contour"
           }
          ],
          "contourcarpet": [
           {
            "colorbar": {
             "outlinewidth": 0,
             "ticks": ""
            },
            "type": "contourcarpet"
           }
          ],
          "heatmap": [
           {
            "colorbar": {
             "outlinewidth": 0,
             "ticks": ""
            },
            "colorscale": [
             [
              0,
              "#0d0887"
             ],
             [
              0.1111111111111111,
              "#46039f"
             ],
             [
              0.2222222222222222,
              "#7201a8"
             ],
             [
              0.3333333333333333,
              "#9c179e"
             ],
             [
              0.4444444444444444,
              "#bd3786"
             ],
             [
              0.5555555555555556,
              "#d8576b"
             ],
             [
              0.6666666666666666,
              "#ed7953"
             ],
             [
              0.7777777777777778,
              "#fb9f3a"
             ],
             [
              0.8888888888888888,
              "#fdca26"
             ],
             [
              1,
              "#f0f921"
             ]
            ],
            "type": "heatmap"
           }
          ],
          "heatmapgl": [
           {
            "colorbar": {
             "outlinewidth": 0,
             "ticks": ""
            },
            "colorscale": [
             [
              0,
              "#0d0887"
             ],
             [
              0.1111111111111111,
              "#46039f"
             ],
             [
              0.2222222222222222,
              "#7201a8"
             ],
             [
              0.3333333333333333,
              "#9c179e"
             ],
             [
              0.4444444444444444,
              "#bd3786"
             ],
             [
              0.5555555555555556,
              "#d8576b"
             ],
             [
              0.6666666666666666,
              "#ed7953"
             ],
             [
              0.7777777777777778,
              "#fb9f3a"
             ],
             [
              0.8888888888888888,
              "#fdca26"
             ],
             [
              1,
              "#f0f921"
             ]
            ],
            "type": "heatmapgl"
           }
          ],
          "histogram": [
           {
            "marker": {
             "pattern": {
              "fillmode": "overlay",
              "size": 10,
              "solidity": 0.2
             }
            },
            "type": "histogram"
           }
          ],
          "histogram2d": [
           {
            "colorbar": {
             "outlinewidth": 0,
             "ticks": ""
            },
            "colorscale": [
             [
              0,
              "#0d0887"
             ],
             [
              0.1111111111111111,
              "#46039f"
             ],
             [
              0.2222222222222222,
              "#7201a8"
             ],
             [
              0.3333333333333333,
              "#9c179e"
             ],
             [
              0.4444444444444444,
              "#bd3786"
             ],
             [
              0.5555555555555556,
              "#d8576b"
             ],
             [
              0.6666666666666666,
              "#ed7953"
             ],
             [
              0.7777777777777778,
              "#fb9f3a"
             ],
             [
              0.8888888888888888,
              "#fdca26"
             ],
             [
              1,
              "#f0f921"
             ]
            ],
            "type": "histogram2d"
           }
          ],
          "histogram2dcontour": [
           {
            "colorbar": {
             "outlinewidth": 0,
             "ticks": ""
            },
            "colorscale": [
             [
              0,
              "#0d0887"
             ],
             [
              0.1111111111111111,
              "#46039f"
             ],
             [
              0.2222222222222222,
              "#7201a8"
             ],
             [
              0.3333333333333333,
              "#9c179e"
             ],
             [
              0.4444444444444444,
              "#bd3786"
             ],
             [
              0.5555555555555556,
              "#d8576b"
             ],
             [
              0.6666666666666666,
              "#ed7953"
             ],
             [
              0.7777777777777778,
              "#fb9f3a"
             ],
             [
              0.8888888888888888,
              "#fdca26"
             ],
             [
              1,
              "#f0f921"
             ]
            ],
            "type": "histogram2dcontour"
           }
          ],
          "mesh3d": [
           {
            "colorbar": {
             "outlinewidth": 0,
             "ticks": ""
            },
            "type": "mesh3d"
           }
          ],
          "parcoords": [
           {
            "line": {
             "colorbar": {
              "outlinewidth": 0,
              "ticks": ""
             }
            },
            "type": "parcoords"
           }
          ],
          "pie": [
           {
            "automargin": true,
            "type": "pie"
           }
          ],
          "scatter": [
           {
            "fillpattern": {
             "fillmode": "overlay",
             "size": 10,
             "solidity": 0.2
            },
            "type": "scatter"
           }
          ],
          "scatter3d": [
           {
            "line": {
             "colorbar": {
              "outlinewidth": 0,
              "ticks": ""
             }
            },
            "marker": {
             "colorbar": {
              "outlinewidth": 0,
              "ticks": ""
             }
            },
            "type": "scatter3d"
           }
          ],
          "scattercarpet": [
           {
            "marker": {
             "colorbar": {
              "outlinewidth": 0,
              "ticks": ""
             }
            },
            "type": "scattercarpet"
           }
          ],
          "scattergeo": [
           {
            "marker": {
             "colorbar": {
              "outlinewidth": 0,
              "ticks": ""
             }
            },
            "type": "scattergeo"
           }
          ],
          "scattergl": [
           {
            "marker": {
             "colorbar": {
              "outlinewidth": 0,
              "ticks": ""
             }
            },
            "type": "scattergl"
           }
          ],
          "scattermapbox": [
           {
            "marker": {
             "colorbar": {
              "outlinewidth": 0,
              "ticks": ""
             }
            },
            "type": "scattermapbox"
           }
          ],
          "scatterpolar": [
           {
            "marker": {
             "colorbar": {
              "outlinewidth": 0,
              "ticks": ""
             }
            },
            "type": "scatterpolar"
           }
          ],
          "scatterpolargl": [
           {
            "marker": {
             "colorbar": {
              "outlinewidth": 0,
              "ticks": ""
             }
            },
            "type": "scatterpolargl"
           }
          ],
          "scatterternary": [
           {
            "marker": {
             "colorbar": {
              "outlinewidth": 0,
              "ticks": ""
             }
            },
            "type": "scatterternary"
           }
          ],
          "surface": [
           {
            "colorbar": {
             "outlinewidth": 0,
             "ticks": ""
            },
            "colorscale": [
             [
              0,
              "#0d0887"
             ],
             [
              0.1111111111111111,
              "#46039f"
             ],
             [
              0.2222222222222222,
              "#7201a8"
             ],
             [
              0.3333333333333333,
              "#9c179e"
             ],
             [
              0.4444444444444444,
              "#bd3786"
             ],
             [
              0.5555555555555556,
              "#d8576b"
             ],
             [
              0.6666666666666666,
              "#ed7953"
             ],
             [
              0.7777777777777778,
              "#fb9f3a"
             ],
             [
              0.8888888888888888,
              "#fdca26"
             ],
             [
              1,
              "#f0f921"
             ]
            ],
            "type": "surface"
           }
          ],
          "table": [
           {
            "cells": {
             "fill": {
              "color": "#EBF0F8"
             },
             "line": {
              "color": "white"
             }
            },
            "header": {
             "fill": {
              "color": "#C8D4E3"
             },
             "line": {
              "color": "white"
             }
            },
            "type": "table"
           }
          ]
         },
         "layout": {
          "annotationdefaults": {
           "arrowcolor": "#2a3f5f",
           "arrowhead": 0,
           "arrowwidth": 1
          },
          "autotypenumbers": "strict",
          "coloraxis": {
           "colorbar": {
            "outlinewidth": 0,
            "ticks": ""
           }
          },
          "colorscale": {
           "diverging": [
            [
             0,
             "#8e0152"
            ],
            [
             0.1,
             "#c51b7d"
            ],
            [
             0.2,
             "#de77ae"
            ],
            [
             0.3,
             "#f1b6da"
            ],
            [
             0.4,
             "#fde0ef"
            ],
            [
             0.5,
             "#f7f7f7"
            ],
            [
             0.6,
             "#e6f5d0"
            ],
            [
             0.7,
             "#b8e186"
            ],
            [
             0.8,
             "#7fbc41"
            ],
            [
             0.9,
             "#4d9221"
            ],
            [
             1,
             "#276419"
            ]
           ],
           "sequential": [
            [
             0,
             "#0d0887"
            ],
            [
             0.1111111111111111,
             "#46039f"
            ],
            [
             0.2222222222222222,
             "#7201a8"
            ],
            [
             0.3333333333333333,
             "#9c179e"
            ],
            [
             0.4444444444444444,
             "#bd3786"
            ],
            [
             0.5555555555555556,
             "#d8576b"
            ],
            [
             0.6666666666666666,
             "#ed7953"
            ],
            [
             0.7777777777777778,
             "#fb9f3a"
            ],
            [
             0.8888888888888888,
             "#fdca26"
            ],
            [
             1,
             "#f0f921"
            ]
           ],
           "sequentialminus": [
            [
             0,
             "#0d0887"
            ],
            [
             0.1111111111111111,
             "#46039f"
            ],
            [
             0.2222222222222222,
             "#7201a8"
            ],
            [
             0.3333333333333333,
             "#9c179e"
            ],
            [
             0.4444444444444444,
             "#bd3786"
            ],
            [
             0.5555555555555556,
             "#d8576b"
            ],
            [
             0.6666666666666666,
             "#ed7953"
            ],
            [
             0.7777777777777778,
             "#fb9f3a"
            ],
            [
             0.8888888888888888,
             "#fdca26"
            ],
            [
             1,
             "#f0f921"
            ]
           ]
          },
          "colorway": [
           "#636efa",
           "#EF553B",
           "#00cc96",
           "#ab63fa",
           "#FFA15A",
           "#19d3f3",
           "#FF6692",
           "#B6E880",
           "#FF97FF",
           "#FECB52"
          ],
          "font": {
           "color": "#2a3f5f"
          },
          "geo": {
           "bgcolor": "white",
           "lakecolor": "white",
           "landcolor": "#E5ECF6",
           "showlakes": true,
           "showland": true,
           "subunitcolor": "white"
          },
          "hoverlabel": {
           "align": "left"
          },
          "hovermode": "closest",
          "mapbox": {
           "style": "light"
          },
          "paper_bgcolor": "white",
          "plot_bgcolor": "#E5ECF6",
          "polar": {
           "angularaxis": {
            "gridcolor": "white",
            "linecolor": "white",
            "ticks": ""
           },
           "bgcolor": "#E5ECF6",
           "radialaxis": {
            "gridcolor": "white",
            "linecolor": "white",
            "ticks": ""
           }
          },
          "scene": {
           "xaxis": {
            "backgroundcolor": "#E5ECF6",
            "gridcolor": "white",
            "gridwidth": 2,
            "linecolor": "white",
            "showbackground": true,
            "ticks": "",
            "zerolinecolor": "white"
           },
           "yaxis": {
            "backgroundcolor": "#E5ECF6",
            "gridcolor": "white",
            "gridwidth": 2,
            "linecolor": "white",
            "showbackground": true,
            "ticks": "",
            "zerolinecolor": "white"
           },
           "zaxis": {
            "backgroundcolor": "#E5ECF6",
            "gridcolor": "white",
            "gridwidth": 2,
            "linecolor": "white",
            "showbackground": true,
            "ticks": "",
            "zerolinecolor": "white"
           }
          },
          "shapedefaults": {
           "line": {
            "color": "#2a3f5f"
           }
          },
          "ternary": {
           "aaxis": {
            "gridcolor": "white",
            "linecolor": "white",
            "ticks": ""
           },
           "baxis": {
            "gridcolor": "white",
            "linecolor": "white",
            "ticks": ""
           },
           "bgcolor": "#E5ECF6",
           "caxis": {
            "gridcolor": "white",
            "linecolor": "white",
            "ticks": ""
           }
          },
          "title": {
           "x": 0.05
          },
          "xaxis": {
           "automargin": true,
           "gridcolor": "white",
           "linecolor": "white",
           "ticks": "",
           "title": {
            "standoff": 15
           },
           "zerolinecolor": "white",
           "zerolinewidth": 2
          },
          "yaxis": {
           "automargin": true,
           "gridcolor": "white",
           "linecolor": "white",
           "ticks": "",
           "title": {
            "standoff": 15
           },
           "zerolinecolor": "white",
           "zerolinewidth": 2
          }
         }
        },
        "width": 600
       }
      },
      "text/html": [
       "<div>                            <div id=\"1398f89d-b536-46cd-a085-9519e35d55aa\" class=\"plotly-graph-div\" style=\"height:800px; width:600px;\"></div>            <script type=\"text/javascript\">                require([\"plotly\"], function(Plotly) {                    window.PLOTLYENV=window.PLOTLYENV || {};                                    if (document.getElementById(\"1398f89d-b536-46cd-a085-9519e35d55aa\")) {                    Plotly.newPlot(                        \"1398f89d-b536-46cd-a085-9519e35d55aa\",                        [{\"hovertemplate\":\"LAT=%{lat}<br>LONG=%{lon}<br>TEMP=%{marker.color}<extra></extra>\",\"lat\":[-3.1211111,-20.10416666,-15.596491,-19.53277777,-20.75055555,-29.70916666,-20.63638888,-16.16666666,-3.27027777,-17.33944444,-9.10833333,-8.44166666,-6.08944444,-22.97555554,-5.62666666,-7.20555555,-7.10388888,-28.931353,-19.60583333,-16.84888888,-8.4336111,-6.975451,-22.97527777,-3.58333333,-23.10166666,-4.24305555,-31.34777777,-8.333531,-7.45555555,-20.0311111,-21.22833332,-0.98722221,-11.08472221,-22.4711111,-5.50666666,-24.96277777,-12.12472221,-23.52388888,-21.75,-22.358052,-19.88388888,-19.97999999,-1.411228,-29.164581,-23.84472221,2.81694443,-28.12694443,-13.25111111,-9.08333333,-22.95194444,-1.04722221,-15.78944444,-15.59972221,-14.18194443,-4.32055554,-10.72305554,-15.52416666,-7.48333333,-22.68888888,-11.44583333,-16.96694443,-6.46749999,-21.918066,-30.807953,-6.56194444,-29.04916666,-21.58749999,-24.57083332,-7.225574,-19.53921,-29.674293,-4.86416666,-13.78583333,-15.53138888,-22.75027777,-22.04166666,-27.3886111,-29.36888888,-31.40333333,-8.11805554,-17.70555555,-31.8025,-9.28583333,-19.735757,-21.938745,-7.33722221,-8.36527777,-21.78055554,-19.12249999,-1.30083333,-5.34916666,-18.154779,-4.82138888,-26.819156,-30.54527777,-15.30027777,-3.74277777,-18.80222222,-27.0853111,-26.41722221,-6.03305554,-25.322464,-13.70805555,-19.98586,-8.30361111,-10.42916666,-13.33249999,-10.1286111,-18.49277777,-18.51222222,-5.18666666,-16.78499999,-16.39944444,-28.60344,-12.67555554,-15.559295,-9.00138888,-25.4486111,-18.747711,-18.231052,-11.59444444,-26.286562,-20.17333332,-4.28055554,-31.0025,-19.481935,-22.58972221,-18.29138888,-17.33694444,-30.54305555,-14.91222222,-6.65333333,-12.1961111,-19.88527777,-27.60253,-20.455,-11.05222222,-11.88749999,-3.81583333,-25.60194444,-20.58444444,-27.39555555,-15.93527777,-8.91083333,-13.18472221,-9.87527777,-15.22027777,-16.642841,-24.18388888,-15.93972221,-18.830354,-5.81611111,-14.20805555,-18.78694444,-4.26138888,-17.56138888,-16.34166666,-11.74583333,-7.5525,-20.031457,-28.65333333,-21.85555555,-12.19305555,-24.67166666,-6.39638888,-5.55583333,-5.53499999,-16.42305554,-11.328998,-11.2725,-12.52416666,-3.13333333,-4.27694443,-26.95083333,-16.575667,-23.98194443,-3.48416666,-26.08138888,-17.17499999,-13.527828,-18.95277777,-18.40972222,-27.41833332,-20.35972222,-25.01083333,-22.30055555,-5.90555555,-32.53472221,-20.165,-15.448089,-23.77333332,-21.4786111,-17.923622,-23.505266,-27.16916666,-7.16527777,-17.78444444,-21.769965,-7.26055555,-27.80222222,-10.828286,-28.222381,-12.557854,-19.35694444,-21.66611111,-12.1525,-16.26055555,-28.60444444,0.03499999,-22.3761111,-9.55111111,-21.680722,-24.53333333,-3.29472221,-3.10333333,-20.26333333,-5.7886111,-18.78062,-13.90694444,-22.314567,-9.576389,-22.235222,-19.40722222,-23.40527777,-10.43444444,-3.51083333,-17.45472222,-15.085958,-14.40833333,-13.253521,-22.86166666,-7.89444444,-16.68638888,-5.13666666,-25.50888888,-17.745066,-4.90416666,-21.105,-5.83722221,-22.86749999,-22.33472221,-23.41527777,-13.0386111,-15.80277777,-18.69527777,-8.0911111,-6.97416666,-20.715,-20.55666666,-3.8436111,-8.66666666,-10.19083333,-9.42027777,-17.24444444,-19.69555555,-16.012222,-12.615,-23.2236111,-16.962536,-9.35833333,-22.395799,-28.226805,-20.745237,-7.07972221,-18.52055554,-18.996684,-8.132288,-12.015377,-13.155681,-22.46472222,-7.0711111,-22.70305555,-9.62222221,-17.258064,-17.30416666,-4.276047,-10.47694443,-3.86416666,-19.23249999,-22.5525,-15.23444444,-13.30944444,-30.05361111,-1.82194443,-15.32472221,0.69416666,-16.38888888,-8.7936111,-14.08916666,-21.33833333,-2.59222221,-2.05666666,-21.10083333,-22.11999999,-15.57999999,-30.368578,-10.98472221,-12.60305555,-4.97888888,-5.17444443,-22.37277777,-27.6786111,-8.04333333,-24.53305554,-9.62555554,-22.45138888,-11.05861111,-21.77499999,-22.653579,-22.98833333,-22.93999999,-22.86138888,-23.05027777,-32.07888888,-29.87222221,-15.72305554,-9.793363,-2.6336111,-17.78527777,-16.4625,-14.82888888,-0.125207,-13.45388888,-19.87527777,-8.05805555,-16.16027777,-0.61888888,-15.12472221,-13.005515,-12.80833333,-7.124191,-29.72499999,-8.72972221,-21.95055555,-11.00277777,-27.89055555,-11.42888888,-19.988388,-30.75055555,-2.5025,-29.191599,-14.92777777,-27.854345,-23.49638888,-9.03333333,-20.91,-29.70222222,-22.8711111,-28.70472222,-22.75777777,-17.79888888,-11.98777777,-19.45527777,-22.64583333,-16.67972221,-3.74805555,-28.859211,-17.63527777,-23.4261111,-7.83972221,-33.74222221,-28.65,-21.980353,-11.61888888,-30.341438,-6.835777,-28.27564,-28.7486111,-21.106502,-8.36444444,-2.52666666,-9.28749999,-23.22833332,-28.41722221,-18.6761111,-23.85194444,-12.82055554,-26.77638888,-23.724501,-16.36277777,-21.46111111,-18.969142,-14.65,-6.01749999,-5.03472221,-22.4486111,-29.44916666,-17.89284,-3.73222221,-19.57388888,-29.35027777,-20.78333333,-18.200855,-22.09833333,-6.74333333,-3.82277777,-21.927251,-29.0893814,-19.71,-18.91694443,-16.55416666,-2.53472221,-29.83987,-28.53249999,-7.44138888,-28.513602,-22.35805555,-6.39916666,-21.56638888,-20.38555555,-24.28027777,-15.06277777,-20.46694443,-12.73499999,-14.88638888,-20.27083332,-20.762607,-3.26916666,-20.44444444,-15.751536,-1.88083332],\"legendgroup\":\"\",\"lon\":[-40.08722221,-41.10694444,-47.625801,-41.09083333,-41.48888888,-55.52555554,-40.74194444,-40.68777777,-52.39472221,-53.22444443,-45.93194443,-43.86555555,-42.72749999,-44.30333333,-37.815,-59.8886111,-48.20111111,-49.49792,-46.94972221,-42.03527777,-37.05555555,-35.718128,-42.02138888,-59.12944443,-48.9411111,-44.79499999,-54.01333333,-45.094625,-46.02749999,-46.00888888,-43.76777777,-62.92416666,-43.13888888,-48.5575,-45.23694444,-48.41638888,-45.02694443,-46.86944443,-52.47138888,-49.028877,-43.96944443,-43.95861111,-48.439512,-51.534202,-46.14333333,-60.69083333,-49.47972221,-43.40527777,-44.32638888,-46.53055554,-46.78583333,-47.92583332,-48.1311111,-41.67222221,-46.44944444,-43.65111111,-46.43555555,-36.28638888,-45.00555555,-61.43416666,-51.81749999,-37.08499999,-46.382996,-51.83424,-35.13527777,-50.14972221,-41.95833333,-52.80027777,-35.904831,-49.518133,-51.064042,-42.14555555,-57.8386111,-55.13555555,-45.60388888,-41.05166666,-51.21583333,-50.82722221,-52.70083333,-42.97583332,-42.38916666,-52.40722222,-43.32444443,-42.137146,-42.600936,-47.45972222,-36.02833332,-47.07527777,-51.72083332,-47.94805555,-41.51222222,-47.927614,-43.3436111,-50.98552,-53.46694443,-45.61749999,-43.35222222,-52.6025,-52.6357111,-52.3486111,-44.23333333,-49.157733,-59.7625,-48.151574,-49.28277777,-45.17305554,-44.61749999,-36.28638888,-53.17138888,-54.7361111,-40.67222221,-47.61305555,-47.62583332,-53.673597,-39.08944444,-56.062951,-39.9125,-49.23055554,-44.453785,-43.648269,-46.84722221,-53.633114,-44.87499999,-47.56388888,-54.61805554,-45.593932,-43.28222221,-40.73638888,-49.91472222,-52.52472221,-42.80861111,-47.41833332,-38.96749999,-44.41694443,-48.620096,-45.45388888,-45.20083333,-49.60833333,-38.53777777,-54.48305554,-47.38249999,-53.42944443,-48.13749999,-36.49333333,-53.2575,-45.34583333,-48.98999999,-49.220222,-53.04888888,-50.14138888,-41.977007,-46.16222222,-42.74972221,-42.94305555,-38.9311111,-47.19916666,-53.76611111,-49.04972221,-63.07138888,-44.011249,-53.11194444,-48.79972221,-43.21333333,-47.54583333,-39.26888888,-47.45972222,-36.87222221,-51.14888888,-41.864504,-37.795,-40.29972221,-58.48277777,-55.99305555,-48.76194444,-41.485588,-48.88583333,-39.5886111,-48.64166666,-54.50166666,-40.119752,-49.52499999,-49.19194444,-49.64694444,-47.77527777,-50.85388888,-53.82277777,-38.62777777,-53.37583332,-50.59499999,-44.366313,-50.18055554,-56.13777777,-51.717467,-49.946387,-51.55888888,-34.81555555,-46.11944443,-43.364329,-64.7886111,-50.33555555,-49.847882,-51.512845,-41.388808,-40.0686111,-49.73472221,-45.82972221,-47.96694443,-48.81333333,-51.08888888,-41.81194444,-35.77027777,-45.944389,-54.01916666,-60.62833332,-60.01638888,-42.18277777,-61.28833333,-40.986505,-38.97222221,-45.373049,-49.723333,-49.965111,-40.53972221,-51.93277777,-45.92194443,-52.96333333,-52.60111111,-44.016036,-44.40416666,-46.890326,-46.04333333,-37.12472221,-43.84388888,-38.35666666,-48.80861111,-49.101698,-37.36694443,-42.37583332,-35.20805555,-43.10194444,-42.67694443,-50.57777777,-57.09222221,-43.29694444,-40.39055555,-60.38055554,-42.14694444,-44.86444444,-43.75611111,-50.63805555,-35.56805554,-48.30194444,-36.62027777,-46.88166666,-51.18166666,-47.557417,-47.87194443,-44.72694443,-50.42545,-69.92638888,-44.961909,-52.403582,-46.633916,-37.27277777,-46.44055555,-46.985935,-41.142945,-48.544517,-41.774125,-43.29138888,-41.40416666,-47.62333332,-37.76722221,-44.835556,-48.28416666,-41.794568,-49.62944443,-54.21638888,-44.96416666,-55.71638888,-59.3461111,-49.11749999,-51.17472221,-52.11166666,-57.22583332,-51.40388888,-39.18249999,-63.84583333,-46.36638888,-48.11388888,-42.7075,-60.02583332,-41.03944444,-51.40861111,-54.3811111,-56.437115,-39.61694443,-52.1625,-39.05722222,-39.28944444,-50.97472221,-49.04194444,-50.00694444,-47.86416666,-42.07722221,-44.44499999,-38.44416666,-54.52805554,-44.040916,-43.19055555,-43.40277777,-43.41138888,-43.59555555,-52.16777777,-52.38194443,-42.43583333,-47.132732,-59.60055555,-50.965,-54.58027777,-56.44194444,-67.061246,-56.67722221,-47.43416666,-39.0961111,-42.31027777,-47.35666666,-58.12722221,-38.50576,-38.49583333,-48.781267,-53.72055554,-49.85638888,-42.01027777,-44.52499999,-54.47999999,-48.18499999,-40.579572,-55.40138888,-54.72027777,-54.885653,-53.8836111,-53.791179,-46.61999999,-42.70111111,-47.11416666,-54.69444444,-42.60888888,-51.87083332,-43.68472221,-40.25,-51.4261111,-44.17333332,-42.41555555,-48.61805554,-40.34583333,-52.542387,-54.76055555,-47.58555555,-35.80111111,-53.37222221,-56.01638888,-47.883927,-50.72777777,-54.310909,-38.311583,-49.934617,-50.05777777,-44.250928,-42.2525,-44.21361111,-35.56583333,-45.41694443,-54.9625,-39.86416666,-48.16472222,-50.33583333,-53.50416666,-46.677501,-45.12388888,-47.57944443,-50.633449,-57.43166666,-40.28138888,-42.80138888,-42.98694444,-51.82333332,-41.515423,-41.01194444,-42.62249999,-49.73333333,-51.71222222,-45.459836,-43.20833333,-51.14194444,-49.67499999,-50.490251,-53.82665025,-47.96194444,-48.25555555,-46.88194443,-57.75805555,-57.081899,-49.31527777,-44.34499999,-50.882738,-43.69555555,-41.73999999,-45.40416666,-41.18999999,-50.21027777,-59.87305554,-40.40388888,-60.15777777,-40.80138888,-40.30583333,-42.864013,-45.65111111,-52.87583332,-41.457787,-55.51972221],\"marker\":{\"color\":[25.962500000000002,20.370833333333334,19.425,25.057142857142857,21.900000000000002,13.991666666666667,23.854166666666668,22.579166666666666,26.833333333333332,24.52916666666667,26.675,27.325,24.912499999999998,24.391666666666666,26.349999999999998,25.104166666666668,25.608333333333334,16.8625,21.712500000000002,22.912499999999998,26.0,20.316666666666666,22.573913043478264,27.941666666666666,21.891666666666666,26.575,12.704166666666666,28.07777777777778,26.558333333333334,17.9375,17.895833333333332,26.104166666666668,26.458333333333332,25.104166666666668,26.724999999999998,15.65,25.858333333333334,25.336363636363636,23.954166666666666,23.383333333333336,20.483333333333334,18.245833333333334,28.766666666666666,14.0875,26.679166666666664,28.52916666666667,9.854166666666666,30.1,27.433333333333334,21.775000000000002,26.945833333333336,21.516666666666666,22.566666666666666,23.379166666666666,26.287499999999998,26.233333333333334,23.329166666666666,22.170833333333334,20.962500000000002,33.2,25.579166666666666,30.2,14.970833333333333,14.509090909090908,23.308333333333334,13.9625,20.366666666666667,16.128571428571426,21.583333333333332,26.59583333333333,15.637500000000001,28.008333333333336,25.662499999999998,29.9,14.441666666666668,23.22083333333333,15.991666666666667,12.045833333333334,11.341666666666667,26.354166666666668,18.10952380952381,13.329166666666666,28.825,21.066666666666666,18.629166666666666,28.566666666666666,19.016666666666666,23.683333333333334,30.139999999999997,29.27777777777778,27.412499999999998,23.766666666666666,24.55,15.333333333333334,12.866666666666667,23.558333333333334,27.150000000000002,24.683333333333334,18.133333333333333,15.84375,26.275000000000002,17.431818181818183,24.991666666666664,24.575,25.40833333333333,25.566666666666666,22.883333333333336,22.570833333333336,23.975,30.45,26.579166666666666,22.099999999999998,19.941666666666666,15.450000000000001,20.962500000000002,30.733333333333334,25.30909090909091,17.952173913043477,21.033333333333335,16.1125,25.1875,17.620833333333334,19.754166666666666,26.629166666666666,12.579166666666666,21.224999999999998,27.125,21.960869565217394,29.004166666666666,13.716666666666667,24.587500000000002,26.34166666666667,21.175,17.141666666666666,19.270833333333332,20.341666666666665,22.8625,29.537499999999998,25.766666666666666,19.54583333333333,22.84166666666667,17.462500000000002,23.4875,19.091666666666665,27.666666666666668,26.291666666666668,25.958333333333332,25.112499999999997,19.025000000000002,28.3875,21.65416666666667,27.670833333333334,24.599999999999998,23.066666666666666,22.833333333333332,21.45,26.820833333333336,26.9875,26.825,18.508695652173913,16.241666666666667,24.795833333333334,26.59583333333333,20.791666666666668,25.77916666666667,27.704166666666666,29.454545454545453,27.295833333333334,21.7375,21.384615384615383,23.625,27.995833333333334,28.433333333333334,17.379166666666666,24.474999999999998,19.683333333333334,27.670833333333334,18.0625,23.9375,19.045833333333334,26.770833333333332,26.545833333333334,16.116666666666667,23.108333333333334,17.383333333333333,24.557142857142857,27.741666666666664,12.049999999999999,30.389999999999997,23.241666666666664,19.979166666666668,25.76923076923077,25.224999999999998,23.21,17.275000000000002,26.1875,21.479166666666668,18.820833333333333,26.916666666666668,15.100000000000001,26.866666666666664,15.604166666666666,23.9875,22.108333333333334,25.02916666666667,23.395833333333332,23.420833333333334,18.05,28.325,23.78333333333333,24.576923076923077,19.666666666666668,18.829166666666666,28.379166666666666,28.650000000000002,17.504166666666666,26.78333333333333,21.883333333333336,22.516666666666666,13.987499999999999,33.975,23.9375,22.16521739130435,20.0625,22.900000000000002,27.15416666666667,24.15416666666667,23.004166666666666,23.691666666666666,26.9375,14.858333333333334,22.72083333333333,22.395833333333332,25.620833333333334,19.25,24.412499999999998,24.741666666666664,18.8,24.920833333333334,24.40833333333333,16.6375,20.337500000000002,26.4875,24.554166666666664,21.020833333333332,27.84166666666667,27.849999999999998,19.075,19.175,32.52222222222222,22.391666666666666,29.45,20.666666666666668,23.224999999999998,26.879166666666666,22.087500000000002,27.791666666666668,21.945833333333336,27.666666666666668,26.52916666666667,17.404166666666665,16.075,21.541666666666668,30.166666666666668,21.84583333333333,19.695833333333333,27.58888888888889,27.45,17.9875,13.450000000000001,27.476470588235294,24.641666666666666,21.400000000000002,22.25,23.7,27.604166666666668,27.825,27.395833333333332,21.991304347826087,19.572727272727274,24.77916666666667,28.7,15.208333333333334,26.84583333333333,26.245833333333334,25.8,20.591666666666665,28.254166666666666,26.094736842105263,23.329166666666666,26.958333333333332,27.941666666666666,22.891666666666666,28.200000000000003,25.829166666666666,13.054166666666667,20.979166666666668,27.191666666666666,25.270833333333332,25.287499999999998,20.1375,14.966666666666667,27.5,21.224999999999998,27.725,20.004166666666666,20.7,21.40416666666667,20.25,26.90833333333333,22.941666666666666,22.820833333333336,25.65416666666667,13.172727272727274,15.354166666666666,20.0625,30.669999999999998,25.866666666666664,26.795833333333334,25.541666666666668,28.587500000000002,26.59166666666667,26.923809523809524,22.420833333333334,25.071428571428573,22.679166666666664,26.579166666666666,26.679166666666664,24.041666666666668,23.4,26.391666666666666,15.383333333333333,28.170833333333334,17.766666666666666,25.045833333333334,17.783333333333335,26.891666666666666,15.968181818181819,11.612499999999999,26.986363636363638,17.224999999999998,26.708333333333332,16.962500000000002,21.84583333333333,29.255555555555556,21.858333333333334,14.625,24.15416666666667,16.162499999999998,26.099999999999998,20.508333333333333,28.7625,19.412499999999998,20.5125,22.71666666666667,27.099999999999998,14.616666666666667,24.570833333333336,22.579166666666666,21.575,10.75263157894737,16.2375,22.72083333333333,26.2,13.670833333333334,26.708333333333332,12.741666666666667,13.341666666666667,18.0125,27.516666666666666,26.191666666666666,23.570833333333336,19.620833333333334,16.425,22.276190476190475,21.329166666666666,29.224999999999998,17.916666666666668,21.245833333333334,22.766666666666666,23.97083333333333,27.0125,26.008333333333336,25.72083333333333,26.566666666666666,19.308333333333334,16.116666666666667,21.058333333333334,23.195833333333336,20.599999999999998,15.678260869565218,25.73478260869565,21.620833333333334,19.345833333333335,25.741666666666664,27.583333333333332,23.104166666666668,15.095652173913043,23.52173913043478,24.330434782608698,22.8125,27.804166666666664,13.729166666666666,17.391666666666666,25.974999999999998,14.366666666666667,21.929166666666664,26.2,18.5,18.129166666666666,16.895833333333332,25.804166666666664,23.175,25.679166666666664,18.204166666666666,22.670833333333334,16.782608695652176,27.329166666666666,24.375,20.375,27.087500000000002],\"coloraxis\":\"coloraxis\"},\"mode\":\"markers\",\"name\":\"\",\"showlegend\":false,\"subplot\":\"mapbox\",\"type\":\"scattermapbox\"}],                        {\"template\":{\"data\":{\"histogram2dcontour\":[{\"type\":\"histogram2dcontour\",\"colorbar\":{\"outlinewidth\":0,\"ticks\":\"\"},\"colorscale\":[[0.0,\"#0d0887\"],[0.1111111111111111,\"#46039f\"],[0.2222222222222222,\"#7201a8\"],[0.3333333333333333,\"#9c179e\"],[0.4444444444444444,\"#bd3786\"],[0.5555555555555556,\"#d8576b\"],[0.6666666666666666,\"#ed7953\"],[0.7777777777777778,\"#fb9f3a\"],[0.8888888888888888,\"#fdca26\"],[1.0,\"#f0f921\"]]}],\"choropleth\":[{\"type\":\"choropleth\",\"colorbar\":{\"outlinewidth\":0,\"ticks\":\"\"}}],\"histogram2d\":[{\"type\":\"histogram2d\",\"colorbar\":{\"outlinewidth\":0,\"ticks\":\"\"},\"colorscale\":[[0.0,\"#0d0887\"],[0.1111111111111111,\"#46039f\"],[0.2222222222222222,\"#7201a8\"],[0.3333333333333333,\"#9c179e\"],[0.4444444444444444,\"#bd3786\"],[0.5555555555555556,\"#d8576b\"],[0.6666666666666666,\"#ed7953\"],[0.7777777777777778,\"#fb9f3a\"],[0.8888888888888888,\"#fdca26\"],[1.0,\"#f0f921\"]]}],\"heatmap\":[{\"type\":\"heatmap\",\"colorbar\":{\"outlinewidth\":0,\"ticks\":\"\"},\"colorscale\":[[0.0,\"#0d0887\"],[0.1111111111111111,\"#46039f\"],[0.2222222222222222,\"#7201a8\"],[0.3333333333333333,\"#9c179e\"],[0.4444444444444444,\"#bd3786\"],[0.5555555555555556,\"#d8576b\"],[0.6666666666666666,\"#ed7953\"],[0.7777777777777778,\"#fb9f3a\"],[0.8888888888888888,\"#fdca26\"],[1.0,\"#f0f921\"]]}],\"heatmapgl\":[{\"type\":\"heatmapgl\",\"colorbar\":{\"outlinewidth\":0,\"ticks\":\"\"},\"colorscale\":[[0.0,\"#0d0887\"],[0.1111111111111111,\"#46039f\"],[0.2222222222222222,\"#7201a8\"],[0.3333333333333333,\"#9c179e\"],[0.4444444444444444,\"#bd3786\"],[0.5555555555555556,\"#d8576b\"],[0.6666666666666666,\"#ed7953\"],[0.7777777777777778,\"#fb9f3a\"],[0.8888888888888888,\"#fdca26\"],[1.0,\"#f0f921\"]]}],\"contourcarpet\":[{\"type\":\"contourcarpet\",\"colorbar\":{\"outlinewidth\":0,\"ticks\":\"\"}}],\"contour\":[{\"type\":\"contour\",\"colorbar\":{\"outlinewidth\":0,\"ticks\":\"\"},\"colorscale\":[[0.0,\"#0d0887\"],[0.1111111111111111,\"#46039f\"],[0.2222222222222222,\"#7201a8\"],[0.3333333333333333,\"#9c179e\"],[0.4444444444444444,\"#bd3786\"],[0.5555555555555556,\"#d8576b\"],[0.6666666666666666,\"#ed7953\"],[0.7777777777777778,\"#fb9f3a\"],[0.8888888888888888,\"#fdca26\"],[1.0,\"#f0f921\"]]}],\"surface\":[{\"type\":\"surface\",\"colorbar\":{\"outlinewidth\":0,\"ticks\":\"\"},\"colorscale\":[[0.0,\"#0d0887\"],[0.1111111111111111,\"#46039f\"],[0.2222222222222222,\"#7201a8\"],[0.3333333333333333,\"#9c179e\"],[0.4444444444444444,\"#bd3786\"],[0.5555555555555556,\"#d8576b\"],[0.6666666666666666,\"#ed7953\"],[0.7777777777777778,\"#fb9f3a\"],[0.8888888888888888,\"#fdca26\"],[1.0,\"#f0f921\"]]}],\"mesh3d\":[{\"type\":\"mesh3d\",\"colorbar\":{\"outlinewidth\":0,\"ticks\":\"\"}}],\"scatter\":[{\"fillpattern\":{\"fillmode\":\"overlay\",\"size\":10,\"solidity\":0.2},\"type\":\"scatter\"}],\"parcoords\":[{\"type\":\"parcoords\",\"line\":{\"colorbar\":{\"outlinewidth\":0,\"ticks\":\"\"}}}],\"scatterpolargl\":[{\"type\":\"scatterpolargl\",\"marker\":{\"colorbar\":{\"outlinewidth\":0,\"ticks\":\"\"}}}],\"bar\":[{\"error_x\":{\"color\":\"#2a3f5f\"},\"error_y\":{\"color\":\"#2a3f5f\"},\"marker\":{\"line\":{\"color\":\"#E5ECF6\",\"width\":0.5},\"pattern\":{\"fillmode\":\"overlay\",\"size\":10,\"solidity\":0.2}},\"type\":\"bar\"}],\"scattergeo\":[{\"type\":\"scattergeo\",\"marker\":{\"colorbar\":{\"outlinewidth\":0,\"ticks\":\"\"}}}],\"scatterpolar\":[{\"type\":\"scatterpolar\",\"marker\":{\"colorbar\":{\"outlinewidth\":0,\"ticks\":\"\"}}}],\"histogram\":[{\"marker\":{\"pattern\":{\"fillmode\":\"overlay\",\"size\":10,\"solidity\":0.2}},\"type\":\"histogram\"}],\"scattergl\":[{\"type\":\"scattergl\",\"marker\":{\"colorbar\":{\"outlinewidth\":0,\"ticks\":\"\"}}}],\"scatter3d\":[{\"type\":\"scatter3d\",\"line\":{\"colorbar\":{\"outlinewidth\":0,\"ticks\":\"\"}},\"marker\":{\"colorbar\":{\"outlinewidth\":0,\"ticks\":\"\"}}}],\"scattermapbox\":[{\"type\":\"scattermapbox\",\"marker\":{\"colorbar\":{\"outlinewidth\":0,\"ticks\":\"\"}}}],\"scatterternary\":[{\"type\":\"scatterternary\",\"marker\":{\"colorbar\":{\"outlinewidth\":0,\"ticks\":\"\"}}}],\"scattercarpet\":[{\"type\":\"scattercarpet\",\"marker\":{\"colorbar\":{\"outlinewidth\":0,\"ticks\":\"\"}}}],\"carpet\":[{\"aaxis\":{\"endlinecolor\":\"#2a3f5f\",\"gridcolor\":\"white\",\"linecolor\":\"white\",\"minorgridcolor\":\"white\",\"startlinecolor\":\"#2a3f5f\"},\"baxis\":{\"endlinecolor\":\"#2a3f5f\",\"gridcolor\":\"white\",\"linecolor\":\"white\",\"minorgridcolor\":\"white\",\"startlinecolor\":\"#2a3f5f\"},\"type\":\"carpet\"}],\"table\":[{\"cells\":{\"fill\":{\"color\":\"#EBF0F8\"},\"line\":{\"color\":\"white\"}},\"header\":{\"fill\":{\"color\":\"#C8D4E3\"},\"line\":{\"color\":\"white\"}},\"type\":\"table\"}],\"barpolar\":[{\"marker\":{\"line\":{\"color\":\"#E5ECF6\",\"width\":0.5},\"pattern\":{\"fillmode\":\"overlay\",\"size\":10,\"solidity\":0.2}},\"type\":\"barpolar\"}],\"pie\":[{\"automargin\":true,\"type\":\"pie\"}]},\"layout\":{\"autotypenumbers\":\"strict\",\"colorway\":[\"#636efa\",\"#EF553B\",\"#00cc96\",\"#ab63fa\",\"#FFA15A\",\"#19d3f3\",\"#FF6692\",\"#B6E880\",\"#FF97FF\",\"#FECB52\"],\"font\":{\"color\":\"#2a3f5f\"},\"hovermode\":\"closest\",\"hoverlabel\":{\"align\":\"left\"},\"paper_bgcolor\":\"white\",\"plot_bgcolor\":\"#E5ECF6\",\"polar\":{\"bgcolor\":\"#E5ECF6\",\"angularaxis\":{\"gridcolor\":\"white\",\"linecolor\":\"white\",\"ticks\":\"\"},\"radialaxis\":{\"gridcolor\":\"white\",\"linecolor\":\"white\",\"ticks\":\"\"}},\"ternary\":{\"bgcolor\":\"#E5ECF6\",\"aaxis\":{\"gridcolor\":\"white\",\"linecolor\":\"white\",\"ticks\":\"\"},\"baxis\":{\"gridcolor\":\"white\",\"linecolor\":\"white\",\"ticks\":\"\"},\"caxis\":{\"gridcolor\":\"white\",\"linecolor\":\"white\",\"ticks\":\"\"}},\"coloraxis\":{\"colorbar\":{\"outlinewidth\":0,\"ticks\":\"\"}},\"colorscale\":{\"sequential\":[[0.0,\"#0d0887\"],[0.1111111111111111,\"#46039f\"],[0.2222222222222222,\"#7201a8\"],[0.3333333333333333,\"#9c179e\"],[0.4444444444444444,\"#bd3786\"],[0.5555555555555556,\"#d8576b\"],[0.6666666666666666,\"#ed7953\"],[0.7777777777777778,\"#fb9f3a\"],[0.8888888888888888,\"#fdca26\"],[1.0,\"#f0f921\"]],\"sequentialminus\":[[0.0,\"#0d0887\"],[0.1111111111111111,\"#46039f\"],[0.2222222222222222,\"#7201a8\"],[0.3333333333333333,\"#9c179e\"],[0.4444444444444444,\"#bd3786\"],[0.5555555555555556,\"#d8576b\"],[0.6666666666666666,\"#ed7953\"],[0.7777777777777778,\"#fb9f3a\"],[0.8888888888888888,\"#fdca26\"],[1.0,\"#f0f921\"]],\"diverging\":[[0,\"#8e0152\"],[0.1,\"#c51b7d\"],[0.2,\"#de77ae\"],[0.3,\"#f1b6da\"],[0.4,\"#fde0ef\"],[0.5,\"#f7f7f7\"],[0.6,\"#e6f5d0\"],[0.7,\"#b8e186\"],[0.8,\"#7fbc41\"],[0.9,\"#4d9221\"],[1,\"#276419\"]]},\"xaxis\":{\"gridcolor\":\"white\",\"linecolor\":\"white\",\"ticks\":\"\",\"title\":{\"standoff\":15},\"zerolinecolor\":\"white\",\"automargin\":true,\"zerolinewidth\":2},\"yaxis\":{\"gridcolor\":\"white\",\"linecolor\":\"white\",\"ticks\":\"\",\"title\":{\"standoff\":15},\"zerolinecolor\":\"white\",\"automargin\":true,\"zerolinewidth\":2},\"scene\":{\"xaxis\":{\"backgroundcolor\":\"#E5ECF6\",\"gridcolor\":\"white\",\"linecolor\":\"white\",\"showbackground\":true,\"ticks\":\"\",\"zerolinecolor\":\"white\",\"gridwidth\":2},\"yaxis\":{\"backgroundcolor\":\"#E5ECF6\",\"gridcolor\":\"white\",\"linecolor\":\"white\",\"showbackground\":true,\"ticks\":\"\",\"zerolinecolor\":\"white\",\"gridwidth\":2},\"zaxis\":{\"backgroundcolor\":\"#E5ECF6\",\"gridcolor\":\"white\",\"linecolor\":\"white\",\"showbackground\":true,\"ticks\":\"\",\"zerolinecolor\":\"white\",\"gridwidth\":2}},\"shapedefaults\":{\"line\":{\"color\":\"#2a3f5f\"}},\"annotationdefaults\":{\"arrowcolor\":\"#2a3f5f\",\"arrowhead\":0,\"arrowwidth\":1},\"geo\":{\"bgcolor\":\"white\",\"landcolor\":\"#E5ECF6\",\"subunitcolor\":\"white\",\"showland\":true,\"showlakes\":true,\"lakecolor\":\"white\"},\"title\":{\"x\":0.05},\"mapbox\":{\"style\":\"light\"}}},\"mapbox\":{\"domain\":{\"x\":[0.0,1.0],\"y\":[0.0,1.0]},\"center\":{\"lat\":-16.469193997885984,\"lon\":-47.374657182802856},\"zoom\":3.5,\"style\":\"open-street-map\"},\"coloraxis\":{\"colorbar\":{\"title\":{\"text\":\"TEMP\"}},\"colorscale\":[[0.0,\"#000000\"],[0.0625,\"#001f4d\"],[0.125,\"#003786\"],[0.1875,\"#0e58a8\"],[0.25,\"#217eb8\"],[0.3125,\"#30a4ca\"],[0.375,\"#54c8df\"],[0.4375,\"#9be4ef\"],[0.5,\"#e1e9d1\"],[0.5625,\"#f3d573\"],[0.625,\"#e7b000\"],[0.6875,\"#da8200\"],[0.75,\"#c65400\"],[0.8125,\"#ac2301\"],[0.875,\"#820000\"],[0.9375,\"#4c0000\"],[1.0,\"#000000\"]]},\"legend\":{\"tracegroupgap\":0},\"margin\":{\"t\":0,\"r\":0,\"l\":0,\"b\":0},\"height\":800,\"width\":600},                        {\"responsive\": true}                    ).then(function(){\n",
       "                            \n",
       "var gd = document.getElementById('1398f89d-b536-46cd-a085-9519e35d55aa');\n",
       "var x = new MutationObserver(function (mutations, observer) {{\n",
       "        var display = window.getComputedStyle(gd).display;\n",
       "        if (!display || display === 'none') {{\n",
       "            console.log([gd, 'removed!']);\n",
       "            Plotly.purge(gd);\n",
       "            observer.disconnect();\n",
       "        }}\n",
       "}});\n",
       "\n",
       "// Listen for the removal of the full notebook cells\n",
       "var notebookContainer = gd.closest('#notebook-container');\n",
       "if (notebookContainer) {{\n",
       "    x.observe(notebookContainer, {childList: true});\n",
       "}}\n",
       "\n",
       "// Listen for the clearing of the current output cell\n",
       "var outputEl = gd.closest('.output');\n",
       "if (outputEl) {{\n",
       "    x.observe(outputEl, {childList: true});\n",
       "}}\n",
       "\n",
       "                        })                };                });            </script>        </div>"
      ]
     },
     "metadata": {},
     "output_type": "display_data"
    }
   ],
   "source": [
    "fig = px.scatter_mapbox(daily_mean, lat=\"LAT\", lon=\"LONG\", color=\"TEMP\",\n",
    "                  color_continuous_scale=px.colors.cyclical.IceFire, zoom=3.5,\n",
    "                       mapbox_style = 'open-street-map')\n",
    "fig.update_layout(mapbox_style=\"open-street-map\")\n",
    "fig.update_layout(margin={\"r\":0,\"t\":0,\"l\":0,\"b\":0})\n",
    "fig.update_layout(height=800, width=600)\n",
    "fig.show()"
   ]
  },
  {
   "cell_type": "code",
   "execution_count": 95,
   "metadata": {},
   "outputs": [],
   "source": [
    "states = ['RJ']\n",
    "rj_stations = inmet.search_station_by_state(states, station_type = \"A\")"
   ]
  },
  {
   "cell_type": "code",
   "execution_count": 96,
   "metadata": {},
   "outputs": [
    {
     "data": {
      "text/html": [
       "<div>\n",
       "<style scoped>\n",
       "    .dataframe tbody tr th:only-of-type {\n",
       "        vertical-align: middle;\n",
       "    }\n",
       "\n",
       "    .dataframe tbody tr th {\n",
       "        vertical-align: top;\n",
       "    }\n",
       "\n",
       "    .dataframe thead th {\n",
       "        text-align: right;\n",
       "    }\n",
       "</style>\n",
       "<table border=\"1\" class=\"dataframe\">\n",
       "  <thead>\n",
       "    <tr style=\"text-align: right;\">\n",
       "      <th></th>\n",
       "      <th>CD_OSCAR</th>\n",
       "      <th>STATION_NAME</th>\n",
       "      <th>FL_CAPITAL</th>\n",
       "      <th>END_DATE_OPERATION</th>\n",
       "      <th>CD_SITUATION</th>\n",
       "      <th>TP_STATION</th>\n",
       "      <th>LATITUDE</th>\n",
       "      <th>CD_WSI</th>\n",
       "      <th>CD_DISTRICT</th>\n",
       "      <th>HEIGHT</th>\n",
       "      <th>STATE</th>\n",
       "      <th>INSTITUTE</th>\n",
       "      <th>CD_STATION</th>\n",
       "      <th>LONGITUDE</th>\n",
       "      <th>START_DATE_OPERATION</th>\n",
       "    </tr>\n",
       "  </thead>\n",
       "  <tbody>\n",
       "    <tr>\n",
       "      <th>23</th>\n",
       "      <td>None</td>\n",
       "      <td>ANGRA DOS REIS</td>\n",
       "      <td>N</td>\n",
       "      <td>None</td>\n",
       "      <td>Operative</td>\n",
       "      <td>Automatic</td>\n",
       "      <td>-22.975556</td>\n",
       "      <td>0-76-0-3300100000000555</td>\n",
       "      <td>06</td>\n",
       "      <td>6</td>\n",
       "      <td>RJ</td>\n",
       "      <td>INMET</td>\n",
       "      <td>A628</td>\n",
       "      <td>-44.303333</td>\n",
       "      <td>2017-08-24T21:00:00.000-03:00</td>\n",
       "    </tr>\n",
       "    <tr>\n",
       "      <th>41</th>\n",
       "      <td>0-2000-0-86892</td>\n",
       "      <td>ARRAIAL DO CABO</td>\n",
       "      <td>N</td>\n",
       "      <td>None</td>\n",
       "      <td>Operative</td>\n",
       "      <td>Automatic</td>\n",
       "      <td>-22.975278</td>\n",
       "      <td>0-76-0-3300258000000108</td>\n",
       "      <td>06</td>\n",
       "      <td>5</td>\n",
       "      <td>RJ</td>\n",
       "      <td>INMET</td>\n",
       "      <td>A606</td>\n",
       "      <td>-42.021389</td>\n",
       "      <td>2006-09-21T21:00:00.000-03:00</td>\n",
       "    </tr>\n",
       "    <tr>\n",
       "      <th>98</th>\n",
       "      <td>0-2000-0-86854</td>\n",
       "      <td>CAMBUCI</td>\n",
       "      <td>N</td>\n",
       "      <td>None</td>\n",
       "      <td>Operative</td>\n",
       "      <td>Automatic</td>\n",
       "      <td>-21.587500</td>\n",
       "      <td>0-76-0-3300902000000025</td>\n",
       "      <td>06</td>\n",
       "      <td>46</td>\n",
       "      <td>RJ</td>\n",
       "      <td>INMET</td>\n",
       "      <td>A604</td>\n",
       "      <td>-41.958333</td>\n",
       "      <td>2002-11-19T22:00:00.000-02:00</td>\n",
       "    </tr>\n",
       "    <tr>\n",
       "      <th>109</th>\n",
       "      <td>0-2000-0-86855</td>\n",
       "      <td>CAMPOS DOS GOYTACAZES</td>\n",
       "      <td>N</td>\n",
       "      <td>None</td>\n",
       "      <td>Operative</td>\n",
       "      <td>Automatic</td>\n",
       "      <td>-21.714722</td>\n",
       "      <td>0-76-0-3301009000000109</td>\n",
       "      <td>06</td>\n",
       "      <td>17</td>\n",
       "      <td>RJ</td>\n",
       "      <td>INMET</td>\n",
       "      <td>A607</td>\n",
       "      <td>-41.343889</td>\n",
       "      <td>2006-09-24T21:00:00.000-03:00</td>\n",
       "    </tr>\n",
       "    <tr>\n",
       "      <th>110</th>\n",
       "      <td>0-2000-0-86890</td>\n",
       "      <td>CAMPOS DOS GOYTACAZES - SAO TOME</td>\n",
       "      <td>N</td>\n",
       "      <td>None</td>\n",
       "      <td>Operative</td>\n",
       "      <td>Automatic</td>\n",
       "      <td>-22.041667</td>\n",
       "      <td>0-76-0-3301009000000382</td>\n",
       "      <td>06</td>\n",
       "      <td>7</td>\n",
       "      <td>RJ</td>\n",
       "      <td>INMET</td>\n",
       "      <td>A620</td>\n",
       "      <td>-41.051667</td>\n",
       "      <td>2008-06-12T21:00:00.000-03:00</td>\n",
       "    </tr>\n",
       "    <tr>\n",
       "      <th>125</th>\n",
       "      <td>None</td>\n",
       "      <td>CARMO</td>\n",
       "      <td>N</td>\n",
       "      <td>None</td>\n",
       "      <td>Operative</td>\n",
       "      <td>Automatic</td>\n",
       "      <td>-21.938745</td>\n",
       "      <td>0-76-0-3301207000000583</td>\n",
       "      <td>06</td>\n",
       "      <td>293</td>\n",
       "      <td>RJ</td>\n",
       "      <td>INMET</td>\n",
       "      <td>A629</td>\n",
       "      <td>-42.600936</td>\n",
       "      <td>2018-10-10T21:00:00.000-03:00</td>\n",
       "    </tr>\n",
       "    <tr>\n",
       "      <th>180</th>\n",
       "      <td>0-2000-0-86877</td>\n",
       "      <td>DUQUE DE CAXIAS - XEREM</td>\n",
       "      <td>N</td>\n",
       "      <td>None</td>\n",
       "      <td>Operative</td>\n",
       "      <td>Automatic</td>\n",
       "      <td>-22.589722</td>\n",
       "      <td>0-76-0-3301702000000022</td>\n",
       "      <td>06</td>\n",
       "      <td>22</td>\n",
       "      <td>RJ</td>\n",
       "      <td>INMET</td>\n",
       "      <td>A603</td>\n",
       "      <td>-43.282222</td>\n",
       "      <td>2002-10-20T21:00:00.000-03:00</td>\n",
       "    </tr>\n",
       "    <tr>\n",
       "      <th>255</th>\n",
       "      <td>None</td>\n",
       "      <td>ITATIAIA - AGULHAS NEGRAS</td>\n",
       "      <td>N</td>\n",
       "      <td>None</td>\n",
       "      <td>Operative</td>\n",
       "      <td>Automatic</td>\n",
       "      <td>-22.373889</td>\n",
       "      <td>0-76-0-3302254000000557</td>\n",
       "      <td>06</td>\n",
       "      <td>2450</td>\n",
       "      <td>RJ</td>\n",
       "      <td>INMET</td>\n",
       "      <td>A635</td>\n",
       "      <td>-44.703056</td>\n",
       "      <td>2017-08-31T21:00:00.000-03:00</td>\n",
       "    </tr>\n",
       "    <tr>\n",
       "      <th>295</th>\n",
       "      <td>0-2000-0-86891</td>\n",
       "      <td>MACAE</td>\n",
       "      <td>N</td>\n",
       "      <td>None</td>\n",
       "      <td>Operative</td>\n",
       "      <td>Automatic</td>\n",
       "      <td>-22.376111</td>\n",
       "      <td>0-76-0-3302403000000106</td>\n",
       "      <td>06</td>\n",
       "      <td>28</td>\n",
       "      <td>RJ</td>\n",
       "      <td>INMET</td>\n",
       "      <td>A608</td>\n",
       "      <td>-41.811944</td>\n",
       "      <td>2006-09-21T21:00:00.000-03:00</td>\n",
       "    </tr>\n",
       "    <tr>\n",
       "      <th>338</th>\n",
       "      <td>None</td>\n",
       "      <td>NITEROI</td>\n",
       "      <td>N</td>\n",
       "      <td>None</td>\n",
       "      <td>Operative</td>\n",
       "      <td>Automatic</td>\n",
       "      <td>-22.867500</td>\n",
       "      <td>0-76-0-3303302000000580</td>\n",
       "      <td>06</td>\n",
       "      <td>6</td>\n",
       "      <td>RJ</td>\n",
       "      <td>INMET</td>\n",
       "      <td>A627</td>\n",
       "      <td>-43.101944</td>\n",
       "      <td>2018-07-12T21:00:00.000-03:00</td>\n",
       "    </tr>\n",
       "    <tr>\n",
       "      <th>341</th>\n",
       "      <td>0-2000-0-86889</td>\n",
       "      <td>NOVA FRIBURGO - SALINAS</td>\n",
       "      <td>None</td>\n",
       "      <td>None</td>\n",
       "      <td>Operative</td>\n",
       "      <td>Automatic</td>\n",
       "      <td>-22.334722</td>\n",
       "      <td>0-76-0-3303401000000466</td>\n",
       "      <td>06</td>\n",
       "      <td>1070</td>\n",
       "      <td>RJ</td>\n",
       "      <td>INMET</td>\n",
       "      <td>A624</td>\n",
       "      <td>-42.676944</td>\n",
       "      <td>2010-09-17T21:00:00.000-03:00</td>\n",
       "    </tr>\n",
       "    <tr>\n",
       "      <th>370</th>\n",
       "      <td>0-2000-0-86913</td>\n",
       "      <td>PARATY</td>\n",
       "      <td>N</td>\n",
       "      <td>None</td>\n",
       "      <td>Operative</td>\n",
       "      <td>Automatic</td>\n",
       "      <td>-23.223611</td>\n",
       "      <td>0-76-0-3303807000000141</td>\n",
       "      <td>06</td>\n",
       "      <td>3</td>\n",
       "      <td>RJ</td>\n",
       "      <td>INMET</td>\n",
       "      <td>A619</td>\n",
       "      <td>-44.726944</td>\n",
       "      <td>2006-11-18T21:00:00.000-03:00</td>\n",
       "    </tr>\n",
       "    <tr>\n",
       "      <th>386</th>\n",
       "      <td>0-2000-0-86876</td>\n",
       "      <td>PICO DO COUTO</td>\n",
       "      <td>N</td>\n",
       "      <td>None</td>\n",
       "      <td>Operative</td>\n",
       "      <td>Automatic</td>\n",
       "      <td>-22.464722</td>\n",
       "      <td>0-76-0-3303906000000121</td>\n",
       "      <td>06</td>\n",
       "      <td>1777</td>\n",
       "      <td>RJ</td>\n",
       "      <td>INMET</td>\n",
       "      <td>A610</td>\n",
       "      <td>-43.291389</td>\n",
       "      <td>2006-10-21T21:00:00.000-03:00</td>\n",
       "    </tr>\n",
       "    <tr>\n",
       "      <th>428</th>\n",
       "      <td>0-2000-0-86874</td>\n",
       "      <td>RESENDE</td>\n",
       "      <td>N</td>\n",
       "      <td>None</td>\n",
       "      <td>Operative</td>\n",
       "      <td>Automatic</td>\n",
       "      <td>-22.451389</td>\n",
       "      <td>0-76-0-3304201000000114</td>\n",
       "      <td>06</td>\n",
       "      <td>438.83</td>\n",
       "      <td>RJ</td>\n",
       "      <td>INMET</td>\n",
       "      <td>A609</td>\n",
       "      <td>-44.445000</td>\n",
       "      <td>2006-09-28T21:00:00.000-03:00</td>\n",
       "    </tr>\n",
       "    <tr>\n",
       "      <th>432</th>\n",
       "      <td>None</td>\n",
       "      <td>RIO CLARO</td>\n",
       "      <td>N</td>\n",
       "      <td>None</td>\n",
       "      <td>Operative</td>\n",
       "      <td>Automatic</td>\n",
       "      <td>-22.653579</td>\n",
       "      <td>0-76-0-3304409000000518</td>\n",
       "      <td>06</td>\n",
       "      <td>516</td>\n",
       "      <td>RJ</td>\n",
       "      <td>INMET</td>\n",
       "      <td>A626</td>\n",
       "      <td>-44.040916</td>\n",
       "      <td>2016-06-02T21:00:00.000-03:00</td>\n",
       "    </tr>\n",
       "    <tr>\n",
       "      <th>433</th>\n",
       "      <td>0-2000-0-86887</td>\n",
       "      <td>RIO DE JANEIRO - FORTE DE COPACABANA</td>\n",
       "      <td>None</td>\n",
       "      <td>None</td>\n",
       "      <td>Operative</td>\n",
       "      <td>Automatic</td>\n",
       "      <td>-22.988333</td>\n",
       "      <td>0-76-0-3304557000000187</td>\n",
       "      <td>06</td>\n",
       "      <td>25.59</td>\n",
       "      <td>RJ</td>\n",
       "      <td>INMET</td>\n",
       "      <td>A652</td>\n",
       "      <td>-43.190556</td>\n",
       "      <td>2007-05-17T21:00:00.000-03:00</td>\n",
       "    </tr>\n",
       "    <tr>\n",
       "      <th>434</th>\n",
       "      <td>None</td>\n",
       "      <td>RIO DE JANEIRO - JACAREPAGUA</td>\n",
       "      <td>N</td>\n",
       "      <td>None</td>\n",
       "      <td>Operative</td>\n",
       "      <td>Automatic</td>\n",
       "      <td>-22.940000</td>\n",
       "      <td>0-76-0-3304557000000553</td>\n",
       "      <td>06</td>\n",
       "      <td>20</td>\n",
       "      <td>RJ</td>\n",
       "      <td>INMET</td>\n",
       "      <td>A636</td>\n",
       "      <td>-43.402778</td>\n",
       "      <td>2017-08-09T21:00:00.000-03:00</td>\n",
       "    </tr>\n",
       "    <tr>\n",
       "      <th>435</th>\n",
       "      <td>0-2000-0-86879</td>\n",
       "      <td>RIO DE JANEIRO - VILA MILITAR</td>\n",
       "      <td>N</td>\n",
       "      <td>None</td>\n",
       "      <td>Operative</td>\n",
       "      <td>Automatic</td>\n",
       "      <td>-22.861389</td>\n",
       "      <td>0-76-0-3304557000000179</td>\n",
       "      <td>06</td>\n",
       "      <td>30.43</td>\n",
       "      <td>RJ</td>\n",
       "      <td>INMET</td>\n",
       "      <td>A621</td>\n",
       "      <td>-43.411389</td>\n",
       "      <td>2007-04-12T21:00:00.000-03:00</td>\n",
       "    </tr>\n",
       "    <tr>\n",
       "      <th>436</th>\n",
       "      <td>0-2000-0-86914</td>\n",
       "      <td>RIO DE JANEIRO-MARAMBAIA</td>\n",
       "      <td>N</td>\n",
       "      <td>None</td>\n",
       "      <td>Operative</td>\n",
       "      <td>Automatic</td>\n",
       "      <td>-23.050278</td>\n",
       "      <td>0-76-0-3304557000000024</td>\n",
       "      <td>06</td>\n",
       "      <td>12</td>\n",
       "      <td>RJ</td>\n",
       "      <td>INMET</td>\n",
       "      <td>A602</td>\n",
       "      <td>-43.595556</td>\n",
       "      <td>2002-11-07T22:00:00.000-02:00</td>\n",
       "    </tr>\n",
       "    <tr>\n",
       "      <th>461</th>\n",
       "      <td>None</td>\n",
       "      <td>SANTA MARIA MADALENA</td>\n",
       "      <td>N</td>\n",
       "      <td>None</td>\n",
       "      <td>Operative</td>\n",
       "      <td>Automatic</td>\n",
       "      <td>-21.950556</td>\n",
       "      <td>0-76-0-3304607000000584</td>\n",
       "      <td>06</td>\n",
       "      <td>517</td>\n",
       "      <td>RJ</td>\n",
       "      <td>INMET</td>\n",
       "      <td>A630</td>\n",
       "      <td>-42.010278</td>\n",
       "      <td>2018-10-15T21:00:00.000-03:00</td>\n",
       "    </tr>\n",
       "    <tr>\n",
       "      <th>503</th>\n",
       "      <td>0-2000-0-86885</td>\n",
       "      <td>SAQUAREMA - SAMPAIO CORREIA</td>\n",
       "      <td>N</td>\n",
       "      <td>None</td>\n",
       "      <td>Operative</td>\n",
       "      <td>Automatic</td>\n",
       "      <td>-22.871111</td>\n",
       "      <td>0-76-0-3305505000000507</td>\n",
       "      <td>06</td>\n",
       "      <td>26</td>\n",
       "      <td>RJ</td>\n",
       "      <td>INMET</td>\n",
       "      <td>A667</td>\n",
       "      <td>-42.608889</td>\n",
       "      <td>2015-09-01T21:00:00.000-03:00</td>\n",
       "    </tr>\n",
       "    <tr>\n",
       "      <th>506</th>\n",
       "      <td>0-2000-0-86878</td>\n",
       "      <td>SEROPEDICA-ECOLOGIA AGRICOLA</td>\n",
       "      <td>N</td>\n",
       "      <td>None</td>\n",
       "      <td>Operative</td>\n",
       "      <td>Automatic</td>\n",
       "      <td>-22.757778</td>\n",
       "      <td>0-76-0-3305554000000002</td>\n",
       "      <td>06</td>\n",
       "      <td>35</td>\n",
       "      <td>RJ</td>\n",
       "      <td>INMET</td>\n",
       "      <td>A601</td>\n",
       "      <td>-43.684722</td>\n",
       "      <td>2000-05-23T21:00:00.000-03:00</td>\n",
       "    </tr>\n",
       "    <tr>\n",
       "      <th>515</th>\n",
       "      <td>0-2000-0-86893</td>\n",
       "      <td>SILVA JARDIM</td>\n",
       "      <td>N</td>\n",
       "      <td>None</td>\n",
       "      <td>Operative</td>\n",
       "      <td>Automatic</td>\n",
       "      <td>-22.645833</td>\n",
       "      <td>0-76-0-3305604000000505</td>\n",
       "      <td>06</td>\n",
       "      <td>19</td>\n",
       "      <td>RJ</td>\n",
       "      <td>INMET</td>\n",
       "      <td>A659</td>\n",
       "      <td>-42.415556</td>\n",
       "      <td>2015-08-27T21:00:00.000-03:00</td>\n",
       "    </tr>\n",
       "    <tr>\n",
       "      <th>531</th>\n",
       "      <td>0-2000-0-86888</td>\n",
       "      <td>TERESOPOLIS-PARQUE NACIONAL</td>\n",
       "      <td>N</td>\n",
       "      <td>None</td>\n",
       "      <td>Operative</td>\n",
       "      <td>Automatic</td>\n",
       "      <td>-22.448611</td>\n",
       "      <td>0-76-0-3305802000000131</td>\n",
       "      <td>06</td>\n",
       "      <td>981</td>\n",
       "      <td>RJ</td>\n",
       "      <td>INMET</td>\n",
       "      <td>A618</td>\n",
       "      <td>-42.986944</td>\n",
       "      <td>2006-10-31T21:00:00.000-03:00</td>\n",
       "    </tr>\n",
       "    <tr>\n",
       "      <th>540</th>\n",
       "      <td>None</td>\n",
       "      <td>TRES RIOS</td>\n",
       "      <td>N</td>\n",
       "      <td>None</td>\n",
       "      <td>Operative</td>\n",
       "      <td>Automatic</td>\n",
       "      <td>-22.098333</td>\n",
       "      <td>0-76-0-3306008000000519</td>\n",
       "      <td>06</td>\n",
       "      <td>295</td>\n",
       "      <td>RJ</td>\n",
       "      <td>INMET</td>\n",
       "      <td>A625</td>\n",
       "      <td>-43.208333</td>\n",
       "      <td>2016-06-07T21:00:00.000-03:00</td>\n",
       "    </tr>\n",
       "    <tr>\n",
       "      <th>556</th>\n",
       "      <td>0-2000-0-86875</td>\n",
       "      <td>VALENCA</td>\n",
       "      <td>N</td>\n",
       "      <td>None</td>\n",
       "      <td>Operative</td>\n",
       "      <td>Automatic</td>\n",
       "      <td>-22.358056</td>\n",
       "      <td>0-76-0-3306107000000111</td>\n",
       "      <td>06</td>\n",
       "      <td>370</td>\n",
       "      <td>RJ</td>\n",
       "      <td>INMET</td>\n",
       "      <td>A611</td>\n",
       "      <td>-43.695556</td>\n",
       "      <td>2006-09-26T21:00:00.000-03:00</td>\n",
       "    </tr>\n",
       "  </tbody>\n",
       "</table>\n",
       "</div>"
      ],
      "text/plain": [
       "           CD_OSCAR                          STATION_NAME FL_CAPITAL  \\\n",
       "23             None                        ANGRA DOS REIS          N   \n",
       "41   0-2000-0-86892                       ARRAIAL DO CABO          N   \n",
       "98   0-2000-0-86854                               CAMBUCI          N   \n",
       "109  0-2000-0-86855                 CAMPOS DOS GOYTACAZES          N   \n",
       "110  0-2000-0-86890      CAMPOS DOS GOYTACAZES - SAO TOME          N   \n",
       "125            None                                 CARMO          N   \n",
       "180  0-2000-0-86877               DUQUE DE CAXIAS - XEREM          N   \n",
       "255            None             ITATIAIA - AGULHAS NEGRAS          N   \n",
       "295  0-2000-0-86891                                 MACAE          N   \n",
       "338            None                               NITEROI          N   \n",
       "341  0-2000-0-86889               NOVA FRIBURGO - SALINAS       None   \n",
       "370  0-2000-0-86913                                PARATY          N   \n",
       "386  0-2000-0-86876                         PICO DO COUTO          N   \n",
       "428  0-2000-0-86874                               RESENDE          N   \n",
       "432            None                             RIO CLARO          N   \n",
       "433  0-2000-0-86887  RIO DE JANEIRO - FORTE DE COPACABANA       None   \n",
       "434            None          RIO DE JANEIRO - JACAREPAGUA          N   \n",
       "435  0-2000-0-86879         RIO DE JANEIRO - VILA MILITAR          N   \n",
       "436  0-2000-0-86914              RIO DE JANEIRO-MARAMBAIA          N   \n",
       "461            None                  SANTA MARIA MADALENA          N   \n",
       "503  0-2000-0-86885           SAQUAREMA - SAMPAIO CORREIA          N   \n",
       "506  0-2000-0-86878          SEROPEDICA-ECOLOGIA AGRICOLA          N   \n",
       "515  0-2000-0-86893                          SILVA JARDIM          N   \n",
       "531  0-2000-0-86888           TERESOPOLIS-PARQUE NACIONAL          N   \n",
       "540            None                             TRES RIOS          N   \n",
       "556  0-2000-0-86875                               VALENCA          N   \n",
       "\n",
       "    END_DATE_OPERATION CD_SITUATION TP_STATION   LATITUDE  \\\n",
       "23                None    Operative  Automatic -22.975556   \n",
       "41                None    Operative  Automatic -22.975278   \n",
       "98                None    Operative  Automatic -21.587500   \n",
       "109               None    Operative  Automatic -21.714722   \n",
       "110               None    Operative  Automatic -22.041667   \n",
       "125               None    Operative  Automatic -21.938745   \n",
       "180               None    Operative  Automatic -22.589722   \n",
       "255               None    Operative  Automatic -22.373889   \n",
       "295               None    Operative  Automatic -22.376111   \n",
       "338               None    Operative  Automatic -22.867500   \n",
       "341               None    Operative  Automatic -22.334722   \n",
       "370               None    Operative  Automatic -23.223611   \n",
       "386               None    Operative  Automatic -22.464722   \n",
       "428               None    Operative  Automatic -22.451389   \n",
       "432               None    Operative  Automatic -22.653579   \n",
       "433               None    Operative  Automatic -22.988333   \n",
       "434               None    Operative  Automatic -22.940000   \n",
       "435               None    Operative  Automatic -22.861389   \n",
       "436               None    Operative  Automatic -23.050278   \n",
       "461               None    Operative  Automatic -21.950556   \n",
       "503               None    Operative  Automatic -22.871111   \n",
       "506               None    Operative  Automatic -22.757778   \n",
       "515               None    Operative  Automatic -22.645833   \n",
       "531               None    Operative  Automatic -22.448611   \n",
       "540               None    Operative  Automatic -22.098333   \n",
       "556               None    Operative  Automatic -22.358056   \n",
       "\n",
       "                      CD_WSI CD_DISTRICT  HEIGHT STATE INSTITUTE CD_STATION  \\\n",
       "23   0-76-0-3300100000000555          06       6    RJ     INMET       A628   \n",
       "41   0-76-0-3300258000000108          06       5    RJ     INMET       A606   \n",
       "98   0-76-0-3300902000000025          06      46    RJ     INMET       A604   \n",
       "109  0-76-0-3301009000000109          06      17    RJ     INMET       A607   \n",
       "110  0-76-0-3301009000000382          06       7    RJ     INMET       A620   \n",
       "125  0-76-0-3301207000000583          06     293    RJ     INMET       A629   \n",
       "180  0-76-0-3301702000000022          06      22    RJ     INMET       A603   \n",
       "255  0-76-0-3302254000000557          06    2450    RJ     INMET       A635   \n",
       "295  0-76-0-3302403000000106          06      28    RJ     INMET       A608   \n",
       "338  0-76-0-3303302000000580          06       6    RJ     INMET       A627   \n",
       "341  0-76-0-3303401000000466          06    1070    RJ     INMET       A624   \n",
       "370  0-76-0-3303807000000141          06       3    RJ     INMET       A619   \n",
       "386  0-76-0-3303906000000121          06    1777    RJ     INMET       A610   \n",
       "428  0-76-0-3304201000000114          06  438.83    RJ     INMET       A609   \n",
       "432  0-76-0-3304409000000518          06     516    RJ     INMET       A626   \n",
       "433  0-76-0-3304557000000187          06   25.59    RJ     INMET       A652   \n",
       "434  0-76-0-3304557000000553          06      20    RJ     INMET       A636   \n",
       "435  0-76-0-3304557000000179          06   30.43    RJ     INMET       A621   \n",
       "436  0-76-0-3304557000000024          06      12    RJ     INMET       A602   \n",
       "461  0-76-0-3304607000000584          06     517    RJ     INMET       A630   \n",
       "503  0-76-0-3305505000000507          06      26    RJ     INMET       A667   \n",
       "506  0-76-0-3305554000000002          06      35    RJ     INMET       A601   \n",
       "515  0-76-0-3305604000000505          06      19    RJ     INMET       A659   \n",
       "531  0-76-0-3305802000000131          06     981    RJ     INMET       A618   \n",
       "540  0-76-0-3306008000000519          06     295    RJ     INMET       A625   \n",
       "556  0-76-0-3306107000000111          06     370    RJ     INMET       A611   \n",
       "\n",
       "     LONGITUDE           START_DATE_OPERATION  \n",
       "23  -44.303333  2017-08-24T21:00:00.000-03:00  \n",
       "41  -42.021389  2006-09-21T21:00:00.000-03:00  \n",
       "98  -41.958333  2002-11-19T22:00:00.000-02:00  \n",
       "109 -41.343889  2006-09-24T21:00:00.000-03:00  \n",
       "110 -41.051667  2008-06-12T21:00:00.000-03:00  \n",
       "125 -42.600936  2018-10-10T21:00:00.000-03:00  \n",
       "180 -43.282222  2002-10-20T21:00:00.000-03:00  \n",
       "255 -44.703056  2017-08-31T21:00:00.000-03:00  \n",
       "295 -41.811944  2006-09-21T21:00:00.000-03:00  \n",
       "338 -43.101944  2018-07-12T21:00:00.000-03:00  \n",
       "341 -42.676944  2010-09-17T21:00:00.000-03:00  \n",
       "370 -44.726944  2006-11-18T21:00:00.000-03:00  \n",
       "386 -43.291389  2006-10-21T21:00:00.000-03:00  \n",
       "428 -44.445000  2006-09-28T21:00:00.000-03:00  \n",
       "432 -44.040916  2016-06-02T21:00:00.000-03:00  \n",
       "433 -43.190556  2007-05-17T21:00:00.000-03:00  \n",
       "434 -43.402778  2017-08-09T21:00:00.000-03:00  \n",
       "435 -43.411389  2007-04-12T21:00:00.000-03:00  \n",
       "436 -43.595556  2002-11-07T22:00:00.000-02:00  \n",
       "461 -42.010278  2018-10-15T21:00:00.000-03:00  \n",
       "503 -42.608889  2015-09-01T21:00:00.000-03:00  \n",
       "506 -43.684722  2000-05-23T21:00:00.000-03:00  \n",
       "515 -42.415556  2015-08-27T21:00:00.000-03:00  \n",
       "531 -42.986944  2006-10-31T21:00:00.000-03:00  \n",
       "540 -43.208333  2016-06-07T21:00:00.000-03:00  \n",
       "556 -43.695556  2006-09-26T21:00:00.000-03:00  "
      ]
     },
     "execution_count": 96,
     "metadata": {},
     "output_type": "execute_result"
    }
   ],
   "source": [
    "rj_stations"
   ]
  },
  {
   "cell_type": "code",
   "execution_count": 115,
   "metadata": {},
   "outputs": [
    {
     "name": "stdout",
     "output_type": "stream",
     "text": [
      "A627\n",
      "Looking for station A627...\n"
     ]
    }
   ],
   "source": [
    "stations = ['A627']\n",
    "niteroi = inmet.get_data_station('2019-01-01','2020-01-01', by='day',station_id = stations)"
   ]
  },
  {
   "cell_type": "code",
   "execution_count": 116,
   "metadata": {
    "scrolled": false
   },
   "outputs": [
    {
     "data": {
      "text/plain": [
       "<AxesSubplot:>"
      ]
     },
     "execution_count": 116,
     "metadata": {},
     "output_type": "execute_result"
    },
    {
     "data": {
      "image/png": "[encoded data removed]",
      "text/plain": [
       "<Figure size 432x288 with 1 Axes>"
      ]
     },
     "metadata": {
      "needs_background": "light"
     },
     "output_type": "display_data"
    }
   ],
   "source": [
    "niteroi.TEMP_MED.plot(x='DATE')"
   ]
  },
  {
   "cell_type": "code",
   "execution_count": 117,
   "metadata": {},
   "outputs": [
    {
     "data": {
      "text/plain": [
       "Index(['index', 'DATE', 'AVG_RH', 'STATION_NAME', 'MIN_RH', 'TEMP_MED', 'RAIN',\n",
       "       'LAT', 'TEMP_MIN', 'TEMP_MAX', 'ST', 'WSPD', 'STATION_ID', 'LONG'],\n",
       "      dtype='object')"
      ]
     },
     "execution_count": 117,
     "metadata": {},
     "output_type": "execute_result"
    }
   ],
   "source": [
    "niteroi.columns"
   ]
  },
  {
   "cell_type": "code",
   "execution_count": 119,
   "metadata": {},
   "outputs": [
    {
     "data": {
      "application/vnd.plotly.v1+json": {
       "config": {
        "plotlyServerURL": "https://plot.ly"
       },
       "data": [
        {
         "hovertemplate": "Date=%{x}<br>°C=%{y}<extra></extra>",
         "legendgroup": "",
         "line": {
          "color": "#636efa",
          "dash": "solid"
         },
         "marker": {
          "symbol": "circle"
         },
         "mode": "lines+markers",
         "name": "",
         "orientation": "v",
         "showlegend": false,
         "type": "scatter",
         "x": [
          "2019-01-01T00:00:00",
          "2019-01-02T00:00:00",
          "2019-01-03T00:00:00",
          "2019-01-04T00:00:00",
          "2019-01-05T00:00:00",
          "2019-01-06T00:00:00",
          "2019-01-07T00:00:00",
          "2019-01-08T00:00:00",
          "2019-01-09T00:00:00",
          "2019-01-10T00:00:00",
          "2019-01-11T00:00:00",
          "2019-01-12T00:00:00",
          "2019-01-13T00:00:00",
          "2019-01-14T00:00:00",
          "2019-01-15T00:00:00",
          "2019-01-16T00:00:00",
          "2019-01-17T00:00:00",
          "2019-01-18T00:00:00",
          "2019-01-19T00:00:00",
          "2019-01-20T00:00:00",
          "2019-01-21T00:00:00",
          "2019-01-22T00:00:00",
          "2019-01-23T00:00:00",
          "2019-01-24T00:00:00",
          "2019-01-25T00:00:00",
          "2019-01-26T00:00:00",
          "2019-01-27T00:00:00",
          "2019-01-28T00:00:00",
          "2019-01-29T00:00:00",
          "2019-01-30T00:00:00",
          "2019-01-31T00:00:00",
          "2019-02-01T00:00:00",
          "2019-02-02T00:00:00",
          "2019-02-03T00:00:00",
          "2019-02-04T00:00:00",
          "2019-02-05T00:00:00",
          "2019-02-06T00:00:00",
          "2019-02-07T00:00:00",
          "2019-02-08T00:00:00",
          "2019-02-09T00:00:00",
          "2019-02-10T00:00:00",
          "2019-02-11T00:00:00",
          "2019-02-12T00:00:00",
          "2019-02-13T00:00:00",
          "2019-02-14T00:00:00",
          "2019-02-15T00:00:00",
          "2019-02-16T00:00:00",
          "2019-02-17T00:00:00",
          "2019-02-18T00:00:00",
          "2019-02-19T00:00:00",
          "2019-02-20T00:00:00",
          "2019-02-21T00:00:00",
          "2019-02-22T00:00:00",
          "2019-02-23T00:00:00",
          "2019-02-24T00:00:00",
          "2019-02-25T00:00:00",
          "2019-02-26T00:00:00",
          "2019-02-27T00:00:00",
          "2019-02-28T00:00:00",
          "2019-03-01T00:00:00",
          "2019-03-02T00:00:00",
          "2019-03-03T00:00:00",
          "2019-03-04T00:00:00",
          "2019-03-05T00:00:00",
          "2019-03-06T00:00:00",
          "2019-03-07T00:00:00",
          "2019-03-08T00:00:00",
          "2019-03-09T00:00:00",
          "2019-03-10T00:00:00",
          "2019-03-11T00:00:00",
          "2019-03-12T00:00:00",
          "2019-03-13T00:00:00",
          "2019-03-14T00:00:00",
          "2019-03-15T00:00:00",
          "2019-03-16T00:00:00",
          "2019-03-17T00:00:00",
          "2019-03-18T00:00:00",
          "2019-03-19T00:00:00",
          "2019-03-20T00:00:00",
          "2019-03-21T00:00:00",
          "2019-03-22T00:00:00",
          "2019-03-23T00:00:00",
          "2019-03-24T00:00:00",
          "2019-03-25T00:00:00",
          "2019-03-26T00:00:00",
          "2019-03-27T00:00:00",
          "2019-03-28T00:00:00",
          "2019-03-29T00:00:00",
          "2019-03-30T00:00:00",
          "2019-03-31T00:00:00",
          "2019-04-01T00:00:00",
          "2019-04-02T00:00:00",
          "2019-04-03T00:00:00",
          "2019-04-04T00:00:00",
          "2019-04-05T00:00:00",
          "2019-04-06T00:00:00",
          "2019-04-07T00:00:00",
          "2019-04-08T00:00:00",
          "2019-04-09T00:00:00",
          "2019-04-10T00:00:00",
          "2019-04-11T00:00:00",
          "2019-04-12T00:00:00",
          "2019-04-13T00:00:00",
          "2019-04-14T00:00:00",
          "2019-04-15T00:00:00",
          "2019-04-16T00:00:00",
          "2019-04-17T00:00:00",
          "2019-04-18T00:00:00",
          "2019-04-19T00:00:00",
          "2019-04-20T00:00:00",
          "2019-04-21T00:00:00",
          "2019-04-22T00:00:00",
          "2019-04-23T00:00:00",
          "2019-04-24T00:00:00",
          "2019-04-25T00:00:00",
          "2019-04-26T00:00:00",
          "2019-04-27T00:00:00",
          "2019-04-28T00:00:00",
          "2019-04-29T00:00:00",
          "2019-04-30T00:00:00",
          "2019-05-01T00:00:00",
          "2019-05-02T00:00:00",
          "2019-05-03T00:00:00",
          "2019-05-04T00:00:00",
          "2019-05-05T00:00:00",
          "2019-05-06T00:00:00",
          "2019-05-07T00:00:00",
          "2019-05-08T00:00:00",
          "2019-05-09T00:00:00",
          "2019-05-10T00:00:00",
          "2019-05-11T00:00:00",
          "2019-05-12T00:00:00",
          "2019-05-13T00:00:00",
          "2019-05-14T00:00:00",
          "2019-05-15T00:00:00",
          "2019-05-16T00:00:00",
          "2019-05-17T00:00:00",
          "2019-05-18T00:00:00",
          "2019-05-19T00:00:00",
          "2019-05-20T00:00:00",
          "2019-05-21T00:00:00",
          "2019-05-22T00:00:00",
          "2019-05-23T00:00:00",
          "2019-05-24T00:00:00",
          "2019-05-25T00:00:00",
          "2019-05-26T00:00:00",
          "2019-05-27T00:00:00",
          "2019-05-28T00:00:00",
          "2019-05-29T00:00:00",
          "2019-05-30T00:00:00",
          "2019-05-31T00:00:00",
          "2019-06-01T00:00:00",
          "2019-06-02T00:00:00",
          "2019-06-03T00:00:00",
          "2019-06-04T00:00:00",
          "2019-06-05T00:00:00",
          "2019-06-06T00:00:00",
          "2019-06-07T00:00:00",
          "2019-06-08T00:00:00",
          "2019-06-09T00:00:00",
          "2019-06-10T00:00:00",
          "2019-06-11T00:00:00",
          "2019-06-12T00:00:00",
          "2019-06-13T00:00:00",
          "2019-06-14T00:00:00",
          "2019-06-15T00:00:00",
          "2019-06-16T00:00:00",
          "2019-06-17T00:00:00",
          "2019-06-18T00:00:00",
          "2019-06-19T00:00:00",
          "2019-06-20T00:00:00",
          "2019-06-21T00:00:00",
          "2019-06-22T00:00:00",
          "2019-06-23T00:00:00",
          "2019-06-24T00:00:00",
          "2019-06-25T00:00:00",
          "2019-06-26T00:00:00",
          "2019-06-27T00:00:00",
          "2019-06-28T00:00:00",
          "2019-06-29T00:00:00",
          "2019-06-30T00:00:00",
          "2019-07-01T00:00:00",
          "2019-07-02T00:00:00",
          "2019-07-03T00:00:00",
          "2019-07-04T00:00:00",
          "2019-07-05T00:00:00",
          "2019-07-06T00:00:00",
          "2019-07-07T00:00:00",
          "2019-07-08T00:00:00",
          "2019-07-09T00:00:00",
          "2019-07-10T00:00:00",
          "2019-07-11T00:00:00",
          "2019-07-12T00:00:00",
          "2019-07-13T00:00:00",
          "2019-07-14T00:00:00",
          "2019-07-15T00:00:00",
          "2019-07-16T00:00:00",
          "2019-07-17T00:00:00",
          "2019-07-18T00:00:00",
          "2019-07-19T00:00:00",
          "2019-07-20T00:00:00",
          "2019-07-21T00:00:00",
          "2019-07-22T00:00:00",
          "2019-07-23T00:00:00",
          "2019-07-24T00:00:00",
          "2019-07-25T00:00:00",
          "2019-07-26T00:00:00",
          "2019-07-27T00:00:00",
          "2019-07-28T00:00:00",
          "2019-07-29T00:00:00",
          "2019-07-30T00:00:00",
          "2019-07-31T00:00:00",
          "2019-08-01T00:00:00",
          "2019-08-02T00:00:00",
          "2019-08-03T00:00:00",
          "2019-08-04T00:00:00",
          "2019-08-05T00:00:00",
          "2019-08-06T00:00:00",
          "2019-08-07T00:00:00",
          "2019-08-08T00:00:00",
          "2019-08-09T00:00:00",
          "2019-08-10T00:00:00",
          "2019-08-11T00:00:00",
          "2019-08-12T00:00:00",
          "2019-08-13T00:00:00",
          "2019-08-14T00:00:00",
          "2019-08-15T00:00:00",
          "2019-08-16T00:00:00",
          "2019-08-17T00:00:00",
          "2019-08-18T00:00:00",
          "2019-08-19T00:00:00",
          "2019-08-20T00:00:00",
          "2019-08-21T00:00:00",
          "2019-08-22T00:00:00",
          "2019-08-23T00:00:00",
          "2019-08-24T00:00:00",
          "2019-08-25T00:00:00",
          "2019-08-26T00:00:00",
          "2019-08-27T00:00:00",
          "2019-08-28T00:00:00",
          "2019-08-29T00:00:00",
          "2019-08-30T00:00:00",
          "2019-08-31T00:00:00",
          "2019-09-01T00:00:00",
          "2019-09-02T00:00:00",
          "2019-09-03T00:00:00",
          "2019-09-04T00:00:00",
          "2019-09-05T00:00:00",
          "2019-09-06T00:00:00",
          "2019-09-07T00:00:00",
          "2019-09-08T00:00:00",
          "2019-09-09T00:00:00",
          "2019-09-10T00:00:00",
          "2019-09-11T00:00:00",
          "2019-09-12T00:00:00",
          "2019-09-13T00:00:00",
          "2019-09-14T00:00:00",
          "2019-09-15T00:00:00",
          "2019-09-16T00:00:00",
          "2019-09-17T00:00:00",
          "2019-09-18T00:00:00",
          "2019-09-19T00:00:00",
          "2019-09-20T00:00:00",
          "2019-09-21T00:00:00",
          "2019-09-22T00:00:00",
          "2019-09-23T00:00:00",
          "2019-09-24T00:00:00",
          "2019-09-25T00:00:00",
          "2019-09-26T00:00:00",
          "2019-09-27T00:00:00",
          "2019-09-28T00:00:00",
          "2019-09-29T00:00:00",
          "2019-09-30T00:00:00",
          "2019-10-01T00:00:00",
          "2019-10-02T00:00:00",
          "2019-10-03T00:00:00",
          "2019-10-04T00:00:00",
          "2019-10-05T00:00:00",
          "2019-10-06T00:00:00",
          "2019-10-07T00:00:00",
          "2019-10-08T00:00:00",
          "2019-10-09T00:00:00",
          "2019-10-10T00:00:00",
          "2019-10-11T00:00:00",
          "2019-10-12T00:00:00",
          "2019-10-13T00:00:00",
          "2019-10-14T00:00:00",
          "2019-10-15T00:00:00",
          "2019-10-16T00:00:00",
          "2019-10-17T00:00:00",
          "2019-10-18T00:00:00",
          "2019-10-19T00:00:00",
          "2019-10-20T00:00:00",
          "2019-10-21T00:00:00",
          "2019-10-22T00:00:00",
          "2019-10-23T00:00:00",
          "2019-10-24T00:00:00",
          "2019-10-25T00:00:00",
          "2019-10-26T00:00:00",
          "2019-10-27T00:00:00",
          "2019-10-28T00:00:00",
          "2019-10-29T00:00:00",
          "2019-10-30T00:00:00",
          "2019-10-31T00:00:00",
          "2019-11-01T00:00:00",
          "2019-11-02T00:00:00",
          "2019-11-03T00:00:00",
          "2019-11-04T00:00:00",
          "2019-11-05T00:00:00",
          "2019-11-06T00:00:00",
          "2019-11-07T00:00:00",
          "2019-11-08T00:00:00",
          "2019-11-09T00:00:00",
          "2019-11-10T00:00:00",
          "2019-11-11T00:00:00",
          "2019-11-12T00:00:00",
          "2019-11-13T00:00:00",
          "2019-11-14T00:00:00",
          "2019-11-15T00:00:00",
          "2019-11-16T00:00:00",
          "2019-11-17T00:00:00",
          "2019-11-18T00:00:00",
          "2019-11-19T00:00:00",
          "2019-11-20T00:00:00",
          "2019-11-21T00:00:00",
          "2019-11-22T00:00:00",
          "2019-11-23T00:00:00",
          "2019-11-24T00:00:00",
          "2019-11-25T00:00:00",
          "2019-11-26T00:00:00",
          "2019-11-27T00:00:00",
          "2019-11-28T00:00:00",
          "2019-11-29T00:00:00",
          "2019-11-30T00:00:00",
          "2019-12-01T00:00:00",
          "2019-12-02T00:00:00",
          "2019-12-03T00:00:00",
          "2019-12-04T00:00:00",
          "2019-12-05T00:00:00",
          "2019-12-06T00:00:00",
          "2019-12-07T00:00:00",
          "2019-12-08T00:00:00",
          "2019-12-09T00:00:00",
          "2019-12-10T00:00:00",
          "2019-12-11T00:00:00",
          "2019-12-12T00:00:00",
          "2019-12-13T00:00:00",
          "2019-12-14T00:00:00",
          "2019-12-15T00:00:00",
          "2019-12-16T00:00:00",
          "2019-12-17T00:00:00",
          "2019-12-18T00:00:00",
          "2019-12-19T00:00:00",
          "2019-12-20T00:00:00",
          "2019-12-21T00:00:00",
          "2019-12-22T00:00:00",
          "2019-12-23T00:00:00",
          "2019-12-24T00:00:00",
          "2019-12-25T00:00:00",
          "2019-12-26T00:00:00",
          "2019-12-27T00:00:00",
          "2019-12-28T00:00:00",
          "2019-12-29T00:00:00",
          "2019-12-30T00:00:00",
          "2019-12-31T00:00:00",
          "2020-01-01T00:00:00"
         ],
         "xaxis": "x",
         "y": [
          28.5,
          29,
          31.6,
          31.4,
          28.3,
          28.2,
          31.5,
          32.4,
          30.6,
          30.1,
          30.1,
          29.5,
          29.6,
          29.9,
          30.8,
          30.3,
          30.9,
          30.3,
          31.1,
          30.3,
          31,
          30.7,
          30.6,
          30.7,
          27.4,
          26.2,
          29.2,
          30.8,
          32,
          32.3,
          31.3,
          31.8,
          31.5,
          30,
          26.5,
          24,
          24.4,
          24.2,
          26.3,
          27.3,
          29.4,
          31.6,
          30.5,
          25.6,
          25.2,
          25,
          26,
          27.7,
          26.4,
          28.1,
          28.4,
          27.6,
          28.9,
          30.1,
          31.6,
          30.4,
          27.4,
          27.8,
          27.6,
          27.6,
          25.2,
          26.5,
          26,
          27.5,
          28.5,
          30.1,
          30.4,
          30.4,
          28.8,
          27,
          27.8,
          28.9,
          29.1,
          28.7,
          27.2,
          27.8,
          29,
          30.1,
          27,
          23.8,
          23.1,
          24.6,
          26.2,
          27.1,
          27.1,
          26.3,
          25.5,
          23.6,
          24.1,
          24.7,
          25.4,
          25.1,
          26.2,
          27.2,
          29.9,
          29.4,
          29.2,
          27.6,
          23.4,
          24.6,
          24.8,
          25.5,
          27.2,
          25.8,
          25.4,
          26.3,
          26.4,
          26.4,
          25.7,
          26,
          26.6,
          26.8,
          26.6,
          26.2,
          27.4,
          27.1,
          27.7,
          29,
          24.9,
          25.1,
          25.8,
          25.6,
          26.9,
          27.4,
          27.3,
          27.2,
          26.8,
          24.4,
          24.1,
          24.4,
          25.7,
          26.5,
          26.4,
          26.2,
          23.5,
          23.4,
          21.6,
          21.7,
          22.7,
          23.1,
          24,
          24.3,
          23.8,
          23.8,
          24.1,
          23.2,
          22.3,
          24,
          23.8,
          25.1,
          26.4,
          25.9,
          23.4,
          22.6,
          21,
          19.6,
          20.9,
          20.9,
          21.4,
          21.5,
          22,
          23.5,
          23.5,
          24.5,
          25.2,
          24.9,
          23.8,
          23.3,
          22.9,
          22.8,
          23.6,
          23.3,
          22.5,
          22.3,
          23.5,
          24.6,
          26.3,
          24.9,
          25.5,
          24.6,
          25.7,
          25.1,
          24.2,
          25.1,
          24,
          20.7,
          19,
          18.8,
          19.1,
          19.1,
          19.8,
          19.9,
          20,
          20.8,
          22.3,
          22.3,
          21.8,
          18.5,
          18.6,
          19.1,
          20.9,
          21.5,
          23.3,
          22.8,
          23.3,
          22.8,
          23.6,
          23.2,
          22.3,
          21.7,
          22.1,
          23,
          22.5,
          25.3,
          20.3,
          17.2,
          18,
          20.5,
          21.7,
          22.5,
          23.6,
          25.1,
          24.6,
          24.1,
          23.4,
          18.8,
          18.5,
          19.1,
          20.6,
          23.6,
          22.4,
          21.7,
          19.7,
          19.6,
          18.7,
          19.2,
          19.6,
          20.7,
          21,
          21.4,
          21.8,
          23.5,
          25.9,
          24.5,
          21.7,
          22.5,
          21.8,
          19.9,
          19.3,
          22.3,
          24,
          25.6,
          26.2,
          24.9,
          27.6,
          24.1,
          22.7,
          24.3,
          26.2,
          27.4,
          27,
          25.1,
          26,
          23.8,
          22,
          20.9,
          21,
          20.3,
          20.1,
          21.8,
          21.1,
          20.4,
          21.6,
          23.3,
          24.1,
          23.7,
          25.3,
          27.7,
          25.2,
          24.9,
          23.7,
          21.9,
          21.7,
          25.7,
          26.8,
          28.3,
          26.7,
          25.4,
          25.5,
          26.2,
          26.2,
          25.6,
          22.5,
          21.6,
          23,
          23.5,
          24.4,
          25.6,
          25.2,
          28.3,
          28.7,
          29.2,
          28.4,
          27.5,
          26.6,
          26.7,
          28.4,
          28.3,
          30.4,
          25.4,
          24.3,
          25,
          25.6,
          26.1,
          24.3,
          22.7,
          24.3,
          23.9,
          23.9,
          23.3,
          22.9,
          22.8,
          22.8,
          23.9,
          25.8,
          27.7,
          27.8,
          22.5,
          22.4,
          23.8,
          26.6,
          24.6,
          22.5,
          24.8,
          25.9,
          24.1,
          22.8,
          25.3,
          28.3,
          23.7,
          23.9,
          24.3,
          26.2,
          25.1,
          24.4,
          25.2,
          27.3,
          26.3,
          28.8,
          30.6,
          29.1,
          26.8,
          25.8,
          27.1,
          29.3,
          30.2,
          25,
          24.5,
          25.5,
          27.1,
          27.9,
          27.9,
          27.5,
          27.2,
          28.7,
          30.5
         ],
         "yaxis": "y"
        }
       ],
       "layout": {
        "legend": {
         "tracegroupgap": 0
        },
        "margin": {
         "t": 60
        },
        "template": {
         "data": {
          "bar": [
           {
            "error_x": {
             "color": "#2a3f5f"
            },
            "error_y": {
             "color": "#2a3f5f"
            },
            "marker": {
             "line": {
              "color": "#E5ECF6",
              "width": 0.5
             },
             "pattern": {
              "fillmode": "overlay",
              "size": 10,
              "solidity": 0.2
             }
            },
            "type": "bar"
           }
          ],
          "barpolar": [
           {
            "marker": {
             "line": {
              "color": "#E5ECF6",
              "width": 0.5
             },
             "pattern": {
              "fillmode": "overlay",
              "size": 10,
              "solidity": 0.2
             }
            },
            "type": "barpolar"
           }
          ],
          "carpet": [
           {
            "aaxis": {
             "endlinecolor": "#2a3f5f",
             "gridcolor": "white",
             "linecolor": "white",
             "minorgridcolor": "white",
             "startlinecolor": "#2a3f5f"
            },
            "baxis": {
             "endlinecolor": "#2a3f5f",
             "gridcolor": "white",
             "linecolor": "white",
             "minorgridcolor": "white",
             "startlinecolor": "#2a3f5f"
            },
            "type": "carpet"
           }
          ],
          "choropleth": [
           {
            "colorbar": {
             "outlinewidth": 0,
             "ticks": ""
            },
            "type": "choropleth"
           }
          ],
          "contour": [
           {
            "colorbar": {
             "outlinewidth": 0,
             "ticks": ""
            },
            "colorscale": [
             [
              0,
              "#0d0887"
             ],
             [
              0.1111111111111111,
              "#46039f"
             ],
             [
              0.2222222222222222,
              "#7201a8"
             ],
             [
              0.3333333333333333,
              "#9c179e"
             ],
             [
              0.4444444444444444,
              "#bd3786"
             ],
             [
              0.5555555555555556,
              "#d8576b"
             ],
             [
              0.6666666666666666,
              "#ed7953"
             ],
             [
              0.7777777777777778,
              "#fb9f3a"
             ],
             [
              0.8888888888888888,
              "#fdca26"
             ],
             [
              1,
              "#f0f921"
             ]
            ],
            "type": "contour"
           }
          ],
          "contourcarpet": [
           {
            "colorbar": {
             "outlinewidth": 0,
             "ticks": ""
            },
            "type": "contourcarpet"
           }
          ],
          "heatmap": [
           {
            "colorbar": {
             "outlinewidth": 0,
             "ticks": ""
            },
            "colorscale": [
             [
              0,
              "#0d0887"
             ],
             [
              0.1111111111111111,
              "#46039f"
             ],
             [
              0.2222222222222222,
              "#7201a8"
             ],
             [
              0.3333333333333333,
              "#9c179e"
             ],
             [
              0.4444444444444444,
              "#bd3786"
             ],
             [
              0.5555555555555556,
              "#d8576b"
             ],
             [
              0.6666666666666666,
              "#ed7953"
             ],
             [
              0.7777777777777778,
              "#fb9f3a"
             ],
             [
              0.8888888888888888,
              "#fdca26"
             ],
             [
              1,
              "#f0f921"
             ]
            ],
            "type": "heatmap"
           }
          ],
          "heatmapgl": [
           {
            "colorbar": {
             "outlinewidth": 0,
             "ticks": ""
            },
            "colorscale": [
             [
              0,
              "#0d0887"
             ],
             [
              0.1111111111111111,
              "#46039f"
             ],
             [
              0.2222222222222222,
              "#7201a8"
             ],
             [
              0.3333333333333333,
              "#9c179e"
             ],
             [
              0.4444444444444444,
              "#bd3786"
             ],
             [
              0.5555555555555556,
              "#d8576b"
             ],
             [
              0.6666666666666666,
              "#ed7953"
             ],
             [
              0.7777777777777778,
              "#fb9f3a"
             ],
             [
              0.8888888888888888,
              "#fdca26"
             ],
             [
              1,
              "#f0f921"
             ]
            ],
            "type": "heatmapgl"
           }
          ],
          "histogram": [
           {
            "marker": {
             "pattern": {
              "fillmode": "overlay",
              "size": 10,
              "solidity": 0.2
             }
            },
            "type": "histogram"
           }
          ],
          "histogram2d": [
           {
            "colorbar": {
             "outlinewidth": 0,
             "ticks": ""
            },
            "colorscale": [
             [
              0,
              "#0d0887"
             ],
             [
              0.1111111111111111,
              "#46039f"
             ],
             [
              0.2222222222222222,
              "#7201a8"
             ],
             [
              0.3333333333333333,
              "#9c179e"
             ],
             [
              0.4444444444444444,
              "#bd3786"
             ],
             [
              0.5555555555555556,
              "#d8576b"
             ],
             [
              0.6666666666666666,
              "#ed7953"
             ],
             [
              0.7777777777777778,
              "#fb9f3a"
             ],
             [
              0.8888888888888888,
              "#fdca26"
             ],
             [
              1,
              "#f0f921"
             ]
            ],
            "type": "histogram2d"
           }
          ],
          "histogram2dcontour": [
           {
            "colorbar": {
             "outlinewidth": 0,
             "ticks": ""
            },
            "colorscale": [
             [
              0,
              "#0d0887"
             ],
             [
              0.1111111111111111,
              "#46039f"
             ],
             [
              0.2222222222222222,
              "#7201a8"
             ],
             [
              0.3333333333333333,
              "#9c179e"
             ],
             [
              0.4444444444444444,
              "#bd3786"
             ],
             [
              0.5555555555555556,
              "#d8576b"
             ],
             [
              0.6666666666666666,
              "#ed7953"
             ],
             [
              0.7777777777777778,
              "#fb9f3a"
             ],
             [
              0.8888888888888888,
              "#fdca26"
             ],
             [
              1,
              "#f0f921"
             ]
            ],
            "type": "histogram2dcontour"
           }
          ],
          "mesh3d": [
           {
            "colorbar": {
             "outlinewidth": 0,
             "ticks": ""
            },
            "type": "mesh3d"
           }
          ],
          "parcoords": [
           {
            "line": {
             "colorbar": {
              "outlinewidth": 0,
              "ticks": ""
             }
            },
            "type": "parcoords"
           }
          ],
          "pie": [
           {
            "automargin": true,
            "type": "pie"
           }
          ],
          "scatter": [
           {
            "fillpattern": {
             "fillmode": "overlay",
             "size": 10,
             "solidity": 0.2
            },
            "type": "scatter"
           }
          ],
          "scatter3d": [
           {
            "line": {
             "colorbar": {
              "outlinewidth": 0,
              "ticks": ""
             }
            },
            "marker": {
             "colorbar": {
              "outlinewidth": 0,
              "ticks": ""
             }
            },
            "type": "scatter3d"
           }
          ],
          "scattercarpet": [
           {
            "marker": {
             "colorbar": {
              "outlinewidth": 0,
              "ticks": ""
             }
            },
            "type": "scattercarpet"
           }
          ],
          "scattergeo": [
           {
            "marker": {
             "colorbar": {
              "outlinewidth": 0,
              "ticks": ""
             }
            },
            "type": "scattergeo"
           }
          ],
          "scattergl": [
           {
            "marker": {
             "colorbar": {
              "outlinewidth": 0,
              "ticks": ""
             }
            },
            "type": "scattergl"
           }
          ],
          "scattermapbox": [
           {
            "marker": {
             "colorbar": {
              "outlinewidth": 0,
              "ticks": ""
             }
            },
            "type": "scattermapbox"
           }
          ],
          "scatterpolar": [
           {
            "marker": {
             "colorbar": {
              "outlinewidth": 0,
              "ticks": ""
             }
            },
            "type": "scatterpolar"
           }
          ],
          "scatterpolargl": [
           {
            "marker": {
             "colorbar": {
              "outlinewidth": 0,
              "ticks": ""
             }
            },
            "type": "scatterpolargl"
           }
          ],
          "scatterternary": [
           {
            "marker": {
             "colorbar": {
              "outlinewidth": 0,
              "ticks": ""
             }
            },
            "type": "scatterternary"
           }
          ],
          "surface": [
           {
            "colorbar": {
             "outlinewidth": 0,
             "ticks": ""
            },
            "colorscale": [
             [
              0,
              "#0d0887"
             ],
             [
              0.1111111111111111,
              "#46039f"
             ],
             [
              0.2222222222222222,
              "#7201a8"
             ],
             [
              0.3333333333333333,
              "#9c179e"
             ],
             [
              0.4444444444444444,
              "#bd3786"
             ],
             [
              0.5555555555555556,
              "#d8576b"
             ],
             [
              0.6666666666666666,
              "#ed7953"
             ],
             [
              0.7777777777777778,
              "#fb9f3a"
             ],
             [
              0.8888888888888888,
              "#fdca26"
             ],
             [
              1,
              "#f0f921"
             ]
            ],
            "type": "surface"
           }
          ],
          "table": [
           {
            "cells": {
             "fill": {
              "color": "#EBF0F8"
             },
             "line": {
              "color": "white"
             }
            },
            "header": {
             "fill": {
              "color": "#C8D4E3"
             },
             "line": {
              "color": "white"
             }
            },
            "type": "table"
           }
          ]
         },
         "layout": {
          "annotationdefaults": {
           "arrowcolor": "#2a3f5f",
           "arrowhead": 0,
           "arrowwidth": 1
          },
          "autotypenumbers": "strict",
          "coloraxis": {
           "colorbar": {
            "outlinewidth": 0,
            "ticks": ""
           }
          },
          "colorscale": {
           "diverging": [
            [
             0,
             "#8e0152"
            ],
            [
             0.1,
             "#c51b7d"
            ],
            [
             0.2,
             "#de77ae"
            ],
            [
             0.3,
             "#f1b6da"
            ],
            [
             0.4,
             "#fde0ef"
            ],
            [
             0.5,
             "#f7f7f7"
            ],
            [
             0.6,
             "#e6f5d0"
            ],
            [
             0.7,
             "#b8e186"
            ],
            [
             0.8,
             "#7fbc41"
            ],
            [
             0.9,
             "#4d9221"
            ],
            [
             1,
             "#276419"
            ]
           ],
           "sequential": [
            [
             0,
             "#0d0887"
            ],
            [
             0.1111111111111111,
             "#46039f"
            ],
            [
             0.2222222222222222,
             "#7201a8"
            ],
            [
             0.3333333333333333,
             "#9c179e"
            ],
            [
             0.4444444444444444,
             "#bd3786"
            ],
            [
             0.5555555555555556,
             "#d8576b"
            ],
            [
             0.6666666666666666,
             "#ed7953"
            ],
            [
             0.7777777777777778,
             "#fb9f3a"
            ],
            [
             0.8888888888888888,
             "#fdca26"
            ],
            [
             1,
             "#f0f921"
            ]
           ],
           "sequentialminus": [
            [
             0,
             "#0d0887"
            ],
            [
             0.1111111111111111,
             "#46039f"
            ],
            [
             0.2222222222222222,
             "#7201a8"
            ],
            [
             0.3333333333333333,
             "#9c179e"
            ],
            [
             0.4444444444444444,
             "#bd3786"
            ],
            [
             0.5555555555555556,
             "#d8576b"
            ],
            [
             0.6666666666666666,
             "#ed7953"
            ],
            [
             0.7777777777777778,
             "#fb9f3a"
            ],
            [
             0.8888888888888888,
             "#fdca26"
            ],
            [
             1,
             "#f0f921"
            ]
           ]
          },
          "colorway": [
           "#636efa",
           "#EF553B",
           "#00cc96",
           "#ab63fa",
           "#FFA15A",
           "#19d3f3",
           "#FF6692",
           "#B6E880",
           "#FF97FF",
           "#FECB52"
          ],
          "font": {
           "color": "#2a3f5f"
          },
          "geo": {
           "bgcolor": "white",
           "lakecolor": "white",
           "landcolor": "#E5ECF6",
           "showlakes": true,
           "showland": true,
           "subunitcolor": "white"
          },
          "hoverlabel": {
           "align": "left"
          },
          "hovermode": "closest",
          "mapbox": {
           "style": "light"
          },
          "paper_bgcolor": "white",
          "plot_bgcolor": "#E5ECF6",
          "polar": {
           "angularaxis": {
            "gridcolor": "white",
            "linecolor": "white",
            "ticks": ""
           },
           "bgcolor": "#E5ECF6",
           "radialaxis": {
            "gridcolor": "white",
            "linecolor": "white",
            "ticks": ""
           }
          },
          "scene": {
           "xaxis": {
            "backgroundcolor": "#E5ECF6",
            "gridcolor": "white",
            "gridwidth": 2,
            "linecolor": "white",
            "showbackground": true,
            "ticks": "",
            "zerolinecolor": "white"
           },
           "yaxis": {
            "backgroundcolor": "#E5ECF6",
            "gridcolor": "white",
            "gridwidth": 2,
            "linecolor": "white",
            "showbackground": true,
            "ticks": "",
            "zerolinecolor": "white"
           },
           "zaxis": {
            "backgroundcolor": "#E5ECF6",
            "gridcolor": "white",
            "gridwidth": 2,
            "linecolor": "white",
            "showbackground": true,
            "ticks": "",
            "zerolinecolor": "white"
           }
          },
          "shapedefaults": {
           "line": {
            "color": "#2a3f5f"
           }
          },
          "ternary": {
           "aaxis": {
            "gridcolor": "white",
            "linecolor": "white",
            "ticks": ""
           },
           "baxis": {
            "gridcolor": "white",
            "linecolor": "white",
            "ticks": ""
           },
           "bgcolor": "#E5ECF6",
           "caxis": {
            "gridcolor": "white",
            "linecolor": "white",
            "ticks": ""
           }
          },
          "title": {
           "x": 0.05
          },
          "xaxis": {
           "automargin": true,
           "gridcolor": "white",
           "linecolor": "white",
           "ticks": "",
           "title": {
            "standoff": 15
           },
           "zerolinecolor": "white",
           "zerolinewidth": 2
          },
          "yaxis": {
           "automargin": true,
           "gridcolor": "white",
           "linecolor": "white",
           "ticks": "",
           "title": {
            "standoff": 15
           },
           "zerolinecolor": "white",
           "zerolinewidth": 2
          }
         }
        },
        "xaxis": {
         "anchor": "y",
         "domain": [
          0,
          1
         ],
         "title": {
          "text": "Date"
         }
        },
        "yaxis": {
         "anchor": "x",
         "domain": [
          0,
          1
         ],
         "title": {
          "text": "°C"
         }
        }
       }
      },
      "text/html": [
       "<div>                            <div id=\"25ef29c2-904d-4e3b-900f-e6d2ff8064c1\" class=\"plotly-graph-div\" style=\"height:525px; width:100%;\"></div>            <script type=\"text/javascript\">                require([\"plotly\"], function(Plotly) {                    window.PLOTLYENV=window.PLOTLYENV || {};                                    if (document.getElementById(\"25ef29c2-904d-4e3b-900f-e6d2ff8064c1\")) {                    Plotly.newPlot(                        \"25ef29c2-904d-4e3b-900f-e6d2ff8064c1\",                        [{\"hovertemplate\":\"Date=%{x}<br>\\u00b0C=%{y}<extra></extra>\",\"legendgroup\":\"\",\"line\":{\"color\":\"#636efa\",\"dash\":\"solid\"},\"marker\":{\"symbol\":\"circle\"},\"mode\":\"lines+markers\",\"name\":\"\",\"orientation\":\"v\",\"showlegend\":false,\"x\":[\"2019-01-01T00:00:00\",\"2019-01-02T00:00:00\",\"2019-01-03T00:00:00\",\"2019-01-04T00:00:00\",\"2019-01-05T00:00:00\",\"2019-01-06T00:00:00\",\"2019-01-07T00:00:00\",\"2019-01-08T00:00:00\",\"2019-01-09T00:00:00\",\"2019-01-10T00:00:00\",\"2019-01-11T00:00:00\",\"2019-01-12T00:00:00\",\"2019-01-13T00:00:00\",\"2019-01-14T00:00:00\",\"2019-01-15T00:00:00\",\"2019-01-16T00:00:00\",\"2019-01-17T00:00:00\",\"2019-01-18T00:00:00\",\"2019-01-19T00:00:00\",\"2019-01-20T00:00:00\",\"2019-01-21T00:00:00\",\"2019-01-22T00:00:00\",\"2019-01-23T00:00:00\",\"2019-01-24T00:00:00\",\"2019-01-25T00:00:00\",\"2019-01-26T00:00:00\",\"2019-01-27T00:00:00\",\"2019-01-28T00:00:00\",\"2019-01-29T00:00:00\",\"2019-01-30T00:00:00\",\"2019-01-31T00:00:00\",\"2019-02-01T00:00:00\",\"2019-02-02T00:00:00\",\"2019-02-03T00:00:00\",\"2019-02-04T00:00:00\",\"2019-02-05T00:00:00\",\"2019-02-06T00:00:00\",\"2019-02-07T00:00:00\",\"2019-02-08T00:00:00\",\"2019-02-09T00:00:00\",\"2019-02-10T00:00:00\",\"2019-02-11T00:00:00\",\"2019-02-12T00:00:00\",\"2019-02-13T00:00:00\",\"2019-02-14T00:00:00\",\"2019-02-15T00:00:00\",\"2019-02-16T00:00:00\",\"2019-02-17T00:00:00\",\"2019-02-18T00:00:00\",\"2019-02-19T00:00:00\",\"2019-02-20T00:00:00\",\"2019-02-21T00:00:00\",\"2019-02-22T00:00:00\",\"2019-02-23T00:00:00\",\"2019-02-24T00:00:00\",\"2019-02-25T00:00:00\",\"2019-02-26T00:00:00\",\"2019-02-27T00:00:00\",\"2019-02-28T00:00:00\",\"2019-03-01T00:00:00\",\"2019-03-02T00:00:00\",\"2019-03-03T00:00:00\",\"2019-03-04T00:00:00\",\"2019-03-05T00:00:00\",\"2019-03-06T00:00:00\",\"2019-03-07T00:00:00\",\"2019-03-08T00:00:00\",\"2019-03-09T00:00:00\",\"2019-03-10T00:00:00\",\"2019-03-11T00:00:00\",\"2019-03-12T00:00:00\",\"2019-03-13T00:00:00\",\"2019-03-14T00:00:00\",\"2019-03-15T00:00:00\",\"2019-03-16T00:00:00\",\"2019-03-17T00:00:00\",\"2019-03-18T00:00:00\",\"2019-03-19T00:00:00\",\"2019-03-20T00:00:00\",\"2019-03-21T00:00:00\",\"2019-03-22T00:00:00\",\"2019-03-23T00:00:00\",\"2019-03-24T00:00:00\",\"2019-03-25T00:00:00\",\"2019-03-26T00:00:00\",\"2019-03-27T00:00:00\",\"2019-03-28T00:00:00\",\"2019-03-29T00:00:00\",\"2019-03-30T00:00:00\",\"2019-03-31T00:00:00\",\"2019-04-01T00:00:00\",\"2019-04-02T00:00:00\",\"2019-04-03T00:00:00\",\"2019-04-04T00:00:00\",\"2019-04-05T00:00:00\",\"2019-04-06T00:00:00\",\"2019-04-07T00:00:00\",\"2019-04-08T00:00:00\",\"2019-04-09T00:00:00\",\"2019-04-10T00:00:00\",\"2019-04-11T00:00:00\",\"2019-04-12T00:00:00\",\"2019-04-13T00:00:00\",\"2019-04-14T00:00:00\",\"2019-04-15T00:00:00\",\"2019-04-16T00:00:00\",\"2019-04-17T00:00:00\",\"2019-04-18T00:00:00\",\"2019-04-19T00:00:00\",\"2019-04-20T00:00:00\",\"2019-04-21T00:00:00\",\"2019-04-22T00:00:00\",\"2019-04-23T00:00:00\",\"2019-04-24T00:00:00\",\"2019-04-25T00:00:00\",\"2019-04-26T00:00:00\",\"2019-04-27T00:00:00\",\"2019-04-28T00:00:00\",\"2019-04-29T00:00:00\",\"2019-04-30T00:00:00\",\"2019-05-01T00:00:00\",\"2019-05-02T00:00:00\",\"2019-05-03T00:00:00\",\"2019-05-04T00:00:00\",\"2019-05-05T00:00:00\",\"2019-05-06T00:00:00\",\"2019-05-07T00:00:00\",\"2019-05-08T00:00:00\",\"2019-05-09T00:00:00\",\"2019-05-10T00:00:00\",\"2019-05-11T00:00:00\",\"2019-05-12T00:00:00\",\"2019-05-13T00:00:00\",\"2019-05-14T00:00:00\",\"2019-05-15T00:00:00\",\"2019-05-16T00:00:00\",\"2019-05-17T00:00:00\",\"2019-05-18T00:00:00\",\"2019-05-19T00:00:00\",\"2019-05-20T00:00:00\",\"2019-05-21T00:00:00\",\"2019-05-22T00:00:00\",\"2019-05-23T00:00:00\",\"2019-05-24T00:00:00\",\"2019-05-25T00:00:00\",\"2019-05-26T00:00:00\",\"2019-05-27T00:00:00\",\"2019-05-28T00:00:00\",\"2019-05-29T00:00:00\",\"2019-05-30T00:00:00\",\"2019-05-31T00:00:00\",\"2019-06-01T00:00:00\",\"2019-06-02T00:00:00\",\"2019-06-03T00:00:00\",\"2019-06-04T00:00:00\",\"2019-06-05T00:00:00\",\"2019-06-06T00:00:00\",\"2019-06-07T00:00:00\",\"2019-06-08T00:00:00\",\"2019-06-09T00:00:00\",\"2019-06-10T00:00:00\",\"2019-06-11T00:00:00\",\"2019-06-12T00:00:00\",\"2019-06-13T00:00:00\",\"2019-06-14T00:00:00\",\"2019-06-15T00:00:00\",\"2019-06-16T00:00:00\",\"2019-06-17T00:00:00\",\"2019-06-18T00:00:00\",\"2019-06-19T00:00:00\",\"2019-06-20T00:00:00\",\"2019-06-21T00:00:00\",\"2019-06-22T00:00:00\",\"2019-06-23T00:00:00\",\"2019-06-24T00:00:00\",\"2019-06-25T00:00:00\",\"2019-06-26T00:00:00\",\"2019-06-27T00:00:00\",\"2019-06-28T00:00:00\",\"2019-06-29T00:00:00\",\"2019-06-30T00:00:00\",\"2019-07-01T00:00:00\",\"2019-07-02T00:00:00\",\"2019-07-03T00:00:00\",\"2019-07-04T00:00:00\",\"2019-07-05T00:00:00\",\"2019-07-06T00:00:00\",\"2019-07-07T00:00:00\",\"2019-07-08T00:00:00\",\"2019-07-09T00:00:00\",\"2019-07-10T00:00:00\",\"2019-07-11T00:00:00\",\"2019-07-12T00:00:00\",\"2019-07-13T00:00:00\",\"2019-07-14T00:00:00\",\"2019-07-15T00:00:00\",\"2019-07-16T00:00:00\",\"2019-07-17T00:00:00\",\"2019-07-18T00:00:00\",\"2019-07-19T00:00:00\",\"2019-07-20T00:00:00\",\"2019-07-21T00:00:00\",\"2019-07-22T00:00:00\",\"2019-07-23T00:00:00\",\"2019-07-24T00:00:00\",\"2019-07-25T00:00:00\",\"2019-07-26T00:00:00\",\"2019-07-27T00:00:00\",\"2019-07-28T00:00:00\",\"2019-07-29T00:00:00\",\"2019-07-30T00:00:00\",\"2019-07-31T00:00:00\",\"2019-08-01T00:00:00\",\"2019-08-02T00:00:00\",\"2019-08-03T00:00:00\",\"2019-08-04T00:00:00\",\"2019-08-05T00:00:00\",\"2019-08-06T00:00:00\",\"2019-08-07T00:00:00\",\"2019-08-08T00:00:00\",\"2019-08-09T00:00:00\",\"2019-08-10T00:00:00\",\"2019-08-11T00:00:00\",\"2019-08-12T00:00:00\",\"2019-08-13T00:00:00\",\"2019-08-14T00:00:00\",\"2019-08-15T00:00:00\",\"2019-08-16T00:00:00\",\"2019-08-17T00:00:00\",\"2019-08-18T00:00:00\",\"2019-08-19T00:00:00\",\"2019-08-20T00:00:00\",\"2019-08-21T00:00:00\",\"2019-08-22T00:00:00\",\"2019-08-23T00:00:00\",\"2019-08-24T00:00:00\",\"2019-08-25T00:00:00\",\"2019-08-26T00:00:00\",\"2019-08-27T00:00:00\",\"2019-08-28T00:00:00\",\"2019-08-29T00:00:00\",\"2019-08-30T00:00:00\",\"2019-08-31T00:00:00\",\"2019-09-01T00:00:00\",\"2019-09-02T00:00:00\",\"2019-09-03T00:00:00\",\"2019-09-04T00:00:00\",\"2019-09-05T00:00:00\",\"2019-09-06T00:00:00\",\"2019-09-07T00:00:00\",\"2019-09-08T00:00:00\",\"2019-09-09T00:00:00\",\"2019-09-10T00:00:00\",\"2019-09-11T00:00:00\",\"2019-09-12T00:00:00\",\"2019-09-13T00:00:00\",\"2019-09-14T00:00:00\",\"2019-09-15T00:00:00\",\"2019-09-16T00:00:00\",\"2019-09-17T00:00:00\",\"2019-09-18T00:00:00\",\"2019-09-19T00:00:00\",\"2019-09-20T00:00:00\",\"2019-09-21T00:00:00\",\"2019-09-22T00:00:00\",\"2019-09-23T00:00:00\",\"2019-09-24T00:00:00\",\"2019-09-25T00:00:00\",\"2019-09-26T00:00:00\",\"2019-09-27T00:00:00\",\"2019-09-28T00:00:00\",\"2019-09-29T00:00:00\",\"2019-09-30T00:00:00\",\"2019-10-01T00:00:00\",\"2019-10-02T00:00:00\",\"2019-10-03T00:00:00\",\"2019-10-04T00:00:00\",\"2019-10-05T00:00:00\",\"2019-10-06T00:00:00\",\"2019-10-07T00:00:00\",\"2019-10-08T00:00:00\",\"2019-10-09T00:00:00\",\"2019-10-10T00:00:00\",\"2019-10-11T00:00:00\",\"2019-10-12T00:00:00\",\"2019-10-13T00:00:00\",\"2019-10-14T00:00:00\",\"2019-10-15T00:00:00\",\"2019-10-16T00:00:00\",\"2019-10-17T00:00:00\",\"2019-10-18T00:00:00\",\"2019-10-19T00:00:00\",\"2019-10-20T00:00:00\",\"2019-10-21T00:00:00\",\"2019-10-22T00:00:00\",\"2019-10-23T00:00:00\",\"2019-10-24T00:00:00\",\"2019-10-25T00:00:00\",\"2019-10-26T00:00:00\",\"2019-10-27T00:00:00\",\"2019-10-28T00:00:00\",\"2019-10-29T00:00:00\",\"2019-10-30T00:00:00\",\"2019-10-31T00:00:00\",\"2019-11-01T00:00:00\",\"2019-11-02T00:00:00\",\"2019-11-03T00:00:00\",\"2019-11-04T00:00:00\",\"2019-11-05T00:00:00\",\"2019-11-06T00:00:00\",\"2019-11-07T00:00:00\",\"2019-11-08T00:00:00\",\"2019-11-09T00:00:00\",\"2019-11-10T00:00:00\",\"2019-11-11T00:00:00\",\"2019-11-12T00:00:00\",\"2019-11-13T00:00:00\",\"2019-11-14T00:00:00\",\"2019-11-15T00:00:00\",\"2019-11-16T00:00:00\",\"2019-11-17T00:00:00\",\"2019-11-18T00:00:00\",\"2019-11-19T00:00:00\",\"2019-11-20T00:00:00\",\"2019-11-21T00:00:00\",\"2019-11-22T00:00:00\",\"2019-11-23T00:00:00\",\"2019-11-24T00:00:00\",\"2019-11-25T00:00:00\",\"2019-11-26T00:00:00\",\"2019-11-27T00:00:00\",\"2019-11-28T00:00:00\",\"2019-11-29T00:00:00\",\"2019-11-30T00:00:00\",\"2019-12-01T00:00:00\",\"2019-12-02T00:00:00\",\"2019-12-03T00:00:00\",\"2019-12-04T00:00:00\",\"2019-12-05T00:00:00\",\"2019-12-06T00:00:00\",\"2019-12-07T00:00:00\",\"2019-12-08T00:00:00\",\"2019-12-09T00:00:00\",\"2019-12-10T00:00:00\",\"2019-12-11T00:00:00\",\"2019-12-12T00:00:00\",\"2019-12-13T00:00:00\",\"2019-12-14T00:00:00\",\"2019-12-15T00:00:00\",\"2019-12-16T00:00:00\",\"2019-12-17T00:00:00\",\"2019-12-18T00:00:00\",\"2019-12-19T00:00:00\",\"2019-12-20T00:00:00\",\"2019-12-21T00:00:00\",\"2019-12-22T00:00:00\",\"2019-12-23T00:00:00\",\"2019-12-24T00:00:00\",\"2019-12-25T00:00:00\",\"2019-12-26T00:00:00\",\"2019-12-27T00:00:00\",\"2019-12-28T00:00:00\",\"2019-12-29T00:00:00\",\"2019-12-30T00:00:00\",\"2019-12-31T00:00:00\",\"2020-01-01T00:00:00\"],\"xaxis\":\"x\",\"y\":[28.5,29.0,31.6,31.4,28.3,28.2,31.5,32.4,30.6,30.1,30.1,29.5,29.6,29.9,30.8,30.3,30.9,30.3,31.1,30.3,31.0,30.7,30.6,30.7,27.4,26.2,29.2,30.8,32.0,32.3,31.3,31.8,31.5,30.0,26.5,24.0,24.4,24.2,26.3,27.3,29.4,31.6,30.5,25.6,25.2,25.0,26.0,27.7,26.4,28.1,28.4,27.6,28.9,30.1,31.6,30.4,27.4,27.8,27.6,27.6,25.2,26.5,26.0,27.5,28.5,30.1,30.4,30.4,28.8,27.0,27.8,28.9,29.1,28.7,27.2,27.8,29.0,30.1,27.0,23.8,23.1,24.6,26.2,27.1,27.1,26.3,25.5,23.6,24.1,24.7,25.4,25.1,26.2,27.2,29.9,29.4,29.2,27.6,23.4,24.6,24.8,25.5,27.2,25.8,25.4,26.3,26.4,26.4,25.7,26.0,26.6,26.8,26.6,26.2,27.4,27.1,27.7,29.0,24.9,25.1,25.8,25.6,26.9,27.4,27.3,27.2,26.8,24.4,24.1,24.4,25.7,26.5,26.4,26.2,23.5,23.4,21.6,21.7,22.7,23.1,24.0,24.3,23.8,23.8,24.1,23.2,22.3,24.0,23.8,25.1,26.4,25.9,23.4,22.6,21.0,19.6,20.9,20.9,21.4,21.5,22.0,23.5,23.5,24.5,25.2,24.9,23.8,23.3,22.9,22.8,23.6,23.3,22.5,22.3,23.5,24.6,26.3,24.9,25.5,24.6,25.7,25.1,24.2,25.1,24.0,20.7,19.0,18.8,19.1,19.1,19.8,19.9,20.0,20.8,22.3,22.3,21.8,18.5,18.6,19.1,20.9,21.5,23.3,22.8,23.3,22.8,23.6,23.2,22.3,21.7,22.1,23.0,22.5,25.3,20.3,17.2,18.0,20.5,21.7,22.5,23.6,25.1,24.6,24.1,23.4,18.8,18.5,19.1,20.6,23.6,22.4,21.7,19.7,19.6,18.7,19.2,19.6,20.7,21.0,21.4,21.8,23.5,25.9,24.5,21.7,22.5,21.8,19.9,19.3,22.3,24.0,25.6,26.2,24.9,27.6,24.1,22.7,24.3,26.2,27.4,27.0,25.1,26.0,23.8,22.0,20.9,21.0,20.3,20.1,21.8,21.1,20.4,21.6,23.3,24.1,23.7,25.3,27.7,25.2,24.9,23.7,21.9,21.7,25.7,26.8,28.3,26.7,25.4,25.5,26.2,26.2,25.6,22.5,21.6,23.0,23.5,24.4,25.6,25.2,28.3,28.7,29.2,28.4,27.5,26.6,26.7,28.4,28.3,30.4,25.4,24.3,25.0,25.6,26.1,24.3,22.7,24.3,23.9,23.9,23.3,22.9,22.8,22.8,23.9,25.8,27.7,27.8,22.5,22.4,23.8,26.6,24.6,22.5,24.8,25.9,24.1,22.8,25.3,28.3,23.7,23.9,24.3,26.2,25.1,24.4,25.2,27.3,26.3,28.8,30.6,29.1,26.8,25.8,27.1,29.3,30.2,25.0,24.5,25.5,27.1,27.9,27.9,27.5,27.2,28.7,30.5],\"yaxis\":\"y\",\"type\":\"scatter\"}],                        {\"template\":{\"data\":{\"histogram2dcontour\":[{\"type\":\"histogram2dcontour\",\"colorbar\":{\"outlinewidth\":0,\"ticks\":\"\"},\"colorscale\":[[0.0,\"#0d0887\"],[0.1111111111111111,\"#46039f\"],[0.2222222222222222,\"#7201a8\"],[0.3333333333333333,\"#9c179e\"],[0.4444444444444444,\"#bd3786\"],[0.5555555555555556,\"#d8576b\"],[0.6666666666666666,\"#ed7953\"],[0.7777777777777778,\"#fb9f3a\"],[0.8888888888888888,\"#fdca26\"],[1.0,\"#f0f921\"]]}],\"choropleth\":[{\"type\":\"choropleth\",\"colorbar\":{\"outlinewidth\":0,\"ticks\":\"\"}}],\"histogram2d\":[{\"type\":\"histogram2d\",\"colorbar\":{\"outlinewidth\":0,\"ticks\":\"\"},\"colorscale\":[[0.0,\"#0d0887\"],[0.1111111111111111,\"#46039f\"],[0.2222222222222222,\"#7201a8\"],[0.3333333333333333,\"#9c179e\"],[0.4444444444444444,\"#bd3786\"],[0.5555555555555556,\"#d8576b\"],[0.6666666666666666,\"#ed7953\"],[0.7777777777777778,\"#fb9f3a\"],[0.8888888888888888,\"#fdca26\"],[1.0,\"#f0f921\"]]}],\"heatmap\":[{\"type\":\"heatmap\",\"colorbar\":{\"outlinewidth\":0,\"ticks\":\"\"},\"colorscale\":[[0.0,\"#0d0887\"],[0.1111111111111111,\"#46039f\"],[0.2222222222222222,\"#7201a8\"],[0.3333333333333333,\"#9c179e\"],[0.4444444444444444,\"#bd3786\"],[0.5555555555555556,\"#d8576b\"],[0.6666666666666666,\"#ed7953\"],[0.7777777777777778,\"#fb9f3a\"],[0.8888888888888888,\"#fdca26\"],[1.0,\"#f0f921\"]]}],\"heatmapgl\":[{\"type\":\"heatmapgl\",\"colorbar\":{\"outlinewidth\":0,\"ticks\":\"\"},\"colorscale\":[[0.0,\"#0d0887\"],[0.1111111111111111,\"#46039f\"],[0.2222222222222222,\"#7201a8\"],[0.3333333333333333,\"#9c179e\"],[0.4444444444444444,\"#bd3786\"],[0.5555555555555556,\"#d8576b\"],[0.6666666666666666,\"#ed7953\"],[0.7777777777777778,\"#fb9f3a\"],[0.8888888888888888,\"#fdca26\"],[1.0,\"#f0f921\"]]}],\"contourcarpet\":[{\"type\":\"contourcarpet\",\"colorbar\":{\"outlinewidth\":0,\"ticks\":\"\"}}],\"contour\":[{\"type\":\"contour\",\"colorbar\":{\"outlinewidth\":0,\"ticks\":\"\"},\"colorscale\":[[0.0,\"#0d0887\"],[0.1111111111111111,\"#46039f\"],[0.2222222222222222,\"#7201a8\"],[0.3333333333333333,\"#9c179e\"],[0.4444444444444444,\"#bd3786\"],[0.5555555555555556,\"#d8576b\"],[0.6666666666666666,\"#ed7953\"],[0.7777777777777778,\"#fb9f3a\"],[0.8888888888888888,\"#fdca26\"],[1.0,\"#f0f921\"]]}],\"surface\":[{\"type\":\"surface\",\"colorbar\":{\"outlinewidth\":0,\"ticks\":\"\"},\"colorscale\":[[0.0,\"#0d0887\"],[0.1111111111111111,\"#46039f\"],[0.2222222222222222,\"#7201a8\"],[0.3333333333333333,\"#9c179e\"],[0.4444444444444444,\"#bd3786\"],[0.5555555555555556,\"#d8576b\"],[0.6666666666666666,\"#ed7953\"],[0.7777777777777778,\"#fb9f3a\"],[0.8888888888888888,\"#fdca26\"],[1.0,\"#f0f921\"]]}],\"mesh3d\":[{\"type\":\"mesh3d\",\"colorbar\":{\"outlinewidth\":0,\"ticks\":\"\"}}],\"scatter\":[{\"fillpattern\":{\"fillmode\":\"overlay\",\"size\":10,\"solidity\":0.2},\"type\":\"scatter\"}],\"parcoords\":[{\"type\":\"parcoords\",\"line\":{\"colorbar\":{\"outlinewidth\":0,\"ticks\":\"\"}}}],\"scatterpolargl\":[{\"type\":\"scatterpolargl\",\"marker\":{\"colorbar\":{\"outlinewidth\":0,\"ticks\":\"\"}}}],\"bar\":[{\"error_x\":{\"color\":\"#2a3f5f\"},\"error_y\":{\"color\":\"#2a3f5f\"},\"marker\":{\"line\":{\"color\":\"#E5ECF6\",\"width\":0.5},\"pattern\":{\"fillmode\":\"overlay\",\"size\":10,\"solidity\":0.2}},\"type\":\"bar\"}],\"scattergeo\":[{\"type\":\"scattergeo\",\"marker\":{\"colorbar\":{\"outlinewidth\":0,\"ticks\":\"\"}}}],\"scatterpolar\":[{\"type\":\"scatterpolar\",\"marker\":{\"colorbar\":{\"outlinewidth\":0,\"ticks\":\"\"}}}],\"histogram\":[{\"marker\":{\"pattern\":{\"fillmode\":\"overlay\",\"size\":10,\"solidity\":0.2}},\"type\":\"histogram\"}],\"scattergl\":[{\"type\":\"scattergl\",\"marker\":{\"colorbar\":{\"outlinewidth\":0,\"ticks\":\"\"}}}],\"scatter3d\":[{\"type\":\"scatter3d\",\"line\":{\"colorbar\":{\"outlinewidth\":0,\"ticks\":\"\"}},\"marker\":{\"colorbar\":{\"outlinewidth\":0,\"ticks\":\"\"}}}],\"scattermapbox\":[{\"type\":\"scattermapbox\",\"marker\":{\"colorbar\":{\"outlinewidth\":0,\"ticks\":\"\"}}}],\"scatterternary\":[{\"type\":\"scatterternary\",\"marker\":{\"colorbar\":{\"outlinewidth\":0,\"ticks\":\"\"}}}],\"scattercarpet\":[{\"type\":\"scattercarpet\",\"marker\":{\"colorbar\":{\"outlinewidth\":0,\"ticks\":\"\"}}}],\"carpet\":[{\"aaxis\":{\"endlinecolor\":\"#2a3f5f\",\"gridcolor\":\"white\",\"linecolor\":\"white\",\"minorgridcolor\":\"white\",\"startlinecolor\":\"#2a3f5f\"},\"baxis\":{\"endlinecolor\":\"#2a3f5f\",\"gridcolor\":\"white\",\"linecolor\":\"white\",\"minorgridcolor\":\"white\",\"startlinecolor\":\"#2a3f5f\"},\"type\":\"carpet\"}],\"table\":[{\"cells\":{\"fill\":{\"color\":\"#EBF0F8\"},\"line\":{\"color\":\"white\"}},\"header\":{\"fill\":{\"color\":\"#C8D4E3\"},\"line\":{\"color\":\"white\"}},\"type\":\"table\"}],\"barpolar\":[{\"marker\":{\"line\":{\"color\":\"#E5ECF6\",\"width\":0.5},\"pattern\":{\"fillmode\":\"overlay\",\"size\":10,\"solidity\":0.2}},\"type\":\"barpolar\"}],\"pie\":[{\"automargin\":true,\"type\":\"pie\"}]},\"layout\":{\"autotypenumbers\":\"strict\",\"colorway\":[\"#636efa\",\"#EF553B\",\"#00cc96\",\"#ab63fa\",\"#FFA15A\",\"#19d3f3\",\"#FF6692\",\"#B6E880\",\"#FF97FF\",\"#FECB52\"],\"font\":{\"color\":\"#2a3f5f\"},\"hovermode\":\"closest\",\"hoverlabel\":{\"align\":\"left\"},\"paper_bgcolor\":\"white\",\"plot_bgcolor\":\"#E5ECF6\",\"polar\":{\"bgcolor\":\"#E5ECF6\",\"angularaxis\":{\"gridcolor\":\"white\",\"linecolor\":\"white\",\"ticks\":\"\"},\"radialaxis\":{\"gridcolor\":\"white\",\"linecolor\":\"white\",\"ticks\":\"\"}},\"ternary\":{\"bgcolor\":\"#E5ECF6\",\"aaxis\":{\"gridcolor\":\"white\",\"linecolor\":\"white\",\"ticks\":\"\"},\"baxis\":{\"gridcolor\":\"white\",\"linecolor\":\"white\",\"ticks\":\"\"},\"caxis\":{\"gridcolor\":\"white\",\"linecolor\":\"white\",\"ticks\":\"\"}},\"coloraxis\":{\"colorbar\":{\"outlinewidth\":0,\"ticks\":\"\"}},\"colorscale\":{\"sequential\":[[0.0,\"#0d0887\"],[0.1111111111111111,\"#46039f\"],[0.2222222222222222,\"#7201a8\"],[0.3333333333333333,\"#9c179e\"],[0.4444444444444444,\"#bd3786\"],[0.5555555555555556,\"#d8576b\"],[0.6666666666666666,\"#ed7953\"],[0.7777777777777778,\"#fb9f3a\"],[0.8888888888888888,\"#fdca26\"],[1.0,\"#f0f921\"]],\"sequentialminus\":[[0.0,\"#0d0887\"],[0.1111111111111111,\"#46039f\"],[0.2222222222222222,\"#7201a8\"],[0.3333333333333333,\"#9c179e\"],[0.4444444444444444,\"#bd3786\"],[0.5555555555555556,\"#d8576b\"],[0.6666666666666666,\"#ed7953\"],[0.7777777777777778,\"#fb9f3a\"],[0.8888888888888888,\"#fdca26\"],[1.0,\"#f0f921\"]],\"diverging\":[[0,\"#8e0152\"],[0.1,\"#c51b7d\"],[0.2,\"#de77ae\"],[0.3,\"#f1b6da\"],[0.4,\"#fde0ef\"],[0.5,\"#f7f7f7\"],[0.6,\"#e6f5d0\"],[0.7,\"#b8e186\"],[0.8,\"#7fbc41\"],[0.9,\"#4d9221\"],[1,\"#276419\"]]},\"xaxis\":{\"gridcolor\":\"white\",\"linecolor\":\"white\",\"ticks\":\"\",\"title\":{\"standoff\":15},\"zerolinecolor\":\"white\",\"automargin\":true,\"zerolinewidth\":2},\"yaxis\":{\"gridcolor\":\"white\",\"linecolor\":\"white\",\"ticks\":\"\",\"title\":{\"standoff\":15},\"zerolinecolor\":\"white\",\"automargin\":true,\"zerolinewidth\":2},\"scene\":{\"xaxis\":{\"backgroundcolor\":\"#E5ECF6\",\"gridcolor\":\"white\",\"linecolor\":\"white\",\"showbackground\":true,\"ticks\":\"\",\"zerolinecolor\":\"white\",\"gridwidth\":2},\"yaxis\":{\"backgroundcolor\":\"#E5ECF6\",\"gridcolor\":\"white\",\"linecolor\":\"white\",\"showbackground\":true,\"ticks\":\"\",\"zerolinecolor\":\"white\",\"gridwidth\":2},\"zaxis\":{\"backgroundcolor\":\"#E5ECF6\",\"gridcolor\":\"white\",\"linecolor\":\"white\",\"showbackground\":true,\"ticks\":\"\",\"zerolinecolor\":\"white\",\"gridwidth\":2}},\"shapedefaults\":{\"line\":{\"color\":\"#2a3f5f\"}},\"annotationdefaults\":{\"arrowcolor\":\"#2a3f5f\",\"arrowhead\":0,\"arrowwidth\":1},\"geo\":{\"bgcolor\":\"white\",\"landcolor\":\"#E5ECF6\",\"subunitcolor\":\"white\",\"showland\":true,\"showlakes\":true,\"lakecolor\":\"white\"},\"title\":{\"x\":0.05},\"mapbox\":{\"style\":\"light\"}}},\"xaxis\":{\"anchor\":\"y\",\"domain\":[0.0,1.0],\"title\":{\"text\":\"Date\"}},\"yaxis\":{\"anchor\":\"x\",\"domain\":[0.0,1.0],\"title\":{\"text\":\"\\u00b0C\"}},\"legend\":{\"tracegroupgap\":0},\"margin\":{\"t\":60}},                        {\"responsive\": true}                    ).then(function(){\n",
       "                            \n",
       "var gd = document.getElementById('25ef29c2-904d-4e3b-900f-e6d2ff8064c1');\n",
       "var x = new MutationObserver(function (mutations, observer) {{\n",
       "        var display = window.getComputedStyle(gd).display;\n",
       "        if (!display || display === 'none') {{\n",
       "            console.log([gd, 'removed!']);\n",
       "            Plotly.purge(gd);\n",
       "            observer.disconnect();\n",
       "        }}\n",
       "}});\n",
       "\n",
       "// Listen for the removal of the full notebook cells\n",
       "var notebookContainer = gd.closest('#notebook-container');\n",
       "if (notebookContainer) {{\n",
       "    x.observe(notebookContainer, {childList: true});\n",
       "}}\n",
       "\n",
       "// Listen for the clearing of the current output cell\n",
       "var outputEl = gd.closest('.output');\n",
       "if (outputEl) {{\n",
       "    x.observe(outputEl, {childList: true});\n",
       "}}\n",
       "\n",
       "                        })                };                });            </script>        </div>"
      ]
     },
     "metadata": {},
     "output_type": "display_data"
    }
   ],
   "source": [
    "temp = px.line(x=niteroi.DATE,y=niteroi.TEMP_MED, labels = {'x':'Date', 'y':'°C'},\n",
    "              markers='line+markers')\n",
    "temp.show()"
   ]
  },
  {
   "cell_type": "code",
   "execution_count": null,
   "metadata": {},
   "outputs": [],
   "source": []
  }
 ],
 "metadata": {
  "kernelspec": {
   "display_name": "Python 3 (ipykernel)",
   "language": "python",
   "name": "python3"
  },
  "language_info": {
   "codemirror_mode": {
    "name": "ipython",
    "version": 3
   },
   "file_extension": ".py",
   "mimetype": "text/x-python",
   "name": "python",
   "nbconvert_exporter": "python",
   "pygments_lexer": "ipython3",
   "version": "3.10.4"
  },
  "vscode": {
   "interpreter": {
    "hash": "d2dde73a106304f1f07a134442f9d3903003779c9f59e8b6cbc78a40d8e11666"
   }
  }
 },
 "nbformat": 4,
 "nbformat_minor": 4
}
